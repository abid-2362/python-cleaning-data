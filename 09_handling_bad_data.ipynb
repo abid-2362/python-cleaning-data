{
 "cells": [
  {
   "cell_type": "markdown",
   "metadata": {
    "collapsed": true,
    "pycharm": {
     "name": "#%% md\n"
    }
   },
   "source": [
    "# Handling Bad, Missing, and Duplicate Data\n",
    "\n",
    "### Stripping whitespaces"
   ]
  },
  {
   "cell_type": "code",
   "execution_count": 3,
   "outputs": [
    {
     "data": {
      "text/plain": "     id accession_number          artist artistRole  artistId  \\\n0  1035           A00001   Blake, Robert     artist        38   \n1  1036           A00002   Blake, Robert     artist        38   \n2  1037           A00003   Blake, Robert     artist        38   \n3  1038           A00004   Blake, Robert     artist        38   \n4  1039           A00005  Blake, William     artist        39   \n\n                                               title                dateText  \\\n0  A Figure Bowing before a Seated Old Man with h...          date not known   \n1  Two Drawings of Frightened Figures, Probably f...          date not known   \n2  The Preaching of Warning. Verso: An Old Man En...                 ?c.1785   \n3     Six Drawings of Figures with Outstretched Arms          date not known   \n4  The Circle of the Lustful: Francesca da Rimini...  1826–7, reprinted 1892   \n\n                                              medium  \\\n0  Watercolour, ink, chalk and graphite on paper....   \n1                                  Graphite on paper   \n2        Graphite on paper. Verso: graphite on paper   \n3                                  Graphite on paper   \n4                            Line engraving on paper   \n\n                                          creditLine  year  acquisitionYear  \\\n0                Presented by Mrs John Richmond 1922   NaN           1922.0   \n1                Presented by Mrs John Richmond 1922   NaN           1922.0   \n2                Presented by Mrs John Richmond 1922  1785           1922.0   \n3                Presented by Mrs John Richmond 1922   NaN           1922.0   \n4  Purchased with the assistance of a special gra...  1826           1919.0   \n\n              dimensions width height  depth units inscription  \\\n0  support: 394 x 419 mm   394    419    NaN    mm         NaN   \n1  support: 311 x 213 mm   311    213    NaN    mm         NaN   \n2  support: 343 x 467 mm   343    467    NaN    mm         NaN   \n3  support: 318 x 394 mm   318    394    NaN    mm         NaN   \n4    image: 243 x 335 mm   243    335    NaN    mm         NaN   \n\n  thumbnailCopyright                                       thumbnailUrl  \\\n0                NaN  http://www.tate.org.uk/art/images/work/A/A00/A...   \n1                NaN  http://www.tate.org.uk/art/images/work/A/A00/A...   \n2                NaN  http://www.tate.org.uk/art/images/work/A/A00/A...   \n3                NaN  http://www.tate.org.uk/art/images/work/A/A00/A...   \n4                NaN  http://www.tate.org.uk/art/images/work/A/A00/A...   \n\n                                                 url  \n0  http://www.tate.org.uk/art/artworks/blake-a-fi...  \n1  http://www.tate.org.uk/art/artworks/blake-two-...  \n2  http://www.tate.org.uk/art/artworks/blake-the-...  \n3  http://www.tate.org.uk/art/artworks/blake-six-...  \n4  http://www.tate.org.uk/art/artworks/blake-the-...  ",
      "text/html": "<div>\n<style scoped>\n    .dataframe tbody tr th:only-of-type {\n        vertical-align: middle;\n    }\n\n    .dataframe tbody tr th {\n        vertical-align: top;\n    }\n\n    .dataframe thead th {\n        text-align: right;\n    }\n</style>\n<table border=\"1\" class=\"dataframe\">\n  <thead>\n    <tr style=\"text-align: right;\">\n      <th></th>\n      <th>id</th>\n      <th>accession_number</th>\n      <th>artist</th>\n      <th>artistRole</th>\n      <th>artistId</th>\n      <th>title</th>\n      <th>dateText</th>\n      <th>medium</th>\n      <th>creditLine</th>\n      <th>year</th>\n      <th>acquisitionYear</th>\n      <th>dimensions</th>\n      <th>width</th>\n      <th>height</th>\n      <th>depth</th>\n      <th>units</th>\n      <th>inscription</th>\n      <th>thumbnailCopyright</th>\n      <th>thumbnailUrl</th>\n      <th>url</th>\n    </tr>\n  </thead>\n  <tbody>\n    <tr>\n      <th>0</th>\n      <td>1035</td>\n      <td>A00001</td>\n      <td>Blake, Robert</td>\n      <td>artist</td>\n      <td>38</td>\n      <td>A Figure Bowing before a Seated Old Man with h...</td>\n      <td>date not known</td>\n      <td>Watercolour, ink, chalk and graphite on paper....</td>\n      <td>Presented by Mrs John Richmond 1922</td>\n      <td>NaN</td>\n      <td>1922.0</td>\n      <td>support: 394 x 419 mm</td>\n      <td>394</td>\n      <td>419</td>\n      <td>NaN</td>\n      <td>mm</td>\n      <td>NaN</td>\n      <td>NaN</td>\n      <td>http://www.tate.org.uk/art/images/work/A/A00/A...</td>\n      <td>http://www.tate.org.uk/art/artworks/blake-a-fi...</td>\n    </tr>\n    <tr>\n      <th>1</th>\n      <td>1036</td>\n      <td>A00002</td>\n      <td>Blake, Robert</td>\n      <td>artist</td>\n      <td>38</td>\n      <td>Two Drawings of Frightened Figures, Probably f...</td>\n      <td>date not known</td>\n      <td>Graphite on paper</td>\n      <td>Presented by Mrs John Richmond 1922</td>\n      <td>NaN</td>\n      <td>1922.0</td>\n      <td>support: 311 x 213 mm</td>\n      <td>311</td>\n      <td>213</td>\n      <td>NaN</td>\n      <td>mm</td>\n      <td>NaN</td>\n      <td>NaN</td>\n      <td>http://www.tate.org.uk/art/images/work/A/A00/A...</td>\n      <td>http://www.tate.org.uk/art/artworks/blake-two-...</td>\n    </tr>\n    <tr>\n      <th>2</th>\n      <td>1037</td>\n      <td>A00003</td>\n      <td>Blake, Robert</td>\n      <td>artist</td>\n      <td>38</td>\n      <td>The Preaching of Warning. Verso: An Old Man En...</td>\n      <td>?c.1785</td>\n      <td>Graphite on paper. Verso: graphite on paper</td>\n      <td>Presented by Mrs John Richmond 1922</td>\n      <td>1785</td>\n      <td>1922.0</td>\n      <td>support: 343 x 467 mm</td>\n      <td>343</td>\n      <td>467</td>\n      <td>NaN</td>\n      <td>mm</td>\n      <td>NaN</td>\n      <td>NaN</td>\n      <td>http://www.tate.org.uk/art/images/work/A/A00/A...</td>\n      <td>http://www.tate.org.uk/art/artworks/blake-the-...</td>\n    </tr>\n    <tr>\n      <th>3</th>\n      <td>1038</td>\n      <td>A00004</td>\n      <td>Blake, Robert</td>\n      <td>artist</td>\n      <td>38</td>\n      <td>Six Drawings of Figures with Outstretched Arms</td>\n      <td>date not known</td>\n      <td>Graphite on paper</td>\n      <td>Presented by Mrs John Richmond 1922</td>\n      <td>NaN</td>\n      <td>1922.0</td>\n      <td>support: 318 x 394 mm</td>\n      <td>318</td>\n      <td>394</td>\n      <td>NaN</td>\n      <td>mm</td>\n      <td>NaN</td>\n      <td>NaN</td>\n      <td>http://www.tate.org.uk/art/images/work/A/A00/A...</td>\n      <td>http://www.tate.org.uk/art/artworks/blake-six-...</td>\n    </tr>\n    <tr>\n      <th>4</th>\n      <td>1039</td>\n      <td>A00005</td>\n      <td>Blake, William</td>\n      <td>artist</td>\n      <td>39</td>\n      <td>The Circle of the Lustful: Francesca da Rimini...</td>\n      <td>1826–7, reprinted 1892</td>\n      <td>Line engraving on paper</td>\n      <td>Purchased with the assistance of a special gra...</td>\n      <td>1826</td>\n      <td>1919.0</td>\n      <td>image: 243 x 335 mm</td>\n      <td>243</td>\n      <td>335</td>\n      <td>NaN</td>\n      <td>mm</td>\n      <td>NaN</td>\n      <td>NaN</td>\n      <td>http://www.tate.org.uk/art/images/work/A/A00/A...</td>\n      <td>http://www.tate.org.uk/art/artworks/blake-the-...</td>\n    </tr>\n  </tbody>\n</table>\n</div>"
     },
     "execution_count": 3,
     "metadata": {},
     "output_type": "execute_result"
    }
   ],
   "source": [
    "import pandas as pd\n",
    "\n",
    "data = pd.read_csv('./data/artwork_data.csv', low_memory=False)\n",
    "data.head()"
   ],
   "metadata": {
    "collapsed": false,
    "pycharm": {
     "name": "#%%\n"
    }
   }
  },
  {
   "cell_type": "code",
   "execution_count": 4,
   "outputs": [
    {
     "data": {
      "text/plain": "          id accession_number                artist artistRole  artistId  \\\n49498   4308           P07466  Hamilton Finlay, Ian     artist      1093   \n50534   2235           P11065         Clarke, Brian     artist       911   \n50535   2236           P11066         Clarke, Brian     artist       911   \n50537   2238           P11068         Clarke, Brian     artist       911   \n53186  21168           P77679     Bourgeois, Louise     artist      2351   \n56283   5826           T00705     Hamilton, Richard     artist      1244   \n67409  88191           T12064          Leach, David     artist      7651   \n67432  88215           T12087        Leach, Bernard     artist      1478   \n\n                                                   title dateText  \\\n49498  Port-Distinguishing Letters of Scottish Fishin...     1976   \n50534                                              Boys      1981   \n50535                                         Buildings      1981   \n50537                                  Pray for Josquin      1981   \n53186                            Untitled (Safety Pins)      1991   \n56283  Towards a definitive statement on the coming t...     1962   \n67409                        2 Standard Ware Mead Cups    1945–55   \n67432                                             Bowl     c.1960   \n\n                                                  medium  \\\n49498                        Screenprint on ceramic tile   \n50534                               Screenprint on paper   \n50535                               Screenprint on paper   \n50537                               Screenprint on paper   \n53186                                  Drypoint on paper   \n56283  Oil paint, cellulose paint and printed paper o...   \n67409                                   Ochre porcelain    \n67432                                          Porcelain   \n\n                                              creditLine  year  \\\n49498                                     Purchased 1981  1976   \n50534                     Presented by Paul Beldock 1983  1981   \n50535                     Presented by Paul Beldock 1983  1981   \n50537                     Presented by Paul Beldock 1983  1981   \n53186                                     Purchased 1994  1991   \n56283                                     Purchased 1964  1962   \n67409  Accepted by HM Government in lieu of inheritan...  1945   \n67432  Accepted by HM Government in lieu of inheritan...  1960   \n\n       acquisitionYear                                        dimensions  \\\n49498           1981.0                         unconfirmed: 153 x 153 mm   \n50534           1983.0                              image: 1003 x 700 mm   \n50535           1983.0                              image: 1005 x 698 mm   \n50537           1983.0                              image: 1115 x 688 mm   \n53186           1994.0                               image: 303 x 379 mm   \n56283           1964.0  support: 610 x 813 mm frame: 809 x 1011 x 810 mm   \n67409           2005.0                           object: 70 x 80 x 80 mm   \n67432           2005.0                         object: 50 x 140 x 140 mm   \n\n      width height  depth units     inscription  \\\n49498   153    153    NaN    mm             NaN   \n50534  1003    700    NaN    mm  date inscribed   \n50535  1005    698    NaN    mm  date inscribed   \n50537  1115    688    NaN    mm  date inscribed   \n53186   303    379    NaN    mm             NaN   \n56283   610    813    NaN    mm  date inscribed   \n67409    70     80   80.0    mm             NaN   \n67432    50    140  140.0    mm             NaN   \n\n                                    thumbnailCopyright  \\\n49498                  © Estate of Ian Hamilton Finlay   \n50534  © Brian Clarke. All Rights Reserved 2014 / DACS   \n50535  © Brian Clarke. All Rights Reserved 2014 / DACS   \n50537  © Brian Clarke. All Rights Reserved 2014 / DACS   \n53186                          © The Easton Foundation   \n56283                 © The estate of Richard Hamilton   \n67409                    © The estate of Bernard Leach   \n67432                    © The estate of Bernard Leach   \n\n                                            thumbnailUrl  \\\n49498  http://www.tate.org.uk/art/images/work/P/P07/P...   \n50534  http://www.tate.org.uk/art/images/work/P/P11/P...   \n50535  http://www.tate.org.uk/art/images/work/P/P11/P...   \n50537  http://www.tate.org.uk/art/images/work/P/P11/P...   \n53186  http://www.tate.org.uk/art/images/work/P/P77/P...   \n56283  http://www.tate.org.uk/art/images/work/T/T00/T...   \n67409  http://www.tate.org.uk/art/images/work/T/T12/T...   \n67432  http://www.tate.org.uk/art/images/work/T/T12/T...   \n\n                                                     url  \n49498  http://www.tate.org.uk/art/artworks/hamilton-f...  \n50534  http://www.tate.org.uk/art/artworks/clarke-boy...  \n50535  http://www.tate.org.uk/art/artworks/clarke-bui...  \n50537  http://www.tate.org.uk/art/artworks/clarke-pra...  \n53186  http://www.tate.org.uk/art/artworks/bourgeois-...  \n56283  http://www.tate.org.uk/art/artworks/hamilton-t...  \n67409  http://www.tate.org.uk/art/artworks/leach-2-st...  \n67432  http://www.tate.org.uk/art/artworks/leach-bowl...  ",
      "text/html": "<div>\n<style scoped>\n    .dataframe tbody tr th:only-of-type {\n        vertical-align: middle;\n    }\n\n    .dataframe tbody tr th {\n        vertical-align: top;\n    }\n\n    .dataframe thead th {\n        text-align: right;\n    }\n</style>\n<table border=\"1\" class=\"dataframe\">\n  <thead>\n    <tr style=\"text-align: right;\">\n      <th></th>\n      <th>id</th>\n      <th>accession_number</th>\n      <th>artist</th>\n      <th>artistRole</th>\n      <th>artistId</th>\n      <th>title</th>\n      <th>dateText</th>\n      <th>medium</th>\n      <th>creditLine</th>\n      <th>year</th>\n      <th>acquisitionYear</th>\n      <th>dimensions</th>\n      <th>width</th>\n      <th>height</th>\n      <th>depth</th>\n      <th>units</th>\n      <th>inscription</th>\n      <th>thumbnailCopyright</th>\n      <th>thumbnailUrl</th>\n      <th>url</th>\n    </tr>\n  </thead>\n  <tbody>\n    <tr>\n      <th>49498</th>\n      <td>4308</td>\n      <td>P07466</td>\n      <td>Hamilton Finlay, Ian</td>\n      <td>artist</td>\n      <td>1093</td>\n      <td>Port-Distinguishing Letters of Scottish Fishin...</td>\n      <td>1976</td>\n      <td>Screenprint on ceramic tile</td>\n      <td>Purchased 1981</td>\n      <td>1976</td>\n      <td>1981.0</td>\n      <td>unconfirmed: 153 x 153 mm</td>\n      <td>153</td>\n      <td>153</td>\n      <td>NaN</td>\n      <td>mm</td>\n      <td>NaN</td>\n      <td>© Estate of Ian Hamilton Finlay</td>\n      <td>http://www.tate.org.uk/art/images/work/P/P07/P...</td>\n      <td>http://www.tate.org.uk/art/artworks/hamilton-f...</td>\n    </tr>\n    <tr>\n      <th>50534</th>\n      <td>2235</td>\n      <td>P11065</td>\n      <td>Clarke, Brian</td>\n      <td>artist</td>\n      <td>911</td>\n      <td>Boys</td>\n      <td>1981</td>\n      <td>Screenprint on paper</td>\n      <td>Presented by Paul Beldock 1983</td>\n      <td>1981</td>\n      <td>1983.0</td>\n      <td>image: 1003 x 700 mm</td>\n      <td>1003</td>\n      <td>700</td>\n      <td>NaN</td>\n      <td>mm</td>\n      <td>date inscribed</td>\n      <td>© Brian Clarke. All Rights Reserved 2014 / DACS</td>\n      <td>http://www.tate.org.uk/art/images/work/P/P11/P...</td>\n      <td>http://www.tate.org.uk/art/artworks/clarke-boy...</td>\n    </tr>\n    <tr>\n      <th>50535</th>\n      <td>2236</td>\n      <td>P11066</td>\n      <td>Clarke, Brian</td>\n      <td>artist</td>\n      <td>911</td>\n      <td>Buildings</td>\n      <td>1981</td>\n      <td>Screenprint on paper</td>\n      <td>Presented by Paul Beldock 1983</td>\n      <td>1981</td>\n      <td>1983.0</td>\n      <td>image: 1005 x 698 mm</td>\n      <td>1005</td>\n      <td>698</td>\n      <td>NaN</td>\n      <td>mm</td>\n      <td>date inscribed</td>\n      <td>© Brian Clarke. All Rights Reserved 2014 / DACS</td>\n      <td>http://www.tate.org.uk/art/images/work/P/P11/P...</td>\n      <td>http://www.tate.org.uk/art/artworks/clarke-bui...</td>\n    </tr>\n    <tr>\n      <th>50537</th>\n      <td>2238</td>\n      <td>P11068</td>\n      <td>Clarke, Brian</td>\n      <td>artist</td>\n      <td>911</td>\n      <td>Pray for Josquin</td>\n      <td>1981</td>\n      <td>Screenprint on paper</td>\n      <td>Presented by Paul Beldock 1983</td>\n      <td>1981</td>\n      <td>1983.0</td>\n      <td>image: 1115 x 688 mm</td>\n      <td>1115</td>\n      <td>688</td>\n      <td>NaN</td>\n      <td>mm</td>\n      <td>date inscribed</td>\n      <td>© Brian Clarke. All Rights Reserved 2014 / DACS</td>\n      <td>http://www.tate.org.uk/art/images/work/P/P11/P...</td>\n      <td>http://www.tate.org.uk/art/artworks/clarke-pra...</td>\n    </tr>\n    <tr>\n      <th>53186</th>\n      <td>21168</td>\n      <td>P77679</td>\n      <td>Bourgeois, Louise</td>\n      <td>artist</td>\n      <td>2351</td>\n      <td>Untitled (Safety Pins)</td>\n      <td>1991</td>\n      <td>Drypoint on paper</td>\n      <td>Purchased 1994</td>\n      <td>1991</td>\n      <td>1994.0</td>\n      <td>image: 303 x 379 mm</td>\n      <td>303</td>\n      <td>379</td>\n      <td>NaN</td>\n      <td>mm</td>\n      <td>NaN</td>\n      <td>© The Easton Foundation</td>\n      <td>http://www.tate.org.uk/art/images/work/P/P77/P...</td>\n      <td>http://www.tate.org.uk/art/artworks/bourgeois-...</td>\n    </tr>\n    <tr>\n      <th>56283</th>\n      <td>5826</td>\n      <td>T00705</td>\n      <td>Hamilton, Richard</td>\n      <td>artist</td>\n      <td>1244</td>\n      <td>Towards a definitive statement on the coming t...</td>\n      <td>1962</td>\n      <td>Oil paint, cellulose paint and printed paper o...</td>\n      <td>Purchased 1964</td>\n      <td>1962</td>\n      <td>1964.0</td>\n      <td>support: 610 x 813 mm frame: 809 x 1011 x 810 mm</td>\n      <td>610</td>\n      <td>813</td>\n      <td>NaN</td>\n      <td>mm</td>\n      <td>date inscribed</td>\n      <td>© The estate of Richard Hamilton</td>\n      <td>http://www.tate.org.uk/art/images/work/T/T00/T...</td>\n      <td>http://www.tate.org.uk/art/artworks/hamilton-t...</td>\n    </tr>\n    <tr>\n      <th>67409</th>\n      <td>88191</td>\n      <td>T12064</td>\n      <td>Leach, David</td>\n      <td>artist</td>\n      <td>7651</td>\n      <td>2 Standard Ware Mead Cups</td>\n      <td>1945–55</td>\n      <td>Ochre porcelain</td>\n      <td>Accepted by HM Government in lieu of inheritan...</td>\n      <td>1945</td>\n      <td>2005.0</td>\n      <td>object: 70 x 80 x 80 mm</td>\n      <td>70</td>\n      <td>80</td>\n      <td>80.0</td>\n      <td>mm</td>\n      <td>NaN</td>\n      <td>© The estate of Bernard Leach</td>\n      <td>http://www.tate.org.uk/art/images/work/T/T12/T...</td>\n      <td>http://www.tate.org.uk/art/artworks/leach-2-st...</td>\n    </tr>\n    <tr>\n      <th>67432</th>\n      <td>88215</td>\n      <td>T12087</td>\n      <td>Leach, Bernard</td>\n      <td>artist</td>\n      <td>1478</td>\n      <td>Bowl</td>\n      <td>c.1960</td>\n      <td>Porcelain</td>\n      <td>Accepted by HM Government in lieu of inheritan...</td>\n      <td>1960</td>\n      <td>2005.0</td>\n      <td>object: 50 x 140 x 140 mm</td>\n      <td>50</td>\n      <td>140</td>\n      <td>140.0</td>\n      <td>mm</td>\n      <td>NaN</td>\n      <td>© The estate of Bernard Leach</td>\n      <td>http://www.tate.org.uk/art/images/work/T/T12/T...</td>\n      <td>http://www.tate.org.uk/art/artworks/leach-bowl...</td>\n    </tr>\n  </tbody>\n</table>\n</div>"
     },
     "execution_count": 4,
     "metadata": {},
     "output_type": "execute_result"
    }
   ],
   "source": [
    "data.loc[data.title.str.contains('\\s$', regex=True)]"
   ],
   "metadata": {
    "collapsed": false,
    "pycharm": {
     "name": "#%%\n"
    }
   }
  },
  {
   "cell_type": "code",
   "execution_count": 5,
   "outputs": [
    {
     "data": {
      "text/plain": "0        A Figure Bowing before a Seated Old Man with h...\n1        Two Drawings of Frightened Figures, Probably f...\n2        The Preaching of Warning. Verso: An Old Man En...\n3           Six Drawings of Figures with Outstretched Arms\n4        The Circle of the Lustful: Francesca da Rimini...\n                               ...                        \n69196                          Larvae (from Tampax Romana)\n69197                     Living Womb (from Tampax Romana)\n69198                                        Present Tense\n69199            Work No. 227: The lights going on and off\n69200                     Dancing Scene in the West Indies\nName: title, Length: 69201, dtype: object"
     },
     "execution_count": 5,
     "metadata": {},
     "output_type": "execute_result"
    }
   ],
   "source": [
    "# strip whitespaces on entire series\n",
    "data.title.str.strip()"
   ],
   "metadata": {
    "collapsed": false,
    "pycharm": {
     "name": "#%%\n"
    }
   }
  },
  {
   "cell_type": "code",
   "execution_count": 6,
   "outputs": [],
   "source": [
    "data.title = data.title.str.strip()\n",
    "# str.lstrip()  # strip whitespace from left\n",
    "# str.rstrip()  # strip whitespace from right"
   ],
   "metadata": {
    "collapsed": false,
    "pycharm": {
     "name": "#%%\n"
    }
   }
  },
  {
   "cell_type": "code",
   "execution_count": 7,
   "outputs": [
    {
     "data": {
      "text/plain": "Empty DataFrame\nColumns: [id, accession_number, artist, artistRole, artistId, title, dateText, medium, creditLine, year, acquisitionYear, dimensions, width, height, depth, units, inscription, thumbnailCopyright, thumbnailUrl, url]\nIndex: []",
      "text/html": "<div>\n<style scoped>\n    .dataframe tbody tr th:only-of-type {\n        vertical-align: middle;\n    }\n\n    .dataframe tbody tr th {\n        vertical-align: top;\n    }\n\n    .dataframe thead th {\n        text-align: right;\n    }\n</style>\n<table border=\"1\" class=\"dataframe\">\n  <thead>\n    <tr style=\"text-align: right;\">\n      <th></th>\n      <th>id</th>\n      <th>accession_number</th>\n      <th>artist</th>\n      <th>artistRole</th>\n      <th>artistId</th>\n      <th>title</th>\n      <th>dateText</th>\n      <th>medium</th>\n      <th>creditLine</th>\n      <th>year</th>\n      <th>acquisitionYear</th>\n      <th>dimensions</th>\n      <th>width</th>\n      <th>height</th>\n      <th>depth</th>\n      <th>units</th>\n      <th>inscription</th>\n      <th>thumbnailCopyright</th>\n      <th>thumbnailUrl</th>\n      <th>url</th>\n    </tr>\n  </thead>\n  <tbody>\n  </tbody>\n</table>\n</div>"
     },
     "execution_count": 7,
     "metadata": {},
     "output_type": "execute_result"
    }
   ],
   "source": [
    "data.loc[data.title.str.contains('\\s$', regex=True)]"
   ],
   "metadata": {
    "collapsed": false,
    "pycharm": {
     "name": "#%%\n"
    }
   }
  },
  {
   "cell_type": "code",
   "execution_count": 9,
   "outputs": [],
   "source": [
    "data.title = data.title.transform(lambda x: x.strip())"
   ],
   "metadata": {
    "collapsed": false,
    "pycharm": {
     "name": "#%%\n"
    }
   }
  },
  {
   "cell_type": "code",
   "execution_count": 10,
   "outputs": [
    {
     "data": {
      "text/plain": "0        A Figure Bowing before a Seated Old Man with h...\n1        Two Drawings of Frightened Figures, Probably f...\n2        The Preaching of Warning. Verso: An Old Man En...\n3           Six Drawings of Figures with Outstretched Arms\n4        The Circle of the Lustful: Francesca da Rimini...\n                               ...                        \n69196                          Larvae (from Tampax Romana)\n69197                     Living Womb (from Tampax Romana)\n69198                                        Present Tense\n69199            Work No. 227: The lights going on and off\n69200                     Dancing Scene in the West Indies\nName: title, Length: 69201, dtype: object"
     },
     "execution_count": 10,
     "metadata": {},
     "output_type": "execute_result"
    }
   ],
   "source": [
    "data.title"
   ],
   "metadata": {
    "collapsed": false,
    "pycharm": {
     "name": "#%%\n"
    }
   }
  },
  {
   "cell_type": "markdown",
   "source": [
    "### Replacing Bad Data with NaN"
   ],
   "metadata": {
    "collapsed": false,
    "pycharm": {
     "name": "#%% md\n"
    }
   }
  },
  {
   "cell_type": "code",
   "execution_count": 11,
   "outputs": [],
   "source": [
    "data = pd.read_csv('./data/artwork_data.csv', low_memory=False)"
   ],
   "metadata": {
    "collapsed": false,
    "pycharm": {
     "name": "#%%\n"
    }
   }
  },
  {
   "cell_type": "code",
   "execution_count": 13,
   "outputs": [
    {
     "data": {
      "text/plain": "     id accession_number          artist artistRole  artistId  \\\n0  1035           A00001   Blake, Robert     artist        38   \n1  1036           A00002   Blake, Robert     artist        38   \n2  1037           A00003   Blake, Robert     artist        38   \n3  1038           A00004   Blake, Robert     artist        38   \n4  1039           A00005  Blake, William     artist        39   \n\n                                               title                dateText  \\\n0  A Figure Bowing before a Seated Old Man with h...          date not known   \n1  Two Drawings of Frightened Figures, Probably f...          date not known   \n2  The Preaching of Warning. Verso: An Old Man En...                 ?c.1785   \n3     Six Drawings of Figures with Outstretched Arms          date not known   \n4  The Circle of the Lustful: Francesca da Rimini...  1826–7, reprinted 1892   \n\n                                              medium  \\\n0  Watercolour, ink, chalk and graphite on paper....   \n1                                  Graphite on paper   \n2        Graphite on paper. Verso: graphite on paper   \n3                                  Graphite on paper   \n4                            Line engraving on paper   \n\n                                          creditLine  year  acquisitionYear  \\\n0                Presented by Mrs John Richmond 1922   NaN           1922.0   \n1                Presented by Mrs John Richmond 1922   NaN           1922.0   \n2                Presented by Mrs John Richmond 1922  1785           1922.0   \n3                Presented by Mrs John Richmond 1922   NaN           1922.0   \n4  Purchased with the assistance of a special gra...  1826           1919.0   \n\n              dimensions width height  depth units inscription  \\\n0  support: 394 x 419 mm   394    419    NaN    mm         NaN   \n1  support: 311 x 213 mm   311    213    NaN    mm         NaN   \n2  support: 343 x 467 mm   343    467    NaN    mm         NaN   \n3  support: 318 x 394 mm   318    394    NaN    mm         NaN   \n4    image: 243 x 335 mm   243    335    NaN    mm         NaN   \n\n  thumbnailCopyright                                       thumbnailUrl  \\\n0                NaN  http://www.tate.org.uk/art/images/work/A/A00/A...   \n1                NaN  http://www.tate.org.uk/art/images/work/A/A00/A...   \n2                NaN  http://www.tate.org.uk/art/images/work/A/A00/A...   \n3                NaN  http://www.tate.org.uk/art/images/work/A/A00/A...   \n4                NaN  http://www.tate.org.uk/art/images/work/A/A00/A...   \n\n                                                 url  \n0  http://www.tate.org.uk/art/artworks/blake-a-fi...  \n1  http://www.tate.org.uk/art/artworks/blake-two-...  \n2  http://www.tate.org.uk/art/artworks/blake-the-...  \n3  http://www.tate.org.uk/art/artworks/blake-six-...  \n4  http://www.tate.org.uk/art/artworks/blake-the-...  ",
      "text/html": "<div>\n<style scoped>\n    .dataframe tbody tr th:only-of-type {\n        vertical-align: middle;\n    }\n\n    .dataframe tbody tr th {\n        vertical-align: top;\n    }\n\n    .dataframe thead th {\n        text-align: right;\n    }\n</style>\n<table border=\"1\" class=\"dataframe\">\n  <thead>\n    <tr style=\"text-align: right;\">\n      <th></th>\n      <th>id</th>\n      <th>accession_number</th>\n      <th>artist</th>\n      <th>artistRole</th>\n      <th>artistId</th>\n      <th>title</th>\n      <th>dateText</th>\n      <th>medium</th>\n      <th>creditLine</th>\n      <th>year</th>\n      <th>acquisitionYear</th>\n      <th>dimensions</th>\n      <th>width</th>\n      <th>height</th>\n      <th>depth</th>\n      <th>units</th>\n      <th>inscription</th>\n      <th>thumbnailCopyright</th>\n      <th>thumbnailUrl</th>\n      <th>url</th>\n    </tr>\n  </thead>\n  <tbody>\n    <tr>\n      <th>0</th>\n      <td>1035</td>\n      <td>A00001</td>\n      <td>Blake, Robert</td>\n      <td>artist</td>\n      <td>38</td>\n      <td>A Figure Bowing before a Seated Old Man with h...</td>\n      <td>date not known</td>\n      <td>Watercolour, ink, chalk and graphite on paper....</td>\n      <td>Presented by Mrs John Richmond 1922</td>\n      <td>NaN</td>\n      <td>1922.0</td>\n      <td>support: 394 x 419 mm</td>\n      <td>394</td>\n      <td>419</td>\n      <td>NaN</td>\n      <td>mm</td>\n      <td>NaN</td>\n      <td>NaN</td>\n      <td>http://www.tate.org.uk/art/images/work/A/A00/A...</td>\n      <td>http://www.tate.org.uk/art/artworks/blake-a-fi...</td>\n    </tr>\n    <tr>\n      <th>1</th>\n      <td>1036</td>\n      <td>A00002</td>\n      <td>Blake, Robert</td>\n      <td>artist</td>\n      <td>38</td>\n      <td>Two Drawings of Frightened Figures, Probably f...</td>\n      <td>date not known</td>\n      <td>Graphite on paper</td>\n      <td>Presented by Mrs John Richmond 1922</td>\n      <td>NaN</td>\n      <td>1922.0</td>\n      <td>support: 311 x 213 mm</td>\n      <td>311</td>\n      <td>213</td>\n      <td>NaN</td>\n      <td>mm</td>\n      <td>NaN</td>\n      <td>NaN</td>\n      <td>http://www.tate.org.uk/art/images/work/A/A00/A...</td>\n      <td>http://www.tate.org.uk/art/artworks/blake-two-...</td>\n    </tr>\n    <tr>\n      <th>2</th>\n      <td>1037</td>\n      <td>A00003</td>\n      <td>Blake, Robert</td>\n      <td>artist</td>\n      <td>38</td>\n      <td>The Preaching of Warning. Verso: An Old Man En...</td>\n      <td>?c.1785</td>\n      <td>Graphite on paper. Verso: graphite on paper</td>\n      <td>Presented by Mrs John Richmond 1922</td>\n      <td>1785</td>\n      <td>1922.0</td>\n      <td>support: 343 x 467 mm</td>\n      <td>343</td>\n      <td>467</td>\n      <td>NaN</td>\n      <td>mm</td>\n      <td>NaN</td>\n      <td>NaN</td>\n      <td>http://www.tate.org.uk/art/images/work/A/A00/A...</td>\n      <td>http://www.tate.org.uk/art/artworks/blake-the-...</td>\n    </tr>\n    <tr>\n      <th>3</th>\n      <td>1038</td>\n      <td>A00004</td>\n      <td>Blake, Robert</td>\n      <td>artist</td>\n      <td>38</td>\n      <td>Six Drawings of Figures with Outstretched Arms</td>\n      <td>date not known</td>\n      <td>Graphite on paper</td>\n      <td>Presented by Mrs John Richmond 1922</td>\n      <td>NaN</td>\n      <td>1922.0</td>\n      <td>support: 318 x 394 mm</td>\n      <td>318</td>\n      <td>394</td>\n      <td>NaN</td>\n      <td>mm</td>\n      <td>NaN</td>\n      <td>NaN</td>\n      <td>http://www.tate.org.uk/art/images/work/A/A00/A...</td>\n      <td>http://www.tate.org.uk/art/artworks/blake-six-...</td>\n    </tr>\n    <tr>\n      <th>4</th>\n      <td>1039</td>\n      <td>A00005</td>\n      <td>Blake, William</td>\n      <td>artist</td>\n      <td>39</td>\n      <td>The Circle of the Lustful: Francesca da Rimini...</td>\n      <td>1826–7, reprinted 1892</td>\n      <td>Line engraving on paper</td>\n      <td>Purchased with the assistance of a special gra...</td>\n      <td>1826</td>\n      <td>1919.0</td>\n      <td>image: 243 x 335 mm</td>\n      <td>243</td>\n      <td>335</td>\n      <td>NaN</td>\n      <td>mm</td>\n      <td>NaN</td>\n      <td>NaN</td>\n      <td>http://www.tate.org.uk/art/images/work/A/A00/A...</td>\n      <td>http://www.tate.org.uk/art/artworks/blake-the-...</td>\n    </tr>\n  </tbody>\n</table>\n</div>"
     },
     "execution_count": 13,
     "metadata": {},
     "output_type": "execute_result"
    }
   ],
   "source": [
    "data.head()"
   ],
   "metadata": {
    "collapsed": false,
    "pycharm": {
     "name": "#%%\n"
    }
   }
  },
  {
   "cell_type": "code",
   "execution_count": 14,
   "outputs": [
    {
     "data": {
      "text/plain": "0        False\n1        False\n2        False\n3        False\n4        False\n         ...  \n69196    False\n69197    False\n69198    False\n69199    False\n69200    False\nName: dateText, Length: 69201, dtype: bool"
     },
     "execution_count": 14,
     "metadata": {},
     "output_type": "execute_result"
    }
   ],
   "source": [
    "pd.isna(data.loc[:, 'dateText'])"
   ],
   "metadata": {
    "collapsed": false,
    "pycharm": {
     "name": "#%%\n"
    }
   }
  },
  {
   "cell_type": "code",
   "execution_count": 15,
   "outputs": [],
   "source": [
    "import numpy as np\n"
   ],
   "metadata": {
    "collapsed": false,
    "pycharm": {
     "name": "#%%\n"
    }
   }
  },
  {
   "cell_type": "code",
   "execution_count": 16,
   "outputs": [
    {
     "data": {
      "text/plain": "           id accession_number              artist artistRole  artistId  \\\n0        1035           A00001       Blake, Robert     artist        38   \n1        1036           A00002       Blake, Robert     artist        38   \n2        1037           A00003       Blake, Robert     artist        38   \n3        1038           A00004       Blake, Robert     artist        38   \n4        1039           A00005      Blake, William     artist        39   \n...       ...              ...                 ...        ...       ...   \n69196  122960           T13865  P-Orridge, Genesis     artist     16646   \n69197  122961           T13866  P-Orridge, Genesis     artist     16646   \n69198  121181           T13867        Hatoum, Mona     artist      2365   \n69199  112306           T13868       Creed, Martin     artist      2760   \n69200  127035           T13869   Brunias, Agostino     artist      3824   \n\n                                                   title  \\\n0      A Figure Bowing before a Seated Old Man with h...   \n1      Two Drawings of Frightened Figures, Probably f...   \n2      The Preaching of Warning. Verso: An Old Man En...   \n3         Six Drawings of Figures with Outstretched Arms   \n4      The Circle of the Lustful: Francesca da Rimini...   \n...                                                  ...   \n69196                        Larvae (from Tampax Romana)   \n69197                   Living Womb (from Tampax Romana)   \n69198                                      Present Tense   \n69199          Work No. 227: The lights going on and off   \n69200                   Dancing Scene in the West Indies   \n\n                     dateText  \\\n0                         NaN   \n1                         NaN   \n2                     ?c.1785   \n3                         NaN   \n4      1826–7, reprinted 1892   \n...                       ...   \n69196                    1975   \n69197                    1976   \n69198                    1996   \n69199                    2000   \n69200                 1764–96   \n\n                                                  medium  \\\n0      Watercolour, ink, chalk and graphite on paper....   \n1                                      Graphite on paper   \n2            Graphite on paper. Verso: graphite on paper   \n3                                      Graphite on paper   \n4                                Line engraving on paper   \n...                                                  ...   \n69196   Perspex, Wood, hairpiece, tampon and human blood   \n69197  Wood, Perspex, plastic, photograph on paper, t...   \n69198                               Soap and glass beads   \n69199                                   Gallery lighting   \n69200                                Oil paint on canvas   \n\n                                              creditLine  year  \\\n0                    Presented by Mrs John Richmond 1922   NaN   \n1                    Presented by Mrs John Richmond 1922   NaN   \n2                    Presented by Mrs John Richmond 1922  1785   \n3                    Presented by Mrs John Richmond 1922   NaN   \n4      Purchased with the assistance of a special gra...  1826   \n...                                                  ...   ...   \n69196                 Transferred from Tate Archive 2012  1975   \n69197                 Transferred from Tate Archive 2012  1976   \n69198                     Presented by Tate Members 2013  1996   \n69199  Purchased with funds provided by Tate Members,...  2000   \n69200  Purchased with assistance from Tate Patrons an...  1764   \n\n       acquisitionYear                           dimensions width height  \\\n0               1922.0                support: 394 x 419 mm   394    419   \n1               1922.0                support: 311 x 213 mm   311    213   \n2               1922.0                support: 343 x 467 mm   343    467   \n3               1922.0                support: 318 x 394 mm   318    394   \n4               1919.0                  image: 243 x 335 mm   243    335   \n...                ...                                  ...   ...    ...   \n69196           2013.0           object: 305 x 305 x 135 mm   305    305   \n69197           2013.0           object: 305 x 305 x 135 mm   305    305   \n69198           2013.0       displayed: 45 x 2410 x 2990 mm    45   2410   \n69199           2013.0  Overall display dimensions variable   NaN    NaN   \n69200           2013.0            unconfirmed: 508 x 660 mm   508    660   \n\n        depth units inscription thumbnailCopyright  \\\n0         NaN    mm         NaN                NaN   \n1         NaN    mm         NaN                NaN   \n2         NaN    mm         NaN                NaN   \n3         NaN    mm         NaN                NaN   \n4         NaN    mm         NaN                NaN   \n...       ...   ...         ...                ...   \n69196   135.0    mm         NaN                NaN   \n69197   135.0    mm         NaN                NaN   \n69198  2990.0    mm         NaN                NaN   \n69199     NaN   NaN         NaN                NaN   \n69200     NaN    mm         NaN                NaN   \n\n                                            thumbnailUrl  \\\n0      http://www.tate.org.uk/art/images/work/A/A00/A...   \n1      http://www.tate.org.uk/art/images/work/A/A00/A...   \n2      http://www.tate.org.uk/art/images/work/A/A00/A...   \n3      http://www.tate.org.uk/art/images/work/A/A00/A...   \n4      http://www.tate.org.uk/art/images/work/A/A00/A...   \n...                                                  ...   \n69196                                                NaN   \n69197                                                NaN   \n69198                                                NaN   \n69199                                                NaN   \n69200  http://www.tate.org.uk/art/images/work/T/T13/T...   \n\n                                                     url  \n0      http://www.tate.org.uk/art/artworks/blake-a-fi...  \n1      http://www.tate.org.uk/art/artworks/blake-two-...  \n2      http://www.tate.org.uk/art/artworks/blake-the-...  \n3      http://www.tate.org.uk/art/artworks/blake-six-...  \n4      http://www.tate.org.uk/art/artworks/blake-the-...  \n...                                                  ...  \n69196  http://www.tate.org.uk/art/artworks/p-orridge-...  \n69197  http://www.tate.org.uk/art/artworks/p-orridge-...  \n69198  http://www.tate.org.uk/art/artworks/hatoum-pre...  \n69199  http://www.tate.org.uk/art/artworks/creed-work...  \n69200  http://www.tate.org.uk/art/artworks/brunias-da...  \n\n[69201 rows x 20 columns]",
      "text/html": "<div>\n<style scoped>\n    .dataframe tbody tr th:only-of-type {\n        vertical-align: middle;\n    }\n\n    .dataframe tbody tr th {\n        vertical-align: top;\n    }\n\n    .dataframe thead th {\n        text-align: right;\n    }\n</style>\n<table border=\"1\" class=\"dataframe\">\n  <thead>\n    <tr style=\"text-align: right;\">\n      <th></th>\n      <th>id</th>\n      <th>accession_number</th>\n      <th>artist</th>\n      <th>artistRole</th>\n      <th>artistId</th>\n      <th>title</th>\n      <th>dateText</th>\n      <th>medium</th>\n      <th>creditLine</th>\n      <th>year</th>\n      <th>acquisitionYear</th>\n      <th>dimensions</th>\n      <th>width</th>\n      <th>height</th>\n      <th>depth</th>\n      <th>units</th>\n      <th>inscription</th>\n      <th>thumbnailCopyright</th>\n      <th>thumbnailUrl</th>\n      <th>url</th>\n    </tr>\n  </thead>\n  <tbody>\n    <tr>\n      <th>0</th>\n      <td>1035</td>\n      <td>A00001</td>\n      <td>Blake, Robert</td>\n      <td>artist</td>\n      <td>38</td>\n      <td>A Figure Bowing before a Seated Old Man with h...</td>\n      <td>NaN</td>\n      <td>Watercolour, ink, chalk and graphite on paper....</td>\n      <td>Presented by Mrs John Richmond 1922</td>\n      <td>NaN</td>\n      <td>1922.0</td>\n      <td>support: 394 x 419 mm</td>\n      <td>394</td>\n      <td>419</td>\n      <td>NaN</td>\n      <td>mm</td>\n      <td>NaN</td>\n      <td>NaN</td>\n      <td>http://www.tate.org.uk/art/images/work/A/A00/A...</td>\n      <td>http://www.tate.org.uk/art/artworks/blake-a-fi...</td>\n    </tr>\n    <tr>\n      <th>1</th>\n      <td>1036</td>\n      <td>A00002</td>\n      <td>Blake, Robert</td>\n      <td>artist</td>\n      <td>38</td>\n      <td>Two Drawings of Frightened Figures, Probably f...</td>\n      <td>NaN</td>\n      <td>Graphite on paper</td>\n      <td>Presented by Mrs John Richmond 1922</td>\n      <td>NaN</td>\n      <td>1922.0</td>\n      <td>support: 311 x 213 mm</td>\n      <td>311</td>\n      <td>213</td>\n      <td>NaN</td>\n      <td>mm</td>\n      <td>NaN</td>\n      <td>NaN</td>\n      <td>http://www.tate.org.uk/art/images/work/A/A00/A...</td>\n      <td>http://www.tate.org.uk/art/artworks/blake-two-...</td>\n    </tr>\n    <tr>\n      <th>2</th>\n      <td>1037</td>\n      <td>A00003</td>\n      <td>Blake, Robert</td>\n      <td>artist</td>\n      <td>38</td>\n      <td>The Preaching of Warning. Verso: An Old Man En...</td>\n      <td>?c.1785</td>\n      <td>Graphite on paper. Verso: graphite on paper</td>\n      <td>Presented by Mrs John Richmond 1922</td>\n      <td>1785</td>\n      <td>1922.0</td>\n      <td>support: 343 x 467 mm</td>\n      <td>343</td>\n      <td>467</td>\n      <td>NaN</td>\n      <td>mm</td>\n      <td>NaN</td>\n      <td>NaN</td>\n      <td>http://www.tate.org.uk/art/images/work/A/A00/A...</td>\n      <td>http://www.tate.org.uk/art/artworks/blake-the-...</td>\n    </tr>\n    <tr>\n      <th>3</th>\n      <td>1038</td>\n      <td>A00004</td>\n      <td>Blake, Robert</td>\n      <td>artist</td>\n      <td>38</td>\n      <td>Six Drawings of Figures with Outstretched Arms</td>\n      <td>NaN</td>\n      <td>Graphite on paper</td>\n      <td>Presented by Mrs John Richmond 1922</td>\n      <td>NaN</td>\n      <td>1922.0</td>\n      <td>support: 318 x 394 mm</td>\n      <td>318</td>\n      <td>394</td>\n      <td>NaN</td>\n      <td>mm</td>\n      <td>NaN</td>\n      <td>NaN</td>\n      <td>http://www.tate.org.uk/art/images/work/A/A00/A...</td>\n      <td>http://www.tate.org.uk/art/artworks/blake-six-...</td>\n    </tr>\n    <tr>\n      <th>4</th>\n      <td>1039</td>\n      <td>A00005</td>\n      <td>Blake, William</td>\n      <td>artist</td>\n      <td>39</td>\n      <td>The Circle of the Lustful: Francesca da Rimini...</td>\n      <td>1826–7, reprinted 1892</td>\n      <td>Line engraving on paper</td>\n      <td>Purchased with the assistance of a special gra...</td>\n      <td>1826</td>\n      <td>1919.0</td>\n      <td>image: 243 x 335 mm</td>\n      <td>243</td>\n      <td>335</td>\n      <td>NaN</td>\n      <td>mm</td>\n      <td>NaN</td>\n      <td>NaN</td>\n      <td>http://www.tate.org.uk/art/images/work/A/A00/A...</td>\n      <td>http://www.tate.org.uk/art/artworks/blake-the-...</td>\n    </tr>\n    <tr>\n      <th>...</th>\n      <td>...</td>\n      <td>...</td>\n      <td>...</td>\n      <td>...</td>\n      <td>...</td>\n      <td>...</td>\n      <td>...</td>\n      <td>...</td>\n      <td>...</td>\n      <td>...</td>\n      <td>...</td>\n      <td>...</td>\n      <td>...</td>\n      <td>...</td>\n      <td>...</td>\n      <td>...</td>\n      <td>...</td>\n      <td>...</td>\n      <td>...</td>\n      <td>...</td>\n    </tr>\n    <tr>\n      <th>69196</th>\n      <td>122960</td>\n      <td>T13865</td>\n      <td>P-Orridge, Genesis</td>\n      <td>artist</td>\n      <td>16646</td>\n      <td>Larvae (from Tampax Romana)</td>\n      <td>1975</td>\n      <td>Perspex, Wood, hairpiece, tampon and human blood</td>\n      <td>Transferred from Tate Archive 2012</td>\n      <td>1975</td>\n      <td>2013.0</td>\n      <td>object: 305 x 305 x 135 mm</td>\n      <td>305</td>\n      <td>305</td>\n      <td>135.0</td>\n      <td>mm</td>\n      <td>NaN</td>\n      <td>NaN</td>\n      <td>NaN</td>\n      <td>http://www.tate.org.uk/art/artworks/p-orridge-...</td>\n    </tr>\n    <tr>\n      <th>69197</th>\n      <td>122961</td>\n      <td>T13866</td>\n      <td>P-Orridge, Genesis</td>\n      <td>artist</td>\n      <td>16646</td>\n      <td>Living Womb (from Tampax Romana)</td>\n      <td>1976</td>\n      <td>Wood, Perspex, plastic, photograph on paper, t...</td>\n      <td>Transferred from Tate Archive 2012</td>\n      <td>1976</td>\n      <td>2013.0</td>\n      <td>object: 305 x 305 x 135 mm</td>\n      <td>305</td>\n      <td>305</td>\n      <td>135.0</td>\n      <td>mm</td>\n      <td>NaN</td>\n      <td>NaN</td>\n      <td>NaN</td>\n      <td>http://www.tate.org.uk/art/artworks/p-orridge-...</td>\n    </tr>\n    <tr>\n      <th>69198</th>\n      <td>121181</td>\n      <td>T13867</td>\n      <td>Hatoum, Mona</td>\n      <td>artist</td>\n      <td>2365</td>\n      <td>Present Tense</td>\n      <td>1996</td>\n      <td>Soap and glass beads</td>\n      <td>Presented by Tate Members 2013</td>\n      <td>1996</td>\n      <td>2013.0</td>\n      <td>displayed: 45 x 2410 x 2990 mm</td>\n      <td>45</td>\n      <td>2410</td>\n      <td>2990.0</td>\n      <td>mm</td>\n      <td>NaN</td>\n      <td>NaN</td>\n      <td>NaN</td>\n      <td>http://www.tate.org.uk/art/artworks/hatoum-pre...</td>\n    </tr>\n    <tr>\n      <th>69199</th>\n      <td>112306</td>\n      <td>T13868</td>\n      <td>Creed, Martin</td>\n      <td>artist</td>\n      <td>2760</td>\n      <td>Work No. 227: The lights going on and off</td>\n      <td>2000</td>\n      <td>Gallery lighting</td>\n      <td>Purchased with funds provided by Tate Members,...</td>\n      <td>2000</td>\n      <td>2013.0</td>\n      <td>Overall display dimensions variable</td>\n      <td>NaN</td>\n      <td>NaN</td>\n      <td>NaN</td>\n      <td>NaN</td>\n      <td>NaN</td>\n      <td>NaN</td>\n      <td>NaN</td>\n      <td>http://www.tate.org.uk/art/artworks/creed-work...</td>\n    </tr>\n    <tr>\n      <th>69200</th>\n      <td>127035</td>\n      <td>T13869</td>\n      <td>Brunias, Agostino</td>\n      <td>artist</td>\n      <td>3824</td>\n      <td>Dancing Scene in the West Indies</td>\n      <td>1764–96</td>\n      <td>Oil paint on canvas</td>\n      <td>Purchased with assistance from Tate Patrons an...</td>\n      <td>1764</td>\n      <td>2013.0</td>\n      <td>unconfirmed: 508 x 660 mm</td>\n      <td>508</td>\n      <td>660</td>\n      <td>NaN</td>\n      <td>mm</td>\n      <td>NaN</td>\n      <td>NaN</td>\n      <td>http://www.tate.org.uk/art/images/work/T/T13/T...</td>\n      <td>http://www.tate.org.uk/art/artworks/brunias-da...</td>\n    </tr>\n  </tbody>\n</table>\n<p>69201 rows × 20 columns</p>\n</div>"
     },
     "execution_count": 16,
     "metadata": {},
     "output_type": "execute_result"
    }
   ],
   "source": [
    "data.replace({'dateText': {'date not known': np.nan}})"
   ],
   "metadata": {
    "collapsed": false,
    "pycharm": {
     "name": "#%%\n"
    }
   }
  },
  {
   "cell_type": "code",
   "execution_count": 17,
   "outputs": [
    {
     "data": {
      "text/plain": "     id accession_number          artist artistRole  artistId  \\\n0  1035           A00001   Blake, Robert     artist        38   \n1  1036           A00002   Blake, Robert     artist        38   \n2  1037           A00003   Blake, Robert     artist        38   \n3  1038           A00004   Blake, Robert     artist        38   \n4  1039           A00005  Blake, William     artist        39   \n\n                                               title                dateText  \\\n0  A Figure Bowing before a Seated Old Man with h...          date not known   \n1  Two Drawings of Frightened Figures, Probably f...          date not known   \n2  The Preaching of Warning. Verso: An Old Man En...                 ?c.1785   \n3     Six Drawings of Figures with Outstretched Arms          date not known   \n4  The Circle of the Lustful: Francesca da Rimini...  1826–7, reprinted 1892   \n\n                                              medium  \\\n0  Watercolour, ink, chalk and graphite on paper....   \n1                                  Graphite on paper   \n2        Graphite on paper. Verso: graphite on paper   \n3                                  Graphite on paper   \n4                            Line engraving on paper   \n\n                                          creditLine  year  acquisitionYear  \\\n0                Presented by Mrs John Richmond 1922   NaN           1922.0   \n1                Presented by Mrs John Richmond 1922   NaN           1922.0   \n2                Presented by Mrs John Richmond 1922  1785           1922.0   \n3                Presented by Mrs John Richmond 1922   NaN           1922.0   \n4  Purchased with the assistance of a special gra...  1826           1919.0   \n\n              dimensions width height  depth units inscription  \\\n0  support: 394 x 419 mm   394    419    NaN    mm         NaN   \n1  support: 311 x 213 mm   311    213    NaN    mm         NaN   \n2  support: 343 x 467 mm   343    467    NaN    mm         NaN   \n3  support: 318 x 394 mm   318    394    NaN    mm         NaN   \n4    image: 243 x 335 mm   243    335    NaN    mm         NaN   \n\n  thumbnailCopyright                                       thumbnailUrl  \\\n0                NaN  http://www.tate.org.uk/art/images/work/A/A00/A...   \n1                NaN  http://www.tate.org.uk/art/images/work/A/A00/A...   \n2                NaN  http://www.tate.org.uk/art/images/work/A/A00/A...   \n3                NaN  http://www.tate.org.uk/art/images/work/A/A00/A...   \n4                NaN  http://www.tate.org.uk/art/images/work/A/A00/A...   \n\n                                                 url  \n0  http://www.tate.org.uk/art/artworks/blake-a-fi...  \n1  http://www.tate.org.uk/art/artworks/blake-two-...  \n2  http://www.tate.org.uk/art/artworks/blake-the-...  \n3  http://www.tate.org.uk/art/artworks/blake-six-...  \n4  http://www.tate.org.uk/art/artworks/blake-the-...  ",
      "text/html": "<div>\n<style scoped>\n    .dataframe tbody tr th:only-of-type {\n        vertical-align: middle;\n    }\n\n    .dataframe tbody tr th {\n        vertical-align: top;\n    }\n\n    .dataframe thead th {\n        text-align: right;\n    }\n</style>\n<table border=\"1\" class=\"dataframe\">\n  <thead>\n    <tr style=\"text-align: right;\">\n      <th></th>\n      <th>id</th>\n      <th>accession_number</th>\n      <th>artist</th>\n      <th>artistRole</th>\n      <th>artistId</th>\n      <th>title</th>\n      <th>dateText</th>\n      <th>medium</th>\n      <th>creditLine</th>\n      <th>year</th>\n      <th>acquisitionYear</th>\n      <th>dimensions</th>\n      <th>width</th>\n      <th>height</th>\n      <th>depth</th>\n      <th>units</th>\n      <th>inscription</th>\n      <th>thumbnailCopyright</th>\n      <th>thumbnailUrl</th>\n      <th>url</th>\n    </tr>\n  </thead>\n  <tbody>\n    <tr>\n      <th>0</th>\n      <td>1035</td>\n      <td>A00001</td>\n      <td>Blake, Robert</td>\n      <td>artist</td>\n      <td>38</td>\n      <td>A Figure Bowing before a Seated Old Man with h...</td>\n      <td>date not known</td>\n      <td>Watercolour, ink, chalk and graphite on paper....</td>\n      <td>Presented by Mrs John Richmond 1922</td>\n      <td>NaN</td>\n      <td>1922.0</td>\n      <td>support: 394 x 419 mm</td>\n      <td>394</td>\n      <td>419</td>\n      <td>NaN</td>\n      <td>mm</td>\n      <td>NaN</td>\n      <td>NaN</td>\n      <td>http://www.tate.org.uk/art/images/work/A/A00/A...</td>\n      <td>http://www.tate.org.uk/art/artworks/blake-a-fi...</td>\n    </tr>\n    <tr>\n      <th>1</th>\n      <td>1036</td>\n      <td>A00002</td>\n      <td>Blake, Robert</td>\n      <td>artist</td>\n      <td>38</td>\n      <td>Two Drawings of Frightened Figures, Probably f...</td>\n      <td>date not known</td>\n      <td>Graphite on paper</td>\n      <td>Presented by Mrs John Richmond 1922</td>\n      <td>NaN</td>\n      <td>1922.0</td>\n      <td>support: 311 x 213 mm</td>\n      <td>311</td>\n      <td>213</td>\n      <td>NaN</td>\n      <td>mm</td>\n      <td>NaN</td>\n      <td>NaN</td>\n      <td>http://www.tate.org.uk/art/images/work/A/A00/A...</td>\n      <td>http://www.tate.org.uk/art/artworks/blake-two-...</td>\n    </tr>\n    <tr>\n      <th>2</th>\n      <td>1037</td>\n      <td>A00003</td>\n      <td>Blake, Robert</td>\n      <td>artist</td>\n      <td>38</td>\n      <td>The Preaching of Warning. Verso: An Old Man En...</td>\n      <td>?c.1785</td>\n      <td>Graphite on paper. Verso: graphite on paper</td>\n      <td>Presented by Mrs John Richmond 1922</td>\n      <td>1785</td>\n      <td>1922.0</td>\n      <td>support: 343 x 467 mm</td>\n      <td>343</td>\n      <td>467</td>\n      <td>NaN</td>\n      <td>mm</td>\n      <td>NaN</td>\n      <td>NaN</td>\n      <td>http://www.tate.org.uk/art/images/work/A/A00/A...</td>\n      <td>http://www.tate.org.uk/art/artworks/blake-the-...</td>\n    </tr>\n    <tr>\n      <th>3</th>\n      <td>1038</td>\n      <td>A00004</td>\n      <td>Blake, Robert</td>\n      <td>artist</td>\n      <td>38</td>\n      <td>Six Drawings of Figures with Outstretched Arms</td>\n      <td>date not known</td>\n      <td>Graphite on paper</td>\n      <td>Presented by Mrs John Richmond 1922</td>\n      <td>NaN</td>\n      <td>1922.0</td>\n      <td>support: 318 x 394 mm</td>\n      <td>318</td>\n      <td>394</td>\n      <td>NaN</td>\n      <td>mm</td>\n      <td>NaN</td>\n      <td>NaN</td>\n      <td>http://www.tate.org.uk/art/images/work/A/A00/A...</td>\n      <td>http://www.tate.org.uk/art/artworks/blake-six-...</td>\n    </tr>\n    <tr>\n      <th>4</th>\n      <td>1039</td>\n      <td>A00005</td>\n      <td>Blake, William</td>\n      <td>artist</td>\n      <td>39</td>\n      <td>The Circle of the Lustful: Francesca da Rimini...</td>\n      <td>1826–7, reprinted 1892</td>\n      <td>Line engraving on paper</td>\n      <td>Purchased with the assistance of a special gra...</td>\n      <td>1826</td>\n      <td>1919.0</td>\n      <td>image: 243 x 335 mm</td>\n      <td>243</td>\n      <td>335</td>\n      <td>NaN</td>\n      <td>mm</td>\n      <td>NaN</td>\n      <td>NaN</td>\n      <td>http://www.tate.org.uk/art/images/work/A/A00/A...</td>\n      <td>http://www.tate.org.uk/art/artworks/blake-the-...</td>\n    </tr>\n  </tbody>\n</table>\n</div>"
     },
     "execution_count": 17,
     "metadata": {},
     "output_type": "execute_result"
    }
   ],
   "source": [
    "data.head()"
   ],
   "metadata": {
    "collapsed": false,
    "pycharm": {
     "name": "#%%\n"
    }
   }
  },
  {
   "cell_type": "code",
   "execution_count": 18,
   "outputs": [],
   "source": [
    "data.replace({'dateText': {'date not known': np.nan}}, inplace=True)"
   ],
   "metadata": {
    "collapsed": false,
    "pycharm": {
     "name": "#%%\n"
    }
   }
  },
  {
   "cell_type": "code",
   "execution_count": 19,
   "outputs": [
    {
     "data": {
      "text/plain": "     id accession_number          artist artistRole  artistId  \\\n0  1035           A00001   Blake, Robert     artist        38   \n1  1036           A00002   Blake, Robert     artist        38   \n2  1037           A00003   Blake, Robert     artist        38   \n3  1038           A00004   Blake, Robert     artist        38   \n4  1039           A00005  Blake, William     artist        39   \n\n                                               title                dateText  \\\n0  A Figure Bowing before a Seated Old Man with h...                     NaN   \n1  Two Drawings of Frightened Figures, Probably f...                     NaN   \n2  The Preaching of Warning. Verso: An Old Man En...                 ?c.1785   \n3     Six Drawings of Figures with Outstretched Arms                     NaN   \n4  The Circle of the Lustful: Francesca da Rimini...  1826–7, reprinted 1892   \n\n                                              medium  \\\n0  Watercolour, ink, chalk and graphite on paper....   \n1                                  Graphite on paper   \n2        Graphite on paper. Verso: graphite on paper   \n3                                  Graphite on paper   \n4                            Line engraving on paper   \n\n                                          creditLine  year  acquisitionYear  \\\n0                Presented by Mrs John Richmond 1922   NaN           1922.0   \n1                Presented by Mrs John Richmond 1922   NaN           1922.0   \n2                Presented by Mrs John Richmond 1922  1785           1922.0   \n3                Presented by Mrs John Richmond 1922   NaN           1922.0   \n4  Purchased with the assistance of a special gra...  1826           1919.0   \n\n              dimensions width height  depth units inscription  \\\n0  support: 394 x 419 mm   394    419    NaN    mm         NaN   \n1  support: 311 x 213 mm   311    213    NaN    mm         NaN   \n2  support: 343 x 467 mm   343    467    NaN    mm         NaN   \n3  support: 318 x 394 mm   318    394    NaN    mm         NaN   \n4    image: 243 x 335 mm   243    335    NaN    mm         NaN   \n\n  thumbnailCopyright                                       thumbnailUrl  \\\n0                NaN  http://www.tate.org.uk/art/images/work/A/A00/A...   \n1                NaN  http://www.tate.org.uk/art/images/work/A/A00/A...   \n2                NaN  http://www.tate.org.uk/art/images/work/A/A00/A...   \n3                NaN  http://www.tate.org.uk/art/images/work/A/A00/A...   \n4                NaN  http://www.tate.org.uk/art/images/work/A/A00/A...   \n\n                                                 url  \n0  http://www.tate.org.uk/art/artworks/blake-a-fi...  \n1  http://www.tate.org.uk/art/artworks/blake-two-...  \n2  http://www.tate.org.uk/art/artworks/blake-the-...  \n3  http://www.tate.org.uk/art/artworks/blake-six-...  \n4  http://www.tate.org.uk/art/artworks/blake-the-...  ",
      "text/html": "<div>\n<style scoped>\n    .dataframe tbody tr th:only-of-type {\n        vertical-align: middle;\n    }\n\n    .dataframe tbody tr th {\n        vertical-align: top;\n    }\n\n    .dataframe thead th {\n        text-align: right;\n    }\n</style>\n<table border=\"1\" class=\"dataframe\">\n  <thead>\n    <tr style=\"text-align: right;\">\n      <th></th>\n      <th>id</th>\n      <th>accession_number</th>\n      <th>artist</th>\n      <th>artistRole</th>\n      <th>artistId</th>\n      <th>title</th>\n      <th>dateText</th>\n      <th>medium</th>\n      <th>creditLine</th>\n      <th>year</th>\n      <th>acquisitionYear</th>\n      <th>dimensions</th>\n      <th>width</th>\n      <th>height</th>\n      <th>depth</th>\n      <th>units</th>\n      <th>inscription</th>\n      <th>thumbnailCopyright</th>\n      <th>thumbnailUrl</th>\n      <th>url</th>\n    </tr>\n  </thead>\n  <tbody>\n    <tr>\n      <th>0</th>\n      <td>1035</td>\n      <td>A00001</td>\n      <td>Blake, Robert</td>\n      <td>artist</td>\n      <td>38</td>\n      <td>A Figure Bowing before a Seated Old Man with h...</td>\n      <td>NaN</td>\n      <td>Watercolour, ink, chalk and graphite on paper....</td>\n      <td>Presented by Mrs John Richmond 1922</td>\n      <td>NaN</td>\n      <td>1922.0</td>\n      <td>support: 394 x 419 mm</td>\n      <td>394</td>\n      <td>419</td>\n      <td>NaN</td>\n      <td>mm</td>\n      <td>NaN</td>\n      <td>NaN</td>\n      <td>http://www.tate.org.uk/art/images/work/A/A00/A...</td>\n      <td>http://www.tate.org.uk/art/artworks/blake-a-fi...</td>\n    </tr>\n    <tr>\n      <th>1</th>\n      <td>1036</td>\n      <td>A00002</td>\n      <td>Blake, Robert</td>\n      <td>artist</td>\n      <td>38</td>\n      <td>Two Drawings of Frightened Figures, Probably f...</td>\n      <td>NaN</td>\n      <td>Graphite on paper</td>\n      <td>Presented by Mrs John Richmond 1922</td>\n      <td>NaN</td>\n      <td>1922.0</td>\n      <td>support: 311 x 213 mm</td>\n      <td>311</td>\n      <td>213</td>\n      <td>NaN</td>\n      <td>mm</td>\n      <td>NaN</td>\n      <td>NaN</td>\n      <td>http://www.tate.org.uk/art/images/work/A/A00/A...</td>\n      <td>http://www.tate.org.uk/art/artworks/blake-two-...</td>\n    </tr>\n    <tr>\n      <th>2</th>\n      <td>1037</td>\n      <td>A00003</td>\n      <td>Blake, Robert</td>\n      <td>artist</td>\n      <td>38</td>\n      <td>The Preaching of Warning. Verso: An Old Man En...</td>\n      <td>?c.1785</td>\n      <td>Graphite on paper. Verso: graphite on paper</td>\n      <td>Presented by Mrs John Richmond 1922</td>\n      <td>1785</td>\n      <td>1922.0</td>\n      <td>support: 343 x 467 mm</td>\n      <td>343</td>\n      <td>467</td>\n      <td>NaN</td>\n      <td>mm</td>\n      <td>NaN</td>\n      <td>NaN</td>\n      <td>http://www.tate.org.uk/art/images/work/A/A00/A...</td>\n      <td>http://www.tate.org.uk/art/artworks/blake-the-...</td>\n    </tr>\n    <tr>\n      <th>3</th>\n      <td>1038</td>\n      <td>A00004</td>\n      <td>Blake, Robert</td>\n      <td>artist</td>\n      <td>38</td>\n      <td>Six Drawings of Figures with Outstretched Arms</td>\n      <td>NaN</td>\n      <td>Graphite on paper</td>\n      <td>Presented by Mrs John Richmond 1922</td>\n      <td>NaN</td>\n      <td>1922.0</td>\n      <td>support: 318 x 394 mm</td>\n      <td>318</td>\n      <td>394</td>\n      <td>NaN</td>\n      <td>mm</td>\n      <td>NaN</td>\n      <td>NaN</td>\n      <td>http://www.tate.org.uk/art/images/work/A/A00/A...</td>\n      <td>http://www.tate.org.uk/art/artworks/blake-six-...</td>\n    </tr>\n    <tr>\n      <th>4</th>\n      <td>1039</td>\n      <td>A00005</td>\n      <td>Blake, William</td>\n      <td>artist</td>\n      <td>39</td>\n      <td>The Circle of the Lustful: Francesca da Rimini...</td>\n      <td>1826–7, reprinted 1892</td>\n      <td>Line engraving on paper</td>\n      <td>Purchased with the assistance of a special gra...</td>\n      <td>1826</td>\n      <td>1919.0</td>\n      <td>image: 243 x 335 mm</td>\n      <td>243</td>\n      <td>335</td>\n      <td>NaN</td>\n      <td>mm</td>\n      <td>NaN</td>\n      <td>NaN</td>\n      <td>http://www.tate.org.uk/art/images/work/A/A00/A...</td>\n      <td>http://www.tate.org.uk/art/artworks/blake-the-...</td>\n    </tr>\n  </tbody>\n</table>\n</div>"
     },
     "execution_count": 19,
     "metadata": {},
     "output_type": "execute_result"
    }
   ],
   "source": [
    "data.head()"
   ],
   "metadata": {
    "collapsed": false,
    "pycharm": {
     "name": "#%%\n"
    }
   }
  },
  {
   "cell_type": "code",
   "execution_count": 20,
   "outputs": [],
   "source": [
    "# reload data\n",
    "data = pd.read_csv('./data/artwork_data.csv', low_memory=False)"
   ],
   "metadata": {
    "collapsed": false,
    "pycharm": {
     "name": "#%%\n"
    }
   }
  },
  {
   "cell_type": "code",
   "execution_count": 21,
   "outputs": [
    {
     "data": {
      "text/plain": "     id accession_number          artist artistRole  artistId  \\\n0  1035           A00001   Blake, Robert     artist        38   \n1  1036           A00002   Blake, Robert     artist        38   \n2  1037           A00003   Blake, Robert     artist        38   \n3  1038           A00004   Blake, Robert     artist        38   \n4  1039           A00005  Blake, William     artist        39   \n\n                                               title                dateText  \\\n0  A Figure Bowing before a Seated Old Man with h...          date not known   \n1  Two Drawings of Frightened Figures, Probably f...          date not known   \n2  The Preaching of Warning. Verso: An Old Man En...                 ?c.1785   \n3     Six Drawings of Figures with Outstretched Arms          date not known   \n4  The Circle of the Lustful: Francesca da Rimini...  1826–7, reprinted 1892   \n\n                                              medium  \\\n0  Watercolour, ink, chalk and graphite on paper....   \n1                                  Graphite on paper   \n2        Graphite on paper. Verso: graphite on paper   \n3                                  Graphite on paper   \n4                            Line engraving on paper   \n\n                                          creditLine  year  acquisitionYear  \\\n0                Presented by Mrs John Richmond 1922   NaN           1922.0   \n1                Presented by Mrs John Richmond 1922   NaN           1922.0   \n2                Presented by Mrs John Richmond 1922  1785           1922.0   \n3                Presented by Mrs John Richmond 1922   NaN           1922.0   \n4  Purchased with the assistance of a special gra...  1826           1919.0   \n\n              dimensions width height  depth units inscription  \\\n0  support: 394 x 419 mm   394    419    NaN    mm         NaN   \n1  support: 311 x 213 mm   311    213    NaN    mm         NaN   \n2  support: 343 x 467 mm   343    467    NaN    mm         NaN   \n3  support: 318 x 394 mm   318    394    NaN    mm         NaN   \n4    image: 243 x 335 mm   243    335    NaN    mm         NaN   \n\n  thumbnailCopyright                                       thumbnailUrl  \\\n0                NaN  http://www.tate.org.uk/art/images/work/A/A00/A...   \n1                NaN  http://www.tate.org.uk/art/images/work/A/A00/A...   \n2                NaN  http://www.tate.org.uk/art/images/work/A/A00/A...   \n3                NaN  http://www.tate.org.uk/art/images/work/A/A00/A...   \n4                NaN  http://www.tate.org.uk/art/images/work/A/A00/A...   \n\n                                                 url  \n0  http://www.tate.org.uk/art/artworks/blake-a-fi...  \n1  http://www.tate.org.uk/art/artworks/blake-two-...  \n2  http://www.tate.org.uk/art/artworks/blake-the-...  \n3  http://www.tate.org.uk/art/artworks/blake-six-...  \n4  http://www.tate.org.uk/art/artworks/blake-the-...  ",
      "text/html": "<div>\n<style scoped>\n    .dataframe tbody tr th:only-of-type {\n        vertical-align: middle;\n    }\n\n    .dataframe tbody tr th {\n        vertical-align: top;\n    }\n\n    .dataframe thead th {\n        text-align: right;\n    }\n</style>\n<table border=\"1\" class=\"dataframe\">\n  <thead>\n    <tr style=\"text-align: right;\">\n      <th></th>\n      <th>id</th>\n      <th>accession_number</th>\n      <th>artist</th>\n      <th>artistRole</th>\n      <th>artistId</th>\n      <th>title</th>\n      <th>dateText</th>\n      <th>medium</th>\n      <th>creditLine</th>\n      <th>year</th>\n      <th>acquisitionYear</th>\n      <th>dimensions</th>\n      <th>width</th>\n      <th>height</th>\n      <th>depth</th>\n      <th>units</th>\n      <th>inscription</th>\n      <th>thumbnailCopyright</th>\n      <th>thumbnailUrl</th>\n      <th>url</th>\n    </tr>\n  </thead>\n  <tbody>\n    <tr>\n      <th>0</th>\n      <td>1035</td>\n      <td>A00001</td>\n      <td>Blake, Robert</td>\n      <td>artist</td>\n      <td>38</td>\n      <td>A Figure Bowing before a Seated Old Man with h...</td>\n      <td>date not known</td>\n      <td>Watercolour, ink, chalk and graphite on paper....</td>\n      <td>Presented by Mrs John Richmond 1922</td>\n      <td>NaN</td>\n      <td>1922.0</td>\n      <td>support: 394 x 419 mm</td>\n      <td>394</td>\n      <td>419</td>\n      <td>NaN</td>\n      <td>mm</td>\n      <td>NaN</td>\n      <td>NaN</td>\n      <td>http://www.tate.org.uk/art/images/work/A/A00/A...</td>\n      <td>http://www.tate.org.uk/art/artworks/blake-a-fi...</td>\n    </tr>\n    <tr>\n      <th>1</th>\n      <td>1036</td>\n      <td>A00002</td>\n      <td>Blake, Robert</td>\n      <td>artist</td>\n      <td>38</td>\n      <td>Two Drawings of Frightened Figures, Probably f...</td>\n      <td>date not known</td>\n      <td>Graphite on paper</td>\n      <td>Presented by Mrs John Richmond 1922</td>\n      <td>NaN</td>\n      <td>1922.0</td>\n      <td>support: 311 x 213 mm</td>\n      <td>311</td>\n      <td>213</td>\n      <td>NaN</td>\n      <td>mm</td>\n      <td>NaN</td>\n      <td>NaN</td>\n      <td>http://www.tate.org.uk/art/images/work/A/A00/A...</td>\n      <td>http://www.tate.org.uk/art/artworks/blake-two-...</td>\n    </tr>\n    <tr>\n      <th>2</th>\n      <td>1037</td>\n      <td>A00003</td>\n      <td>Blake, Robert</td>\n      <td>artist</td>\n      <td>38</td>\n      <td>The Preaching of Warning. Verso: An Old Man En...</td>\n      <td>?c.1785</td>\n      <td>Graphite on paper. Verso: graphite on paper</td>\n      <td>Presented by Mrs John Richmond 1922</td>\n      <td>1785</td>\n      <td>1922.0</td>\n      <td>support: 343 x 467 mm</td>\n      <td>343</td>\n      <td>467</td>\n      <td>NaN</td>\n      <td>mm</td>\n      <td>NaN</td>\n      <td>NaN</td>\n      <td>http://www.tate.org.uk/art/images/work/A/A00/A...</td>\n      <td>http://www.tate.org.uk/art/artworks/blake-the-...</td>\n    </tr>\n    <tr>\n      <th>3</th>\n      <td>1038</td>\n      <td>A00004</td>\n      <td>Blake, Robert</td>\n      <td>artist</td>\n      <td>38</td>\n      <td>Six Drawings of Figures with Outstretched Arms</td>\n      <td>date not known</td>\n      <td>Graphite on paper</td>\n      <td>Presented by Mrs John Richmond 1922</td>\n      <td>NaN</td>\n      <td>1922.0</td>\n      <td>support: 318 x 394 mm</td>\n      <td>318</td>\n      <td>394</td>\n      <td>NaN</td>\n      <td>mm</td>\n      <td>NaN</td>\n      <td>NaN</td>\n      <td>http://www.tate.org.uk/art/images/work/A/A00/A...</td>\n      <td>http://www.tate.org.uk/art/artworks/blake-six-...</td>\n    </tr>\n    <tr>\n      <th>4</th>\n      <td>1039</td>\n      <td>A00005</td>\n      <td>Blake, William</td>\n      <td>artist</td>\n      <td>39</td>\n      <td>The Circle of the Lustful: Francesca da Rimini...</td>\n      <td>1826–7, reprinted 1892</td>\n      <td>Line engraving on paper</td>\n      <td>Purchased with the assistance of a special gra...</td>\n      <td>1826</td>\n      <td>1919.0</td>\n      <td>image: 243 x 335 mm</td>\n      <td>243</td>\n      <td>335</td>\n      <td>NaN</td>\n      <td>mm</td>\n      <td>NaN</td>\n      <td>NaN</td>\n      <td>http://www.tate.org.uk/art/images/work/A/A00/A...</td>\n      <td>http://www.tate.org.uk/art/artworks/blake-the-...</td>\n    </tr>\n  </tbody>\n</table>\n</div>"
     },
     "execution_count": 21,
     "metadata": {},
     "output_type": "execute_result"
    }
   ],
   "source": [
    "data.head()"
   ],
   "metadata": {
    "collapsed": false,
    "pycharm": {
     "name": "#%%\n"
    }
   }
  },
  {
   "cell_type": "code",
   "execution_count": 22,
   "outputs": [],
   "source": [
    "# filter data and then replace it with NaN\n",
    "data.loc[data.dateText == 'date not known', ['dateText']] = np.nan"
   ],
   "metadata": {
    "collapsed": false,
    "pycharm": {
     "name": "#%%\n"
    }
   }
  },
  {
   "cell_type": "code",
   "execution_count": 23,
   "outputs": [
    {
     "data": {
      "text/plain": "     id accession_number          artist artistRole  artistId  \\\n0  1035           A00001   Blake, Robert     artist        38   \n1  1036           A00002   Blake, Robert     artist        38   \n2  1037           A00003   Blake, Robert     artist        38   \n3  1038           A00004   Blake, Robert     artist        38   \n4  1039           A00005  Blake, William     artist        39   \n\n                                               title                dateText  \\\n0  A Figure Bowing before a Seated Old Man with h...                     NaN   \n1  Two Drawings of Frightened Figures, Probably f...                     NaN   \n2  The Preaching of Warning. Verso: An Old Man En...                 ?c.1785   \n3     Six Drawings of Figures with Outstretched Arms                     NaN   \n4  The Circle of the Lustful: Francesca da Rimini...  1826–7, reprinted 1892   \n\n                                              medium  \\\n0  Watercolour, ink, chalk and graphite on paper....   \n1                                  Graphite on paper   \n2        Graphite on paper. Verso: graphite on paper   \n3                                  Graphite on paper   \n4                            Line engraving on paper   \n\n                                          creditLine  year  acquisitionYear  \\\n0                Presented by Mrs John Richmond 1922   NaN           1922.0   \n1                Presented by Mrs John Richmond 1922   NaN           1922.0   \n2                Presented by Mrs John Richmond 1922  1785           1922.0   \n3                Presented by Mrs John Richmond 1922   NaN           1922.0   \n4  Purchased with the assistance of a special gra...  1826           1919.0   \n\n              dimensions width height  depth units inscription  \\\n0  support: 394 x 419 mm   394    419    NaN    mm         NaN   \n1  support: 311 x 213 mm   311    213    NaN    mm         NaN   \n2  support: 343 x 467 mm   343    467    NaN    mm         NaN   \n3  support: 318 x 394 mm   318    394    NaN    mm         NaN   \n4    image: 243 x 335 mm   243    335    NaN    mm         NaN   \n\n  thumbnailCopyright                                       thumbnailUrl  \\\n0                NaN  http://www.tate.org.uk/art/images/work/A/A00/A...   \n1                NaN  http://www.tate.org.uk/art/images/work/A/A00/A...   \n2                NaN  http://www.tate.org.uk/art/images/work/A/A00/A...   \n3                NaN  http://www.tate.org.uk/art/images/work/A/A00/A...   \n4                NaN  http://www.tate.org.uk/art/images/work/A/A00/A...   \n\n                                                 url  \n0  http://www.tate.org.uk/art/artworks/blake-a-fi...  \n1  http://www.tate.org.uk/art/artworks/blake-two-...  \n2  http://www.tate.org.uk/art/artworks/blake-the-...  \n3  http://www.tate.org.uk/art/artworks/blake-six-...  \n4  http://www.tate.org.uk/art/artworks/blake-the-...  ",
      "text/html": "<div>\n<style scoped>\n    .dataframe tbody tr th:only-of-type {\n        vertical-align: middle;\n    }\n\n    .dataframe tbody tr th {\n        vertical-align: top;\n    }\n\n    .dataframe thead th {\n        text-align: right;\n    }\n</style>\n<table border=\"1\" class=\"dataframe\">\n  <thead>\n    <tr style=\"text-align: right;\">\n      <th></th>\n      <th>id</th>\n      <th>accession_number</th>\n      <th>artist</th>\n      <th>artistRole</th>\n      <th>artistId</th>\n      <th>title</th>\n      <th>dateText</th>\n      <th>medium</th>\n      <th>creditLine</th>\n      <th>year</th>\n      <th>acquisitionYear</th>\n      <th>dimensions</th>\n      <th>width</th>\n      <th>height</th>\n      <th>depth</th>\n      <th>units</th>\n      <th>inscription</th>\n      <th>thumbnailCopyright</th>\n      <th>thumbnailUrl</th>\n      <th>url</th>\n    </tr>\n  </thead>\n  <tbody>\n    <tr>\n      <th>0</th>\n      <td>1035</td>\n      <td>A00001</td>\n      <td>Blake, Robert</td>\n      <td>artist</td>\n      <td>38</td>\n      <td>A Figure Bowing before a Seated Old Man with h...</td>\n      <td>NaN</td>\n      <td>Watercolour, ink, chalk and graphite on paper....</td>\n      <td>Presented by Mrs John Richmond 1922</td>\n      <td>NaN</td>\n      <td>1922.0</td>\n      <td>support: 394 x 419 mm</td>\n      <td>394</td>\n      <td>419</td>\n      <td>NaN</td>\n      <td>mm</td>\n      <td>NaN</td>\n      <td>NaN</td>\n      <td>http://www.tate.org.uk/art/images/work/A/A00/A...</td>\n      <td>http://www.tate.org.uk/art/artworks/blake-a-fi...</td>\n    </tr>\n    <tr>\n      <th>1</th>\n      <td>1036</td>\n      <td>A00002</td>\n      <td>Blake, Robert</td>\n      <td>artist</td>\n      <td>38</td>\n      <td>Two Drawings of Frightened Figures, Probably f...</td>\n      <td>NaN</td>\n      <td>Graphite on paper</td>\n      <td>Presented by Mrs John Richmond 1922</td>\n      <td>NaN</td>\n      <td>1922.0</td>\n      <td>support: 311 x 213 mm</td>\n      <td>311</td>\n      <td>213</td>\n      <td>NaN</td>\n      <td>mm</td>\n      <td>NaN</td>\n      <td>NaN</td>\n      <td>http://www.tate.org.uk/art/images/work/A/A00/A...</td>\n      <td>http://www.tate.org.uk/art/artworks/blake-two-...</td>\n    </tr>\n    <tr>\n      <th>2</th>\n      <td>1037</td>\n      <td>A00003</td>\n      <td>Blake, Robert</td>\n      <td>artist</td>\n      <td>38</td>\n      <td>The Preaching of Warning. Verso: An Old Man En...</td>\n      <td>?c.1785</td>\n      <td>Graphite on paper. Verso: graphite on paper</td>\n      <td>Presented by Mrs John Richmond 1922</td>\n      <td>1785</td>\n      <td>1922.0</td>\n      <td>support: 343 x 467 mm</td>\n      <td>343</td>\n      <td>467</td>\n      <td>NaN</td>\n      <td>mm</td>\n      <td>NaN</td>\n      <td>NaN</td>\n      <td>http://www.tate.org.uk/art/images/work/A/A00/A...</td>\n      <td>http://www.tate.org.uk/art/artworks/blake-the-...</td>\n    </tr>\n    <tr>\n      <th>3</th>\n      <td>1038</td>\n      <td>A00004</td>\n      <td>Blake, Robert</td>\n      <td>artist</td>\n      <td>38</td>\n      <td>Six Drawings of Figures with Outstretched Arms</td>\n      <td>NaN</td>\n      <td>Graphite on paper</td>\n      <td>Presented by Mrs John Richmond 1922</td>\n      <td>NaN</td>\n      <td>1922.0</td>\n      <td>support: 318 x 394 mm</td>\n      <td>318</td>\n      <td>394</td>\n      <td>NaN</td>\n      <td>mm</td>\n      <td>NaN</td>\n      <td>NaN</td>\n      <td>http://www.tate.org.uk/art/images/work/A/A00/A...</td>\n      <td>http://www.tate.org.uk/art/artworks/blake-six-...</td>\n    </tr>\n    <tr>\n      <th>4</th>\n      <td>1039</td>\n      <td>A00005</td>\n      <td>Blake, William</td>\n      <td>artist</td>\n      <td>39</td>\n      <td>The Circle of the Lustful: Francesca da Rimini...</td>\n      <td>1826–7, reprinted 1892</td>\n      <td>Line engraving on paper</td>\n      <td>Purchased with the assistance of a special gra...</td>\n      <td>1826</td>\n      <td>1919.0</td>\n      <td>image: 243 x 335 mm</td>\n      <td>243</td>\n      <td>335</td>\n      <td>NaN</td>\n      <td>mm</td>\n      <td>NaN</td>\n      <td>NaN</td>\n      <td>http://www.tate.org.uk/art/images/work/A/A00/A...</td>\n      <td>http://www.tate.org.uk/art/artworks/blake-the-...</td>\n    </tr>\n  </tbody>\n</table>\n</div>"
     },
     "execution_count": 23,
     "metadata": {},
     "output_type": "execute_result"
    }
   ],
   "source": [
    "data.head()"
   ],
   "metadata": {
    "collapsed": false,
    "pycharm": {
     "name": "#%%\n"
    }
   }
  },
  {
   "cell_type": "code",
   "execution_count": 27,
   "outputs": [
    {
     "data": {
      "text/plain": "           id accession_number            artist artistRole  artistId  \\\n67968   99332           T12629  Roberts, William     artist      1855   \n67980   99346           T12641  Roberts, William     artist      1855   \n67987   99354           T12648  Roberts, William     artist      1855   \n67994   99361           T12655  Roberts, William     artist      1855   \n68002   99370           T12663  Roberts, William     artist      1855   \n68015   99384           T12676  Roberts, William     artist      1855   \n68033   99407           T12694  Roberts, William     artist      1855   \n68042   99426           T12703  Roberts, William     artist      1855   \n68047   99431           T12708  Roberts, William     artist      1855   \n68051   99435           T12712  Roberts, William     artist      1855   \n68056   99440           T12717  Roberts, William     artist      1855   \n68057   99441           T12718  Roberts, William     artist      1855   \n68062   99446           T12723  Roberts, William     artist      1855   \n68070   99454           T12731  Roberts, William     artist      1855   \n68072   99456           T12733  Roberts, William     artist      1855   \n68074   99458           T12735  Roberts, William     artist      1855   \n68076   99460           T12737  Roberts, William     artist      1855   \n68077   99462           T12738  Roberts, William     artist      1855   \n69165  121190           T13834  Barlow, Phyllida     artist     10908   \n\n                                                   title  dateText  \\\n67968                                Families on a beach   no date   \n67980                              Peasants and horseman   no date   \n67987                                        The Beatles   no date   \n67994                                       The peasants   no date   \n68002                                 Two ladies talking   no date   \n68015                                      Butcher’s Man   no date   \n68033                                        Men fishing   no date   \n68042                                          Bar scene   no date   \n68047  The critic intervenes; Man milking a goat (rev...   no date   \n68051                      Woman brushing another’s hair   no date   \n68056                         Group of people in a field   no date   \n68057                       Two women playing with a cat   no date   \n68062               Group of people standing on a corner   no date   \n68070                          Group of people in a punt   no date   \n68072                                        Party scene   no date   \n68074                                      Lady in a hat   no date   \n68076                                          The toast   no date   \n68077                 People diving into a swimming pool   no date   \n69165                                           Untitled  c.1997–9   \n\n                                  medium  \\\n67968                  Graphite on paper   \n67980  Graphite and watercolour on paper   \n67987                  Graphite on paper   \n67994                  Graphite on paper   \n68002                  Graphite on paper   \n68015                  Graphite on paper   \n68033                  Graphite on paper   \n68042                  Graphite on paper   \n68047                  Graphite on paper   \n68051  Watercolour and graphite on paper   \n68056                  Graphite on paper   \n68057                  Graphite on paper   \n68062                  Graphite on paper   \n68070                  Graphite on paper   \n68072                  Graphite on paper   \n68074                  Graphite on paper   \n68076                  Graphite on paper   \n68077                  Graphite on paper   \n69165             Acrylic paint on paper   \n\n                                              creditLine      year  \\\n67968  Accepted by HM Government in lieu of inheritan...   no date   \n67980  Accepted by HM Government in lieu of inheritan...   no date   \n67987  Accepted by HM Government in lieu of inheritan...   no date   \n67994  Accepted by HM Government in lieu of inheritan...   no date   \n68002  Accepted by HM Government in lieu of inheritan...   no date   \n68015  Accepted by HM Government in lieu of inheritan...   no date   \n68033  Accepted by HM Government in lieu of inheritan...   no date   \n68042  Accepted by HM Government in lieu of inheritan...   no date   \n68047  Accepted by HM Government in lieu of inheritan...   no date   \n68051  Accepted by HM Government in lieu of inheritan...   no date   \n68056  Accepted by HM Government in lieu of inheritan...   no date   \n68057  Accepted by HM Government in lieu of inheritan...   no date   \n68062  Accepted by HM Government in lieu of inheritan...   no date   \n68070  Accepted by HM Government in lieu of inheritan...   no date   \n68072  Accepted by HM Government in lieu of inheritan...   no date   \n68074  Accepted by HM Government in lieu of inheritan...   no date   \n68076  Accepted by HM Government in lieu of inheritan...   no date   \n68077  Accepted by HM Government in lieu of inheritan...   no date   \n69165  Presented by the Trustees of the Chantrey Bequ...  c.1997-9   \n\n       acquisitionYear                 dimensions width height  depth units  \\\n67968           2008.0      support: 127 x 178 mm   127    178    NaN    mm   \n67980           2008.0               184 x 140 mm   NaN    NaN    NaN   NaN   \n67987           2008.0               178 x 127 mm   NaN    NaN    NaN   NaN   \n67994           2008.0               191 x 133 mm   NaN    NaN    NaN   NaN   \n68002           2008.0               178 x 127 mm   NaN    NaN    NaN   NaN   \n68015           2008.0      support: 267 x 191 mm   267    191    NaN    mm   \n68033           2008.0               203 x 172 mm   NaN    NaN    NaN   NaN   \n68042           2008.0               127 x 184 mm   NaN    NaN    NaN   NaN   \n68047           2008.0               152 x 133 mm   NaN    NaN    NaN   NaN   \n68051           2008.0                178 x 89 mm   NaN    NaN    NaN   NaN   \n68056           2008.0               187 x 133 mm   NaN    NaN    NaN   NaN   \n68057           2008.0              1528 x 121 mm   NaN    NaN    NaN   NaN   \n68062           2008.0               184 x 133 mm   NaN    NaN    NaN   NaN   \n68070           2008.0               273 x 172 mm   NaN    NaN    NaN   NaN   \n68072           2008.0               122 x 108 mm   NaN    NaN    NaN   NaN   \n68074           2008.0               184 x 133 mm   NaN    NaN    NaN   NaN   \n68076           2008.0               178 x 121 mm   NaN    NaN    NaN   NaN   \n68077           2008.0               184 x 162 mm   NaN    NaN    NaN   NaN   \n69165           2013.0  unconfirmed: 389 x 562 mm   389    562    NaN    mm   \n\n      inscription               thumbnailCopyright  \\\n67968         NaN  © The estate of William Roberts   \n67980         NaN  © The estate of William Roberts   \n67987         NaN  © The estate of William Roberts   \n67994         NaN  © The estate of William Roberts   \n68002         NaN  © The estate of William Roberts   \n68015         NaN  © The estate of William Roberts   \n68033         NaN  © The estate of William Roberts   \n68042         NaN  © The estate of William Roberts   \n68047         NaN  © The estate of William Roberts   \n68051         NaN  © The estate of William Roberts   \n68056         NaN  © The estate of William Roberts   \n68057         NaN  © The estate of William Roberts   \n68062         NaN  © The estate of William Roberts   \n68070         NaN                              NaN   \n68072         NaN  © The estate of William Roberts   \n68074         NaN  © The estate of William Roberts   \n68076         NaN  © The estate of William Roberts   \n68077         NaN  © The estate of William Roberts   \n69165         NaN                © Phyllida Barlow   \n\n                                            thumbnailUrl  \\\n67968  http://www.tate.org.uk/art/images/work/T/T12/T...   \n67980  http://www.tate.org.uk/art/images/work/T/T12/T...   \n67987  http://www.tate.org.uk/art/images/work/T/T12/T...   \n67994  http://www.tate.org.uk/art/images/work/T/T12/T...   \n68002  http://www.tate.org.uk/art/images/work/T/T12/T...   \n68015  http://www.tate.org.uk/art/images/work/T/T12/T...   \n68033  http://www.tate.org.uk/art/images/work/T/T12/T...   \n68042  http://www.tate.org.uk/art/images/work/T/T12/T...   \n68047  http://www.tate.org.uk/art/images/work/T/T12/T...   \n68051  http://www.tate.org.uk/art/images/work/T/T12/T...   \n68056  http://www.tate.org.uk/art/images/work/T/T12/T...   \n68057  http://www.tate.org.uk/art/images/work/T/T12/T...   \n68062  http://www.tate.org.uk/art/images/work/T/T12/T...   \n68070                                                NaN   \n68072  http://www.tate.org.uk/art/images/work/T/T12/T...   \n68074  http://www.tate.org.uk/art/images/work/T/T12/T...   \n68076  http://www.tate.org.uk/art/images/work/T/T12/T...   \n68077  http://www.tate.org.uk/art/images/work/T/T12/T...   \n69165  http://www.tate.org.uk/art/images/work/T/T13/T...   \n\n                                                     url  \n67968  http://www.tate.org.uk/art/artworks/roberts-fa...  \n67980  http://www.tate.org.uk/art/artworks/roberts-pe...  \n67987  http://www.tate.org.uk/art/artworks/roberts-th...  \n67994  http://www.tate.org.uk/art/artworks/roberts-th...  \n68002  http://www.tate.org.uk/art/artworks/roberts-tw...  \n68015  http://www.tate.org.uk/art/artworks/roberts-bu...  \n68033  http://www.tate.org.uk/art/artworks/roberts-me...  \n68042  http://www.tate.org.uk/art/artworks/roberts-ba...  \n68047  http://www.tate.org.uk/art/artworks/roberts-th...  \n68051  http://www.tate.org.uk/art/artworks/roberts-wo...  \n68056  http://www.tate.org.uk/art/artworks/roberts-gr...  \n68057  http://www.tate.org.uk/art/artworks/roberts-tw...  \n68062  http://www.tate.org.uk/art/artworks/roberts-gr...  \n68070  http://www.tate.org.uk/art/artworks/roberts-gr...  \n68072  http://www.tate.org.uk/art/artworks/roberts-pa...  \n68074  http://www.tate.org.uk/art/artworks/roberts-la...  \n68076  http://www.tate.org.uk/art/artworks/roberts-th...  \n68077  http://www.tate.org.uk/art/artworks/roberts-pe...  \n69165  http://www.tate.org.uk/art/artworks/barlow-unt...  ",
      "text/html": "<div>\n<style scoped>\n    .dataframe tbody tr th:only-of-type {\n        vertical-align: middle;\n    }\n\n    .dataframe tbody tr th {\n        vertical-align: top;\n    }\n\n    .dataframe thead th {\n        text-align: right;\n    }\n</style>\n<table border=\"1\" class=\"dataframe\">\n  <thead>\n    <tr style=\"text-align: right;\">\n      <th></th>\n      <th>id</th>\n      <th>accession_number</th>\n      <th>artist</th>\n      <th>artistRole</th>\n      <th>artistId</th>\n      <th>title</th>\n      <th>dateText</th>\n      <th>medium</th>\n      <th>creditLine</th>\n      <th>year</th>\n      <th>acquisitionYear</th>\n      <th>dimensions</th>\n      <th>width</th>\n      <th>height</th>\n      <th>depth</th>\n      <th>units</th>\n      <th>inscription</th>\n      <th>thumbnailCopyright</th>\n      <th>thumbnailUrl</th>\n      <th>url</th>\n    </tr>\n  </thead>\n  <tbody>\n    <tr>\n      <th>67968</th>\n      <td>99332</td>\n      <td>T12629</td>\n      <td>Roberts, William</td>\n      <td>artist</td>\n      <td>1855</td>\n      <td>Families on a beach</td>\n      <td>no date</td>\n      <td>Graphite on paper</td>\n      <td>Accepted by HM Government in lieu of inheritan...</td>\n      <td>no date</td>\n      <td>2008.0</td>\n      <td>support: 127 x 178 mm</td>\n      <td>127</td>\n      <td>178</td>\n      <td>NaN</td>\n      <td>mm</td>\n      <td>NaN</td>\n      <td>© The estate of William Roberts</td>\n      <td>http://www.tate.org.uk/art/images/work/T/T12/T...</td>\n      <td>http://www.tate.org.uk/art/artworks/roberts-fa...</td>\n    </tr>\n    <tr>\n      <th>67980</th>\n      <td>99346</td>\n      <td>T12641</td>\n      <td>Roberts, William</td>\n      <td>artist</td>\n      <td>1855</td>\n      <td>Peasants and horseman</td>\n      <td>no date</td>\n      <td>Graphite and watercolour on paper</td>\n      <td>Accepted by HM Government in lieu of inheritan...</td>\n      <td>no date</td>\n      <td>2008.0</td>\n      <td>184 x 140 mm</td>\n      <td>NaN</td>\n      <td>NaN</td>\n      <td>NaN</td>\n      <td>NaN</td>\n      <td>NaN</td>\n      <td>© The estate of William Roberts</td>\n      <td>http://www.tate.org.uk/art/images/work/T/T12/T...</td>\n      <td>http://www.tate.org.uk/art/artworks/roberts-pe...</td>\n    </tr>\n    <tr>\n      <th>67987</th>\n      <td>99354</td>\n      <td>T12648</td>\n      <td>Roberts, William</td>\n      <td>artist</td>\n      <td>1855</td>\n      <td>The Beatles</td>\n      <td>no date</td>\n      <td>Graphite on paper</td>\n      <td>Accepted by HM Government in lieu of inheritan...</td>\n      <td>no date</td>\n      <td>2008.0</td>\n      <td>178 x 127 mm</td>\n      <td>NaN</td>\n      <td>NaN</td>\n      <td>NaN</td>\n      <td>NaN</td>\n      <td>NaN</td>\n      <td>© The estate of William Roberts</td>\n      <td>http://www.tate.org.uk/art/images/work/T/T12/T...</td>\n      <td>http://www.tate.org.uk/art/artworks/roberts-th...</td>\n    </tr>\n    <tr>\n      <th>67994</th>\n      <td>99361</td>\n      <td>T12655</td>\n      <td>Roberts, William</td>\n      <td>artist</td>\n      <td>1855</td>\n      <td>The peasants</td>\n      <td>no date</td>\n      <td>Graphite on paper</td>\n      <td>Accepted by HM Government in lieu of inheritan...</td>\n      <td>no date</td>\n      <td>2008.0</td>\n      <td>191 x 133 mm</td>\n      <td>NaN</td>\n      <td>NaN</td>\n      <td>NaN</td>\n      <td>NaN</td>\n      <td>NaN</td>\n      <td>© The estate of William Roberts</td>\n      <td>http://www.tate.org.uk/art/images/work/T/T12/T...</td>\n      <td>http://www.tate.org.uk/art/artworks/roberts-th...</td>\n    </tr>\n    <tr>\n      <th>68002</th>\n      <td>99370</td>\n      <td>T12663</td>\n      <td>Roberts, William</td>\n      <td>artist</td>\n      <td>1855</td>\n      <td>Two ladies talking</td>\n      <td>no date</td>\n      <td>Graphite on paper</td>\n      <td>Accepted by HM Government in lieu of inheritan...</td>\n      <td>no date</td>\n      <td>2008.0</td>\n      <td>178 x 127 mm</td>\n      <td>NaN</td>\n      <td>NaN</td>\n      <td>NaN</td>\n      <td>NaN</td>\n      <td>NaN</td>\n      <td>© The estate of William Roberts</td>\n      <td>http://www.tate.org.uk/art/images/work/T/T12/T...</td>\n      <td>http://www.tate.org.uk/art/artworks/roberts-tw...</td>\n    </tr>\n    <tr>\n      <th>68015</th>\n      <td>99384</td>\n      <td>T12676</td>\n      <td>Roberts, William</td>\n      <td>artist</td>\n      <td>1855</td>\n      <td>Butcher’s Man</td>\n      <td>no date</td>\n      <td>Graphite on paper</td>\n      <td>Accepted by HM Government in lieu of inheritan...</td>\n      <td>no date</td>\n      <td>2008.0</td>\n      <td>support: 267 x 191 mm</td>\n      <td>267</td>\n      <td>191</td>\n      <td>NaN</td>\n      <td>mm</td>\n      <td>NaN</td>\n      <td>© The estate of William Roberts</td>\n      <td>http://www.tate.org.uk/art/images/work/T/T12/T...</td>\n      <td>http://www.tate.org.uk/art/artworks/roberts-bu...</td>\n    </tr>\n    <tr>\n      <th>68033</th>\n      <td>99407</td>\n      <td>T12694</td>\n      <td>Roberts, William</td>\n      <td>artist</td>\n      <td>1855</td>\n      <td>Men fishing</td>\n      <td>no date</td>\n      <td>Graphite on paper</td>\n      <td>Accepted by HM Government in lieu of inheritan...</td>\n      <td>no date</td>\n      <td>2008.0</td>\n      <td>203 x 172 mm</td>\n      <td>NaN</td>\n      <td>NaN</td>\n      <td>NaN</td>\n      <td>NaN</td>\n      <td>NaN</td>\n      <td>© The estate of William Roberts</td>\n      <td>http://www.tate.org.uk/art/images/work/T/T12/T...</td>\n      <td>http://www.tate.org.uk/art/artworks/roberts-me...</td>\n    </tr>\n    <tr>\n      <th>68042</th>\n      <td>99426</td>\n      <td>T12703</td>\n      <td>Roberts, William</td>\n      <td>artist</td>\n      <td>1855</td>\n      <td>Bar scene</td>\n      <td>no date</td>\n      <td>Graphite on paper</td>\n      <td>Accepted by HM Government in lieu of inheritan...</td>\n      <td>no date</td>\n      <td>2008.0</td>\n      <td>127 x 184 mm</td>\n      <td>NaN</td>\n      <td>NaN</td>\n      <td>NaN</td>\n      <td>NaN</td>\n      <td>NaN</td>\n      <td>© The estate of William Roberts</td>\n      <td>http://www.tate.org.uk/art/images/work/T/T12/T...</td>\n      <td>http://www.tate.org.uk/art/artworks/roberts-ba...</td>\n    </tr>\n    <tr>\n      <th>68047</th>\n      <td>99431</td>\n      <td>T12708</td>\n      <td>Roberts, William</td>\n      <td>artist</td>\n      <td>1855</td>\n      <td>The critic intervenes; Man milking a goat (rev...</td>\n      <td>no date</td>\n      <td>Graphite on paper</td>\n      <td>Accepted by HM Government in lieu of inheritan...</td>\n      <td>no date</td>\n      <td>2008.0</td>\n      <td>152 x 133 mm</td>\n      <td>NaN</td>\n      <td>NaN</td>\n      <td>NaN</td>\n      <td>NaN</td>\n      <td>NaN</td>\n      <td>© The estate of William Roberts</td>\n      <td>http://www.tate.org.uk/art/images/work/T/T12/T...</td>\n      <td>http://www.tate.org.uk/art/artworks/roberts-th...</td>\n    </tr>\n    <tr>\n      <th>68051</th>\n      <td>99435</td>\n      <td>T12712</td>\n      <td>Roberts, William</td>\n      <td>artist</td>\n      <td>1855</td>\n      <td>Woman brushing another’s hair</td>\n      <td>no date</td>\n      <td>Watercolour and graphite on paper</td>\n      <td>Accepted by HM Government in lieu of inheritan...</td>\n      <td>no date</td>\n      <td>2008.0</td>\n      <td>178 x 89 mm</td>\n      <td>NaN</td>\n      <td>NaN</td>\n      <td>NaN</td>\n      <td>NaN</td>\n      <td>NaN</td>\n      <td>© The estate of William Roberts</td>\n      <td>http://www.tate.org.uk/art/images/work/T/T12/T...</td>\n      <td>http://www.tate.org.uk/art/artworks/roberts-wo...</td>\n    </tr>\n    <tr>\n      <th>68056</th>\n      <td>99440</td>\n      <td>T12717</td>\n      <td>Roberts, William</td>\n      <td>artist</td>\n      <td>1855</td>\n      <td>Group of people in a field</td>\n      <td>no date</td>\n      <td>Graphite on paper</td>\n      <td>Accepted by HM Government in lieu of inheritan...</td>\n      <td>no date</td>\n      <td>2008.0</td>\n      <td>187 x 133 mm</td>\n      <td>NaN</td>\n      <td>NaN</td>\n      <td>NaN</td>\n      <td>NaN</td>\n      <td>NaN</td>\n      <td>© The estate of William Roberts</td>\n      <td>http://www.tate.org.uk/art/images/work/T/T12/T...</td>\n      <td>http://www.tate.org.uk/art/artworks/roberts-gr...</td>\n    </tr>\n    <tr>\n      <th>68057</th>\n      <td>99441</td>\n      <td>T12718</td>\n      <td>Roberts, William</td>\n      <td>artist</td>\n      <td>1855</td>\n      <td>Two women playing with a cat</td>\n      <td>no date</td>\n      <td>Graphite on paper</td>\n      <td>Accepted by HM Government in lieu of inheritan...</td>\n      <td>no date</td>\n      <td>2008.0</td>\n      <td>1528 x 121 mm</td>\n      <td>NaN</td>\n      <td>NaN</td>\n      <td>NaN</td>\n      <td>NaN</td>\n      <td>NaN</td>\n      <td>© The estate of William Roberts</td>\n      <td>http://www.tate.org.uk/art/images/work/T/T12/T...</td>\n      <td>http://www.tate.org.uk/art/artworks/roberts-tw...</td>\n    </tr>\n    <tr>\n      <th>68062</th>\n      <td>99446</td>\n      <td>T12723</td>\n      <td>Roberts, William</td>\n      <td>artist</td>\n      <td>1855</td>\n      <td>Group of people standing on a corner</td>\n      <td>no date</td>\n      <td>Graphite on paper</td>\n      <td>Accepted by HM Government in lieu of inheritan...</td>\n      <td>no date</td>\n      <td>2008.0</td>\n      <td>184 x 133 mm</td>\n      <td>NaN</td>\n      <td>NaN</td>\n      <td>NaN</td>\n      <td>NaN</td>\n      <td>NaN</td>\n      <td>© The estate of William Roberts</td>\n      <td>http://www.tate.org.uk/art/images/work/T/T12/T...</td>\n      <td>http://www.tate.org.uk/art/artworks/roberts-gr...</td>\n    </tr>\n    <tr>\n      <th>68070</th>\n      <td>99454</td>\n      <td>T12731</td>\n      <td>Roberts, William</td>\n      <td>artist</td>\n      <td>1855</td>\n      <td>Group of people in a punt</td>\n      <td>no date</td>\n      <td>Graphite on paper</td>\n      <td>Accepted by HM Government in lieu of inheritan...</td>\n      <td>no date</td>\n      <td>2008.0</td>\n      <td>273 x 172 mm</td>\n      <td>NaN</td>\n      <td>NaN</td>\n      <td>NaN</td>\n      <td>NaN</td>\n      <td>NaN</td>\n      <td>NaN</td>\n      <td>NaN</td>\n      <td>http://www.tate.org.uk/art/artworks/roberts-gr...</td>\n    </tr>\n    <tr>\n      <th>68072</th>\n      <td>99456</td>\n      <td>T12733</td>\n      <td>Roberts, William</td>\n      <td>artist</td>\n      <td>1855</td>\n      <td>Party scene</td>\n      <td>no date</td>\n      <td>Graphite on paper</td>\n      <td>Accepted by HM Government in lieu of inheritan...</td>\n      <td>no date</td>\n      <td>2008.0</td>\n      <td>122 x 108 mm</td>\n      <td>NaN</td>\n      <td>NaN</td>\n      <td>NaN</td>\n      <td>NaN</td>\n      <td>NaN</td>\n      <td>© The estate of William Roberts</td>\n      <td>http://www.tate.org.uk/art/images/work/T/T12/T...</td>\n      <td>http://www.tate.org.uk/art/artworks/roberts-pa...</td>\n    </tr>\n    <tr>\n      <th>68074</th>\n      <td>99458</td>\n      <td>T12735</td>\n      <td>Roberts, William</td>\n      <td>artist</td>\n      <td>1855</td>\n      <td>Lady in a hat</td>\n      <td>no date</td>\n      <td>Graphite on paper</td>\n      <td>Accepted by HM Government in lieu of inheritan...</td>\n      <td>no date</td>\n      <td>2008.0</td>\n      <td>184 x 133 mm</td>\n      <td>NaN</td>\n      <td>NaN</td>\n      <td>NaN</td>\n      <td>NaN</td>\n      <td>NaN</td>\n      <td>© The estate of William Roberts</td>\n      <td>http://www.tate.org.uk/art/images/work/T/T12/T...</td>\n      <td>http://www.tate.org.uk/art/artworks/roberts-la...</td>\n    </tr>\n    <tr>\n      <th>68076</th>\n      <td>99460</td>\n      <td>T12737</td>\n      <td>Roberts, William</td>\n      <td>artist</td>\n      <td>1855</td>\n      <td>The toast</td>\n      <td>no date</td>\n      <td>Graphite on paper</td>\n      <td>Accepted by HM Government in lieu of inheritan...</td>\n      <td>no date</td>\n      <td>2008.0</td>\n      <td>178 x 121 mm</td>\n      <td>NaN</td>\n      <td>NaN</td>\n      <td>NaN</td>\n      <td>NaN</td>\n      <td>NaN</td>\n      <td>© The estate of William Roberts</td>\n      <td>http://www.tate.org.uk/art/images/work/T/T12/T...</td>\n      <td>http://www.tate.org.uk/art/artworks/roberts-th...</td>\n    </tr>\n    <tr>\n      <th>68077</th>\n      <td>99462</td>\n      <td>T12738</td>\n      <td>Roberts, William</td>\n      <td>artist</td>\n      <td>1855</td>\n      <td>People diving into a swimming pool</td>\n      <td>no date</td>\n      <td>Graphite on paper</td>\n      <td>Accepted by HM Government in lieu of inheritan...</td>\n      <td>no date</td>\n      <td>2008.0</td>\n      <td>184 x 162 mm</td>\n      <td>NaN</td>\n      <td>NaN</td>\n      <td>NaN</td>\n      <td>NaN</td>\n      <td>NaN</td>\n      <td>© The estate of William Roberts</td>\n      <td>http://www.tate.org.uk/art/images/work/T/T12/T...</td>\n      <td>http://www.tate.org.uk/art/artworks/roberts-pe...</td>\n    </tr>\n    <tr>\n      <th>69165</th>\n      <td>121190</td>\n      <td>T13834</td>\n      <td>Barlow, Phyllida</td>\n      <td>artist</td>\n      <td>10908</td>\n      <td>Untitled</td>\n      <td>c.1997–9</td>\n      <td>Acrylic paint on paper</td>\n      <td>Presented by the Trustees of the Chantrey Bequ...</td>\n      <td>c.1997-9</td>\n      <td>2013.0</td>\n      <td>unconfirmed: 389 x 562 mm</td>\n      <td>389</td>\n      <td>562</td>\n      <td>NaN</td>\n      <td>mm</td>\n      <td>NaN</td>\n      <td>© Phyllida Barlow</td>\n      <td>http://www.tate.org.uk/art/images/work/T/T13/T...</td>\n      <td>http://www.tate.org.uk/art/artworks/barlow-unt...</td>\n    </tr>\n  </tbody>\n</table>\n</div>"
     },
     "execution_count": 27,
     "metadata": {},
     "output_type": "execute_result"
    }
   ],
   "source": [
    "data.loc[data.year.notnull() & data.year.astype(str).str.contains('[^0-9]')]"
   ],
   "metadata": {
    "collapsed": false,
    "pycharm": {
     "name": "#%%\n"
    }
   }
  },
  {
   "cell_type": "code",
   "execution_count": 28,
   "outputs": [
    {
     "data": {
      "text/plain": "0        False\n1        False\n2         True\n3        False\n4         True\n         ...  \n69196     True\n69197     True\n69198     True\n69199     True\n69200     True\nName: year, Length: 69201, dtype: bool"
     },
     "execution_count": 28,
     "metadata": {},
     "output_type": "execute_result"
    }
   ],
   "source": [
    "data.year.notnull()"
   ],
   "metadata": {
    "collapsed": false,
    "pycharm": {
     "name": "#%%\n"
    }
   }
  },
  {
   "cell_type": "code",
   "execution_count": 29,
   "outputs": [
    {
     "data": {
      "text/plain": "0         True\n1         True\n2        False\n3         True\n4        False\n         ...  \n69196    False\n69197    False\n69198    False\n69199    False\n69200    False\nName: year, Length: 69201, dtype: bool"
     },
     "execution_count": 29,
     "metadata": {},
     "output_type": "execute_result"
    }
   ],
   "source": [
    "data.year.astype(str).str.contains('[^0-9]')"
   ],
   "metadata": {
    "collapsed": false,
    "pycharm": {
     "name": "#%%\n"
    }
   }
  },
  {
   "cell_type": "code",
   "execution_count": 30,
   "outputs": [
    {
     "data": {
      "text/plain": "0        False\n1        False\n2        False\n3        False\n4        False\n         ...  \n69196    False\n69197    False\n69198    False\n69199    False\n69200    False\nName: year, Length: 69201, dtype: bool"
     },
     "execution_count": 30,
     "metadata": {},
     "output_type": "execute_result"
    }
   ],
   "source": [
    "data.year.notnull() & data.year.astype(str).str.contains('[^0-9]')"
   ],
   "metadata": {
    "collapsed": false,
    "pycharm": {
     "name": "#%%\n"
    }
   }
  },
  {
   "cell_type": "code",
   "execution_count": 31,
   "outputs": [
    {
     "data": {
      "text/plain": "           id accession_number            artist artistRole  artistId  \\\n67968   99332           T12629  Roberts, William     artist      1855   \n67980   99346           T12641  Roberts, William     artist      1855   \n67987   99354           T12648  Roberts, William     artist      1855   \n67994   99361           T12655  Roberts, William     artist      1855   \n68002   99370           T12663  Roberts, William     artist      1855   \n68015   99384           T12676  Roberts, William     artist      1855   \n68033   99407           T12694  Roberts, William     artist      1855   \n68042   99426           T12703  Roberts, William     artist      1855   \n68047   99431           T12708  Roberts, William     artist      1855   \n68051   99435           T12712  Roberts, William     artist      1855   \n68056   99440           T12717  Roberts, William     artist      1855   \n68057   99441           T12718  Roberts, William     artist      1855   \n68062   99446           T12723  Roberts, William     artist      1855   \n68070   99454           T12731  Roberts, William     artist      1855   \n68072   99456           T12733  Roberts, William     artist      1855   \n68074   99458           T12735  Roberts, William     artist      1855   \n68076   99460           T12737  Roberts, William     artist      1855   \n68077   99462           T12738  Roberts, William     artist      1855   \n69165  121190           T13834  Barlow, Phyllida     artist     10908   \n\n                                                   title  dateText  \\\n67968                                Families on a beach   no date   \n67980                              Peasants and horseman   no date   \n67987                                        The Beatles   no date   \n67994                                       The peasants   no date   \n68002                                 Two ladies talking   no date   \n68015                                      Butcher’s Man   no date   \n68033                                        Men fishing   no date   \n68042                                          Bar scene   no date   \n68047  The critic intervenes; Man milking a goat (rev...   no date   \n68051                      Woman brushing another’s hair   no date   \n68056                         Group of people in a field   no date   \n68057                       Two women playing with a cat   no date   \n68062               Group of people standing on a corner   no date   \n68070                          Group of people in a punt   no date   \n68072                                        Party scene   no date   \n68074                                      Lady in a hat   no date   \n68076                                          The toast   no date   \n68077                 People diving into a swimming pool   no date   \n69165                                           Untitled  c.1997–9   \n\n                                  medium  \\\n67968                  Graphite on paper   \n67980  Graphite and watercolour on paper   \n67987                  Graphite on paper   \n67994                  Graphite on paper   \n68002                  Graphite on paper   \n68015                  Graphite on paper   \n68033                  Graphite on paper   \n68042                  Graphite on paper   \n68047                  Graphite on paper   \n68051  Watercolour and graphite on paper   \n68056                  Graphite on paper   \n68057                  Graphite on paper   \n68062                  Graphite on paper   \n68070                  Graphite on paper   \n68072                  Graphite on paper   \n68074                  Graphite on paper   \n68076                  Graphite on paper   \n68077                  Graphite on paper   \n69165             Acrylic paint on paper   \n\n                                              creditLine      year  \\\n67968  Accepted by HM Government in lieu of inheritan...   no date   \n67980  Accepted by HM Government in lieu of inheritan...   no date   \n67987  Accepted by HM Government in lieu of inheritan...   no date   \n67994  Accepted by HM Government in lieu of inheritan...   no date   \n68002  Accepted by HM Government in lieu of inheritan...   no date   \n68015  Accepted by HM Government in lieu of inheritan...   no date   \n68033  Accepted by HM Government in lieu of inheritan...   no date   \n68042  Accepted by HM Government in lieu of inheritan...   no date   \n68047  Accepted by HM Government in lieu of inheritan...   no date   \n68051  Accepted by HM Government in lieu of inheritan...   no date   \n68056  Accepted by HM Government in lieu of inheritan...   no date   \n68057  Accepted by HM Government in lieu of inheritan...   no date   \n68062  Accepted by HM Government in lieu of inheritan...   no date   \n68070  Accepted by HM Government in lieu of inheritan...   no date   \n68072  Accepted by HM Government in lieu of inheritan...   no date   \n68074  Accepted by HM Government in lieu of inheritan...   no date   \n68076  Accepted by HM Government in lieu of inheritan...   no date   \n68077  Accepted by HM Government in lieu of inheritan...   no date   \n69165  Presented by the Trustees of the Chantrey Bequ...  c.1997-9   \n\n       acquisitionYear                 dimensions width height  depth units  \\\n67968           2008.0      support: 127 x 178 mm   127    178    NaN    mm   \n67980           2008.0               184 x 140 mm   NaN    NaN    NaN   NaN   \n67987           2008.0               178 x 127 mm   NaN    NaN    NaN   NaN   \n67994           2008.0               191 x 133 mm   NaN    NaN    NaN   NaN   \n68002           2008.0               178 x 127 mm   NaN    NaN    NaN   NaN   \n68015           2008.0      support: 267 x 191 mm   267    191    NaN    mm   \n68033           2008.0               203 x 172 mm   NaN    NaN    NaN   NaN   \n68042           2008.0               127 x 184 mm   NaN    NaN    NaN   NaN   \n68047           2008.0               152 x 133 mm   NaN    NaN    NaN   NaN   \n68051           2008.0                178 x 89 mm   NaN    NaN    NaN   NaN   \n68056           2008.0               187 x 133 mm   NaN    NaN    NaN   NaN   \n68057           2008.0              1528 x 121 mm   NaN    NaN    NaN   NaN   \n68062           2008.0               184 x 133 mm   NaN    NaN    NaN   NaN   \n68070           2008.0               273 x 172 mm   NaN    NaN    NaN   NaN   \n68072           2008.0               122 x 108 mm   NaN    NaN    NaN   NaN   \n68074           2008.0               184 x 133 mm   NaN    NaN    NaN   NaN   \n68076           2008.0               178 x 121 mm   NaN    NaN    NaN   NaN   \n68077           2008.0               184 x 162 mm   NaN    NaN    NaN   NaN   \n69165           2013.0  unconfirmed: 389 x 562 mm   389    562    NaN    mm   \n\n      inscription               thumbnailCopyright  \\\n67968         NaN  © The estate of William Roberts   \n67980         NaN  © The estate of William Roberts   \n67987         NaN  © The estate of William Roberts   \n67994         NaN  © The estate of William Roberts   \n68002         NaN  © The estate of William Roberts   \n68015         NaN  © The estate of William Roberts   \n68033         NaN  © The estate of William Roberts   \n68042         NaN  © The estate of William Roberts   \n68047         NaN  © The estate of William Roberts   \n68051         NaN  © The estate of William Roberts   \n68056         NaN  © The estate of William Roberts   \n68057         NaN  © The estate of William Roberts   \n68062         NaN  © The estate of William Roberts   \n68070         NaN                              NaN   \n68072         NaN  © The estate of William Roberts   \n68074         NaN  © The estate of William Roberts   \n68076         NaN  © The estate of William Roberts   \n68077         NaN  © The estate of William Roberts   \n69165         NaN                © Phyllida Barlow   \n\n                                            thumbnailUrl  \\\n67968  http://www.tate.org.uk/art/images/work/T/T12/T...   \n67980  http://www.tate.org.uk/art/images/work/T/T12/T...   \n67987  http://www.tate.org.uk/art/images/work/T/T12/T...   \n67994  http://www.tate.org.uk/art/images/work/T/T12/T...   \n68002  http://www.tate.org.uk/art/images/work/T/T12/T...   \n68015  http://www.tate.org.uk/art/images/work/T/T12/T...   \n68033  http://www.tate.org.uk/art/images/work/T/T12/T...   \n68042  http://www.tate.org.uk/art/images/work/T/T12/T...   \n68047  http://www.tate.org.uk/art/images/work/T/T12/T...   \n68051  http://www.tate.org.uk/art/images/work/T/T12/T...   \n68056  http://www.tate.org.uk/art/images/work/T/T12/T...   \n68057  http://www.tate.org.uk/art/images/work/T/T12/T...   \n68062  http://www.tate.org.uk/art/images/work/T/T12/T...   \n68070                                                NaN   \n68072  http://www.tate.org.uk/art/images/work/T/T12/T...   \n68074  http://www.tate.org.uk/art/images/work/T/T12/T...   \n68076  http://www.tate.org.uk/art/images/work/T/T12/T...   \n68077  http://www.tate.org.uk/art/images/work/T/T12/T...   \n69165  http://www.tate.org.uk/art/images/work/T/T13/T...   \n\n                                                     url  \n67968  http://www.tate.org.uk/art/artworks/roberts-fa...  \n67980  http://www.tate.org.uk/art/artworks/roberts-pe...  \n67987  http://www.tate.org.uk/art/artworks/roberts-th...  \n67994  http://www.tate.org.uk/art/artworks/roberts-th...  \n68002  http://www.tate.org.uk/art/artworks/roberts-tw...  \n68015  http://www.tate.org.uk/art/artworks/roberts-bu...  \n68033  http://www.tate.org.uk/art/artworks/roberts-me...  \n68042  http://www.tate.org.uk/art/artworks/roberts-ba...  \n68047  http://www.tate.org.uk/art/artworks/roberts-th...  \n68051  http://www.tate.org.uk/art/artworks/roberts-wo...  \n68056  http://www.tate.org.uk/art/artworks/roberts-gr...  \n68057  http://www.tate.org.uk/art/artworks/roberts-tw...  \n68062  http://www.tate.org.uk/art/artworks/roberts-gr...  \n68070  http://www.tate.org.uk/art/artworks/roberts-gr...  \n68072  http://www.tate.org.uk/art/artworks/roberts-pa...  \n68074  http://www.tate.org.uk/art/artworks/roberts-la...  \n68076  http://www.tate.org.uk/art/artworks/roberts-th...  \n68077  http://www.tate.org.uk/art/artworks/roberts-pe...  \n69165  http://www.tate.org.uk/art/artworks/barlow-unt...  ",
      "text/html": "<div>\n<style scoped>\n    .dataframe tbody tr th:only-of-type {\n        vertical-align: middle;\n    }\n\n    .dataframe tbody tr th {\n        vertical-align: top;\n    }\n\n    .dataframe thead th {\n        text-align: right;\n    }\n</style>\n<table border=\"1\" class=\"dataframe\">\n  <thead>\n    <tr style=\"text-align: right;\">\n      <th></th>\n      <th>id</th>\n      <th>accession_number</th>\n      <th>artist</th>\n      <th>artistRole</th>\n      <th>artistId</th>\n      <th>title</th>\n      <th>dateText</th>\n      <th>medium</th>\n      <th>creditLine</th>\n      <th>year</th>\n      <th>acquisitionYear</th>\n      <th>dimensions</th>\n      <th>width</th>\n      <th>height</th>\n      <th>depth</th>\n      <th>units</th>\n      <th>inscription</th>\n      <th>thumbnailCopyright</th>\n      <th>thumbnailUrl</th>\n      <th>url</th>\n    </tr>\n  </thead>\n  <tbody>\n    <tr>\n      <th>67968</th>\n      <td>99332</td>\n      <td>T12629</td>\n      <td>Roberts, William</td>\n      <td>artist</td>\n      <td>1855</td>\n      <td>Families on a beach</td>\n      <td>no date</td>\n      <td>Graphite on paper</td>\n      <td>Accepted by HM Government in lieu of inheritan...</td>\n      <td>no date</td>\n      <td>2008.0</td>\n      <td>support: 127 x 178 mm</td>\n      <td>127</td>\n      <td>178</td>\n      <td>NaN</td>\n      <td>mm</td>\n      <td>NaN</td>\n      <td>© The estate of William Roberts</td>\n      <td>http://www.tate.org.uk/art/images/work/T/T12/T...</td>\n      <td>http://www.tate.org.uk/art/artworks/roberts-fa...</td>\n    </tr>\n    <tr>\n      <th>67980</th>\n      <td>99346</td>\n      <td>T12641</td>\n      <td>Roberts, William</td>\n      <td>artist</td>\n      <td>1855</td>\n      <td>Peasants and horseman</td>\n      <td>no date</td>\n      <td>Graphite and watercolour on paper</td>\n      <td>Accepted by HM Government in lieu of inheritan...</td>\n      <td>no date</td>\n      <td>2008.0</td>\n      <td>184 x 140 mm</td>\n      <td>NaN</td>\n      <td>NaN</td>\n      <td>NaN</td>\n      <td>NaN</td>\n      <td>NaN</td>\n      <td>© The estate of William Roberts</td>\n      <td>http://www.tate.org.uk/art/images/work/T/T12/T...</td>\n      <td>http://www.tate.org.uk/art/artworks/roberts-pe...</td>\n    </tr>\n    <tr>\n      <th>67987</th>\n      <td>99354</td>\n      <td>T12648</td>\n      <td>Roberts, William</td>\n      <td>artist</td>\n      <td>1855</td>\n      <td>The Beatles</td>\n      <td>no date</td>\n      <td>Graphite on paper</td>\n      <td>Accepted by HM Government in lieu of inheritan...</td>\n      <td>no date</td>\n      <td>2008.0</td>\n      <td>178 x 127 mm</td>\n      <td>NaN</td>\n      <td>NaN</td>\n      <td>NaN</td>\n      <td>NaN</td>\n      <td>NaN</td>\n      <td>© The estate of William Roberts</td>\n      <td>http://www.tate.org.uk/art/images/work/T/T12/T...</td>\n      <td>http://www.tate.org.uk/art/artworks/roberts-th...</td>\n    </tr>\n    <tr>\n      <th>67994</th>\n      <td>99361</td>\n      <td>T12655</td>\n      <td>Roberts, William</td>\n      <td>artist</td>\n      <td>1855</td>\n      <td>The peasants</td>\n      <td>no date</td>\n      <td>Graphite on paper</td>\n      <td>Accepted by HM Government in lieu of inheritan...</td>\n      <td>no date</td>\n      <td>2008.0</td>\n      <td>191 x 133 mm</td>\n      <td>NaN</td>\n      <td>NaN</td>\n      <td>NaN</td>\n      <td>NaN</td>\n      <td>NaN</td>\n      <td>© The estate of William Roberts</td>\n      <td>http://www.tate.org.uk/art/images/work/T/T12/T...</td>\n      <td>http://www.tate.org.uk/art/artworks/roberts-th...</td>\n    </tr>\n    <tr>\n      <th>68002</th>\n      <td>99370</td>\n      <td>T12663</td>\n      <td>Roberts, William</td>\n      <td>artist</td>\n      <td>1855</td>\n      <td>Two ladies talking</td>\n      <td>no date</td>\n      <td>Graphite on paper</td>\n      <td>Accepted by HM Government in lieu of inheritan...</td>\n      <td>no date</td>\n      <td>2008.0</td>\n      <td>178 x 127 mm</td>\n      <td>NaN</td>\n      <td>NaN</td>\n      <td>NaN</td>\n      <td>NaN</td>\n      <td>NaN</td>\n      <td>© The estate of William Roberts</td>\n      <td>http://www.tate.org.uk/art/images/work/T/T12/T...</td>\n      <td>http://www.tate.org.uk/art/artworks/roberts-tw...</td>\n    </tr>\n    <tr>\n      <th>68015</th>\n      <td>99384</td>\n      <td>T12676</td>\n      <td>Roberts, William</td>\n      <td>artist</td>\n      <td>1855</td>\n      <td>Butcher’s Man</td>\n      <td>no date</td>\n      <td>Graphite on paper</td>\n      <td>Accepted by HM Government in lieu of inheritan...</td>\n      <td>no date</td>\n      <td>2008.0</td>\n      <td>support: 267 x 191 mm</td>\n      <td>267</td>\n      <td>191</td>\n      <td>NaN</td>\n      <td>mm</td>\n      <td>NaN</td>\n      <td>© The estate of William Roberts</td>\n      <td>http://www.tate.org.uk/art/images/work/T/T12/T...</td>\n      <td>http://www.tate.org.uk/art/artworks/roberts-bu...</td>\n    </tr>\n    <tr>\n      <th>68033</th>\n      <td>99407</td>\n      <td>T12694</td>\n      <td>Roberts, William</td>\n      <td>artist</td>\n      <td>1855</td>\n      <td>Men fishing</td>\n      <td>no date</td>\n      <td>Graphite on paper</td>\n      <td>Accepted by HM Government in lieu of inheritan...</td>\n      <td>no date</td>\n      <td>2008.0</td>\n      <td>203 x 172 mm</td>\n      <td>NaN</td>\n      <td>NaN</td>\n      <td>NaN</td>\n      <td>NaN</td>\n      <td>NaN</td>\n      <td>© The estate of William Roberts</td>\n      <td>http://www.tate.org.uk/art/images/work/T/T12/T...</td>\n      <td>http://www.tate.org.uk/art/artworks/roberts-me...</td>\n    </tr>\n    <tr>\n      <th>68042</th>\n      <td>99426</td>\n      <td>T12703</td>\n      <td>Roberts, William</td>\n      <td>artist</td>\n      <td>1855</td>\n      <td>Bar scene</td>\n      <td>no date</td>\n      <td>Graphite on paper</td>\n      <td>Accepted by HM Government in lieu of inheritan...</td>\n      <td>no date</td>\n      <td>2008.0</td>\n      <td>127 x 184 mm</td>\n      <td>NaN</td>\n      <td>NaN</td>\n      <td>NaN</td>\n      <td>NaN</td>\n      <td>NaN</td>\n      <td>© The estate of William Roberts</td>\n      <td>http://www.tate.org.uk/art/images/work/T/T12/T...</td>\n      <td>http://www.tate.org.uk/art/artworks/roberts-ba...</td>\n    </tr>\n    <tr>\n      <th>68047</th>\n      <td>99431</td>\n      <td>T12708</td>\n      <td>Roberts, William</td>\n      <td>artist</td>\n      <td>1855</td>\n      <td>The critic intervenes; Man milking a goat (rev...</td>\n      <td>no date</td>\n      <td>Graphite on paper</td>\n      <td>Accepted by HM Government in lieu of inheritan...</td>\n      <td>no date</td>\n      <td>2008.0</td>\n      <td>152 x 133 mm</td>\n      <td>NaN</td>\n      <td>NaN</td>\n      <td>NaN</td>\n      <td>NaN</td>\n      <td>NaN</td>\n      <td>© The estate of William Roberts</td>\n      <td>http://www.tate.org.uk/art/images/work/T/T12/T...</td>\n      <td>http://www.tate.org.uk/art/artworks/roberts-th...</td>\n    </tr>\n    <tr>\n      <th>68051</th>\n      <td>99435</td>\n      <td>T12712</td>\n      <td>Roberts, William</td>\n      <td>artist</td>\n      <td>1855</td>\n      <td>Woman brushing another’s hair</td>\n      <td>no date</td>\n      <td>Watercolour and graphite on paper</td>\n      <td>Accepted by HM Government in lieu of inheritan...</td>\n      <td>no date</td>\n      <td>2008.0</td>\n      <td>178 x 89 mm</td>\n      <td>NaN</td>\n      <td>NaN</td>\n      <td>NaN</td>\n      <td>NaN</td>\n      <td>NaN</td>\n      <td>© The estate of William Roberts</td>\n      <td>http://www.tate.org.uk/art/images/work/T/T12/T...</td>\n      <td>http://www.tate.org.uk/art/artworks/roberts-wo...</td>\n    </tr>\n    <tr>\n      <th>68056</th>\n      <td>99440</td>\n      <td>T12717</td>\n      <td>Roberts, William</td>\n      <td>artist</td>\n      <td>1855</td>\n      <td>Group of people in a field</td>\n      <td>no date</td>\n      <td>Graphite on paper</td>\n      <td>Accepted by HM Government in lieu of inheritan...</td>\n      <td>no date</td>\n      <td>2008.0</td>\n      <td>187 x 133 mm</td>\n      <td>NaN</td>\n      <td>NaN</td>\n      <td>NaN</td>\n      <td>NaN</td>\n      <td>NaN</td>\n      <td>© The estate of William Roberts</td>\n      <td>http://www.tate.org.uk/art/images/work/T/T12/T...</td>\n      <td>http://www.tate.org.uk/art/artworks/roberts-gr...</td>\n    </tr>\n    <tr>\n      <th>68057</th>\n      <td>99441</td>\n      <td>T12718</td>\n      <td>Roberts, William</td>\n      <td>artist</td>\n      <td>1855</td>\n      <td>Two women playing with a cat</td>\n      <td>no date</td>\n      <td>Graphite on paper</td>\n      <td>Accepted by HM Government in lieu of inheritan...</td>\n      <td>no date</td>\n      <td>2008.0</td>\n      <td>1528 x 121 mm</td>\n      <td>NaN</td>\n      <td>NaN</td>\n      <td>NaN</td>\n      <td>NaN</td>\n      <td>NaN</td>\n      <td>© The estate of William Roberts</td>\n      <td>http://www.tate.org.uk/art/images/work/T/T12/T...</td>\n      <td>http://www.tate.org.uk/art/artworks/roberts-tw...</td>\n    </tr>\n    <tr>\n      <th>68062</th>\n      <td>99446</td>\n      <td>T12723</td>\n      <td>Roberts, William</td>\n      <td>artist</td>\n      <td>1855</td>\n      <td>Group of people standing on a corner</td>\n      <td>no date</td>\n      <td>Graphite on paper</td>\n      <td>Accepted by HM Government in lieu of inheritan...</td>\n      <td>no date</td>\n      <td>2008.0</td>\n      <td>184 x 133 mm</td>\n      <td>NaN</td>\n      <td>NaN</td>\n      <td>NaN</td>\n      <td>NaN</td>\n      <td>NaN</td>\n      <td>© The estate of William Roberts</td>\n      <td>http://www.tate.org.uk/art/images/work/T/T12/T...</td>\n      <td>http://www.tate.org.uk/art/artworks/roberts-gr...</td>\n    </tr>\n    <tr>\n      <th>68070</th>\n      <td>99454</td>\n      <td>T12731</td>\n      <td>Roberts, William</td>\n      <td>artist</td>\n      <td>1855</td>\n      <td>Group of people in a punt</td>\n      <td>no date</td>\n      <td>Graphite on paper</td>\n      <td>Accepted by HM Government in lieu of inheritan...</td>\n      <td>no date</td>\n      <td>2008.0</td>\n      <td>273 x 172 mm</td>\n      <td>NaN</td>\n      <td>NaN</td>\n      <td>NaN</td>\n      <td>NaN</td>\n      <td>NaN</td>\n      <td>NaN</td>\n      <td>NaN</td>\n      <td>http://www.tate.org.uk/art/artworks/roberts-gr...</td>\n    </tr>\n    <tr>\n      <th>68072</th>\n      <td>99456</td>\n      <td>T12733</td>\n      <td>Roberts, William</td>\n      <td>artist</td>\n      <td>1855</td>\n      <td>Party scene</td>\n      <td>no date</td>\n      <td>Graphite on paper</td>\n      <td>Accepted by HM Government in lieu of inheritan...</td>\n      <td>no date</td>\n      <td>2008.0</td>\n      <td>122 x 108 mm</td>\n      <td>NaN</td>\n      <td>NaN</td>\n      <td>NaN</td>\n      <td>NaN</td>\n      <td>NaN</td>\n      <td>© The estate of William Roberts</td>\n      <td>http://www.tate.org.uk/art/images/work/T/T12/T...</td>\n      <td>http://www.tate.org.uk/art/artworks/roberts-pa...</td>\n    </tr>\n    <tr>\n      <th>68074</th>\n      <td>99458</td>\n      <td>T12735</td>\n      <td>Roberts, William</td>\n      <td>artist</td>\n      <td>1855</td>\n      <td>Lady in a hat</td>\n      <td>no date</td>\n      <td>Graphite on paper</td>\n      <td>Accepted by HM Government in lieu of inheritan...</td>\n      <td>no date</td>\n      <td>2008.0</td>\n      <td>184 x 133 mm</td>\n      <td>NaN</td>\n      <td>NaN</td>\n      <td>NaN</td>\n      <td>NaN</td>\n      <td>NaN</td>\n      <td>© The estate of William Roberts</td>\n      <td>http://www.tate.org.uk/art/images/work/T/T12/T...</td>\n      <td>http://www.tate.org.uk/art/artworks/roberts-la...</td>\n    </tr>\n    <tr>\n      <th>68076</th>\n      <td>99460</td>\n      <td>T12737</td>\n      <td>Roberts, William</td>\n      <td>artist</td>\n      <td>1855</td>\n      <td>The toast</td>\n      <td>no date</td>\n      <td>Graphite on paper</td>\n      <td>Accepted by HM Government in lieu of inheritan...</td>\n      <td>no date</td>\n      <td>2008.0</td>\n      <td>178 x 121 mm</td>\n      <td>NaN</td>\n      <td>NaN</td>\n      <td>NaN</td>\n      <td>NaN</td>\n      <td>NaN</td>\n      <td>© The estate of William Roberts</td>\n      <td>http://www.tate.org.uk/art/images/work/T/T12/T...</td>\n      <td>http://www.tate.org.uk/art/artworks/roberts-th...</td>\n    </tr>\n    <tr>\n      <th>68077</th>\n      <td>99462</td>\n      <td>T12738</td>\n      <td>Roberts, William</td>\n      <td>artist</td>\n      <td>1855</td>\n      <td>People diving into a swimming pool</td>\n      <td>no date</td>\n      <td>Graphite on paper</td>\n      <td>Accepted by HM Government in lieu of inheritan...</td>\n      <td>no date</td>\n      <td>2008.0</td>\n      <td>184 x 162 mm</td>\n      <td>NaN</td>\n      <td>NaN</td>\n      <td>NaN</td>\n      <td>NaN</td>\n      <td>NaN</td>\n      <td>© The estate of William Roberts</td>\n      <td>http://www.tate.org.uk/art/images/work/T/T12/T...</td>\n      <td>http://www.tate.org.uk/art/artworks/roberts-pe...</td>\n    </tr>\n    <tr>\n      <th>69165</th>\n      <td>121190</td>\n      <td>T13834</td>\n      <td>Barlow, Phyllida</td>\n      <td>artist</td>\n      <td>10908</td>\n      <td>Untitled</td>\n      <td>c.1997–9</td>\n      <td>Acrylic paint on paper</td>\n      <td>Presented by the Trustees of the Chantrey Bequ...</td>\n      <td>c.1997-9</td>\n      <td>2013.0</td>\n      <td>unconfirmed: 389 x 562 mm</td>\n      <td>389</td>\n      <td>562</td>\n      <td>NaN</td>\n      <td>mm</td>\n      <td>NaN</td>\n      <td>© Phyllida Barlow</td>\n      <td>http://www.tate.org.uk/art/images/work/T/T13/T...</td>\n      <td>http://www.tate.org.uk/art/artworks/barlow-unt...</td>\n    </tr>\n  </tbody>\n</table>\n</div>"
     },
     "execution_count": 31,
     "metadata": {},
     "output_type": "execute_result"
    }
   ],
   "source": [
    "data.loc[data.year.notnull() & data.year.astype(str).str.contains('[^0-9]')]"
   ],
   "metadata": {
    "collapsed": false,
    "pycharm": {
     "name": "#%%\n"
    }
   }
  },
  {
   "cell_type": "code",
   "execution_count": 33,
   "outputs": [],
   "source": [
    "data.loc[data.year.notnull() & data.year.astype(str).str.contains('[^0-9]'), ['year']] = np.nan"
   ],
   "metadata": {
    "collapsed": false,
    "pycharm": {
     "name": "#%%\n"
    }
   }
  },
  {
   "cell_type": "code",
   "execution_count": 34,
   "outputs": [
    {
     "data": {
      "text/plain": "Empty DataFrame\nColumns: [year]\nIndex: []",
      "text/html": "<div>\n<style scoped>\n    .dataframe tbody tr th:only-of-type {\n        vertical-align: middle;\n    }\n\n    .dataframe tbody tr th {\n        vertical-align: top;\n    }\n\n    .dataframe thead th {\n        text-align: right;\n    }\n</style>\n<table border=\"1\" class=\"dataframe\">\n  <thead>\n    <tr style=\"text-align: right;\">\n      <th></th>\n      <th>year</th>\n    </tr>\n  </thead>\n  <tbody>\n  </tbody>\n</table>\n</div>"
     },
     "execution_count": 34,
     "metadata": {},
     "output_type": "execute_result"
    }
   ],
   "source": [
    "data.loc[data.year.notnull() & data.year.astype(str).str.contains('[^0-9]'), ['year']]"
   ],
   "metadata": {
    "collapsed": false,
    "pycharm": {
     "name": "#%%\n"
    }
   }
  },
  {
   "cell_type": "code",
   "execution_count": 41,
   "outputs": [
    {
     "data": {
      "text/plain": "      year\n68077  NaN",
      "text/html": "<div>\n<style scoped>\n    .dataframe tbody tr th:only-of-type {\n        vertical-align: middle;\n    }\n\n    .dataframe tbody tr th {\n        vertical-align: top;\n    }\n\n    .dataframe thead th {\n        text-align: right;\n    }\n</style>\n<table border=\"1\" class=\"dataframe\">\n  <thead>\n    <tr style=\"text-align: right;\">\n      <th></th>\n      <th>year</th>\n    </tr>\n  </thead>\n  <tbody>\n    <tr>\n      <th>68077</th>\n      <td>NaN</td>\n    </tr>\n  </tbody>\n</table>\n</div>"
     },
     "execution_count": 41,
     "metadata": {},
     "output_type": "execute_result"
    }
   ],
   "source": [
    "year_index = list(data.columns).index('year')\n",
    "data.iloc[68077:68078, year_index: year_index+1]"
   ],
   "metadata": {
    "collapsed": false,
    "pycharm": {
     "name": "#%%\n"
    }
   }
  },
  {
   "cell_type": "code",
   "execution_count": 42,
   "outputs": [],
   "source": [
    "# reload the data\n",
    "data = pd.read_csv('./data/artwork_data.csv', low_memory=False)"
   ],
   "metadata": {
    "collapsed": false,
    "pycharm": {
     "name": "#%%\n"
    }
   }
  },
  {
   "cell_type": "code",
   "execution_count": 43,
   "outputs": [
    {
     "data": {
      "text/plain": "     id accession_number          artist artistRole  artistId  \\\n0  1035           A00001   Blake, Robert     artist        38   \n1  1036           A00002   Blake, Robert     artist        38   \n2  1037           A00003   Blake, Robert     artist        38   \n3  1038           A00004   Blake, Robert     artist        38   \n4  1039           A00005  Blake, William     artist        39   \n\n                                               title                dateText  \\\n0  A Figure Bowing before a Seated Old Man with h...          date not known   \n1  Two Drawings of Frightened Figures, Probably f...          date not known   \n2  The Preaching of Warning. Verso: An Old Man En...                 ?c.1785   \n3     Six Drawings of Figures with Outstretched Arms          date not known   \n4  The Circle of the Lustful: Francesca da Rimini...  1826–7, reprinted 1892   \n\n                                              medium  \\\n0  Watercolour, ink, chalk and graphite on paper....   \n1                                  Graphite on paper   \n2        Graphite on paper. Verso: graphite on paper   \n3                                  Graphite on paper   \n4                            Line engraving on paper   \n\n                                          creditLine  year  acquisitionYear  \\\n0                Presented by Mrs John Richmond 1922   NaN           1922.0   \n1                Presented by Mrs John Richmond 1922   NaN           1922.0   \n2                Presented by Mrs John Richmond 1922  1785           1922.0   \n3                Presented by Mrs John Richmond 1922   NaN           1922.0   \n4  Purchased with the assistance of a special gra...  1826           1919.0   \n\n              dimensions width height  depth units inscription  \\\n0  support: 394 x 419 mm   394    419    NaN    mm         NaN   \n1  support: 311 x 213 mm   311    213    NaN    mm         NaN   \n2  support: 343 x 467 mm   343    467    NaN    mm         NaN   \n3  support: 318 x 394 mm   318    394    NaN    mm         NaN   \n4    image: 243 x 335 mm   243    335    NaN    mm         NaN   \n\n  thumbnailCopyright                                       thumbnailUrl  \\\n0                NaN  http://www.tate.org.uk/art/images/work/A/A00/A...   \n1                NaN  http://www.tate.org.uk/art/images/work/A/A00/A...   \n2                NaN  http://www.tate.org.uk/art/images/work/A/A00/A...   \n3                NaN  http://www.tate.org.uk/art/images/work/A/A00/A...   \n4                NaN  http://www.tate.org.uk/art/images/work/A/A00/A...   \n\n                                                 url  \n0  http://www.tate.org.uk/art/artworks/blake-a-fi...  \n1  http://www.tate.org.uk/art/artworks/blake-two-...  \n2  http://www.tate.org.uk/art/artworks/blake-the-...  \n3  http://www.tate.org.uk/art/artworks/blake-six-...  \n4  http://www.tate.org.uk/art/artworks/blake-the-...  ",
      "text/html": "<div>\n<style scoped>\n    .dataframe tbody tr th:only-of-type {\n        vertical-align: middle;\n    }\n\n    .dataframe tbody tr th {\n        vertical-align: top;\n    }\n\n    .dataframe thead th {\n        text-align: right;\n    }\n</style>\n<table border=\"1\" class=\"dataframe\">\n  <thead>\n    <tr style=\"text-align: right;\">\n      <th></th>\n      <th>id</th>\n      <th>accession_number</th>\n      <th>artist</th>\n      <th>artistRole</th>\n      <th>artistId</th>\n      <th>title</th>\n      <th>dateText</th>\n      <th>medium</th>\n      <th>creditLine</th>\n      <th>year</th>\n      <th>acquisitionYear</th>\n      <th>dimensions</th>\n      <th>width</th>\n      <th>height</th>\n      <th>depth</th>\n      <th>units</th>\n      <th>inscription</th>\n      <th>thumbnailCopyright</th>\n      <th>thumbnailUrl</th>\n      <th>url</th>\n    </tr>\n  </thead>\n  <tbody>\n    <tr>\n      <th>0</th>\n      <td>1035</td>\n      <td>A00001</td>\n      <td>Blake, Robert</td>\n      <td>artist</td>\n      <td>38</td>\n      <td>A Figure Bowing before a Seated Old Man with h...</td>\n      <td>date not known</td>\n      <td>Watercolour, ink, chalk and graphite on paper....</td>\n      <td>Presented by Mrs John Richmond 1922</td>\n      <td>NaN</td>\n      <td>1922.0</td>\n      <td>support: 394 x 419 mm</td>\n      <td>394</td>\n      <td>419</td>\n      <td>NaN</td>\n      <td>mm</td>\n      <td>NaN</td>\n      <td>NaN</td>\n      <td>http://www.tate.org.uk/art/images/work/A/A00/A...</td>\n      <td>http://www.tate.org.uk/art/artworks/blake-a-fi...</td>\n    </tr>\n    <tr>\n      <th>1</th>\n      <td>1036</td>\n      <td>A00002</td>\n      <td>Blake, Robert</td>\n      <td>artist</td>\n      <td>38</td>\n      <td>Two Drawings of Frightened Figures, Probably f...</td>\n      <td>date not known</td>\n      <td>Graphite on paper</td>\n      <td>Presented by Mrs John Richmond 1922</td>\n      <td>NaN</td>\n      <td>1922.0</td>\n      <td>support: 311 x 213 mm</td>\n      <td>311</td>\n      <td>213</td>\n      <td>NaN</td>\n      <td>mm</td>\n      <td>NaN</td>\n      <td>NaN</td>\n      <td>http://www.tate.org.uk/art/images/work/A/A00/A...</td>\n      <td>http://www.tate.org.uk/art/artworks/blake-two-...</td>\n    </tr>\n    <tr>\n      <th>2</th>\n      <td>1037</td>\n      <td>A00003</td>\n      <td>Blake, Robert</td>\n      <td>artist</td>\n      <td>38</td>\n      <td>The Preaching of Warning. Verso: An Old Man En...</td>\n      <td>?c.1785</td>\n      <td>Graphite on paper. Verso: graphite on paper</td>\n      <td>Presented by Mrs John Richmond 1922</td>\n      <td>1785</td>\n      <td>1922.0</td>\n      <td>support: 343 x 467 mm</td>\n      <td>343</td>\n      <td>467</td>\n      <td>NaN</td>\n      <td>mm</td>\n      <td>NaN</td>\n      <td>NaN</td>\n      <td>http://www.tate.org.uk/art/images/work/A/A00/A...</td>\n      <td>http://www.tate.org.uk/art/artworks/blake-the-...</td>\n    </tr>\n    <tr>\n      <th>3</th>\n      <td>1038</td>\n      <td>A00004</td>\n      <td>Blake, Robert</td>\n      <td>artist</td>\n      <td>38</td>\n      <td>Six Drawings of Figures with Outstretched Arms</td>\n      <td>date not known</td>\n      <td>Graphite on paper</td>\n      <td>Presented by Mrs John Richmond 1922</td>\n      <td>NaN</td>\n      <td>1922.0</td>\n      <td>support: 318 x 394 mm</td>\n      <td>318</td>\n      <td>394</td>\n      <td>NaN</td>\n      <td>mm</td>\n      <td>NaN</td>\n      <td>NaN</td>\n      <td>http://www.tate.org.uk/art/images/work/A/A00/A...</td>\n      <td>http://www.tate.org.uk/art/artworks/blake-six-...</td>\n    </tr>\n    <tr>\n      <th>4</th>\n      <td>1039</td>\n      <td>A00005</td>\n      <td>Blake, William</td>\n      <td>artist</td>\n      <td>39</td>\n      <td>The Circle of the Lustful: Francesca da Rimini...</td>\n      <td>1826–7, reprinted 1892</td>\n      <td>Line engraving on paper</td>\n      <td>Purchased with the assistance of a special gra...</td>\n      <td>1826</td>\n      <td>1919.0</td>\n      <td>image: 243 x 335 mm</td>\n      <td>243</td>\n      <td>335</td>\n      <td>NaN</td>\n      <td>mm</td>\n      <td>NaN</td>\n      <td>NaN</td>\n      <td>http://www.tate.org.uk/art/images/work/A/A00/A...</td>\n      <td>http://www.tate.org.uk/art/artworks/blake-the-...</td>\n    </tr>\n  </tbody>\n</table>\n</div>"
     },
     "execution_count": 43,
     "metadata": {},
     "output_type": "execute_result"
    }
   ],
   "source": [
    "data.head()"
   ],
   "metadata": {
    "collapsed": false,
    "pycharm": {
     "name": "#%%\n"
    }
   }
  },
  {
   "cell_type": "code",
   "execution_count": 45,
   "outputs": [
    {
     "data": {
      "text/plain": "       year   depth\n0       NaN     NaN\n1       NaN     NaN\n2      1785     NaN\n3       NaN     NaN\n4      1826     NaN\n...     ...     ...\n69196  1975   135.0\n69197  1976   135.0\n69198  1996  2990.0\n69199  2000     NaN\n69200  1764     NaN\n\n[69201 rows x 2 columns]",
      "text/html": "<div>\n<style scoped>\n    .dataframe tbody tr th:only-of-type {\n        vertical-align: middle;\n    }\n\n    .dataframe tbody tr th {\n        vertical-align: top;\n    }\n\n    .dataframe thead th {\n        text-align: right;\n    }\n</style>\n<table border=\"1\" class=\"dataframe\">\n  <thead>\n    <tr style=\"text-align: right;\">\n      <th></th>\n      <th>year</th>\n      <th>depth</th>\n    </tr>\n  </thead>\n  <tbody>\n    <tr>\n      <th>0</th>\n      <td>NaN</td>\n      <td>NaN</td>\n    </tr>\n    <tr>\n      <th>1</th>\n      <td>NaN</td>\n      <td>NaN</td>\n    </tr>\n    <tr>\n      <th>2</th>\n      <td>1785</td>\n      <td>NaN</td>\n    </tr>\n    <tr>\n      <th>3</th>\n      <td>NaN</td>\n      <td>NaN</td>\n    </tr>\n    <tr>\n      <th>4</th>\n      <td>1826</td>\n      <td>NaN</td>\n    </tr>\n    <tr>\n      <th>...</th>\n      <td>...</td>\n      <td>...</td>\n    </tr>\n    <tr>\n      <th>69196</th>\n      <td>1975</td>\n      <td>135.0</td>\n    </tr>\n    <tr>\n      <th>69197</th>\n      <td>1976</td>\n      <td>135.0</td>\n    </tr>\n    <tr>\n      <th>69198</th>\n      <td>1996</td>\n      <td>2990.0</td>\n    </tr>\n    <tr>\n      <th>69199</th>\n      <td>2000</td>\n      <td>NaN</td>\n    </tr>\n    <tr>\n      <th>69200</th>\n      <td>1764</td>\n      <td>NaN</td>\n    </tr>\n  </tbody>\n</table>\n<p>69201 rows × 2 columns</p>\n</div>"
     },
     "execution_count": 45,
     "metadata": {},
     "output_type": "execute_result"
    }
   ],
   "source": [
    "data[['year', 'depth']]"
   ],
   "metadata": {
    "collapsed": false,
    "pycharm": {
     "name": "#%%\n"
    }
   }
  },
  {
   "cell_type": "code",
   "execution_count": 46,
   "outputs": [
    {
     "data": {
      "text/plain": "           id accession_number              artist artistRole  artistId  \\\n0        1035           A00001       Blake, Robert     artist        38   \n1        1036           A00002       Blake, Robert     artist        38   \n2        1037           A00003       Blake, Robert     artist        38   \n3        1038           A00004       Blake, Robert     artist        38   \n4        1039           A00005      Blake, William     artist        39   \n...       ...              ...                 ...        ...       ...   \n69196  122960           T13865  P-Orridge, Genesis     artist     16646   \n69197  122961           T13866  P-Orridge, Genesis     artist     16646   \n69198  121181           T13867        Hatoum, Mona     artist      2365   \n69199  112306           T13868       Creed, Martin     artist      2760   \n69200  127035           T13869   Brunias, Agostino     artist      3824   \n\n                                                   title  \\\n0      A Figure Bowing before a Seated Old Man with h...   \n1      Two Drawings of Frightened Figures, Probably f...   \n2      The Preaching of Warning. Verso: An Old Man En...   \n3         Six Drawings of Figures with Outstretched Arms   \n4      The Circle of the Lustful: Francesca da Rimini...   \n...                                                  ...   \n69196                        Larvae (from Tampax Romana)   \n69197                   Living Womb (from Tampax Romana)   \n69198                                      Present Tense   \n69199          Work No. 227: The lights going on and off   \n69200                   Dancing Scene in the West Indies   \n\n                     dateText  \\\n0              date not known   \n1              date not known   \n2                     ?c.1785   \n3              date not known   \n4      1826–7, reprinted 1892   \n...                       ...   \n69196                    1975   \n69197                    1976   \n69198                    1996   \n69199                    2000   \n69200                 1764–96   \n\n                                                  medium  \\\n0      Watercolour, ink, chalk and graphite on paper....   \n1                                      Graphite on paper   \n2            Graphite on paper. Verso: graphite on paper   \n3                                      Graphite on paper   \n4                                Line engraving on paper   \n...                                                  ...   \n69196   Perspex, Wood, hairpiece, tampon and human blood   \n69197  Wood, Perspex, plastic, photograph on paper, t...   \n69198                               Soap and glass beads   \n69199                                   Gallery lighting   \n69200                                Oil paint on canvas   \n\n                                              creditLine  year  \\\n0                    Presented by Mrs John Richmond 1922     0   \n1                    Presented by Mrs John Richmond 1922     0   \n2                    Presented by Mrs John Richmond 1922  1785   \n3                    Presented by Mrs John Richmond 1922     0   \n4      Purchased with the assistance of a special gra...  1826   \n...                                                  ...   ...   \n69196                 Transferred from Tate Archive 2012  1975   \n69197                 Transferred from Tate Archive 2012  1976   \n69198                     Presented by Tate Members 2013  1996   \n69199  Purchased with funds provided by Tate Members,...  2000   \n69200  Purchased with assistance from Tate Patrons an...  1764   \n\n       acquisitionYear                           dimensions width height  \\\n0               1922.0                support: 394 x 419 mm   394    419   \n1               1922.0                support: 311 x 213 mm   311    213   \n2               1922.0                support: 343 x 467 mm   343    467   \n3               1922.0                support: 318 x 394 mm   318    394   \n4               1919.0                  image: 243 x 335 mm   243    335   \n...                ...                                  ...   ...    ...   \n69196           2013.0           object: 305 x 305 x 135 mm   305    305   \n69197           2013.0           object: 305 x 305 x 135 mm   305    305   \n69198           2013.0       displayed: 45 x 2410 x 2990 mm    45   2410   \n69199           2013.0  Overall display dimensions variable     0      0   \n69200           2013.0            unconfirmed: 508 x 660 mm   508    660   \n\n        depth units inscription thumbnailCopyright  \\\n0         0.0    mm           0                  0   \n1         0.0    mm           0                  0   \n2         0.0    mm           0                  0   \n3         0.0    mm           0                  0   \n4         0.0    mm           0                  0   \n...       ...   ...         ...                ...   \n69196   135.0    mm           0                  0   \n69197   135.0    mm           0                  0   \n69198  2990.0    mm           0                  0   \n69199     0.0     0           0                  0   \n69200     0.0    mm           0                  0   \n\n                                            thumbnailUrl  \\\n0      http://www.tate.org.uk/art/images/work/A/A00/A...   \n1      http://www.tate.org.uk/art/images/work/A/A00/A...   \n2      http://www.tate.org.uk/art/images/work/A/A00/A...   \n3      http://www.tate.org.uk/art/images/work/A/A00/A...   \n4      http://www.tate.org.uk/art/images/work/A/A00/A...   \n...                                                  ...   \n69196                                                  0   \n69197                                                  0   \n69198                                                  0   \n69199                                                  0   \n69200  http://www.tate.org.uk/art/images/work/T/T13/T...   \n\n                                                     url  \n0      http://www.tate.org.uk/art/artworks/blake-a-fi...  \n1      http://www.tate.org.uk/art/artworks/blake-two-...  \n2      http://www.tate.org.uk/art/artworks/blake-the-...  \n3      http://www.tate.org.uk/art/artworks/blake-six-...  \n4      http://www.tate.org.uk/art/artworks/blake-the-...  \n...                                                  ...  \n69196  http://www.tate.org.uk/art/artworks/p-orridge-...  \n69197  http://www.tate.org.uk/art/artworks/p-orridge-...  \n69198  http://www.tate.org.uk/art/artworks/hatoum-pre...  \n69199  http://www.tate.org.uk/art/artworks/creed-work...  \n69200  http://www.tate.org.uk/art/artworks/brunias-da...  \n\n[69201 rows x 20 columns]",
      "text/html": "<div>\n<style scoped>\n    .dataframe tbody tr th:only-of-type {\n        vertical-align: middle;\n    }\n\n    .dataframe tbody tr th {\n        vertical-align: top;\n    }\n\n    .dataframe thead th {\n        text-align: right;\n    }\n</style>\n<table border=\"1\" class=\"dataframe\">\n  <thead>\n    <tr style=\"text-align: right;\">\n      <th></th>\n      <th>id</th>\n      <th>accession_number</th>\n      <th>artist</th>\n      <th>artistRole</th>\n      <th>artistId</th>\n      <th>title</th>\n      <th>dateText</th>\n      <th>medium</th>\n      <th>creditLine</th>\n      <th>year</th>\n      <th>acquisitionYear</th>\n      <th>dimensions</th>\n      <th>width</th>\n      <th>height</th>\n      <th>depth</th>\n      <th>units</th>\n      <th>inscription</th>\n      <th>thumbnailCopyright</th>\n      <th>thumbnailUrl</th>\n      <th>url</th>\n    </tr>\n  </thead>\n  <tbody>\n    <tr>\n      <th>0</th>\n      <td>1035</td>\n      <td>A00001</td>\n      <td>Blake, Robert</td>\n      <td>artist</td>\n      <td>38</td>\n      <td>A Figure Bowing before a Seated Old Man with h...</td>\n      <td>date not known</td>\n      <td>Watercolour, ink, chalk and graphite on paper....</td>\n      <td>Presented by Mrs John Richmond 1922</td>\n      <td>0</td>\n      <td>1922.0</td>\n      <td>support: 394 x 419 mm</td>\n      <td>394</td>\n      <td>419</td>\n      <td>0.0</td>\n      <td>mm</td>\n      <td>0</td>\n      <td>0</td>\n      <td>http://www.tate.org.uk/art/images/work/A/A00/A...</td>\n      <td>http://www.tate.org.uk/art/artworks/blake-a-fi...</td>\n    </tr>\n    <tr>\n      <th>1</th>\n      <td>1036</td>\n      <td>A00002</td>\n      <td>Blake, Robert</td>\n      <td>artist</td>\n      <td>38</td>\n      <td>Two Drawings of Frightened Figures, Probably f...</td>\n      <td>date not known</td>\n      <td>Graphite on paper</td>\n      <td>Presented by Mrs John Richmond 1922</td>\n      <td>0</td>\n      <td>1922.0</td>\n      <td>support: 311 x 213 mm</td>\n      <td>311</td>\n      <td>213</td>\n      <td>0.0</td>\n      <td>mm</td>\n      <td>0</td>\n      <td>0</td>\n      <td>http://www.tate.org.uk/art/images/work/A/A00/A...</td>\n      <td>http://www.tate.org.uk/art/artworks/blake-two-...</td>\n    </tr>\n    <tr>\n      <th>2</th>\n      <td>1037</td>\n      <td>A00003</td>\n      <td>Blake, Robert</td>\n      <td>artist</td>\n      <td>38</td>\n      <td>The Preaching of Warning. Verso: An Old Man En...</td>\n      <td>?c.1785</td>\n      <td>Graphite on paper. Verso: graphite on paper</td>\n      <td>Presented by Mrs John Richmond 1922</td>\n      <td>1785</td>\n      <td>1922.0</td>\n      <td>support: 343 x 467 mm</td>\n      <td>343</td>\n      <td>467</td>\n      <td>0.0</td>\n      <td>mm</td>\n      <td>0</td>\n      <td>0</td>\n      <td>http://www.tate.org.uk/art/images/work/A/A00/A...</td>\n      <td>http://www.tate.org.uk/art/artworks/blake-the-...</td>\n    </tr>\n    <tr>\n      <th>3</th>\n      <td>1038</td>\n      <td>A00004</td>\n      <td>Blake, Robert</td>\n      <td>artist</td>\n      <td>38</td>\n      <td>Six Drawings of Figures with Outstretched Arms</td>\n      <td>date not known</td>\n      <td>Graphite on paper</td>\n      <td>Presented by Mrs John Richmond 1922</td>\n      <td>0</td>\n      <td>1922.0</td>\n      <td>support: 318 x 394 mm</td>\n      <td>318</td>\n      <td>394</td>\n      <td>0.0</td>\n      <td>mm</td>\n      <td>0</td>\n      <td>0</td>\n      <td>http://www.tate.org.uk/art/images/work/A/A00/A...</td>\n      <td>http://www.tate.org.uk/art/artworks/blake-six-...</td>\n    </tr>\n    <tr>\n      <th>4</th>\n      <td>1039</td>\n      <td>A00005</td>\n      <td>Blake, William</td>\n      <td>artist</td>\n      <td>39</td>\n      <td>The Circle of the Lustful: Francesca da Rimini...</td>\n      <td>1826–7, reprinted 1892</td>\n      <td>Line engraving on paper</td>\n      <td>Purchased with the assistance of a special gra...</td>\n      <td>1826</td>\n      <td>1919.0</td>\n      <td>image: 243 x 335 mm</td>\n      <td>243</td>\n      <td>335</td>\n      <td>0.0</td>\n      <td>mm</td>\n      <td>0</td>\n      <td>0</td>\n      <td>http://www.tate.org.uk/art/images/work/A/A00/A...</td>\n      <td>http://www.tate.org.uk/art/artworks/blake-the-...</td>\n    </tr>\n    <tr>\n      <th>...</th>\n      <td>...</td>\n      <td>...</td>\n      <td>...</td>\n      <td>...</td>\n      <td>...</td>\n      <td>...</td>\n      <td>...</td>\n      <td>...</td>\n      <td>...</td>\n      <td>...</td>\n      <td>...</td>\n      <td>...</td>\n      <td>...</td>\n      <td>...</td>\n      <td>...</td>\n      <td>...</td>\n      <td>...</td>\n      <td>...</td>\n      <td>...</td>\n      <td>...</td>\n    </tr>\n    <tr>\n      <th>69196</th>\n      <td>122960</td>\n      <td>T13865</td>\n      <td>P-Orridge, Genesis</td>\n      <td>artist</td>\n      <td>16646</td>\n      <td>Larvae (from Tampax Romana)</td>\n      <td>1975</td>\n      <td>Perspex, Wood, hairpiece, tampon and human blood</td>\n      <td>Transferred from Tate Archive 2012</td>\n      <td>1975</td>\n      <td>2013.0</td>\n      <td>object: 305 x 305 x 135 mm</td>\n      <td>305</td>\n      <td>305</td>\n      <td>135.0</td>\n      <td>mm</td>\n      <td>0</td>\n      <td>0</td>\n      <td>0</td>\n      <td>http://www.tate.org.uk/art/artworks/p-orridge-...</td>\n    </tr>\n    <tr>\n      <th>69197</th>\n      <td>122961</td>\n      <td>T13866</td>\n      <td>P-Orridge, Genesis</td>\n      <td>artist</td>\n      <td>16646</td>\n      <td>Living Womb (from Tampax Romana)</td>\n      <td>1976</td>\n      <td>Wood, Perspex, plastic, photograph on paper, t...</td>\n      <td>Transferred from Tate Archive 2012</td>\n      <td>1976</td>\n      <td>2013.0</td>\n      <td>object: 305 x 305 x 135 mm</td>\n      <td>305</td>\n      <td>305</td>\n      <td>135.0</td>\n      <td>mm</td>\n      <td>0</td>\n      <td>0</td>\n      <td>0</td>\n      <td>http://www.tate.org.uk/art/artworks/p-orridge-...</td>\n    </tr>\n    <tr>\n      <th>69198</th>\n      <td>121181</td>\n      <td>T13867</td>\n      <td>Hatoum, Mona</td>\n      <td>artist</td>\n      <td>2365</td>\n      <td>Present Tense</td>\n      <td>1996</td>\n      <td>Soap and glass beads</td>\n      <td>Presented by Tate Members 2013</td>\n      <td>1996</td>\n      <td>2013.0</td>\n      <td>displayed: 45 x 2410 x 2990 mm</td>\n      <td>45</td>\n      <td>2410</td>\n      <td>2990.0</td>\n      <td>mm</td>\n      <td>0</td>\n      <td>0</td>\n      <td>0</td>\n      <td>http://www.tate.org.uk/art/artworks/hatoum-pre...</td>\n    </tr>\n    <tr>\n      <th>69199</th>\n      <td>112306</td>\n      <td>T13868</td>\n      <td>Creed, Martin</td>\n      <td>artist</td>\n      <td>2760</td>\n      <td>Work No. 227: The lights going on and off</td>\n      <td>2000</td>\n      <td>Gallery lighting</td>\n      <td>Purchased with funds provided by Tate Members,...</td>\n      <td>2000</td>\n      <td>2013.0</td>\n      <td>Overall display dimensions variable</td>\n      <td>0</td>\n      <td>0</td>\n      <td>0.0</td>\n      <td>0</td>\n      <td>0</td>\n      <td>0</td>\n      <td>0</td>\n      <td>http://www.tate.org.uk/art/artworks/creed-work...</td>\n    </tr>\n    <tr>\n      <th>69200</th>\n      <td>127035</td>\n      <td>T13869</td>\n      <td>Brunias, Agostino</td>\n      <td>artist</td>\n      <td>3824</td>\n      <td>Dancing Scene in the West Indies</td>\n      <td>1764–96</td>\n      <td>Oil paint on canvas</td>\n      <td>Purchased with assistance from Tate Patrons an...</td>\n      <td>1764</td>\n      <td>2013.0</td>\n      <td>unconfirmed: 508 x 660 mm</td>\n      <td>508</td>\n      <td>660</td>\n      <td>0.0</td>\n      <td>mm</td>\n      <td>0</td>\n      <td>0</td>\n      <td>http://www.tate.org.uk/art/images/work/T/T13/T...</td>\n      <td>http://www.tate.org.uk/art/artworks/brunias-da...</td>\n    </tr>\n  </tbody>\n</table>\n<p>69201 rows × 20 columns</p>\n</div>"
     },
     "execution_count": 46,
     "metadata": {},
     "output_type": "execute_result"
    }
   ],
   "source": [
    "data.fillna(0)"
   ],
   "metadata": {
    "collapsed": false,
    "pycharm": {
     "name": "#%%\n"
    }
   }
  },
  {
   "cell_type": "code",
   "execution_count": 49,
   "outputs": [
    {
     "data": {
      "text/plain": "  width height  depth units\n0   394    419    NaN    mm\n1   311    213    NaN    mm\n2   343    467    NaN    mm\n3   318    394    NaN    mm\n4   243    335    NaN    mm\n5   240    338    NaN    mm\n6   242    334    NaN    mm\n7   246    340    NaN    mm",
      "text/html": "<div>\n<style scoped>\n    .dataframe tbody tr th:only-of-type {\n        vertical-align: middle;\n    }\n\n    .dataframe tbody tr th {\n        vertical-align: top;\n    }\n\n    .dataframe thead th {\n        text-align: right;\n    }\n</style>\n<table border=\"1\" class=\"dataframe\">\n  <thead>\n    <tr style=\"text-align: right;\">\n      <th></th>\n      <th>width</th>\n      <th>height</th>\n      <th>depth</th>\n      <th>units</th>\n    </tr>\n  </thead>\n  <tbody>\n    <tr>\n      <th>0</th>\n      <td>394</td>\n      <td>419</td>\n      <td>NaN</td>\n      <td>mm</td>\n    </tr>\n    <tr>\n      <th>1</th>\n      <td>311</td>\n      <td>213</td>\n      <td>NaN</td>\n      <td>mm</td>\n    </tr>\n    <tr>\n      <th>2</th>\n      <td>343</td>\n      <td>467</td>\n      <td>NaN</td>\n      <td>mm</td>\n    </tr>\n    <tr>\n      <th>3</th>\n      <td>318</td>\n      <td>394</td>\n      <td>NaN</td>\n      <td>mm</td>\n    </tr>\n    <tr>\n      <th>4</th>\n      <td>243</td>\n      <td>335</td>\n      <td>NaN</td>\n      <td>mm</td>\n    </tr>\n    <tr>\n      <th>5</th>\n      <td>240</td>\n      <td>338</td>\n      <td>NaN</td>\n      <td>mm</td>\n    </tr>\n    <tr>\n      <th>6</th>\n      <td>242</td>\n      <td>334</td>\n      <td>NaN</td>\n      <td>mm</td>\n    </tr>\n    <tr>\n      <th>7</th>\n      <td>246</td>\n      <td>340</td>\n      <td>NaN</td>\n      <td>mm</td>\n    </tr>\n  </tbody>\n</table>\n</div>"
     },
     "execution_count": 49,
     "metadata": {},
     "output_type": "execute_result"
    }
   ],
   "source": [
    "# previous data was not modified inplace, so we can still get the original data\n",
    "# inplace=True can be used to modify original data\n",
    "depthna = data.fillna(value={'depth': 0})\n",
    "depth_index = list(data.columns).index('depth')\n",
    "data.iloc[0:8, depth_index -2: depth_index+2]"
   ],
   "metadata": {
    "collapsed": false,
    "pycharm": {
     "name": "#%%\n"
    }
   }
  },
  {
   "cell_type": "code",
   "execution_count": 53,
   "outputs": [
    {
     "data": {
      "text/plain": "Empty DataFrame\nColumns: [depth]\nIndex: []",
      "text/html": "<div>\n<style scoped>\n    .dataframe tbody tr th:only-of-type {\n        vertical-align: middle;\n    }\n\n    .dataframe tbody tr th {\n        vertical-align: top;\n    }\n\n    .dataframe thead th {\n        text-align: right;\n    }\n</style>\n<table border=\"1\" class=\"dataframe\">\n  <thead>\n    <tr style=\"text-align: right;\">\n      <th></th>\n      <th>depth</th>\n    </tr>\n  </thead>\n  <tbody>\n  </tbody>\n</table>\n</div>"
     },
     "execution_count": 53,
     "metadata": {},
     "output_type": "execute_result"
    }
   ],
   "source": [
    "depthna.loc[depthna['depth'] == np.nan, ['depth']]"
   ],
   "metadata": {
    "collapsed": false,
    "pycharm": {
     "name": "#%%\n"
    }
   }
  },
  {
   "cell_type": "code",
   "execution_count": 54,
   "outputs": [
    {
     "data": {
      "text/plain": "       depth\n0        0.0\n1        0.0\n2        0.0\n3        0.0\n4        0.0\n...      ...\n69191    0.0\n69192    0.0\n69193    0.0\n69199    0.0\n69200    0.0\n\n[66687 rows x 1 columns]",
      "text/html": "<div>\n<style scoped>\n    .dataframe tbody tr th:only-of-type {\n        vertical-align: middle;\n    }\n\n    .dataframe tbody tr th {\n        vertical-align: top;\n    }\n\n    .dataframe thead th {\n        text-align: right;\n    }\n</style>\n<table border=\"1\" class=\"dataframe\">\n  <thead>\n    <tr style=\"text-align: right;\">\n      <th></th>\n      <th>depth</th>\n    </tr>\n  </thead>\n  <tbody>\n    <tr>\n      <th>0</th>\n      <td>0.0</td>\n    </tr>\n    <tr>\n      <th>1</th>\n      <td>0.0</td>\n    </tr>\n    <tr>\n      <th>2</th>\n      <td>0.0</td>\n    </tr>\n    <tr>\n      <th>3</th>\n      <td>0.0</td>\n    </tr>\n    <tr>\n      <th>4</th>\n      <td>0.0</td>\n    </tr>\n    <tr>\n      <th>...</th>\n      <td>...</td>\n    </tr>\n    <tr>\n      <th>69191</th>\n      <td>0.0</td>\n    </tr>\n    <tr>\n      <th>69192</th>\n      <td>0.0</td>\n    </tr>\n    <tr>\n      <th>69193</th>\n      <td>0.0</td>\n    </tr>\n    <tr>\n      <th>69199</th>\n      <td>0.0</td>\n    </tr>\n    <tr>\n      <th>69200</th>\n      <td>0.0</td>\n    </tr>\n  </tbody>\n</table>\n<p>66687 rows × 1 columns</p>\n</div>"
     },
     "execution_count": 54,
     "metadata": {},
     "output_type": "execute_result"
    }
   ],
   "source": [
    "depthna.loc[depthna['depth'] == 0, ['depth']]"
   ],
   "metadata": {
    "collapsed": false,
    "pycharm": {
     "name": "#%%\n"
    }
   }
  },
  {
   "cell_type": "markdown",
   "source": [
    "## Drop NaN Rows"
   ],
   "metadata": {
    "collapsed": false,
    "pycharm": {
     "name": "#%% md\n"
    }
   }
  },
  {
   "cell_type": "code",
   "execution_count": 58,
   "outputs": [
    {
     "name": "stderr",
     "output_type": "stream",
     "text": [
      "C:\\Users\\hp\\AppData\\Local\\Temp\\ipykernel_13652\\74990849.py:1: DtypeWarning: Columns (9,13) have mixed types. Specify dtype option on import or set low_memory=False.\n",
      "  data = pd.read_csv('./data/artwork_data.csv')\n"
     ]
    }
   ],
   "source": [
    "data = pd.read_csv('./data/artwork_data.csv')"
   ],
   "metadata": {
    "collapsed": false,
    "pycharm": {
     "name": "#%%\n"
    }
   }
  },
  {
   "cell_type": "code",
   "execution_count": 59,
   "outputs": [
    {
     "data": {
      "text/plain": "(69201, 20)"
     },
     "execution_count": 59,
     "metadata": {},
     "output_type": "execute_result"
    }
   ],
   "source": [
    "data.shape"
   ],
   "metadata": {
    "collapsed": false,
    "pycharm": {
     "name": "#%%\n"
    }
   }
  },
  {
   "cell_type": "code",
   "execution_count": 60,
   "outputs": [
    {
     "data": {
      "text/plain": "          id accession_number                 artist artistRole  artistId  \\\n1738   98171          AR00001             Katz, Alex     artist      1386   \n1739   98172          AR00002             Katz, Alex     artist      1386   \n1740   98173          AR00003             Katz, Alex     artist      1386   \n1741   98174          AR00004             Katz, Alex     artist      1386   \n1742   98175          AR00005             Katz, Alex     artist      1386   \n...      ...              ...                    ...        ...       ...   \n61878  20155           T06453      Buchheister, Carl     artist      2276   \n62083  20568           T06659          Gober, Robert     artist      2309   \n62274  20984           T06858  Paolozzi, Sir Eduardo     artist      1738   \n62466  21517           T07052          Irvin, Albert     artist      1342   \n62596  21805           T07183       Davey, Grenville     artist      2295   \n\n                              title dateText  \\\n1738                        Pansies     1967   \n1739                         Tulips     1969   \n1740                    West Window     1979   \n1741   Lillies Against Yellow House     1983   \n1742                    Young Trees     1989   \n...                             ...      ...   \n61878            Composition Ursiem     1959   \n62083                        Drains     1990   \n62274                       Cyclops     1957   \n62466                    St Germain     1995   \n62596                        By Air     1989   \n\n                                                  medium  \\\n1738                              Oil paint on hardboard   \n1739                              Oil paint on hardboard   \n1740                              Oil paint on hardboard   \n1741                              Oil paint on hardboard   \n1742                              Oil paint on hardboard   \n...                                                  ...   \n61878  Graphite, ink, oil paint and adhesive on paper...   \n62083                                             Pewter   \n62274                                             Bronze   \n62466                            Acrylic paint on canvas   \n62596                          Hardboard, wood and steel   \n\n                                              creditLine    year  \\\n1738   ARTIST ROOMS Acquired jointly with the Nationa...  1967.0   \n1739   ARTIST ROOMS Acquired jointly with the Nationa...  1969.0   \n1740   ARTIST ROOMS Acquired jointly with the Nationa...  1979.0   \n1741   ARTIST ROOMS Acquired jointly with the Nationa...  1983.0   \n1742   ARTIST ROOMS Acquired jointly with the Nationa...  1989.0   \n...                                                  ...     ...   \n61878                       Presented by Willi Kemp 1991  1959.0   \n62083                                     Purchased 1992  1990.0   \n62274                                     Purchased 1994  1957.0   \n62466                                     Purchased 1996  1995.0   \n62596          Presented by Janet Wolfson de Botton 1996  1989.0   \n\n       acquisitionYear                                         dimensions  \\\n1738            2008.0  support: 309 x 404 x 4 mm frame: 322 x 424 x 3...   \n1739            2008.0  support: 356 x 253 x 3 mm frame: 375 x 273 x 3...   \n1740            2008.0  support: 196 x 238 x 3 mm frame: 216 x 256 x 3...   \n1741            2008.0  support: 307 x 229 x 3 mm frame: 327 x 249 x 3...   \n1742            2008.0  support: 407 x 301 x 3 mm frame: 426 x 320 x 3...   \n...                ...                                                ...   \n61878           1991.0                         support: 302 x 389 x 23 mm   \n62083           1992.0                            object: 94 x 94 x 42 mm   \n62274           1994.0                object: 692 x 370 x 320 mm, 36.4 kg   \n62466           1996.0                       support: 2140 x 3056 x 52 mm   \n62596           1996.0                   displayed: 1850 x 3250 x 1850 mm   \n\n      width height   depth units     inscription  \\\n1738    309  404.0     4.0    mm  date inscribed   \n1739    356  253.0     3.0    mm  date inscribed   \n1740    196  238.0     3.0    mm  date inscribed   \n1741    307  229.0     3.0    mm  date inscribed   \n1742    407  301.0     3.0    mm  date inscribed   \n...     ...    ...     ...   ...             ...   \n61878   302    389    23.0    mm  date inscribed   \n62083    94     94    42.0    mm  date inscribed   \n62274   692    370   320.0    mm  date inscribed   \n62466  2140   3056    52.0    mm  date inscribed   \n62596  1850   3250  1850.0    mm  date inscribed   \n\n                      thumbnailCopyright  \\\n1738                         © Alex Katz   \n1739                         © Alex Katz   \n1740                         © Alex Katz   \n1741                         © Alex Katz   \n1742                         © Alex Katz   \n...                                  ...   \n61878                       © DACS, 2014   \n62083                     © Robert Gober   \n62274  © The Eduardo Paolozzi Foundation   \n62466                     © Albert Irvin   \n62596                  © Grenville Davey   \n\n                                            thumbnailUrl  \\\n1738   http://www.tate.org.uk/art/images/work/AR/AR00...   \n1739   http://www.tate.org.uk/art/images/work/AR/AR00...   \n1740   http://www.tate.org.uk/art/images/work/AR/AR00...   \n1741   http://www.tate.org.uk/art/images/work/AR/AR00...   \n1742   http://www.tate.org.uk/art/images/work/AR/AR00...   \n...                                                  ...   \n61878  http://www.tate.org.uk/art/images/work/T/T06/T...   \n62083  http://www.tate.org.uk/art/images/work/T/T06/T...   \n62274  http://www.tate.org.uk/art/images/work/T/T06/T...   \n62466  http://www.tate.org.uk/art/images/work/T/T07/T...   \n62596  http://www.tate.org.uk/art/images/work/T/T07/T...   \n\n                                                     url  \n1738   http://www.tate.org.uk/art/artworks/katz-pansi...  \n1739   http://www.tate.org.uk/art/artworks/katz-tulip...  \n1740   http://www.tate.org.uk/art/artworks/katz-west-...  \n1741   http://www.tate.org.uk/art/artworks/katz-lilli...  \n1742   http://www.tate.org.uk/art/artworks/katz-young...  \n...                                                  ...  \n61878  http://www.tate.org.uk/art/artworks/buchheiste...  \n62083  http://www.tate.org.uk/art/artworks/gober-drai...  \n62274  http://www.tate.org.uk/art/artworks/paolozzi-c...  \n62466  http://www.tate.org.uk/art/artworks/irvin-st-g...  \n62596  http://www.tate.org.uk/art/artworks/davey-by-a...  \n\n[164 rows x 20 columns]",
      "text/html": "<div>\n<style scoped>\n    .dataframe tbody tr th:only-of-type {\n        vertical-align: middle;\n    }\n\n    .dataframe tbody tr th {\n        vertical-align: top;\n    }\n\n    .dataframe thead th {\n        text-align: right;\n    }\n</style>\n<table border=\"1\" class=\"dataframe\">\n  <thead>\n    <tr style=\"text-align: right;\">\n      <th></th>\n      <th>id</th>\n      <th>accession_number</th>\n      <th>artist</th>\n      <th>artistRole</th>\n      <th>artistId</th>\n      <th>title</th>\n      <th>dateText</th>\n      <th>medium</th>\n      <th>creditLine</th>\n      <th>year</th>\n      <th>acquisitionYear</th>\n      <th>dimensions</th>\n      <th>width</th>\n      <th>height</th>\n      <th>depth</th>\n      <th>units</th>\n      <th>inscription</th>\n      <th>thumbnailCopyright</th>\n      <th>thumbnailUrl</th>\n      <th>url</th>\n    </tr>\n  </thead>\n  <tbody>\n    <tr>\n      <th>1738</th>\n      <td>98171</td>\n      <td>AR00001</td>\n      <td>Katz, Alex</td>\n      <td>artist</td>\n      <td>1386</td>\n      <td>Pansies</td>\n      <td>1967</td>\n      <td>Oil paint on hardboard</td>\n      <td>ARTIST ROOMS Acquired jointly with the Nationa...</td>\n      <td>1967.0</td>\n      <td>2008.0</td>\n      <td>support: 309 x 404 x 4 mm frame: 322 x 424 x 3...</td>\n      <td>309</td>\n      <td>404.0</td>\n      <td>4.0</td>\n      <td>mm</td>\n      <td>date inscribed</td>\n      <td>© Alex Katz</td>\n      <td>http://www.tate.org.uk/art/images/work/AR/AR00...</td>\n      <td>http://www.tate.org.uk/art/artworks/katz-pansi...</td>\n    </tr>\n    <tr>\n      <th>1739</th>\n      <td>98172</td>\n      <td>AR00002</td>\n      <td>Katz, Alex</td>\n      <td>artist</td>\n      <td>1386</td>\n      <td>Tulips</td>\n      <td>1969</td>\n      <td>Oil paint on hardboard</td>\n      <td>ARTIST ROOMS Acquired jointly with the Nationa...</td>\n      <td>1969.0</td>\n      <td>2008.0</td>\n      <td>support: 356 x 253 x 3 mm frame: 375 x 273 x 3...</td>\n      <td>356</td>\n      <td>253.0</td>\n      <td>3.0</td>\n      <td>mm</td>\n      <td>date inscribed</td>\n      <td>© Alex Katz</td>\n      <td>http://www.tate.org.uk/art/images/work/AR/AR00...</td>\n      <td>http://www.tate.org.uk/art/artworks/katz-tulip...</td>\n    </tr>\n    <tr>\n      <th>1740</th>\n      <td>98173</td>\n      <td>AR00003</td>\n      <td>Katz, Alex</td>\n      <td>artist</td>\n      <td>1386</td>\n      <td>West Window</td>\n      <td>1979</td>\n      <td>Oil paint on hardboard</td>\n      <td>ARTIST ROOMS Acquired jointly with the Nationa...</td>\n      <td>1979.0</td>\n      <td>2008.0</td>\n      <td>support: 196 x 238 x 3 mm frame: 216 x 256 x 3...</td>\n      <td>196</td>\n      <td>238.0</td>\n      <td>3.0</td>\n      <td>mm</td>\n      <td>date inscribed</td>\n      <td>© Alex Katz</td>\n      <td>http://www.tate.org.uk/art/images/work/AR/AR00...</td>\n      <td>http://www.tate.org.uk/art/artworks/katz-west-...</td>\n    </tr>\n    <tr>\n      <th>1741</th>\n      <td>98174</td>\n      <td>AR00004</td>\n      <td>Katz, Alex</td>\n      <td>artist</td>\n      <td>1386</td>\n      <td>Lillies Against Yellow House</td>\n      <td>1983</td>\n      <td>Oil paint on hardboard</td>\n      <td>ARTIST ROOMS Acquired jointly with the Nationa...</td>\n      <td>1983.0</td>\n      <td>2008.0</td>\n      <td>support: 307 x 229 x 3 mm frame: 327 x 249 x 3...</td>\n      <td>307</td>\n      <td>229.0</td>\n      <td>3.0</td>\n      <td>mm</td>\n      <td>date inscribed</td>\n      <td>© Alex Katz</td>\n      <td>http://www.tate.org.uk/art/images/work/AR/AR00...</td>\n      <td>http://www.tate.org.uk/art/artworks/katz-lilli...</td>\n    </tr>\n    <tr>\n      <th>1742</th>\n      <td>98175</td>\n      <td>AR00005</td>\n      <td>Katz, Alex</td>\n      <td>artist</td>\n      <td>1386</td>\n      <td>Young Trees</td>\n      <td>1989</td>\n      <td>Oil paint on hardboard</td>\n      <td>ARTIST ROOMS Acquired jointly with the Nationa...</td>\n      <td>1989.0</td>\n      <td>2008.0</td>\n      <td>support: 407 x 301 x 3 mm frame: 426 x 320 x 3...</td>\n      <td>407</td>\n      <td>301.0</td>\n      <td>3.0</td>\n      <td>mm</td>\n      <td>date inscribed</td>\n      <td>© Alex Katz</td>\n      <td>http://www.tate.org.uk/art/images/work/AR/AR00...</td>\n      <td>http://www.tate.org.uk/art/artworks/katz-young...</td>\n    </tr>\n    <tr>\n      <th>...</th>\n      <td>...</td>\n      <td>...</td>\n      <td>...</td>\n      <td>...</td>\n      <td>...</td>\n      <td>...</td>\n      <td>...</td>\n      <td>...</td>\n      <td>...</td>\n      <td>...</td>\n      <td>...</td>\n      <td>...</td>\n      <td>...</td>\n      <td>...</td>\n      <td>...</td>\n      <td>...</td>\n      <td>...</td>\n      <td>...</td>\n      <td>...</td>\n      <td>...</td>\n    </tr>\n    <tr>\n      <th>61878</th>\n      <td>20155</td>\n      <td>T06453</td>\n      <td>Buchheister, Carl</td>\n      <td>artist</td>\n      <td>2276</td>\n      <td>Composition Ursiem</td>\n      <td>1959</td>\n      <td>Graphite, ink, oil paint and adhesive on paper...</td>\n      <td>Presented by Willi Kemp 1991</td>\n      <td>1959.0</td>\n      <td>1991.0</td>\n      <td>support: 302 x 389 x 23 mm</td>\n      <td>302</td>\n      <td>389</td>\n      <td>23.0</td>\n      <td>mm</td>\n      <td>date inscribed</td>\n      <td>© DACS, 2014</td>\n      <td>http://www.tate.org.uk/art/images/work/T/T06/T...</td>\n      <td>http://www.tate.org.uk/art/artworks/buchheiste...</td>\n    </tr>\n    <tr>\n      <th>62083</th>\n      <td>20568</td>\n      <td>T06659</td>\n      <td>Gober, Robert</td>\n      <td>artist</td>\n      <td>2309</td>\n      <td>Drains</td>\n      <td>1990</td>\n      <td>Pewter</td>\n      <td>Purchased 1992</td>\n      <td>1990.0</td>\n      <td>1992.0</td>\n      <td>object: 94 x 94 x 42 mm</td>\n      <td>94</td>\n      <td>94</td>\n      <td>42.0</td>\n      <td>mm</td>\n      <td>date inscribed</td>\n      <td>© Robert Gober</td>\n      <td>http://www.tate.org.uk/art/images/work/T/T06/T...</td>\n      <td>http://www.tate.org.uk/art/artworks/gober-drai...</td>\n    </tr>\n    <tr>\n      <th>62274</th>\n      <td>20984</td>\n      <td>T06858</td>\n      <td>Paolozzi, Sir Eduardo</td>\n      <td>artist</td>\n      <td>1738</td>\n      <td>Cyclops</td>\n      <td>1957</td>\n      <td>Bronze</td>\n      <td>Purchased 1994</td>\n      <td>1957.0</td>\n      <td>1994.0</td>\n      <td>object: 692 x 370 x 320 mm, 36.4 kg</td>\n      <td>692</td>\n      <td>370</td>\n      <td>320.0</td>\n      <td>mm</td>\n      <td>date inscribed</td>\n      <td>© The Eduardo Paolozzi Foundation</td>\n      <td>http://www.tate.org.uk/art/images/work/T/T06/T...</td>\n      <td>http://www.tate.org.uk/art/artworks/paolozzi-c...</td>\n    </tr>\n    <tr>\n      <th>62466</th>\n      <td>21517</td>\n      <td>T07052</td>\n      <td>Irvin, Albert</td>\n      <td>artist</td>\n      <td>1342</td>\n      <td>St Germain</td>\n      <td>1995</td>\n      <td>Acrylic paint on canvas</td>\n      <td>Purchased 1996</td>\n      <td>1995.0</td>\n      <td>1996.0</td>\n      <td>support: 2140 x 3056 x 52 mm</td>\n      <td>2140</td>\n      <td>3056</td>\n      <td>52.0</td>\n      <td>mm</td>\n      <td>date inscribed</td>\n      <td>© Albert Irvin</td>\n      <td>http://www.tate.org.uk/art/images/work/T/T07/T...</td>\n      <td>http://www.tate.org.uk/art/artworks/irvin-st-g...</td>\n    </tr>\n    <tr>\n      <th>62596</th>\n      <td>21805</td>\n      <td>T07183</td>\n      <td>Davey, Grenville</td>\n      <td>artist</td>\n      <td>2295</td>\n      <td>By Air</td>\n      <td>1989</td>\n      <td>Hardboard, wood and steel</td>\n      <td>Presented by Janet Wolfson de Botton 1996</td>\n      <td>1989.0</td>\n      <td>1996.0</td>\n      <td>displayed: 1850 x 3250 x 1850 mm</td>\n      <td>1850</td>\n      <td>3250</td>\n      <td>1850.0</td>\n      <td>mm</td>\n      <td>date inscribed</td>\n      <td>© Grenville Davey</td>\n      <td>http://www.tate.org.uk/art/images/work/T/T07/T...</td>\n      <td>http://www.tate.org.uk/art/artworks/davey-by-a...</td>\n    </tr>\n  </tbody>\n</table>\n<p>164 rows × 20 columns</p>\n</div>"
     },
     "execution_count": 60,
     "metadata": {},
     "output_type": "execute_result"
    }
   ],
   "source": [
    "data.dropna()\n",
    "# Equivalent to\n",
    "# data.dropna(how='any')"
   ],
   "metadata": {
    "collapsed": false,
    "pycharm": {
     "name": "#%%\n"
    }
   }
  },
  {
   "cell_type": "code",
   "execution_count": 61,
   "outputs": [
    {
     "data": {
      "text/plain": "(164, 20)"
     },
     "execution_count": 61,
     "metadata": {},
     "output_type": "execute_result"
    }
   ],
   "source": [
    "data.dropna().shape"
   ],
   "metadata": {
    "collapsed": false,
    "pycharm": {
     "name": "#%%\n"
    }
   }
  },
  {
   "cell_type": "code",
   "execution_count": 62,
   "outputs": [
    {
     "data": {
      "text/plain": "           id accession_number              artist artistRole  artistId  \\\n0        1035           A00001       Blake, Robert     artist        38   \n1        1036           A00002       Blake, Robert     artist        38   \n2        1037           A00003       Blake, Robert     artist        38   \n3        1038           A00004       Blake, Robert     artist        38   \n4        1039           A00005      Blake, William     artist        39   \n...       ...              ...                 ...        ...       ...   \n69196  122960           T13865  P-Orridge, Genesis     artist     16646   \n69197  122961           T13866  P-Orridge, Genesis     artist     16646   \n69198  121181           T13867        Hatoum, Mona     artist      2365   \n69199  112306           T13868       Creed, Martin     artist      2760   \n69200  127035           T13869   Brunias, Agostino     artist      3824   \n\n                                                   title  \\\n0      A Figure Bowing before a Seated Old Man with h...   \n1      Two Drawings of Frightened Figures, Probably f...   \n2      The Preaching of Warning. Verso: An Old Man En...   \n3         Six Drawings of Figures with Outstretched Arms   \n4      The Circle of the Lustful: Francesca da Rimini...   \n...                                                  ...   \n69196                        Larvae (from Tampax Romana)   \n69197                   Living Womb (from Tampax Romana)   \n69198                                      Present Tense   \n69199          Work No. 227: The lights going on and off   \n69200                   Dancing Scene in the West Indies   \n\n                     dateText  \\\n0              date not known   \n1              date not known   \n2                     ?c.1785   \n3              date not known   \n4      1826–7, reprinted 1892   \n...                       ...   \n69196                    1975   \n69197                    1976   \n69198                    1996   \n69199                    2000   \n69200                 1764–96   \n\n                                                  medium  \\\n0      Watercolour, ink, chalk and graphite on paper....   \n1                                      Graphite on paper   \n2            Graphite on paper. Verso: graphite on paper   \n3                                      Graphite on paper   \n4                                Line engraving on paper   \n...                                                  ...   \n69196   Perspex, Wood, hairpiece, tampon and human blood   \n69197  Wood, Perspex, plastic, photograph on paper, t...   \n69198                               Soap and glass beads   \n69199                                   Gallery lighting   \n69200                                Oil paint on canvas   \n\n                                              creditLine    year  \\\n0                    Presented by Mrs John Richmond 1922     NaN   \n1                    Presented by Mrs John Richmond 1922     NaN   \n2                    Presented by Mrs John Richmond 1922  1785.0   \n3                    Presented by Mrs John Richmond 1922     NaN   \n4      Purchased with the assistance of a special gra...  1826.0   \n...                                                  ...     ...   \n69196                 Transferred from Tate Archive 2012    1975   \n69197                 Transferred from Tate Archive 2012    1976   \n69198                     Presented by Tate Members 2013    1996   \n69199  Purchased with funds provided by Tate Members,...    2000   \n69200  Purchased with assistance from Tate Patrons an...    1764   \n\n       acquisitionYear                           dimensions width  height  \\\n0               1922.0                support: 394 x 419 mm   394   419.0   \n1               1922.0                support: 311 x 213 mm   311   213.0   \n2               1922.0                support: 343 x 467 mm   343   467.0   \n3               1922.0                support: 318 x 394 mm   318   394.0   \n4               1919.0                  image: 243 x 335 mm   243   335.0   \n...                ...                                  ...   ...     ...   \n69196           2013.0           object: 305 x 305 x 135 mm   305   305.0   \n69197           2013.0           object: 305 x 305 x 135 mm   305   305.0   \n69198           2013.0       displayed: 45 x 2410 x 2990 mm    45  2410.0   \n69199           2013.0  Overall display dimensions variable   NaN     NaN   \n69200           2013.0            unconfirmed: 508 x 660 mm   508   660.0   \n\n        depth units inscription thumbnailCopyright  \\\n0         NaN    mm         NaN                NaN   \n1         NaN    mm         NaN                NaN   \n2         NaN    mm         NaN                NaN   \n3         NaN    mm         NaN                NaN   \n4         NaN    mm         NaN                NaN   \n...       ...   ...         ...                ...   \n69196   135.0    mm         NaN                NaN   \n69197   135.0    mm         NaN                NaN   \n69198  2990.0    mm         NaN                NaN   \n69199     NaN   NaN         NaN                NaN   \n69200     NaN    mm         NaN                NaN   \n\n                                            thumbnailUrl  \\\n0      http://www.tate.org.uk/art/images/work/A/A00/A...   \n1      http://www.tate.org.uk/art/images/work/A/A00/A...   \n2      http://www.tate.org.uk/art/images/work/A/A00/A...   \n3      http://www.tate.org.uk/art/images/work/A/A00/A...   \n4      http://www.tate.org.uk/art/images/work/A/A00/A...   \n...                                                  ...   \n69196                                                NaN   \n69197                                                NaN   \n69198                                                NaN   \n69199                                                NaN   \n69200  http://www.tate.org.uk/art/images/work/T/T13/T...   \n\n                                                     url  \n0      http://www.tate.org.uk/art/artworks/blake-a-fi...  \n1      http://www.tate.org.uk/art/artworks/blake-two-...  \n2      http://www.tate.org.uk/art/artworks/blake-the-...  \n3      http://www.tate.org.uk/art/artworks/blake-six-...  \n4      http://www.tate.org.uk/art/artworks/blake-the-...  \n...                                                  ...  \n69196  http://www.tate.org.uk/art/artworks/p-orridge-...  \n69197  http://www.tate.org.uk/art/artworks/p-orridge-...  \n69198  http://www.tate.org.uk/art/artworks/hatoum-pre...  \n69199  http://www.tate.org.uk/art/artworks/creed-work...  \n69200  http://www.tate.org.uk/art/artworks/brunias-da...  \n\n[69201 rows x 20 columns]",
      "text/html": "<div>\n<style scoped>\n    .dataframe tbody tr th:only-of-type {\n        vertical-align: middle;\n    }\n\n    .dataframe tbody tr th {\n        vertical-align: top;\n    }\n\n    .dataframe thead th {\n        text-align: right;\n    }\n</style>\n<table border=\"1\" class=\"dataframe\">\n  <thead>\n    <tr style=\"text-align: right;\">\n      <th></th>\n      <th>id</th>\n      <th>accession_number</th>\n      <th>artist</th>\n      <th>artistRole</th>\n      <th>artistId</th>\n      <th>title</th>\n      <th>dateText</th>\n      <th>medium</th>\n      <th>creditLine</th>\n      <th>year</th>\n      <th>acquisitionYear</th>\n      <th>dimensions</th>\n      <th>width</th>\n      <th>height</th>\n      <th>depth</th>\n      <th>units</th>\n      <th>inscription</th>\n      <th>thumbnailCopyright</th>\n      <th>thumbnailUrl</th>\n      <th>url</th>\n    </tr>\n  </thead>\n  <tbody>\n    <tr>\n      <th>0</th>\n      <td>1035</td>\n      <td>A00001</td>\n      <td>Blake, Robert</td>\n      <td>artist</td>\n      <td>38</td>\n      <td>A Figure Bowing before a Seated Old Man with h...</td>\n      <td>date not known</td>\n      <td>Watercolour, ink, chalk and graphite on paper....</td>\n      <td>Presented by Mrs John Richmond 1922</td>\n      <td>NaN</td>\n      <td>1922.0</td>\n      <td>support: 394 x 419 mm</td>\n      <td>394</td>\n      <td>419.0</td>\n      <td>NaN</td>\n      <td>mm</td>\n      <td>NaN</td>\n      <td>NaN</td>\n      <td>http://www.tate.org.uk/art/images/work/A/A00/A...</td>\n      <td>http://www.tate.org.uk/art/artworks/blake-a-fi...</td>\n    </tr>\n    <tr>\n      <th>1</th>\n      <td>1036</td>\n      <td>A00002</td>\n      <td>Blake, Robert</td>\n      <td>artist</td>\n      <td>38</td>\n      <td>Two Drawings of Frightened Figures, Probably f...</td>\n      <td>date not known</td>\n      <td>Graphite on paper</td>\n      <td>Presented by Mrs John Richmond 1922</td>\n      <td>NaN</td>\n      <td>1922.0</td>\n      <td>support: 311 x 213 mm</td>\n      <td>311</td>\n      <td>213.0</td>\n      <td>NaN</td>\n      <td>mm</td>\n      <td>NaN</td>\n      <td>NaN</td>\n      <td>http://www.tate.org.uk/art/images/work/A/A00/A...</td>\n      <td>http://www.tate.org.uk/art/artworks/blake-two-...</td>\n    </tr>\n    <tr>\n      <th>2</th>\n      <td>1037</td>\n      <td>A00003</td>\n      <td>Blake, Robert</td>\n      <td>artist</td>\n      <td>38</td>\n      <td>The Preaching of Warning. Verso: An Old Man En...</td>\n      <td>?c.1785</td>\n      <td>Graphite on paper. Verso: graphite on paper</td>\n      <td>Presented by Mrs John Richmond 1922</td>\n      <td>1785.0</td>\n      <td>1922.0</td>\n      <td>support: 343 x 467 mm</td>\n      <td>343</td>\n      <td>467.0</td>\n      <td>NaN</td>\n      <td>mm</td>\n      <td>NaN</td>\n      <td>NaN</td>\n      <td>http://www.tate.org.uk/art/images/work/A/A00/A...</td>\n      <td>http://www.tate.org.uk/art/artworks/blake-the-...</td>\n    </tr>\n    <tr>\n      <th>3</th>\n      <td>1038</td>\n      <td>A00004</td>\n      <td>Blake, Robert</td>\n      <td>artist</td>\n      <td>38</td>\n      <td>Six Drawings of Figures with Outstretched Arms</td>\n      <td>date not known</td>\n      <td>Graphite on paper</td>\n      <td>Presented by Mrs John Richmond 1922</td>\n      <td>NaN</td>\n      <td>1922.0</td>\n      <td>support: 318 x 394 mm</td>\n      <td>318</td>\n      <td>394.0</td>\n      <td>NaN</td>\n      <td>mm</td>\n      <td>NaN</td>\n      <td>NaN</td>\n      <td>http://www.tate.org.uk/art/images/work/A/A00/A...</td>\n      <td>http://www.tate.org.uk/art/artworks/blake-six-...</td>\n    </tr>\n    <tr>\n      <th>4</th>\n      <td>1039</td>\n      <td>A00005</td>\n      <td>Blake, William</td>\n      <td>artist</td>\n      <td>39</td>\n      <td>The Circle of the Lustful: Francesca da Rimini...</td>\n      <td>1826–7, reprinted 1892</td>\n      <td>Line engraving on paper</td>\n      <td>Purchased with the assistance of a special gra...</td>\n      <td>1826.0</td>\n      <td>1919.0</td>\n      <td>image: 243 x 335 mm</td>\n      <td>243</td>\n      <td>335.0</td>\n      <td>NaN</td>\n      <td>mm</td>\n      <td>NaN</td>\n      <td>NaN</td>\n      <td>http://www.tate.org.uk/art/images/work/A/A00/A...</td>\n      <td>http://www.tate.org.uk/art/artworks/blake-the-...</td>\n    </tr>\n    <tr>\n      <th>...</th>\n      <td>...</td>\n      <td>...</td>\n      <td>...</td>\n      <td>...</td>\n      <td>...</td>\n      <td>...</td>\n      <td>...</td>\n      <td>...</td>\n      <td>...</td>\n      <td>...</td>\n      <td>...</td>\n      <td>...</td>\n      <td>...</td>\n      <td>...</td>\n      <td>...</td>\n      <td>...</td>\n      <td>...</td>\n      <td>...</td>\n      <td>...</td>\n      <td>...</td>\n    </tr>\n    <tr>\n      <th>69196</th>\n      <td>122960</td>\n      <td>T13865</td>\n      <td>P-Orridge, Genesis</td>\n      <td>artist</td>\n      <td>16646</td>\n      <td>Larvae (from Tampax Romana)</td>\n      <td>1975</td>\n      <td>Perspex, Wood, hairpiece, tampon and human blood</td>\n      <td>Transferred from Tate Archive 2012</td>\n      <td>1975</td>\n      <td>2013.0</td>\n      <td>object: 305 x 305 x 135 mm</td>\n      <td>305</td>\n      <td>305.0</td>\n      <td>135.0</td>\n      <td>mm</td>\n      <td>NaN</td>\n      <td>NaN</td>\n      <td>NaN</td>\n      <td>http://www.tate.org.uk/art/artworks/p-orridge-...</td>\n    </tr>\n    <tr>\n      <th>69197</th>\n      <td>122961</td>\n      <td>T13866</td>\n      <td>P-Orridge, Genesis</td>\n      <td>artist</td>\n      <td>16646</td>\n      <td>Living Womb (from Tampax Romana)</td>\n      <td>1976</td>\n      <td>Wood, Perspex, plastic, photograph on paper, t...</td>\n      <td>Transferred from Tate Archive 2012</td>\n      <td>1976</td>\n      <td>2013.0</td>\n      <td>object: 305 x 305 x 135 mm</td>\n      <td>305</td>\n      <td>305.0</td>\n      <td>135.0</td>\n      <td>mm</td>\n      <td>NaN</td>\n      <td>NaN</td>\n      <td>NaN</td>\n      <td>http://www.tate.org.uk/art/artworks/p-orridge-...</td>\n    </tr>\n    <tr>\n      <th>69198</th>\n      <td>121181</td>\n      <td>T13867</td>\n      <td>Hatoum, Mona</td>\n      <td>artist</td>\n      <td>2365</td>\n      <td>Present Tense</td>\n      <td>1996</td>\n      <td>Soap and glass beads</td>\n      <td>Presented by Tate Members 2013</td>\n      <td>1996</td>\n      <td>2013.0</td>\n      <td>displayed: 45 x 2410 x 2990 mm</td>\n      <td>45</td>\n      <td>2410.0</td>\n      <td>2990.0</td>\n      <td>mm</td>\n      <td>NaN</td>\n      <td>NaN</td>\n      <td>NaN</td>\n      <td>http://www.tate.org.uk/art/artworks/hatoum-pre...</td>\n    </tr>\n    <tr>\n      <th>69199</th>\n      <td>112306</td>\n      <td>T13868</td>\n      <td>Creed, Martin</td>\n      <td>artist</td>\n      <td>2760</td>\n      <td>Work No. 227: The lights going on and off</td>\n      <td>2000</td>\n      <td>Gallery lighting</td>\n      <td>Purchased with funds provided by Tate Members,...</td>\n      <td>2000</td>\n      <td>2013.0</td>\n      <td>Overall display dimensions variable</td>\n      <td>NaN</td>\n      <td>NaN</td>\n      <td>NaN</td>\n      <td>NaN</td>\n      <td>NaN</td>\n      <td>NaN</td>\n      <td>NaN</td>\n      <td>http://www.tate.org.uk/art/artworks/creed-work...</td>\n    </tr>\n    <tr>\n      <th>69200</th>\n      <td>127035</td>\n      <td>T13869</td>\n      <td>Brunias, Agostino</td>\n      <td>artist</td>\n      <td>3824</td>\n      <td>Dancing Scene in the West Indies</td>\n      <td>1764–96</td>\n      <td>Oil paint on canvas</td>\n      <td>Purchased with assistance from Tate Patrons an...</td>\n      <td>1764</td>\n      <td>2013.0</td>\n      <td>unconfirmed: 508 x 660 mm</td>\n      <td>508</td>\n      <td>660.0</td>\n      <td>NaN</td>\n      <td>mm</td>\n      <td>NaN</td>\n      <td>NaN</td>\n      <td>http://www.tate.org.uk/art/images/work/T/T13/T...</td>\n      <td>http://www.tate.org.uk/art/artworks/brunias-da...</td>\n    </tr>\n  </tbody>\n</table>\n<p>69201 rows × 20 columns</p>\n</div>"
     },
     "execution_count": 62,
     "metadata": {},
     "output_type": "execute_result"
    }
   ],
   "source": [
    "# can be used at the end of processing data\n",
    "# e.g after setting up na values to different columns, and at the end\n",
    "# if there is any row which has been set to na totally, just drop that row.\n",
    "data.dropna(how='all')"
   ],
   "metadata": {
    "collapsed": false,
    "pycharm": {
     "name": "#%%\n"
    }
   }
  },
  {
   "cell_type": "code",
   "execution_count": 63,
   "outputs": [
    {
     "name": "stdout",
     "output_type": "stream",
     "text": [
      "(69201, 20)\n",
      "(69201, 20)\n"
     ]
    }
   ],
   "source": [
    "print(data.shape)\n",
    "print(data.dropna(how='all').shape)\n"
   ],
   "metadata": {
    "collapsed": false,
    "pycharm": {
     "name": "#%%\n"
    }
   }
  },
  {
   "cell_type": "code",
   "execution_count": 70,
   "outputs": [
    {
     "data": {
      "text/plain": "20"
     },
     "execution_count": 70,
     "metadata": {},
     "output_type": "execute_result"
    }
   ],
   "source": [
    "len(list(data.columns))"
   ],
   "metadata": {
    "collapsed": false,
    "pycharm": {
     "name": "#%%\n"
    }
   }
  },
  {
   "cell_type": "code",
   "execution_count": 72,
   "outputs": [
    {
     "data": {
      "text/plain": "           id accession_number              artist artistRole  artistId  \\\n0        1035           A00001       Blake, Robert     artist        38   \n1        1036           A00002       Blake, Robert     artist        38   \n2        1037           A00003       Blake, Robert     artist        38   \n3        1038           A00004       Blake, Robert     artist        38   \n4        1039           A00005      Blake, William     artist        39   \n...       ...              ...                 ...        ...       ...   \n69195  122959           T13864  P-Orridge, Genesis     artist     16646   \n69196  122960           T13865  P-Orridge, Genesis     artist     16646   \n69197  122961           T13866  P-Orridge, Genesis     artist     16646   \n69198  121181           T13867        Hatoum, Mona     artist      2365   \n69200  127035           T13869   Brunias, Agostino     artist      3824   \n\n                                                   title  \\\n0      A Figure Bowing before a Seated Old Man with h...   \n1      Two Drawings of Frightened Figures, Probably f...   \n2      The Preaching of Warning. Verso: An Old Man En...   \n3         Six Drawings of Figures with Outstretched Arms   \n4      The Circle of the Lustful: Francesca da Rimini...   \n...                                                  ...   \n69195   It’s That Time Of The Month (from Tampax Romana)   \n69196                        Larvae (from Tampax Romana)   \n69197                   Living Womb (from Tampax Romana)   \n69198                                      Present Tense   \n69200                   Dancing Scene in the West Indies   \n\n                     dateText  \\\n0              date not known   \n1              date not known   \n2                     ?c.1785   \n3              date not known   \n4      1826–7, reprinted 1892   \n...                       ...   \n69195                    1975   \n69196                    1975   \n69197                    1976   \n69198                    1996   \n69200                 1764–96   \n\n                                                  medium  \\\n0      Watercolour, ink, chalk and graphite on paper....   \n1                                      Graphite on paper   \n2            Graphite on paper. Verso: graphite on paper   \n3                                      Graphite on paper   \n4                                Line engraving on paper   \n...                                                  ...   \n69195  Wood, Perspex, clock case, tampons and human b...   \n69196   Perspex, Wood, hairpiece, tampon and human blood   \n69197  Wood, Perspex, plastic, photograph on paper, t...   \n69198                               Soap and glass beads   \n69200                                Oil paint on canvas   \n\n                                              creditLine    year  \\\n0                    Presented by Mrs John Richmond 1922     NaN   \n1                    Presented by Mrs John Richmond 1922     NaN   \n2                    Presented by Mrs John Richmond 1922  1785.0   \n3                    Presented by Mrs John Richmond 1922     NaN   \n4      Purchased with the assistance of a special gra...  1826.0   \n...                                                  ...     ...   \n69195                 Transferred from Tate Archive 2012    1975   \n69196                 Transferred from Tate Archive 2012    1975   \n69197                 Transferred from Tate Archive 2012    1976   \n69198                     Presented by Tate Members 2013    1996   \n69200  Purchased with assistance from Tate Patrons an...    1764   \n\n       acquisitionYear                      dimensions width  height   depth  \\\n0               1922.0           support: 394 x 419 mm   394   419.0     NaN   \n1               1922.0           support: 311 x 213 mm   311   213.0     NaN   \n2               1922.0           support: 343 x 467 mm   343   467.0     NaN   \n3               1922.0           support: 318 x 394 mm   318   394.0     NaN   \n4               1919.0             image: 243 x 335 mm   243   335.0     NaN   \n...                ...                             ...   ...     ...     ...   \n69195           2013.0      object: 305 x 305 x 135 mm   305   305.0   135.0   \n69196           2013.0      object: 305 x 305 x 135 mm   305   305.0   135.0   \n69197           2013.0      object: 305 x 305 x 135 mm   305   305.0   135.0   \n69198           2013.0  displayed: 45 x 2410 x 2990 mm    45  2410.0  2990.0   \n69200           2013.0       unconfirmed: 508 x 660 mm   508   660.0     NaN   \n\n      units inscription   thumbnailCopyright  \\\n0        mm         NaN                  NaN   \n1        mm         NaN                  NaN   \n2        mm         NaN                  NaN   \n3        mm         NaN                  NaN   \n4        mm         NaN                  NaN   \n...     ...         ...                  ...   \n69195    mm         NaN  © Genesis P-Orridge   \n69196    mm         NaN                  NaN   \n69197    mm         NaN                  NaN   \n69198    mm         NaN                  NaN   \n69200    mm         NaN                  NaN   \n\n                                            thumbnailUrl  \\\n0      http://www.tate.org.uk/art/images/work/A/A00/A...   \n1      http://www.tate.org.uk/art/images/work/A/A00/A...   \n2      http://www.tate.org.uk/art/images/work/A/A00/A...   \n3      http://www.tate.org.uk/art/images/work/A/A00/A...   \n4      http://www.tate.org.uk/art/images/work/A/A00/A...   \n...                                                  ...   \n69195  http://www.tate.org.uk/art/images/work/T/T13/T...   \n69196                                                NaN   \n69197                                                NaN   \n69198                                                NaN   \n69200  http://www.tate.org.uk/art/images/work/T/T13/T...   \n\n                                                     url  \n0      http://www.tate.org.uk/art/artworks/blake-a-fi...  \n1      http://www.tate.org.uk/art/artworks/blake-two-...  \n2      http://www.tate.org.uk/art/artworks/blake-the-...  \n3      http://www.tate.org.uk/art/artworks/blake-six-...  \n4      http://www.tate.org.uk/art/artworks/blake-the-...  \n...                                                  ...  \n69195  http://www.tate.org.uk/art/artworks/p-orridge-...  \n69196  http://www.tate.org.uk/art/artworks/p-orridge-...  \n69197  http://www.tate.org.uk/art/artworks/p-orridge-...  \n69198  http://www.tate.org.uk/art/artworks/hatoum-pre...  \n69200  http://www.tate.org.uk/art/artworks/brunias-da...  \n\n[66379 rows x 20 columns]",
      "text/html": "<div>\n<style scoped>\n    .dataframe tbody tr th:only-of-type {\n        vertical-align: middle;\n    }\n\n    .dataframe tbody tr th {\n        vertical-align: top;\n    }\n\n    .dataframe thead th {\n        text-align: right;\n    }\n</style>\n<table border=\"1\" class=\"dataframe\">\n  <thead>\n    <tr style=\"text-align: right;\">\n      <th></th>\n      <th>id</th>\n      <th>accession_number</th>\n      <th>artist</th>\n      <th>artistRole</th>\n      <th>artistId</th>\n      <th>title</th>\n      <th>dateText</th>\n      <th>medium</th>\n      <th>creditLine</th>\n      <th>year</th>\n      <th>acquisitionYear</th>\n      <th>dimensions</th>\n      <th>width</th>\n      <th>height</th>\n      <th>depth</th>\n      <th>units</th>\n      <th>inscription</th>\n      <th>thumbnailCopyright</th>\n      <th>thumbnailUrl</th>\n      <th>url</th>\n    </tr>\n  </thead>\n  <tbody>\n    <tr>\n      <th>0</th>\n      <td>1035</td>\n      <td>A00001</td>\n      <td>Blake, Robert</td>\n      <td>artist</td>\n      <td>38</td>\n      <td>A Figure Bowing before a Seated Old Man with h...</td>\n      <td>date not known</td>\n      <td>Watercolour, ink, chalk and graphite on paper....</td>\n      <td>Presented by Mrs John Richmond 1922</td>\n      <td>NaN</td>\n      <td>1922.0</td>\n      <td>support: 394 x 419 mm</td>\n      <td>394</td>\n      <td>419.0</td>\n      <td>NaN</td>\n      <td>mm</td>\n      <td>NaN</td>\n      <td>NaN</td>\n      <td>http://www.tate.org.uk/art/images/work/A/A00/A...</td>\n      <td>http://www.tate.org.uk/art/artworks/blake-a-fi...</td>\n    </tr>\n    <tr>\n      <th>1</th>\n      <td>1036</td>\n      <td>A00002</td>\n      <td>Blake, Robert</td>\n      <td>artist</td>\n      <td>38</td>\n      <td>Two Drawings of Frightened Figures, Probably f...</td>\n      <td>date not known</td>\n      <td>Graphite on paper</td>\n      <td>Presented by Mrs John Richmond 1922</td>\n      <td>NaN</td>\n      <td>1922.0</td>\n      <td>support: 311 x 213 mm</td>\n      <td>311</td>\n      <td>213.0</td>\n      <td>NaN</td>\n      <td>mm</td>\n      <td>NaN</td>\n      <td>NaN</td>\n      <td>http://www.tate.org.uk/art/images/work/A/A00/A...</td>\n      <td>http://www.tate.org.uk/art/artworks/blake-two-...</td>\n    </tr>\n    <tr>\n      <th>2</th>\n      <td>1037</td>\n      <td>A00003</td>\n      <td>Blake, Robert</td>\n      <td>artist</td>\n      <td>38</td>\n      <td>The Preaching of Warning. Verso: An Old Man En...</td>\n      <td>?c.1785</td>\n      <td>Graphite on paper. Verso: graphite on paper</td>\n      <td>Presented by Mrs John Richmond 1922</td>\n      <td>1785.0</td>\n      <td>1922.0</td>\n      <td>support: 343 x 467 mm</td>\n      <td>343</td>\n      <td>467.0</td>\n      <td>NaN</td>\n      <td>mm</td>\n      <td>NaN</td>\n      <td>NaN</td>\n      <td>http://www.tate.org.uk/art/images/work/A/A00/A...</td>\n      <td>http://www.tate.org.uk/art/artworks/blake-the-...</td>\n    </tr>\n    <tr>\n      <th>3</th>\n      <td>1038</td>\n      <td>A00004</td>\n      <td>Blake, Robert</td>\n      <td>artist</td>\n      <td>38</td>\n      <td>Six Drawings of Figures with Outstretched Arms</td>\n      <td>date not known</td>\n      <td>Graphite on paper</td>\n      <td>Presented by Mrs John Richmond 1922</td>\n      <td>NaN</td>\n      <td>1922.0</td>\n      <td>support: 318 x 394 mm</td>\n      <td>318</td>\n      <td>394.0</td>\n      <td>NaN</td>\n      <td>mm</td>\n      <td>NaN</td>\n      <td>NaN</td>\n      <td>http://www.tate.org.uk/art/images/work/A/A00/A...</td>\n      <td>http://www.tate.org.uk/art/artworks/blake-six-...</td>\n    </tr>\n    <tr>\n      <th>4</th>\n      <td>1039</td>\n      <td>A00005</td>\n      <td>Blake, William</td>\n      <td>artist</td>\n      <td>39</td>\n      <td>The Circle of the Lustful: Francesca da Rimini...</td>\n      <td>1826–7, reprinted 1892</td>\n      <td>Line engraving on paper</td>\n      <td>Purchased with the assistance of a special gra...</td>\n      <td>1826.0</td>\n      <td>1919.0</td>\n      <td>image: 243 x 335 mm</td>\n      <td>243</td>\n      <td>335.0</td>\n      <td>NaN</td>\n      <td>mm</td>\n      <td>NaN</td>\n      <td>NaN</td>\n      <td>http://www.tate.org.uk/art/images/work/A/A00/A...</td>\n      <td>http://www.tate.org.uk/art/artworks/blake-the-...</td>\n    </tr>\n    <tr>\n      <th>...</th>\n      <td>...</td>\n      <td>...</td>\n      <td>...</td>\n      <td>...</td>\n      <td>...</td>\n      <td>...</td>\n      <td>...</td>\n      <td>...</td>\n      <td>...</td>\n      <td>...</td>\n      <td>...</td>\n      <td>...</td>\n      <td>...</td>\n      <td>...</td>\n      <td>...</td>\n      <td>...</td>\n      <td>...</td>\n      <td>...</td>\n      <td>...</td>\n      <td>...</td>\n    </tr>\n    <tr>\n      <th>69195</th>\n      <td>122959</td>\n      <td>T13864</td>\n      <td>P-Orridge, Genesis</td>\n      <td>artist</td>\n      <td>16646</td>\n      <td>It’s That Time Of The Month (from Tampax Romana)</td>\n      <td>1975</td>\n      <td>Wood, Perspex, clock case, tampons and human b...</td>\n      <td>Transferred from Tate Archive 2012</td>\n      <td>1975</td>\n      <td>2013.0</td>\n      <td>object: 305 x 305 x 135 mm</td>\n      <td>305</td>\n      <td>305.0</td>\n      <td>135.0</td>\n      <td>mm</td>\n      <td>NaN</td>\n      <td>© Genesis P-Orridge</td>\n      <td>http://www.tate.org.uk/art/images/work/T/T13/T...</td>\n      <td>http://www.tate.org.uk/art/artworks/p-orridge-...</td>\n    </tr>\n    <tr>\n      <th>69196</th>\n      <td>122960</td>\n      <td>T13865</td>\n      <td>P-Orridge, Genesis</td>\n      <td>artist</td>\n      <td>16646</td>\n      <td>Larvae (from Tampax Romana)</td>\n      <td>1975</td>\n      <td>Perspex, Wood, hairpiece, tampon and human blood</td>\n      <td>Transferred from Tate Archive 2012</td>\n      <td>1975</td>\n      <td>2013.0</td>\n      <td>object: 305 x 305 x 135 mm</td>\n      <td>305</td>\n      <td>305.0</td>\n      <td>135.0</td>\n      <td>mm</td>\n      <td>NaN</td>\n      <td>NaN</td>\n      <td>NaN</td>\n      <td>http://www.tate.org.uk/art/artworks/p-orridge-...</td>\n    </tr>\n    <tr>\n      <th>69197</th>\n      <td>122961</td>\n      <td>T13866</td>\n      <td>P-Orridge, Genesis</td>\n      <td>artist</td>\n      <td>16646</td>\n      <td>Living Womb (from Tampax Romana)</td>\n      <td>1976</td>\n      <td>Wood, Perspex, plastic, photograph on paper, t...</td>\n      <td>Transferred from Tate Archive 2012</td>\n      <td>1976</td>\n      <td>2013.0</td>\n      <td>object: 305 x 305 x 135 mm</td>\n      <td>305</td>\n      <td>305.0</td>\n      <td>135.0</td>\n      <td>mm</td>\n      <td>NaN</td>\n      <td>NaN</td>\n      <td>NaN</td>\n      <td>http://www.tate.org.uk/art/artworks/p-orridge-...</td>\n    </tr>\n    <tr>\n      <th>69198</th>\n      <td>121181</td>\n      <td>T13867</td>\n      <td>Hatoum, Mona</td>\n      <td>artist</td>\n      <td>2365</td>\n      <td>Present Tense</td>\n      <td>1996</td>\n      <td>Soap and glass beads</td>\n      <td>Presented by Tate Members 2013</td>\n      <td>1996</td>\n      <td>2013.0</td>\n      <td>displayed: 45 x 2410 x 2990 mm</td>\n      <td>45</td>\n      <td>2410.0</td>\n      <td>2990.0</td>\n      <td>mm</td>\n      <td>NaN</td>\n      <td>NaN</td>\n      <td>NaN</td>\n      <td>http://www.tate.org.uk/art/artworks/hatoum-pre...</td>\n    </tr>\n    <tr>\n      <th>69200</th>\n      <td>127035</td>\n      <td>T13869</td>\n      <td>Brunias, Agostino</td>\n      <td>artist</td>\n      <td>3824</td>\n      <td>Dancing Scene in the West Indies</td>\n      <td>1764–96</td>\n      <td>Oil paint on canvas</td>\n      <td>Purchased with assistance from Tate Patrons an...</td>\n      <td>1764</td>\n      <td>2013.0</td>\n      <td>unconfirmed: 508 x 660 mm</td>\n      <td>508</td>\n      <td>660.0</td>\n      <td>NaN</td>\n      <td>mm</td>\n      <td>NaN</td>\n      <td>NaN</td>\n      <td>http://www.tate.org.uk/art/images/work/T/T13/T...</td>\n      <td>http://www.tate.org.uk/art/artworks/brunias-da...</td>\n    </tr>\n  </tbody>\n</table>\n<p>66379 rows × 20 columns</p>\n</div>"
     },
     "execution_count": 72,
     "metadata": {},
     "output_type": "execute_result"
    }
   ],
   "source": [
    "# drop rows using a thresh value\n",
    "\n",
    "# thresh : int, optional\n",
    "# Require that many non-NA values.\n",
    "data.dropna(thresh=15) # at least 15 values should not be nan values"
   ],
   "metadata": {
    "collapsed": false,
    "pycharm": {
     "name": "#%%\n"
    }
   }
  },
  {
   "cell_type": "code",
   "execution_count": 67,
   "outputs": [
    {
     "name": "stdout",
     "output_type": "stream",
     "text": [
      "Help on method dropna in module pandas.core.frame:\n",
      "\n",
      "dropna(axis: 'Axis' = 0, how: 'str' = 'any', thresh=None, subset: 'IndexLabel' = None, inplace: 'bool' = False) method of pandas.core.frame.DataFrame instance\n",
      "    Remove missing values.\n",
      "    \n",
      "    See the :ref:`User Guide <missing_data>` for more on which values are\n",
      "    considered missing, and how to work with missing data.\n",
      "    \n",
      "    Parameters\n",
      "    ----------\n",
      "    axis : {0 or 'index', 1 or 'columns'}, default 0\n",
      "        Determine if rows or columns which contain missing values are\n",
      "        removed.\n",
      "    \n",
      "        * 0, or 'index' : Drop rows which contain missing values.\n",
      "        * 1, or 'columns' : Drop columns which contain missing value.\n",
      "    \n",
      "        .. versionchanged:: 1.0.0\n",
      "    \n",
      "           Pass tuple or list to drop on multiple axes.\n",
      "           Only a single axis is allowed.\n",
      "    \n",
      "    how : {'any', 'all'}, default 'any'\n",
      "        Determine if row or column is removed from DataFrame, when we have\n",
      "        at least one NA or all NA.\n",
      "    \n",
      "        * 'any' : If any NA values are present, drop that row or column.\n",
      "        * 'all' : If all values are NA, drop that row or column.\n",
      "    \n",
      "    thresh : int, optional\n",
      "        Require that many non-NA values.\n",
      "    subset : column label or sequence of labels, optional\n",
      "        Labels along other axis to consider, e.g. if you are dropping rows\n",
      "        these would be a list of columns to include.\n",
      "    inplace : bool, default False\n",
      "        If True, do operation inplace and return None.\n",
      "    \n",
      "    Returns\n",
      "    -------\n",
      "    DataFrame or None\n",
      "        DataFrame with NA entries dropped from it or None if ``inplace=True``.\n",
      "    \n",
      "    See Also\n",
      "    --------\n",
      "    DataFrame.isna: Indicate missing values.\n",
      "    DataFrame.notna : Indicate existing (non-missing) values.\n",
      "    DataFrame.fillna : Replace missing values.\n",
      "    Series.dropna : Drop missing values.\n",
      "    Index.dropna : Drop missing indices.\n",
      "    \n",
      "    Examples\n",
      "    --------\n",
      "    >>> df = pd.DataFrame({\"name\": ['Alfred', 'Batman', 'Catwoman'],\n",
      "    ...                    \"toy\": [np.nan, 'Batmobile', 'Bullwhip'],\n",
      "    ...                    \"born\": [pd.NaT, pd.Timestamp(\"1940-04-25\"),\n",
      "    ...                             pd.NaT]})\n",
      "    >>> df\n",
      "           name        toy       born\n",
      "    0    Alfred        NaN        NaT\n",
      "    1    Batman  Batmobile 1940-04-25\n",
      "    2  Catwoman   Bullwhip        NaT\n",
      "    \n",
      "    Drop the rows where at least one element is missing.\n",
      "    \n",
      "    >>> df.dropna()\n",
      "         name        toy       born\n",
      "    1  Batman  Batmobile 1940-04-25\n",
      "    \n",
      "    Drop the columns where at least one element is missing.\n",
      "    \n",
      "    >>> df.dropna(axis='columns')\n",
      "           name\n",
      "    0    Alfred\n",
      "    1    Batman\n",
      "    2  Catwoman\n",
      "    \n",
      "    Drop the rows where all elements are missing.\n",
      "    \n",
      "    >>> df.dropna(how='all')\n",
      "           name        toy       born\n",
      "    0    Alfred        NaN        NaT\n",
      "    1    Batman  Batmobile 1940-04-25\n",
      "    2  Catwoman   Bullwhip        NaT\n",
      "    \n",
      "    Keep only the rows with at least 2 non-NA values.\n",
      "    \n",
      "    >>> df.dropna(thresh=2)\n",
      "           name        toy       born\n",
      "    1    Batman  Batmobile 1940-04-25\n",
      "    2  Catwoman   Bullwhip        NaT\n",
      "    \n",
      "    Define in which columns to look for missing values.\n",
      "    \n",
      "    >>> df.dropna(subset=['name', 'toy'])\n",
      "           name        toy       born\n",
      "    1    Batman  Batmobile 1940-04-25\n",
      "    2  Catwoman   Bullwhip        NaT\n",
      "    \n",
      "    Keep the DataFrame with valid entries in the same variable.\n",
      "    \n",
      "    >>> df.dropna(inplace=True)\n",
      "    >>> df\n",
      "         name        toy       born\n",
      "    1  Batman  Batmobile 1940-04-25\n",
      "\n"
     ]
    }
   ],
   "source": [
    "help(data.dropna)\n"
   ],
   "metadata": {
    "collapsed": false,
    "pycharm": {
     "name": "#%%\n"
    }
   }
  },
  {
   "cell_type": "code",
   "execution_count": 73,
   "outputs": [
    {
     "data": {
      "text/plain": "           id accession_number              artist artistRole  artistId  \\\n0        1035           A00001       Blake, Robert     artist        38   \n1        1036           A00002       Blake, Robert     artist        38   \n2        1037           A00003       Blake, Robert     artist        38   \n3        1038           A00004       Blake, Robert     artist        38   \n4        1039           A00005      Blake, William     artist        39   \n...       ...              ...                 ...        ...       ...   \n69196  122960           T13865  P-Orridge, Genesis     artist     16646   \n69197  122961           T13866  P-Orridge, Genesis     artist     16646   \n69198  121181           T13867        Hatoum, Mona     artist      2365   \n69199  112306           T13868       Creed, Martin     artist      2760   \n69200  127035           T13869   Brunias, Agostino     artist      3824   \n\n                                                   title  \\\n0      A Figure Bowing before a Seated Old Man with h...   \n1      Two Drawings of Frightened Figures, Probably f...   \n2      The Preaching of Warning. Verso: An Old Man En...   \n3         Six Drawings of Figures with Outstretched Arms   \n4      The Circle of the Lustful: Francesca da Rimini...   \n...                                                  ...   \n69196                        Larvae (from Tampax Romana)   \n69197                   Living Womb (from Tampax Romana)   \n69198                                      Present Tense   \n69199          Work No. 227: The lights going on and off   \n69200                   Dancing Scene in the West Indies   \n\n                     dateText  \\\n0              date not known   \n1              date not known   \n2                     ?c.1785   \n3              date not known   \n4      1826–7, reprinted 1892   \n...                       ...   \n69196                    1975   \n69197                    1976   \n69198                    1996   \n69199                    2000   \n69200                 1764–96   \n\n                                                  medium  \\\n0      Watercolour, ink, chalk and graphite on paper....   \n1                                      Graphite on paper   \n2            Graphite on paper. Verso: graphite on paper   \n3                                      Graphite on paper   \n4                                Line engraving on paper   \n...                                                  ...   \n69196   Perspex, Wood, hairpiece, tampon and human blood   \n69197  Wood, Perspex, plastic, photograph on paper, t...   \n69198                               Soap and glass beads   \n69199                                   Gallery lighting   \n69200                                Oil paint on canvas   \n\n                                              creditLine    year  \\\n0                    Presented by Mrs John Richmond 1922     NaN   \n1                    Presented by Mrs John Richmond 1922     NaN   \n2                    Presented by Mrs John Richmond 1922  1785.0   \n3                    Presented by Mrs John Richmond 1922     NaN   \n4      Purchased with the assistance of a special gra...  1826.0   \n...                                                  ...     ...   \n69196                 Transferred from Tate Archive 2012    1975   \n69197                 Transferred from Tate Archive 2012    1976   \n69198                     Presented by Tate Members 2013    1996   \n69199  Purchased with funds provided by Tate Members,...    2000   \n69200  Purchased with assistance from Tate Patrons an...    1764   \n\n       acquisitionYear                           dimensions width  height  \\\n0               1922.0                support: 394 x 419 mm   394   419.0   \n1               1922.0                support: 311 x 213 mm   311   213.0   \n2               1922.0                support: 343 x 467 mm   343   467.0   \n3               1922.0                support: 318 x 394 mm   318   394.0   \n4               1919.0                  image: 243 x 335 mm   243   335.0   \n...                ...                                  ...   ...     ...   \n69196           2013.0           object: 305 x 305 x 135 mm   305   305.0   \n69197           2013.0           object: 305 x 305 x 135 mm   305   305.0   \n69198           2013.0       displayed: 45 x 2410 x 2990 mm    45  2410.0   \n69199           2013.0  Overall display dimensions variable   NaN     NaN   \n69200           2013.0            unconfirmed: 508 x 660 mm   508   660.0   \n\n        depth units inscription thumbnailCopyright  \\\n0         NaN    mm         NaN                NaN   \n1         NaN    mm         NaN                NaN   \n2         NaN    mm         NaN                NaN   \n3         NaN    mm         NaN                NaN   \n4         NaN    mm         NaN                NaN   \n...       ...   ...         ...                ...   \n69196   135.0    mm         NaN                NaN   \n69197   135.0    mm         NaN                NaN   \n69198  2990.0    mm         NaN                NaN   \n69199     NaN   NaN         NaN                NaN   \n69200     NaN    mm         NaN                NaN   \n\n                                            thumbnailUrl  \\\n0      http://www.tate.org.uk/art/images/work/A/A00/A...   \n1      http://www.tate.org.uk/art/images/work/A/A00/A...   \n2      http://www.tate.org.uk/art/images/work/A/A00/A...   \n3      http://www.tate.org.uk/art/images/work/A/A00/A...   \n4      http://www.tate.org.uk/art/images/work/A/A00/A...   \n...                                                  ...   \n69196                                                NaN   \n69197                                                NaN   \n69198                                                NaN   \n69199                                                NaN   \n69200  http://www.tate.org.uk/art/images/work/T/T13/T...   \n\n                                                     url  \n0      http://www.tate.org.uk/art/artworks/blake-a-fi...  \n1      http://www.tate.org.uk/art/artworks/blake-two-...  \n2      http://www.tate.org.uk/art/artworks/blake-the-...  \n3      http://www.tate.org.uk/art/artworks/blake-six-...  \n4      http://www.tate.org.uk/art/artworks/blake-the-...  \n...                                                  ...  \n69196  http://www.tate.org.uk/art/artworks/p-orridge-...  \n69197  http://www.tate.org.uk/art/artworks/p-orridge-...  \n69198  http://www.tate.org.uk/art/artworks/hatoum-pre...  \n69199  http://www.tate.org.uk/art/artworks/creed-work...  \n69200  http://www.tate.org.uk/art/artworks/brunias-da...  \n\n[69198 rows x 20 columns]",
      "text/html": "<div>\n<style scoped>\n    .dataframe tbody tr th:only-of-type {\n        vertical-align: middle;\n    }\n\n    .dataframe tbody tr th {\n        vertical-align: top;\n    }\n\n    .dataframe thead th {\n        text-align: right;\n    }\n</style>\n<table border=\"1\" class=\"dataframe\">\n  <thead>\n    <tr style=\"text-align: right;\">\n      <th></th>\n      <th>id</th>\n      <th>accession_number</th>\n      <th>artist</th>\n      <th>artistRole</th>\n      <th>artistId</th>\n      <th>title</th>\n      <th>dateText</th>\n      <th>medium</th>\n      <th>creditLine</th>\n      <th>year</th>\n      <th>acquisitionYear</th>\n      <th>dimensions</th>\n      <th>width</th>\n      <th>height</th>\n      <th>depth</th>\n      <th>units</th>\n      <th>inscription</th>\n      <th>thumbnailCopyright</th>\n      <th>thumbnailUrl</th>\n      <th>url</th>\n    </tr>\n  </thead>\n  <tbody>\n    <tr>\n      <th>0</th>\n      <td>1035</td>\n      <td>A00001</td>\n      <td>Blake, Robert</td>\n      <td>artist</td>\n      <td>38</td>\n      <td>A Figure Bowing before a Seated Old Man with h...</td>\n      <td>date not known</td>\n      <td>Watercolour, ink, chalk and graphite on paper....</td>\n      <td>Presented by Mrs John Richmond 1922</td>\n      <td>NaN</td>\n      <td>1922.0</td>\n      <td>support: 394 x 419 mm</td>\n      <td>394</td>\n      <td>419.0</td>\n      <td>NaN</td>\n      <td>mm</td>\n      <td>NaN</td>\n      <td>NaN</td>\n      <td>http://www.tate.org.uk/art/images/work/A/A00/A...</td>\n      <td>http://www.tate.org.uk/art/artworks/blake-a-fi...</td>\n    </tr>\n    <tr>\n      <th>1</th>\n      <td>1036</td>\n      <td>A00002</td>\n      <td>Blake, Robert</td>\n      <td>artist</td>\n      <td>38</td>\n      <td>Two Drawings of Frightened Figures, Probably f...</td>\n      <td>date not known</td>\n      <td>Graphite on paper</td>\n      <td>Presented by Mrs John Richmond 1922</td>\n      <td>NaN</td>\n      <td>1922.0</td>\n      <td>support: 311 x 213 mm</td>\n      <td>311</td>\n      <td>213.0</td>\n      <td>NaN</td>\n      <td>mm</td>\n      <td>NaN</td>\n      <td>NaN</td>\n      <td>http://www.tate.org.uk/art/images/work/A/A00/A...</td>\n      <td>http://www.tate.org.uk/art/artworks/blake-two-...</td>\n    </tr>\n    <tr>\n      <th>2</th>\n      <td>1037</td>\n      <td>A00003</td>\n      <td>Blake, Robert</td>\n      <td>artist</td>\n      <td>38</td>\n      <td>The Preaching of Warning. Verso: An Old Man En...</td>\n      <td>?c.1785</td>\n      <td>Graphite on paper. Verso: graphite on paper</td>\n      <td>Presented by Mrs John Richmond 1922</td>\n      <td>1785.0</td>\n      <td>1922.0</td>\n      <td>support: 343 x 467 mm</td>\n      <td>343</td>\n      <td>467.0</td>\n      <td>NaN</td>\n      <td>mm</td>\n      <td>NaN</td>\n      <td>NaN</td>\n      <td>http://www.tate.org.uk/art/images/work/A/A00/A...</td>\n      <td>http://www.tate.org.uk/art/artworks/blake-the-...</td>\n    </tr>\n    <tr>\n      <th>3</th>\n      <td>1038</td>\n      <td>A00004</td>\n      <td>Blake, Robert</td>\n      <td>artist</td>\n      <td>38</td>\n      <td>Six Drawings of Figures with Outstretched Arms</td>\n      <td>date not known</td>\n      <td>Graphite on paper</td>\n      <td>Presented by Mrs John Richmond 1922</td>\n      <td>NaN</td>\n      <td>1922.0</td>\n      <td>support: 318 x 394 mm</td>\n      <td>318</td>\n      <td>394.0</td>\n      <td>NaN</td>\n      <td>mm</td>\n      <td>NaN</td>\n      <td>NaN</td>\n      <td>http://www.tate.org.uk/art/images/work/A/A00/A...</td>\n      <td>http://www.tate.org.uk/art/artworks/blake-six-...</td>\n    </tr>\n    <tr>\n      <th>4</th>\n      <td>1039</td>\n      <td>A00005</td>\n      <td>Blake, William</td>\n      <td>artist</td>\n      <td>39</td>\n      <td>The Circle of the Lustful: Francesca da Rimini...</td>\n      <td>1826–7, reprinted 1892</td>\n      <td>Line engraving on paper</td>\n      <td>Purchased with the assistance of a special gra...</td>\n      <td>1826.0</td>\n      <td>1919.0</td>\n      <td>image: 243 x 335 mm</td>\n      <td>243</td>\n      <td>335.0</td>\n      <td>NaN</td>\n      <td>mm</td>\n      <td>NaN</td>\n      <td>NaN</td>\n      <td>http://www.tate.org.uk/art/images/work/A/A00/A...</td>\n      <td>http://www.tate.org.uk/art/artworks/blake-the-...</td>\n    </tr>\n    <tr>\n      <th>...</th>\n      <td>...</td>\n      <td>...</td>\n      <td>...</td>\n      <td>...</td>\n      <td>...</td>\n      <td>...</td>\n      <td>...</td>\n      <td>...</td>\n      <td>...</td>\n      <td>...</td>\n      <td>...</td>\n      <td>...</td>\n      <td>...</td>\n      <td>...</td>\n      <td>...</td>\n      <td>...</td>\n      <td>...</td>\n      <td>...</td>\n      <td>...</td>\n      <td>...</td>\n    </tr>\n    <tr>\n      <th>69196</th>\n      <td>122960</td>\n      <td>T13865</td>\n      <td>P-Orridge, Genesis</td>\n      <td>artist</td>\n      <td>16646</td>\n      <td>Larvae (from Tampax Romana)</td>\n      <td>1975</td>\n      <td>Perspex, Wood, hairpiece, tampon and human blood</td>\n      <td>Transferred from Tate Archive 2012</td>\n      <td>1975</td>\n      <td>2013.0</td>\n      <td>object: 305 x 305 x 135 mm</td>\n      <td>305</td>\n      <td>305.0</td>\n      <td>135.0</td>\n      <td>mm</td>\n      <td>NaN</td>\n      <td>NaN</td>\n      <td>NaN</td>\n      <td>http://www.tate.org.uk/art/artworks/p-orridge-...</td>\n    </tr>\n    <tr>\n      <th>69197</th>\n      <td>122961</td>\n      <td>T13866</td>\n      <td>P-Orridge, Genesis</td>\n      <td>artist</td>\n      <td>16646</td>\n      <td>Living Womb (from Tampax Romana)</td>\n      <td>1976</td>\n      <td>Wood, Perspex, plastic, photograph on paper, t...</td>\n      <td>Transferred from Tate Archive 2012</td>\n      <td>1976</td>\n      <td>2013.0</td>\n      <td>object: 305 x 305 x 135 mm</td>\n      <td>305</td>\n      <td>305.0</td>\n      <td>135.0</td>\n      <td>mm</td>\n      <td>NaN</td>\n      <td>NaN</td>\n      <td>NaN</td>\n      <td>http://www.tate.org.uk/art/artworks/p-orridge-...</td>\n    </tr>\n    <tr>\n      <th>69198</th>\n      <td>121181</td>\n      <td>T13867</td>\n      <td>Hatoum, Mona</td>\n      <td>artist</td>\n      <td>2365</td>\n      <td>Present Tense</td>\n      <td>1996</td>\n      <td>Soap and glass beads</td>\n      <td>Presented by Tate Members 2013</td>\n      <td>1996</td>\n      <td>2013.0</td>\n      <td>displayed: 45 x 2410 x 2990 mm</td>\n      <td>45</td>\n      <td>2410.0</td>\n      <td>2990.0</td>\n      <td>mm</td>\n      <td>NaN</td>\n      <td>NaN</td>\n      <td>NaN</td>\n      <td>http://www.tate.org.uk/art/artworks/hatoum-pre...</td>\n    </tr>\n    <tr>\n      <th>69199</th>\n      <td>112306</td>\n      <td>T13868</td>\n      <td>Creed, Martin</td>\n      <td>artist</td>\n      <td>2760</td>\n      <td>Work No. 227: The lights going on and off</td>\n      <td>2000</td>\n      <td>Gallery lighting</td>\n      <td>Purchased with funds provided by Tate Members,...</td>\n      <td>2000</td>\n      <td>2013.0</td>\n      <td>Overall display dimensions variable</td>\n      <td>NaN</td>\n      <td>NaN</td>\n      <td>NaN</td>\n      <td>NaN</td>\n      <td>NaN</td>\n      <td>NaN</td>\n      <td>NaN</td>\n      <td>http://www.tate.org.uk/art/artworks/creed-work...</td>\n    </tr>\n    <tr>\n      <th>69200</th>\n      <td>127035</td>\n      <td>T13869</td>\n      <td>Brunias, Agostino</td>\n      <td>artist</td>\n      <td>3824</td>\n      <td>Dancing Scene in the West Indies</td>\n      <td>1764–96</td>\n      <td>Oil paint on canvas</td>\n      <td>Purchased with assistance from Tate Patrons an...</td>\n      <td>1764</td>\n      <td>2013.0</td>\n      <td>unconfirmed: 508 x 660 mm</td>\n      <td>508</td>\n      <td>660.0</td>\n      <td>NaN</td>\n      <td>mm</td>\n      <td>NaN</td>\n      <td>NaN</td>\n      <td>http://www.tate.org.uk/art/images/work/T/T13/T...</td>\n      <td>http://www.tate.org.uk/art/artworks/brunias-da...</td>\n    </tr>\n  </tbody>\n</table>\n<p>69198 rows × 20 columns</p>\n</div>"
     },
     "execution_count": 73,
     "metadata": {},
     "output_type": "execute_result"
    }
   ],
   "source": [
    "# inplace=True can be passed to drop in place\n",
    "data.dropna(subset=['year', 'acquisitionYear'], how='all')"
   ],
   "metadata": {
    "collapsed": false,
    "pycharm": {
     "name": "#%%\n"
    }
   }
  },
  {
   "cell_type": "markdown",
   "source": [
    "## Identifying and Drop Duplicates"
   ],
   "metadata": {
    "collapsed": false,
    "pycharm": {
     "name": "#%% md\n"
    }
   }
  },
  {
   "cell_type": "code",
   "execution_count": 74,
   "outputs": [],
   "source": [
    "data = pd.read_csv('./data/artwork_sample.csv')"
   ],
   "metadata": {
    "collapsed": false,
    "pycharm": {
     "name": "#%%\n"
    }
   }
  },
  {
   "cell_type": "code",
   "execution_count": 75,
   "outputs": [
    {
     "data": {
      "text/plain": "     id accession_number          artist artistRole  artistId  \\\n0  1035           A00001   Blake, Robert     artist        38   \n1  1036           A00002   Blake, Robert     artist        38   \n2  1037           A00003   Blake, Robert     artist        38   \n3  1038           A00004   Blake, Robert     artist        38   \n4  1039           A00005  Blake, William     artist        39   \n5  1040           A00006  Blake, William     artist        39   \n6  1041           A00007  Blake, William     artist        39   \n7  1042           A00008  Blake, William     artist        39   \n8  1043           A00009  Blake, William     artist        39   \n9  1044           A00010  Blake, William     artist        39   \n\n                                               title                dateText  \\\n0  A Figure Bowing before a Seated Old Man with h...          date not known   \n1  Two Drawings of Frightened Figures, Probably f...          date not known   \n2  The Preaching of Warning. Verso: An Old Man En...                 ?c.1785   \n3     Six Drawings of Figures with Outstretched Arms          date not known   \n4  The Circle of the Lustful: Francesca da Rimini...  1826–7, reprinted 1892   \n5      Ciampolo the Barrator Tormented by the Devils  1826–7, reprinted 1892   \n6                        The Baffled Devils Fighting  1826–7, reprinted 1892   \n7  The Six-Footed Serpent Attacking Agnolo Brunel...  1826–7, reprinted 1892   \n8                 The Serpent Attacking Buoso Donati  1826–7, reprinted 1892   \n9                 The Pit of Disease: The Falsifiers  1826–7, reprinted 1892   \n\n                                              medium  \\\n0  Watercolour, ink, chalk and graphite on paper....   \n1                                  Graphite on paper   \n2        Graphite on paper. Verso: graphite on paper   \n3                                  Graphite on paper   \n4                            Line engraving on paper   \n5                            Line engraving on paper   \n6                            Line engraving on paper   \n7                            Line engraving on paper   \n8                            Line engraving on paper   \n9                            Line engraving on paper   \n\n                                          creditLine    year  acquisitionYear  \\\n0                Presented by Mrs John Richmond 1922     NaN             1922   \n1                Presented by Mrs John Richmond 1922     NaN             1922   \n2                Presented by Mrs John Richmond 1922  1785.0             1922   \n3                Presented by Mrs John Richmond 1922     NaN             1922   \n4  Purchased with the assistance of a special gra...  1826.0             1919   \n5  Purchased with the assistance of a special gra...  1826.0             1919   \n6  Purchased with the assistance of a special gra...  1826.0             1919   \n7  Purchased with the assistance of a special gra...  1826.0             1919   \n8  Purchased with the assistance of a special gra...  1826.0             1919   \n9  Purchased with the assistance of a special gra...  1826.0             1919   \n\n              dimensions  width  height  depth units  inscription  \\\n0  support: 394 x 419 mm  394.0   419.0    NaN    mm          NaN   \n1  support: 311 x 213 mm  311.0   213.0    NaN    mm          NaN   \n2  support: 343 x 467 mm  343.0   467.0    NaN    mm          NaN   \n3  support: 318 x 394 mm  318.0   394.0    NaN    mm          NaN   \n4    image: 243 x 335 mm  243.0   335.0    NaN    mm          NaN   \n5    image: 240 x 338 mm  240.0   338.0    NaN    mm          NaN   \n6    image: 242 x 334 mm  242.0   334.0    NaN    mm          NaN   \n7    image: 246 x 340 mm  246.0   340.0    NaN    mm          NaN   \n8    image: 241 x 335 mm  241.0   335.0    NaN    mm          NaN   \n9    image: 243 x 340 mm  243.0   340.0    NaN    mm          NaN   \n\n   thumbnailCopyright                                       thumbnailUrl  \\\n0                 NaN  http://www.tate.org.uk/art/images/work/A/A00/A...   \n1                 NaN  http://www.tate.org.uk/art/images/work/A/A00/A...   \n2                 NaN  http://www.tate.org.uk/art/images/work/A/A00/A...   \n3                 NaN  http://www.tate.org.uk/art/images/work/A/A00/A...   \n4                 NaN  http://www.tate.org.uk/art/images/work/A/A00/A...   \n5                 NaN  http://www.tate.org.uk/art/images/work/A/A00/A...   \n6                 NaN  http://www.tate.org.uk/art/images/work/A/A00/A...   \n7                 NaN  http://www.tate.org.uk/art/images/work/A/A00/A...   \n8                 NaN  http://www.tate.org.uk/art/images/work/A/A00/A...   \n9                 NaN  http://www.tate.org.uk/art/images/work/A/A00/A...   \n\n                                                 url  \n0  http://www.tate.org.uk/art/artworks/blake-a-fi...  \n1  http://www.tate.org.uk/art/artworks/blake-two-...  \n2  http://www.tate.org.uk/art/artworks/blake-the-...  \n3  http://www.tate.org.uk/art/artworks/blake-six-...  \n4  http://www.tate.org.uk/art/artworks/blake-the-...  \n5  http://www.tate.org.uk/art/artworks/blake-ciam...  \n6  http://www.tate.org.uk/art/artworks/blake-the-...  \n7  http://www.tate.org.uk/art/artworks/blake-the-...  \n8  http://www.tate.org.uk/art/artworks/blake-the-...  \n9  http://www.tate.org.uk/art/artworks/blake-the-...  ",
      "text/html": "<div>\n<style scoped>\n    .dataframe tbody tr th:only-of-type {\n        vertical-align: middle;\n    }\n\n    .dataframe tbody tr th {\n        vertical-align: top;\n    }\n\n    .dataframe thead th {\n        text-align: right;\n    }\n</style>\n<table border=\"1\" class=\"dataframe\">\n  <thead>\n    <tr style=\"text-align: right;\">\n      <th></th>\n      <th>id</th>\n      <th>accession_number</th>\n      <th>artist</th>\n      <th>artistRole</th>\n      <th>artistId</th>\n      <th>title</th>\n      <th>dateText</th>\n      <th>medium</th>\n      <th>creditLine</th>\n      <th>year</th>\n      <th>acquisitionYear</th>\n      <th>dimensions</th>\n      <th>width</th>\n      <th>height</th>\n      <th>depth</th>\n      <th>units</th>\n      <th>inscription</th>\n      <th>thumbnailCopyright</th>\n      <th>thumbnailUrl</th>\n      <th>url</th>\n    </tr>\n  </thead>\n  <tbody>\n    <tr>\n      <th>0</th>\n      <td>1035</td>\n      <td>A00001</td>\n      <td>Blake, Robert</td>\n      <td>artist</td>\n      <td>38</td>\n      <td>A Figure Bowing before a Seated Old Man with h...</td>\n      <td>date not known</td>\n      <td>Watercolour, ink, chalk and graphite on paper....</td>\n      <td>Presented by Mrs John Richmond 1922</td>\n      <td>NaN</td>\n      <td>1922</td>\n      <td>support: 394 x 419 mm</td>\n      <td>394.0</td>\n      <td>419.0</td>\n      <td>NaN</td>\n      <td>mm</td>\n      <td>NaN</td>\n      <td>NaN</td>\n      <td>http://www.tate.org.uk/art/images/work/A/A00/A...</td>\n      <td>http://www.tate.org.uk/art/artworks/blake-a-fi...</td>\n    </tr>\n    <tr>\n      <th>1</th>\n      <td>1036</td>\n      <td>A00002</td>\n      <td>Blake, Robert</td>\n      <td>artist</td>\n      <td>38</td>\n      <td>Two Drawings of Frightened Figures, Probably f...</td>\n      <td>date not known</td>\n      <td>Graphite on paper</td>\n      <td>Presented by Mrs John Richmond 1922</td>\n      <td>NaN</td>\n      <td>1922</td>\n      <td>support: 311 x 213 mm</td>\n      <td>311.0</td>\n      <td>213.0</td>\n      <td>NaN</td>\n      <td>mm</td>\n      <td>NaN</td>\n      <td>NaN</td>\n      <td>http://www.tate.org.uk/art/images/work/A/A00/A...</td>\n      <td>http://www.tate.org.uk/art/artworks/blake-two-...</td>\n    </tr>\n    <tr>\n      <th>2</th>\n      <td>1037</td>\n      <td>A00003</td>\n      <td>Blake, Robert</td>\n      <td>artist</td>\n      <td>38</td>\n      <td>The Preaching of Warning. Verso: An Old Man En...</td>\n      <td>?c.1785</td>\n      <td>Graphite on paper. Verso: graphite on paper</td>\n      <td>Presented by Mrs John Richmond 1922</td>\n      <td>1785.0</td>\n      <td>1922</td>\n      <td>support: 343 x 467 mm</td>\n      <td>343.0</td>\n      <td>467.0</td>\n      <td>NaN</td>\n      <td>mm</td>\n      <td>NaN</td>\n      <td>NaN</td>\n      <td>http://www.tate.org.uk/art/images/work/A/A00/A...</td>\n      <td>http://www.tate.org.uk/art/artworks/blake-the-...</td>\n    </tr>\n    <tr>\n      <th>3</th>\n      <td>1038</td>\n      <td>A00004</td>\n      <td>Blake, Robert</td>\n      <td>artist</td>\n      <td>38</td>\n      <td>Six Drawings of Figures with Outstretched Arms</td>\n      <td>date not known</td>\n      <td>Graphite on paper</td>\n      <td>Presented by Mrs John Richmond 1922</td>\n      <td>NaN</td>\n      <td>1922</td>\n      <td>support: 318 x 394 mm</td>\n      <td>318.0</td>\n      <td>394.0</td>\n      <td>NaN</td>\n      <td>mm</td>\n      <td>NaN</td>\n      <td>NaN</td>\n      <td>http://www.tate.org.uk/art/images/work/A/A00/A...</td>\n      <td>http://www.tate.org.uk/art/artworks/blake-six-...</td>\n    </tr>\n    <tr>\n      <th>4</th>\n      <td>1039</td>\n      <td>A00005</td>\n      <td>Blake, William</td>\n      <td>artist</td>\n      <td>39</td>\n      <td>The Circle of the Lustful: Francesca da Rimini...</td>\n      <td>1826–7, reprinted 1892</td>\n      <td>Line engraving on paper</td>\n      <td>Purchased with the assistance of a special gra...</td>\n      <td>1826.0</td>\n      <td>1919</td>\n      <td>image: 243 x 335 mm</td>\n      <td>243.0</td>\n      <td>335.0</td>\n      <td>NaN</td>\n      <td>mm</td>\n      <td>NaN</td>\n      <td>NaN</td>\n      <td>http://www.tate.org.uk/art/images/work/A/A00/A...</td>\n      <td>http://www.tate.org.uk/art/artworks/blake-the-...</td>\n    </tr>\n    <tr>\n      <th>5</th>\n      <td>1040</td>\n      <td>A00006</td>\n      <td>Blake, William</td>\n      <td>artist</td>\n      <td>39</td>\n      <td>Ciampolo the Barrator Tormented by the Devils</td>\n      <td>1826–7, reprinted 1892</td>\n      <td>Line engraving on paper</td>\n      <td>Purchased with the assistance of a special gra...</td>\n      <td>1826.0</td>\n      <td>1919</td>\n      <td>image: 240 x 338 mm</td>\n      <td>240.0</td>\n      <td>338.0</td>\n      <td>NaN</td>\n      <td>mm</td>\n      <td>NaN</td>\n      <td>NaN</td>\n      <td>http://www.tate.org.uk/art/images/work/A/A00/A...</td>\n      <td>http://www.tate.org.uk/art/artworks/blake-ciam...</td>\n    </tr>\n    <tr>\n      <th>6</th>\n      <td>1041</td>\n      <td>A00007</td>\n      <td>Blake, William</td>\n      <td>artist</td>\n      <td>39</td>\n      <td>The Baffled Devils Fighting</td>\n      <td>1826–7, reprinted 1892</td>\n      <td>Line engraving on paper</td>\n      <td>Purchased with the assistance of a special gra...</td>\n      <td>1826.0</td>\n      <td>1919</td>\n      <td>image: 242 x 334 mm</td>\n      <td>242.0</td>\n      <td>334.0</td>\n      <td>NaN</td>\n      <td>mm</td>\n      <td>NaN</td>\n      <td>NaN</td>\n      <td>http://www.tate.org.uk/art/images/work/A/A00/A...</td>\n      <td>http://www.tate.org.uk/art/artworks/blake-the-...</td>\n    </tr>\n    <tr>\n      <th>7</th>\n      <td>1042</td>\n      <td>A00008</td>\n      <td>Blake, William</td>\n      <td>artist</td>\n      <td>39</td>\n      <td>The Six-Footed Serpent Attacking Agnolo Brunel...</td>\n      <td>1826–7, reprinted 1892</td>\n      <td>Line engraving on paper</td>\n      <td>Purchased with the assistance of a special gra...</td>\n      <td>1826.0</td>\n      <td>1919</td>\n      <td>image: 246 x 340 mm</td>\n      <td>246.0</td>\n      <td>340.0</td>\n      <td>NaN</td>\n      <td>mm</td>\n      <td>NaN</td>\n      <td>NaN</td>\n      <td>http://www.tate.org.uk/art/images/work/A/A00/A...</td>\n      <td>http://www.tate.org.uk/art/artworks/blake-the-...</td>\n    </tr>\n    <tr>\n      <th>8</th>\n      <td>1043</td>\n      <td>A00009</td>\n      <td>Blake, William</td>\n      <td>artist</td>\n      <td>39</td>\n      <td>The Serpent Attacking Buoso Donati</td>\n      <td>1826–7, reprinted 1892</td>\n      <td>Line engraving on paper</td>\n      <td>Purchased with the assistance of a special gra...</td>\n      <td>1826.0</td>\n      <td>1919</td>\n      <td>image: 241 x 335 mm</td>\n      <td>241.0</td>\n      <td>335.0</td>\n      <td>NaN</td>\n      <td>mm</td>\n      <td>NaN</td>\n      <td>NaN</td>\n      <td>http://www.tate.org.uk/art/images/work/A/A00/A...</td>\n      <td>http://www.tate.org.uk/art/artworks/blake-the-...</td>\n    </tr>\n    <tr>\n      <th>9</th>\n      <td>1044</td>\n      <td>A00010</td>\n      <td>Blake, William</td>\n      <td>artist</td>\n      <td>39</td>\n      <td>The Pit of Disease: The Falsifiers</td>\n      <td>1826–7, reprinted 1892</td>\n      <td>Line engraving on paper</td>\n      <td>Purchased with the assistance of a special gra...</td>\n      <td>1826.0</td>\n      <td>1919</td>\n      <td>image: 243 x 340 mm</td>\n      <td>243.0</td>\n      <td>340.0</td>\n      <td>NaN</td>\n      <td>mm</td>\n      <td>NaN</td>\n      <td>NaN</td>\n      <td>http://www.tate.org.uk/art/images/work/A/A00/A...</td>\n      <td>http://www.tate.org.uk/art/artworks/blake-the-...</td>\n    </tr>\n  </tbody>\n</table>\n</div>"
     },
     "execution_count": 75,
     "metadata": {},
     "output_type": "execute_result"
    }
   ],
   "source": [
    "data"
   ],
   "metadata": {
    "collapsed": false,
    "pycharm": {
     "name": "#%%\n"
    }
   }
  },
  {
   "cell_type": "code",
   "execution_count": 77,
   "outputs": [
    {
     "data": {
      "text/plain": "     id accession_number          artist artistRole  artistId  \\\n0  1035           A00001   Blake, Robert     artist        38   \n1  1036           A00002   Blake, Robert     artist        38   \n2  1037           A00003   Blake, Robert     artist        38   \n3  1038           A00004   Blake, Robert     artist        38   \n4  1039           A00005  Blake, William     artist        39   \n5  1040           A00006  Blake, William     artist        39   \n6  1041           A00007  Blake, William     artist        39   \n7  1042           A00008  Blake, William     artist        39   \n8  1043           A00009  Blake, William     artist        39   \n9  1044           A00010  Blake, William     artist        39   \n\n                                               title                dateText  \\\n0  A Figure Bowing before a Seated Old Man with h...          date not known   \n1  Two Drawings of Frightened Figures, Probably f...          date not known   \n2  The Preaching of Warning. Verso: An Old Man En...                 ?c.1785   \n3     Six Drawings of Figures with Outstretched Arms          date not known   \n4  The Circle of the Lustful: Francesca da Rimini...  1826–7, reprinted 1892   \n5      Ciampolo the Barrator Tormented by the Devils  1826–7, reprinted 1892   \n6                        The Baffled Devils Fighting  1826–7, reprinted 1892   \n7  The Six-Footed Serpent Attacking Agnolo Brunel...  1826–7, reprinted 1892   \n8                 The Serpent Attacking Buoso Donati  1826–7, reprinted 1892   \n9                 The Pit of Disease: The Falsifiers  1826–7, reprinted 1892   \n\n                                              medium  \\\n0  Watercolour, ink, chalk and graphite on paper....   \n1                                  Graphite on paper   \n2        Graphite on paper. Verso: graphite on paper   \n3                                  Graphite on paper   \n4                            Line engraving on paper   \n5                            Line engraving on paper   \n6                            Line engraving on paper   \n7                            Line engraving on paper   \n8                            Line engraving on paper   \n9                            Line engraving on paper   \n\n                                          creditLine    year  acquisitionYear  \\\n0                Presented by Mrs John Richmond 1922     NaN             1922   \n1                Presented by Mrs John Richmond 1922     NaN             1922   \n2                Presented by Mrs John Richmond 1922  1785.0             1922   \n3                Presented by Mrs John Richmond 1922     NaN             1922   \n4  Purchased with the assistance of a special gra...  1826.0             1919   \n5  Purchased with the assistance of a special gra...  1826.0             1919   \n6  Purchased with the assistance of a special gra...  1826.0             1919   \n7  Purchased with the assistance of a special gra...  1826.0             1919   \n8  Purchased with the assistance of a special gra...  1826.0             1919   \n9  Purchased with the assistance of a special gra...  1826.0             1919   \n\n              dimensions  width  height  depth units  inscription  \\\n0  support: 394 x 419 mm  394.0   419.0    NaN    mm          NaN   \n1  support: 311 x 213 mm  311.0   213.0    NaN    mm          NaN   \n2  support: 343 x 467 mm  343.0   467.0    NaN    mm          NaN   \n3  support: 318 x 394 mm  318.0   394.0    NaN    mm          NaN   \n4    image: 243 x 335 mm  243.0   335.0    NaN    mm          NaN   \n5    image: 240 x 338 mm  240.0   338.0    NaN    mm          NaN   \n6    image: 242 x 334 mm  242.0   334.0    NaN    mm          NaN   \n7    image: 246 x 340 mm  246.0   340.0    NaN    mm          NaN   \n8    image: 241 x 335 mm  241.0   335.0    NaN    mm          NaN   \n9    image: 243 x 340 mm  243.0   340.0    NaN    mm          NaN   \n\n   thumbnailCopyright                                       thumbnailUrl  \\\n0                 NaN  http://www.tate.org.uk/art/images/work/A/A00/A...   \n1                 NaN  http://www.tate.org.uk/art/images/work/A/A00/A...   \n2                 NaN  http://www.tate.org.uk/art/images/work/A/A00/A...   \n3                 NaN  http://www.tate.org.uk/art/images/work/A/A00/A...   \n4                 NaN  http://www.tate.org.uk/art/images/work/A/A00/A...   \n5                 NaN  http://www.tate.org.uk/art/images/work/A/A00/A...   \n6                 NaN  http://www.tate.org.uk/art/images/work/A/A00/A...   \n7                 NaN  http://www.tate.org.uk/art/images/work/A/A00/A...   \n8                 NaN  http://www.tate.org.uk/art/images/work/A/A00/A...   \n9                 NaN  http://www.tate.org.uk/art/images/work/A/A00/A...   \n\n                                                 url  \n0  http://www.tate.org.uk/art/artworks/blake-a-fi...  \n1  http://www.tate.org.uk/art/artworks/blake-two-...  \n2  http://www.tate.org.uk/art/artworks/blake-the-...  \n3  http://www.tate.org.uk/art/artworks/blake-six-...  \n4  http://www.tate.org.uk/art/artworks/blake-the-...  \n5  http://www.tate.org.uk/art/artworks/blake-ciam...  \n6  http://www.tate.org.uk/art/artworks/blake-the-...  \n7  http://www.tate.org.uk/art/artworks/blake-the-...  \n8  http://www.tate.org.uk/art/artworks/blake-the-...  \n9  http://www.tate.org.uk/art/artworks/blake-the-...  ",
      "text/html": "<div>\n<style scoped>\n    .dataframe tbody tr th:only-of-type {\n        vertical-align: middle;\n    }\n\n    .dataframe tbody tr th {\n        vertical-align: top;\n    }\n\n    .dataframe thead th {\n        text-align: right;\n    }\n</style>\n<table border=\"1\" class=\"dataframe\">\n  <thead>\n    <tr style=\"text-align: right;\">\n      <th></th>\n      <th>id</th>\n      <th>accession_number</th>\n      <th>artist</th>\n      <th>artistRole</th>\n      <th>artistId</th>\n      <th>title</th>\n      <th>dateText</th>\n      <th>medium</th>\n      <th>creditLine</th>\n      <th>year</th>\n      <th>acquisitionYear</th>\n      <th>dimensions</th>\n      <th>width</th>\n      <th>height</th>\n      <th>depth</th>\n      <th>units</th>\n      <th>inscription</th>\n      <th>thumbnailCopyright</th>\n      <th>thumbnailUrl</th>\n      <th>url</th>\n    </tr>\n  </thead>\n  <tbody>\n    <tr>\n      <th>0</th>\n      <td>1035</td>\n      <td>A00001</td>\n      <td>Blake, Robert</td>\n      <td>artist</td>\n      <td>38</td>\n      <td>A Figure Bowing before a Seated Old Man with h...</td>\n      <td>date not known</td>\n      <td>Watercolour, ink, chalk and graphite on paper....</td>\n      <td>Presented by Mrs John Richmond 1922</td>\n      <td>NaN</td>\n      <td>1922</td>\n      <td>support: 394 x 419 mm</td>\n      <td>394.0</td>\n      <td>419.0</td>\n      <td>NaN</td>\n      <td>mm</td>\n      <td>NaN</td>\n      <td>NaN</td>\n      <td>http://www.tate.org.uk/art/images/work/A/A00/A...</td>\n      <td>http://www.tate.org.uk/art/artworks/blake-a-fi...</td>\n    </tr>\n    <tr>\n      <th>1</th>\n      <td>1036</td>\n      <td>A00002</td>\n      <td>Blake, Robert</td>\n      <td>artist</td>\n      <td>38</td>\n      <td>Two Drawings of Frightened Figures, Probably f...</td>\n      <td>date not known</td>\n      <td>Graphite on paper</td>\n      <td>Presented by Mrs John Richmond 1922</td>\n      <td>NaN</td>\n      <td>1922</td>\n      <td>support: 311 x 213 mm</td>\n      <td>311.0</td>\n      <td>213.0</td>\n      <td>NaN</td>\n      <td>mm</td>\n      <td>NaN</td>\n      <td>NaN</td>\n      <td>http://www.tate.org.uk/art/images/work/A/A00/A...</td>\n      <td>http://www.tate.org.uk/art/artworks/blake-two-...</td>\n    </tr>\n    <tr>\n      <th>2</th>\n      <td>1037</td>\n      <td>A00003</td>\n      <td>Blake, Robert</td>\n      <td>artist</td>\n      <td>38</td>\n      <td>The Preaching of Warning. Verso: An Old Man En...</td>\n      <td>?c.1785</td>\n      <td>Graphite on paper. Verso: graphite on paper</td>\n      <td>Presented by Mrs John Richmond 1922</td>\n      <td>1785.0</td>\n      <td>1922</td>\n      <td>support: 343 x 467 mm</td>\n      <td>343.0</td>\n      <td>467.0</td>\n      <td>NaN</td>\n      <td>mm</td>\n      <td>NaN</td>\n      <td>NaN</td>\n      <td>http://www.tate.org.uk/art/images/work/A/A00/A...</td>\n      <td>http://www.tate.org.uk/art/artworks/blake-the-...</td>\n    </tr>\n    <tr>\n      <th>3</th>\n      <td>1038</td>\n      <td>A00004</td>\n      <td>Blake, Robert</td>\n      <td>artist</td>\n      <td>38</td>\n      <td>Six Drawings of Figures with Outstretched Arms</td>\n      <td>date not known</td>\n      <td>Graphite on paper</td>\n      <td>Presented by Mrs John Richmond 1922</td>\n      <td>NaN</td>\n      <td>1922</td>\n      <td>support: 318 x 394 mm</td>\n      <td>318.0</td>\n      <td>394.0</td>\n      <td>NaN</td>\n      <td>mm</td>\n      <td>NaN</td>\n      <td>NaN</td>\n      <td>http://www.tate.org.uk/art/images/work/A/A00/A...</td>\n      <td>http://www.tate.org.uk/art/artworks/blake-six-...</td>\n    </tr>\n    <tr>\n      <th>4</th>\n      <td>1039</td>\n      <td>A00005</td>\n      <td>Blake, William</td>\n      <td>artist</td>\n      <td>39</td>\n      <td>The Circle of the Lustful: Francesca da Rimini...</td>\n      <td>1826–7, reprinted 1892</td>\n      <td>Line engraving on paper</td>\n      <td>Purchased with the assistance of a special gra...</td>\n      <td>1826.0</td>\n      <td>1919</td>\n      <td>image: 243 x 335 mm</td>\n      <td>243.0</td>\n      <td>335.0</td>\n      <td>NaN</td>\n      <td>mm</td>\n      <td>NaN</td>\n      <td>NaN</td>\n      <td>http://www.tate.org.uk/art/images/work/A/A00/A...</td>\n      <td>http://www.tate.org.uk/art/artworks/blake-the-...</td>\n    </tr>\n    <tr>\n      <th>5</th>\n      <td>1040</td>\n      <td>A00006</td>\n      <td>Blake, William</td>\n      <td>artist</td>\n      <td>39</td>\n      <td>Ciampolo the Barrator Tormented by the Devils</td>\n      <td>1826–7, reprinted 1892</td>\n      <td>Line engraving on paper</td>\n      <td>Purchased with the assistance of a special gra...</td>\n      <td>1826.0</td>\n      <td>1919</td>\n      <td>image: 240 x 338 mm</td>\n      <td>240.0</td>\n      <td>338.0</td>\n      <td>NaN</td>\n      <td>mm</td>\n      <td>NaN</td>\n      <td>NaN</td>\n      <td>http://www.tate.org.uk/art/images/work/A/A00/A...</td>\n      <td>http://www.tate.org.uk/art/artworks/blake-ciam...</td>\n    </tr>\n    <tr>\n      <th>6</th>\n      <td>1041</td>\n      <td>A00007</td>\n      <td>Blake, William</td>\n      <td>artist</td>\n      <td>39</td>\n      <td>The Baffled Devils Fighting</td>\n      <td>1826–7, reprinted 1892</td>\n      <td>Line engraving on paper</td>\n      <td>Purchased with the assistance of a special gra...</td>\n      <td>1826.0</td>\n      <td>1919</td>\n      <td>image: 242 x 334 mm</td>\n      <td>242.0</td>\n      <td>334.0</td>\n      <td>NaN</td>\n      <td>mm</td>\n      <td>NaN</td>\n      <td>NaN</td>\n      <td>http://www.tate.org.uk/art/images/work/A/A00/A...</td>\n      <td>http://www.tate.org.uk/art/artworks/blake-the-...</td>\n    </tr>\n    <tr>\n      <th>7</th>\n      <td>1042</td>\n      <td>A00008</td>\n      <td>Blake, William</td>\n      <td>artist</td>\n      <td>39</td>\n      <td>The Six-Footed Serpent Attacking Agnolo Brunel...</td>\n      <td>1826–7, reprinted 1892</td>\n      <td>Line engraving on paper</td>\n      <td>Purchased with the assistance of a special gra...</td>\n      <td>1826.0</td>\n      <td>1919</td>\n      <td>image: 246 x 340 mm</td>\n      <td>246.0</td>\n      <td>340.0</td>\n      <td>NaN</td>\n      <td>mm</td>\n      <td>NaN</td>\n      <td>NaN</td>\n      <td>http://www.tate.org.uk/art/images/work/A/A00/A...</td>\n      <td>http://www.tate.org.uk/art/artworks/blake-the-...</td>\n    </tr>\n    <tr>\n      <th>8</th>\n      <td>1043</td>\n      <td>A00009</td>\n      <td>Blake, William</td>\n      <td>artist</td>\n      <td>39</td>\n      <td>The Serpent Attacking Buoso Donati</td>\n      <td>1826–7, reprinted 1892</td>\n      <td>Line engraving on paper</td>\n      <td>Purchased with the assistance of a special gra...</td>\n      <td>1826.0</td>\n      <td>1919</td>\n      <td>image: 241 x 335 mm</td>\n      <td>241.0</td>\n      <td>335.0</td>\n      <td>NaN</td>\n      <td>mm</td>\n      <td>NaN</td>\n      <td>NaN</td>\n      <td>http://www.tate.org.uk/art/images/work/A/A00/A...</td>\n      <td>http://www.tate.org.uk/art/artworks/blake-the-...</td>\n    </tr>\n    <tr>\n      <th>9</th>\n      <td>1044</td>\n      <td>A00010</td>\n      <td>Blake, William</td>\n      <td>artist</td>\n      <td>39</td>\n      <td>The Pit of Disease: The Falsifiers</td>\n      <td>1826–7, reprinted 1892</td>\n      <td>Line engraving on paper</td>\n      <td>Purchased with the assistance of a special gra...</td>\n      <td>1826.0</td>\n      <td>1919</td>\n      <td>image: 243 x 340 mm</td>\n      <td>243.0</td>\n      <td>340.0</td>\n      <td>NaN</td>\n      <td>mm</td>\n      <td>NaN</td>\n      <td>NaN</td>\n      <td>http://www.tate.org.uk/art/images/work/A/A00/A...</td>\n      <td>http://www.tate.org.uk/art/artworks/blake-the-...</td>\n    </tr>\n  </tbody>\n</table>\n</div>"
     },
     "execution_count": 77,
     "metadata": {},
     "output_type": "execute_result"
    }
   ],
   "source": [
    "data.drop_duplicates()"
   ],
   "metadata": {
    "collapsed": false,
    "pycharm": {
     "name": "#%%\n"
    }
   }
  },
  {
   "cell_type": "code",
   "execution_count": 78,
   "outputs": [
    {
     "data": {
      "text/plain": "     id accession_number          artist artistRole  artistId  \\\n0  1035           A00001   Blake, Robert     artist        38   \n4  1039           A00005  Blake, William     artist        39   \n\n                                               title                dateText  \\\n0  A Figure Bowing before a Seated Old Man with h...          date not known   \n4  The Circle of the Lustful: Francesca da Rimini...  1826–7, reprinted 1892   \n\n                                              medium  \\\n0  Watercolour, ink, chalk and graphite on paper....   \n4                            Line engraving on paper   \n\n                                          creditLine    year  acquisitionYear  \\\n0                Presented by Mrs John Richmond 1922     NaN             1922   \n4  Purchased with the assistance of a special gra...  1826.0             1919   \n\n              dimensions  width  height  depth units  inscription  \\\n0  support: 394 x 419 mm  394.0   419.0    NaN    mm          NaN   \n4    image: 243 x 335 mm  243.0   335.0    NaN    mm          NaN   \n\n   thumbnailCopyright                                       thumbnailUrl  \\\n0                 NaN  http://www.tate.org.uk/art/images/work/A/A00/A...   \n4                 NaN  http://www.tate.org.uk/art/images/work/A/A00/A...   \n\n                                                 url  \n0  http://www.tate.org.uk/art/artworks/blake-a-fi...  \n4  http://www.tate.org.uk/art/artworks/blake-the-...  ",
      "text/html": "<div>\n<style scoped>\n    .dataframe tbody tr th:only-of-type {\n        vertical-align: middle;\n    }\n\n    .dataframe tbody tr th {\n        vertical-align: top;\n    }\n\n    .dataframe thead th {\n        text-align: right;\n    }\n</style>\n<table border=\"1\" class=\"dataframe\">\n  <thead>\n    <tr style=\"text-align: right;\">\n      <th></th>\n      <th>id</th>\n      <th>accession_number</th>\n      <th>artist</th>\n      <th>artistRole</th>\n      <th>artistId</th>\n      <th>title</th>\n      <th>dateText</th>\n      <th>medium</th>\n      <th>creditLine</th>\n      <th>year</th>\n      <th>acquisitionYear</th>\n      <th>dimensions</th>\n      <th>width</th>\n      <th>height</th>\n      <th>depth</th>\n      <th>units</th>\n      <th>inscription</th>\n      <th>thumbnailCopyright</th>\n      <th>thumbnailUrl</th>\n      <th>url</th>\n    </tr>\n  </thead>\n  <tbody>\n    <tr>\n      <th>0</th>\n      <td>1035</td>\n      <td>A00001</td>\n      <td>Blake, Robert</td>\n      <td>artist</td>\n      <td>38</td>\n      <td>A Figure Bowing before a Seated Old Man with h...</td>\n      <td>date not known</td>\n      <td>Watercolour, ink, chalk and graphite on paper....</td>\n      <td>Presented by Mrs John Richmond 1922</td>\n      <td>NaN</td>\n      <td>1922</td>\n      <td>support: 394 x 419 mm</td>\n      <td>394.0</td>\n      <td>419.0</td>\n      <td>NaN</td>\n      <td>mm</td>\n      <td>NaN</td>\n      <td>NaN</td>\n      <td>http://www.tate.org.uk/art/images/work/A/A00/A...</td>\n      <td>http://www.tate.org.uk/art/artworks/blake-a-fi...</td>\n    </tr>\n    <tr>\n      <th>4</th>\n      <td>1039</td>\n      <td>A00005</td>\n      <td>Blake, William</td>\n      <td>artist</td>\n      <td>39</td>\n      <td>The Circle of the Lustful: Francesca da Rimini...</td>\n      <td>1826–7, reprinted 1892</td>\n      <td>Line engraving on paper</td>\n      <td>Purchased with the assistance of a special gra...</td>\n      <td>1826.0</td>\n      <td>1919</td>\n      <td>image: 243 x 335 mm</td>\n      <td>243.0</td>\n      <td>335.0</td>\n      <td>NaN</td>\n      <td>mm</td>\n      <td>NaN</td>\n      <td>NaN</td>\n      <td>http://www.tate.org.uk/art/images/work/A/A00/A...</td>\n      <td>http://www.tate.org.uk/art/artworks/blake-the-...</td>\n    </tr>\n  </tbody>\n</table>\n</div>"
     },
     "execution_count": 78,
     "metadata": {},
     "output_type": "execute_result"
    }
   ],
   "source": [
    "data.drop_duplicates(subset=['artist'])"
   ],
   "metadata": {
    "collapsed": false,
    "pycharm": {
     "name": "#%%\n"
    }
   }
  },
  {
   "cell_type": "code",
   "execution_count": 79,
   "outputs": [
    {
     "data": {
      "text/plain": "     id accession_number          artist artistRole  artistId  \\\n0  1035           A00001   Blake, Robert     artist        38   \n4  1039           A00005  Blake, William     artist        39   \n\n                                               title                dateText  \\\n0  A Figure Bowing before a Seated Old Man with h...          date not known   \n4  The Circle of the Lustful: Francesca da Rimini...  1826–7, reprinted 1892   \n\n                                              medium  \\\n0  Watercolour, ink, chalk and graphite on paper....   \n4                            Line engraving on paper   \n\n                                          creditLine    year  acquisitionYear  \\\n0                Presented by Mrs John Richmond 1922     NaN             1922   \n4  Purchased with the assistance of a special gra...  1826.0             1919   \n\n              dimensions  width  height  depth units  inscription  \\\n0  support: 394 x 419 mm  394.0   419.0    NaN    mm          NaN   \n4    image: 243 x 335 mm  243.0   335.0    NaN    mm          NaN   \n\n   thumbnailCopyright                                       thumbnailUrl  \\\n0                 NaN  http://www.tate.org.uk/art/images/work/A/A00/A...   \n4                 NaN  http://www.tate.org.uk/art/images/work/A/A00/A...   \n\n                                                 url  \n0  http://www.tate.org.uk/art/artworks/blake-a-fi...  \n4  http://www.tate.org.uk/art/artworks/blake-the-...  ",
      "text/html": "<div>\n<style scoped>\n    .dataframe tbody tr th:only-of-type {\n        vertical-align: middle;\n    }\n\n    .dataframe tbody tr th {\n        vertical-align: top;\n    }\n\n    .dataframe thead th {\n        text-align: right;\n    }\n</style>\n<table border=\"1\" class=\"dataframe\">\n  <thead>\n    <tr style=\"text-align: right;\">\n      <th></th>\n      <th>id</th>\n      <th>accession_number</th>\n      <th>artist</th>\n      <th>artistRole</th>\n      <th>artistId</th>\n      <th>title</th>\n      <th>dateText</th>\n      <th>medium</th>\n      <th>creditLine</th>\n      <th>year</th>\n      <th>acquisitionYear</th>\n      <th>dimensions</th>\n      <th>width</th>\n      <th>height</th>\n      <th>depth</th>\n      <th>units</th>\n      <th>inscription</th>\n      <th>thumbnailCopyright</th>\n      <th>thumbnailUrl</th>\n      <th>url</th>\n    </tr>\n  </thead>\n  <tbody>\n    <tr>\n      <th>0</th>\n      <td>1035</td>\n      <td>A00001</td>\n      <td>Blake, Robert</td>\n      <td>artist</td>\n      <td>38</td>\n      <td>A Figure Bowing before a Seated Old Man with h...</td>\n      <td>date not known</td>\n      <td>Watercolour, ink, chalk and graphite on paper....</td>\n      <td>Presented by Mrs John Richmond 1922</td>\n      <td>NaN</td>\n      <td>1922</td>\n      <td>support: 394 x 419 mm</td>\n      <td>394.0</td>\n      <td>419.0</td>\n      <td>NaN</td>\n      <td>mm</td>\n      <td>NaN</td>\n      <td>NaN</td>\n      <td>http://www.tate.org.uk/art/images/work/A/A00/A...</td>\n      <td>http://www.tate.org.uk/art/artworks/blake-a-fi...</td>\n    </tr>\n    <tr>\n      <th>4</th>\n      <td>1039</td>\n      <td>A00005</td>\n      <td>Blake, William</td>\n      <td>artist</td>\n      <td>39</td>\n      <td>The Circle of the Lustful: Francesca da Rimini...</td>\n      <td>1826–7, reprinted 1892</td>\n      <td>Line engraving on paper</td>\n      <td>Purchased with the assistance of a special gra...</td>\n      <td>1826.0</td>\n      <td>1919</td>\n      <td>image: 243 x 335 mm</td>\n      <td>243.0</td>\n      <td>335.0</td>\n      <td>NaN</td>\n      <td>mm</td>\n      <td>NaN</td>\n      <td>NaN</td>\n      <td>http://www.tate.org.uk/art/images/work/A/A00/A...</td>\n      <td>http://www.tate.org.uk/art/artworks/blake-the-...</td>\n    </tr>\n  </tbody>\n</table>\n</div>"
     },
     "execution_count": 79,
     "metadata": {},
     "output_type": "execute_result"
    }
   ],
   "source": [
    "data.drop_duplicates(subset=['artist'], keep='first')"
   ],
   "metadata": {
    "collapsed": false,
    "pycharm": {
     "name": "#%%\n"
    }
   }
  },
  {
   "cell_type": "code",
   "execution_count": 80,
   "outputs": [
    {
     "data": {
      "text/plain": "     id accession_number          artist artistRole  artistId  \\\n3  1038           A00004   Blake, Robert     artist        38   \n9  1044           A00010  Blake, William     artist        39   \n\n                                            title                dateText  \\\n3  Six Drawings of Figures with Outstretched Arms          date not known   \n9              The Pit of Disease: The Falsifiers  1826–7, reprinted 1892   \n\n                    medium                                         creditLine  \\\n3        Graphite on paper                Presented by Mrs John Richmond 1922   \n9  Line engraving on paper  Purchased with the assistance of a special gra...   \n\n     year  acquisitionYear             dimensions  width  height  depth units  \\\n3     NaN             1922  support: 318 x 394 mm  318.0   394.0    NaN    mm   \n9  1826.0             1919    image: 243 x 340 mm  243.0   340.0    NaN    mm   \n\n   inscription  thumbnailCopyright  \\\n3          NaN                 NaN   \n9          NaN                 NaN   \n\n                                        thumbnailUrl  \\\n3  http://www.tate.org.uk/art/images/work/A/A00/A...   \n9  http://www.tate.org.uk/art/images/work/A/A00/A...   \n\n                                                 url  \n3  http://www.tate.org.uk/art/artworks/blake-six-...  \n9  http://www.tate.org.uk/art/artworks/blake-the-...  ",
      "text/html": "<div>\n<style scoped>\n    .dataframe tbody tr th:only-of-type {\n        vertical-align: middle;\n    }\n\n    .dataframe tbody tr th {\n        vertical-align: top;\n    }\n\n    .dataframe thead th {\n        text-align: right;\n    }\n</style>\n<table border=\"1\" class=\"dataframe\">\n  <thead>\n    <tr style=\"text-align: right;\">\n      <th></th>\n      <th>id</th>\n      <th>accession_number</th>\n      <th>artist</th>\n      <th>artistRole</th>\n      <th>artistId</th>\n      <th>title</th>\n      <th>dateText</th>\n      <th>medium</th>\n      <th>creditLine</th>\n      <th>year</th>\n      <th>acquisitionYear</th>\n      <th>dimensions</th>\n      <th>width</th>\n      <th>height</th>\n      <th>depth</th>\n      <th>units</th>\n      <th>inscription</th>\n      <th>thumbnailCopyright</th>\n      <th>thumbnailUrl</th>\n      <th>url</th>\n    </tr>\n  </thead>\n  <tbody>\n    <tr>\n      <th>3</th>\n      <td>1038</td>\n      <td>A00004</td>\n      <td>Blake, Robert</td>\n      <td>artist</td>\n      <td>38</td>\n      <td>Six Drawings of Figures with Outstretched Arms</td>\n      <td>date not known</td>\n      <td>Graphite on paper</td>\n      <td>Presented by Mrs John Richmond 1922</td>\n      <td>NaN</td>\n      <td>1922</td>\n      <td>support: 318 x 394 mm</td>\n      <td>318.0</td>\n      <td>394.0</td>\n      <td>NaN</td>\n      <td>mm</td>\n      <td>NaN</td>\n      <td>NaN</td>\n      <td>http://www.tate.org.uk/art/images/work/A/A00/A...</td>\n      <td>http://www.tate.org.uk/art/artworks/blake-six-...</td>\n    </tr>\n    <tr>\n      <th>9</th>\n      <td>1044</td>\n      <td>A00010</td>\n      <td>Blake, William</td>\n      <td>artist</td>\n      <td>39</td>\n      <td>The Pit of Disease: The Falsifiers</td>\n      <td>1826–7, reprinted 1892</td>\n      <td>Line engraving on paper</td>\n      <td>Purchased with the assistance of a special gra...</td>\n      <td>1826.0</td>\n      <td>1919</td>\n      <td>image: 243 x 340 mm</td>\n      <td>243.0</td>\n      <td>340.0</td>\n      <td>NaN</td>\n      <td>mm</td>\n      <td>NaN</td>\n      <td>NaN</td>\n      <td>http://www.tate.org.uk/art/images/work/A/A00/A...</td>\n      <td>http://www.tate.org.uk/art/artworks/blake-the-...</td>\n    </tr>\n  </tbody>\n</table>\n</div>"
     },
     "execution_count": 80,
     "metadata": {},
     "output_type": "execute_result"
    }
   ],
   "source": [
    "data.drop_duplicates(subset=['artist'], keep='last')"
   ],
   "metadata": {
    "collapsed": false,
    "pycharm": {
     "name": "#%%\n"
    }
   }
  },
  {
   "cell_type": "code",
   "execution_count": 82,
   "outputs": [
    {
     "data": {
      "text/plain": "Empty DataFrame\nColumns: [id, accession_number, artist, artistRole, artistId, title, dateText, medium, creditLine, year, acquisitionYear, dimensions, width, height, depth, units, inscription, thumbnailCopyright, thumbnailUrl, url]\nIndex: []",
      "text/html": "<div>\n<style scoped>\n    .dataframe tbody tr th:only-of-type {\n        vertical-align: middle;\n    }\n\n    .dataframe tbody tr th {\n        vertical-align: top;\n    }\n\n    .dataframe thead th {\n        text-align: right;\n    }\n</style>\n<table border=\"1\" class=\"dataframe\">\n  <thead>\n    <tr style=\"text-align: right;\">\n      <th></th>\n      <th>id</th>\n      <th>accession_number</th>\n      <th>artist</th>\n      <th>artistRole</th>\n      <th>artistId</th>\n      <th>title</th>\n      <th>dateText</th>\n      <th>medium</th>\n      <th>creditLine</th>\n      <th>year</th>\n      <th>acquisitionYear</th>\n      <th>dimensions</th>\n      <th>width</th>\n      <th>height</th>\n      <th>depth</th>\n      <th>units</th>\n      <th>inscription</th>\n      <th>thumbnailCopyright</th>\n      <th>thumbnailUrl</th>\n      <th>url</th>\n    </tr>\n  </thead>\n  <tbody>\n  </tbody>\n</table>\n</div>"
     },
     "execution_count": 82,
     "metadata": {},
     "output_type": "execute_result"
    }
   ],
   "source": [
    "# keep : {'first', 'last', False}, default 'first'\n",
    "# Determines which duplicates (if any) to keep.\n",
    "# - ``first`` : Drop duplicates except for the first occurrence.\n",
    "# - ``last`` : Drop duplicates except for the last occurrence.\n",
    "# - False : Drop all duplicates.\n",
    "\n",
    "# if duplicate values found based on artist, dont keep any of the rows\n",
    "data.drop_duplicates(subset=['artist'], keep=False)"
   ],
   "metadata": {
    "collapsed": false,
    "pycharm": {
     "name": "#%%\n"
    }
   }
  },
  {
   "cell_type": "code",
   "execution_count": 83,
   "outputs": [
    {
     "name": "stdout",
     "output_type": "stream",
     "text": [
      "Help on method drop_duplicates in module pandas.core.frame:\n",
      "\n",
      "drop_duplicates(subset: 'Hashable | Sequence[Hashable] | None' = None, keep: \"Literal['first'] | Literal['last'] | Literal[False]\" = 'first', inplace: 'bool' = False, ignore_index: 'bool' = False) -> 'DataFrame | None' method of pandas.core.frame.DataFrame instance\n",
      "    Return DataFrame with duplicate rows removed.\n",
      "    \n",
      "    Considering certain columns is optional. Indexes, including time indexes\n",
      "    are ignored.\n",
      "    \n",
      "    Parameters\n",
      "    ----------\n",
      "    subset : column label or sequence of labels, optional\n",
      "        Only consider certain columns for identifying duplicates, by\n",
      "        default use all of the columns.\n",
      "    keep : {'first', 'last', False}, default 'first'\n",
      "        Determines which duplicates (if any) to keep.\n",
      "        - ``first`` : Drop duplicates except for the first occurrence.\n",
      "        - ``last`` : Drop duplicates except for the last occurrence.\n",
      "        - False : Drop all duplicates.\n",
      "    inplace : bool, default False\n",
      "        Whether to drop duplicates in place or to return a copy.\n",
      "    ignore_index : bool, default False\n",
      "        If True, the resulting axis will be labeled 0, 1, …, n - 1.\n",
      "    \n",
      "        .. versionadded:: 1.0.0\n",
      "    \n",
      "    Returns\n",
      "    -------\n",
      "    DataFrame or None\n",
      "        DataFrame with duplicates removed or None if ``inplace=True``.\n",
      "    \n",
      "    See Also\n",
      "    --------\n",
      "    DataFrame.value_counts: Count unique combinations of columns.\n",
      "    \n",
      "    Examples\n",
      "    --------\n",
      "    Consider dataset containing ramen rating.\n",
      "    \n",
      "    >>> df = pd.DataFrame({\n",
      "    ...     'brand': ['Yum Yum', 'Yum Yum', 'Indomie', 'Indomie', 'Indomie'],\n",
      "    ...     'style': ['cup', 'cup', 'cup', 'pack', 'pack'],\n",
      "    ...     'rating': [4, 4, 3.5, 15, 5]\n",
      "    ... })\n",
      "    >>> df\n",
      "        brand style  rating\n",
      "    0  Yum Yum   cup     4.0\n",
      "    1  Yum Yum   cup     4.0\n",
      "    2  Indomie   cup     3.5\n",
      "    3  Indomie  pack    15.0\n",
      "    4  Indomie  pack     5.0\n",
      "    \n",
      "    By default, it removes duplicate rows based on all columns.\n",
      "    \n",
      "    >>> df.drop_duplicates()\n",
      "        brand style  rating\n",
      "    0  Yum Yum   cup     4.0\n",
      "    2  Indomie   cup     3.5\n",
      "    3  Indomie  pack    15.0\n",
      "    4  Indomie  pack     5.0\n",
      "    \n",
      "    To remove duplicates on specific column(s), use ``subset``.\n",
      "    \n",
      "    >>> df.drop_duplicates(subset=['brand'])\n",
      "        brand style  rating\n",
      "    0  Yum Yum   cup     4.0\n",
      "    2  Indomie   cup     3.5\n",
      "    \n",
      "    To remove duplicates and keep last occurrences, use ``keep``.\n",
      "    \n",
      "    >>> df.drop_duplicates(subset=['brand', 'style'], keep='last')\n",
      "        brand style  rating\n",
      "    1  Yum Yum   cup     4.0\n",
      "    2  Indomie   cup     3.5\n",
      "    4  Indomie  pack     5.0\n",
      "\n"
     ]
    }
   ],
   "source": [
    "help(data.drop_duplicates)"
   ],
   "metadata": {
    "collapsed": false,
    "pycharm": {
     "name": "#%%\n"
    }
   }
  },
  {
   "cell_type": "code",
   "execution_count": 85,
   "outputs": [
    {
     "name": "stderr",
     "output_type": "stream",
     "text": [
      "C:\\Users\\hp\\AppData\\Local\\Temp\\ipykernel_13652\\74990849.py:1: DtypeWarning: Columns (9,13) have mixed types. Specify dtype option on import or set low_memory=False.\n",
      "  data = pd.read_csv('./data/artwork_data.csv')\n"
     ]
    }
   ],
   "source": [
    "data = pd.read_csv('./data/artwork_data.csv')"
   ],
   "metadata": {
    "collapsed": false,
    "pycharm": {
     "name": "#%%\n"
    }
   }
  },
  {
   "cell_type": "code",
   "execution_count": 86,
   "outputs": [
    {
     "data": {
      "text/plain": "(69201, 20)"
     },
     "execution_count": 86,
     "metadata": {},
     "output_type": "execute_result"
    }
   ],
   "source": [
    "data.shape"
   ],
   "metadata": {
    "collapsed": false,
    "pycharm": {
     "name": "#%%\n"
    }
   }
  },
  {
   "cell_type": "code",
   "execution_count": 87,
   "outputs": [
    {
     "data": {
      "text/plain": "0        False\n1        False\n2        False\n3        False\n4        False\n         ...  \n69196    False\n69197    False\n69198    False\n69199    False\n69200    False\nLength: 69201, dtype: bool"
     },
     "execution_count": 87,
     "metadata": {},
     "output_type": "execute_result"
    }
   ],
   "source": [
    "data.duplicated()"
   ],
   "metadata": {
    "collapsed": false,
    "pycharm": {
     "name": "#%%\n"
    }
   }
  },
  {
   "cell_type": "code",
   "execution_count": 88,
   "outputs": [
    {
     "data": {
      "text/plain": "Empty DataFrame\nColumns: [id, accession_number, artist, artistRole, artistId, title, dateText, medium, creditLine, year, acquisitionYear, dimensions, width, height, depth, units, inscription, thumbnailCopyright, thumbnailUrl, url]\nIndex: []",
      "text/html": "<div>\n<style scoped>\n    .dataframe tbody tr th:only-of-type {\n        vertical-align: middle;\n    }\n\n    .dataframe tbody tr th {\n        vertical-align: top;\n    }\n\n    .dataframe thead th {\n        text-align: right;\n    }\n</style>\n<table border=\"1\" class=\"dataframe\">\n  <thead>\n    <tr style=\"text-align: right;\">\n      <th></th>\n      <th>id</th>\n      <th>accession_number</th>\n      <th>artist</th>\n      <th>artistRole</th>\n      <th>artistId</th>\n      <th>title</th>\n      <th>dateText</th>\n      <th>medium</th>\n      <th>creditLine</th>\n      <th>year</th>\n      <th>acquisitionYear</th>\n      <th>dimensions</th>\n      <th>width</th>\n      <th>height</th>\n      <th>depth</th>\n      <th>units</th>\n      <th>inscription</th>\n      <th>thumbnailCopyright</th>\n      <th>thumbnailUrl</th>\n      <th>url</th>\n    </tr>\n  </thead>\n  <tbody>\n  </tbody>\n</table>\n</div>"
     },
     "execution_count": 88,
     "metadata": {},
     "output_type": "execute_result"
    }
   ],
   "source": [
    "data.loc[data.duplicated()]"
   ],
   "metadata": {
    "collapsed": false,
    "pycharm": {
     "name": "#%%\n"
    }
   }
  },
  {
   "cell_type": "code",
   "execution_count": 89,
   "outputs": [
    {
     "data": {
      "text/plain": "0        False\n1        False\n2        False\n3        False\n4         True\n         ...  \n69196    False\n69197    False\n69198    False\n69199    False\n69200    False\nLength: 69201, dtype: bool"
     },
     "execution_count": 89,
     "metadata": {},
     "output_type": "execute_result"
    }
   ],
   "source": [
    "data.duplicated(subset=['artist', 'title'], keep=False)"
   ],
   "metadata": {
    "collapsed": false,
    "pycharm": {
     "name": "#%%\n"
    }
   }
  },
  {
   "cell_type": "code",
   "execution_count": 90,
   "outputs": [
    {
     "data": {
      "text/plain": "           id accession_number            artist artistRole  artistId  \\\n4        1039           A00005    Blake, William     artist        39   \n5        1040           A00006    Blake, William     artist        39   \n6        1041           A00007    Blake, William     artist        39   \n7        1042           A00008    Blake, William     artist        39   \n8        1043           A00009    Blake, William     artist        39   \n...       ...              ...               ...        ...       ...   \n69169  121194           T13838  Barlow, Phyllida     artist     10908   \n69170  121195           T13839  Barlow, Phyllida     artist     10908   \n69171  121196           T13840  Barlow, Phyllida     artist     10908   \n69172  121197           T13841  Barlow, Phyllida     artist     10908   \n69173  121198           T13842  Barlow, Phyllida     artist     10908   \n\n                                                   title  \\\n4      The Circle of the Lustful: Francesca da Rimini...   \n5          Ciampolo the Barrator Tormented by the Devils   \n6                            The Baffled Devils Fighting   \n7      The Six-Footed Serpent Attacking Agnolo Brunel...   \n8                     The Serpent Attacking Buoso Donati   \n...                                                  ...   \n69169                                           Untitled   \n69170                                           Untitled   \n69171                                           Untitled   \n69172                                           Untitled   \n69173                                           Untitled   \n\n                     dateText                   medium  \\\n4      1826–7, reprinted 1892  Line engraving on paper   \n5      1826–7, reprinted 1892  Line engraving on paper   \n6      1826–7, reprinted 1892  Line engraving on paper   \n7      1826–7, reprinted 1892  Line engraving on paper   \n8      1826–7, reprinted 1892  Line engraving on paper   \n...                       ...                      ...   \n69169                    1999   Acrylic paint on paper   \n69170                    2003   Acrylic paint on paper   \n69171                    2003   Acrylic paint on paper   \n69172                    2004   Acrylic paint on paper   \n69173                    2006   Acrylic paint on paper   \n\n                                              creditLine    year  \\\n4      Purchased with the assistance of a special gra...  1826.0   \n5      Purchased with the assistance of a special gra...  1826.0   \n6      Purchased with the assistance of a special gra...  1826.0   \n7      Purchased with the assistance of a special gra...  1826.0   \n8      Purchased with the assistance of a special gra...  1826.0   \n...                                                  ...     ...   \n69169  Presented by the Trustees of the Chantrey Bequ...    1999   \n69170  Presented by the Trustees of the Chantrey Bequ...    2003   \n69171  Presented by the Trustees of the Chantrey Bequ...    2003   \n69172  Presented by the Trustees of the Chantrey Bequ...    2004   \n69173  Presented by the Trustees of the Chantrey Bequ...    2006   \n\n       acquisitionYear                 dimensions width height  depth units  \\\n4               1919.0        image: 243 x 335 mm   243  335.0    NaN    mm   \n5               1919.0        image: 240 x 338 mm   240  338.0    NaN    mm   \n6               1919.0        image: 242 x 334 mm   242  334.0    NaN    mm   \n7               1919.0        image: 246 x 340 mm   246  340.0    NaN    mm   \n8               1919.0        image: 241 x 335 mm   241  335.0    NaN    mm   \n...                ...                        ...   ...    ...    ...   ...   \n69169           2013.0  unconfirmed: 637 x 897 mm   637  897.0    NaN    mm   \n69170           2013.0      support: 560 x 762 mm   560  762.0    NaN    mm   \n69171           2013.0      support: 558 x 760 mm   558  760.0    NaN    mm   \n69172           2013.0      support: 380 x 566 mm   380  566.0    NaN    mm   \n69173           2013.0      support: 560 x 762 mm   560  762.0    NaN    mm   \n\n      inscription thumbnailCopyright  \\\n4             NaN                NaN   \n5             NaN                NaN   \n6             NaN                NaN   \n7             NaN                NaN   \n8             NaN                NaN   \n...           ...                ...   \n69169         NaN  © Phyllida Barlow   \n69170         NaN  © Phyllida Barlow   \n69171         NaN  © Phyllida Barlow   \n69172         NaN  © Phyllida Barlow   \n69173         NaN  © Phyllida Barlow   \n\n                                            thumbnailUrl  \\\n4      http://www.tate.org.uk/art/images/work/A/A00/A...   \n5      http://www.tate.org.uk/art/images/work/A/A00/A...   \n6      http://www.tate.org.uk/art/images/work/A/A00/A...   \n7      http://www.tate.org.uk/art/images/work/A/A00/A...   \n8      http://www.tate.org.uk/art/images/work/A/A00/A...   \n...                                                  ...   \n69169  http://www.tate.org.uk/art/images/work/T/T13/T...   \n69170  http://www.tate.org.uk/art/images/work/T/T13/T...   \n69171  http://www.tate.org.uk/art/images/work/T/T13/T...   \n69172  http://www.tate.org.uk/art/images/work/T/T13/T...   \n69173  http://www.tate.org.uk/art/images/work/T/T13/T...   \n\n                                                     url  \n4      http://www.tate.org.uk/art/artworks/blake-the-...  \n5      http://www.tate.org.uk/art/artworks/blake-ciam...  \n6      http://www.tate.org.uk/art/artworks/blake-the-...  \n7      http://www.tate.org.uk/art/artworks/blake-the-...  \n8      http://www.tate.org.uk/art/artworks/blake-the-...  \n...                                                  ...  \n69169  http://www.tate.org.uk/art/artworks/barlow-unt...  \n69170  http://www.tate.org.uk/art/artworks/barlow-unt...  \n69171  http://www.tate.org.uk/art/artworks/barlow-unt...  \n69172  http://www.tate.org.uk/art/artworks/barlow-unt...  \n69173  http://www.tate.org.uk/art/artworks/barlow-unt...  \n\n[29019 rows x 20 columns]",
      "text/html": "<div>\n<style scoped>\n    .dataframe tbody tr th:only-of-type {\n        vertical-align: middle;\n    }\n\n    .dataframe tbody tr th {\n        vertical-align: top;\n    }\n\n    .dataframe thead th {\n        text-align: right;\n    }\n</style>\n<table border=\"1\" class=\"dataframe\">\n  <thead>\n    <tr style=\"text-align: right;\">\n      <th></th>\n      <th>id</th>\n      <th>accession_number</th>\n      <th>artist</th>\n      <th>artistRole</th>\n      <th>artistId</th>\n      <th>title</th>\n      <th>dateText</th>\n      <th>medium</th>\n      <th>creditLine</th>\n      <th>year</th>\n      <th>acquisitionYear</th>\n      <th>dimensions</th>\n      <th>width</th>\n      <th>height</th>\n      <th>depth</th>\n      <th>units</th>\n      <th>inscription</th>\n      <th>thumbnailCopyright</th>\n      <th>thumbnailUrl</th>\n      <th>url</th>\n    </tr>\n  </thead>\n  <tbody>\n    <tr>\n      <th>4</th>\n      <td>1039</td>\n      <td>A00005</td>\n      <td>Blake, William</td>\n      <td>artist</td>\n      <td>39</td>\n      <td>The Circle of the Lustful: Francesca da Rimini...</td>\n      <td>1826–7, reprinted 1892</td>\n      <td>Line engraving on paper</td>\n      <td>Purchased with the assistance of a special gra...</td>\n      <td>1826.0</td>\n      <td>1919.0</td>\n      <td>image: 243 x 335 mm</td>\n      <td>243</td>\n      <td>335.0</td>\n      <td>NaN</td>\n      <td>mm</td>\n      <td>NaN</td>\n      <td>NaN</td>\n      <td>http://www.tate.org.uk/art/images/work/A/A00/A...</td>\n      <td>http://www.tate.org.uk/art/artworks/blake-the-...</td>\n    </tr>\n    <tr>\n      <th>5</th>\n      <td>1040</td>\n      <td>A00006</td>\n      <td>Blake, William</td>\n      <td>artist</td>\n      <td>39</td>\n      <td>Ciampolo the Barrator Tormented by the Devils</td>\n      <td>1826–7, reprinted 1892</td>\n      <td>Line engraving on paper</td>\n      <td>Purchased with the assistance of a special gra...</td>\n      <td>1826.0</td>\n      <td>1919.0</td>\n      <td>image: 240 x 338 mm</td>\n      <td>240</td>\n      <td>338.0</td>\n      <td>NaN</td>\n      <td>mm</td>\n      <td>NaN</td>\n      <td>NaN</td>\n      <td>http://www.tate.org.uk/art/images/work/A/A00/A...</td>\n      <td>http://www.tate.org.uk/art/artworks/blake-ciam...</td>\n    </tr>\n    <tr>\n      <th>6</th>\n      <td>1041</td>\n      <td>A00007</td>\n      <td>Blake, William</td>\n      <td>artist</td>\n      <td>39</td>\n      <td>The Baffled Devils Fighting</td>\n      <td>1826–7, reprinted 1892</td>\n      <td>Line engraving on paper</td>\n      <td>Purchased with the assistance of a special gra...</td>\n      <td>1826.0</td>\n      <td>1919.0</td>\n      <td>image: 242 x 334 mm</td>\n      <td>242</td>\n      <td>334.0</td>\n      <td>NaN</td>\n      <td>mm</td>\n      <td>NaN</td>\n      <td>NaN</td>\n      <td>http://www.tate.org.uk/art/images/work/A/A00/A...</td>\n      <td>http://www.tate.org.uk/art/artworks/blake-the-...</td>\n    </tr>\n    <tr>\n      <th>7</th>\n      <td>1042</td>\n      <td>A00008</td>\n      <td>Blake, William</td>\n      <td>artist</td>\n      <td>39</td>\n      <td>The Six-Footed Serpent Attacking Agnolo Brunel...</td>\n      <td>1826–7, reprinted 1892</td>\n      <td>Line engraving on paper</td>\n      <td>Purchased with the assistance of a special gra...</td>\n      <td>1826.0</td>\n      <td>1919.0</td>\n      <td>image: 246 x 340 mm</td>\n      <td>246</td>\n      <td>340.0</td>\n      <td>NaN</td>\n      <td>mm</td>\n      <td>NaN</td>\n      <td>NaN</td>\n      <td>http://www.tate.org.uk/art/images/work/A/A00/A...</td>\n      <td>http://www.tate.org.uk/art/artworks/blake-the-...</td>\n    </tr>\n    <tr>\n      <th>8</th>\n      <td>1043</td>\n      <td>A00009</td>\n      <td>Blake, William</td>\n      <td>artist</td>\n      <td>39</td>\n      <td>The Serpent Attacking Buoso Donati</td>\n      <td>1826–7, reprinted 1892</td>\n      <td>Line engraving on paper</td>\n      <td>Purchased with the assistance of a special gra...</td>\n      <td>1826.0</td>\n      <td>1919.0</td>\n      <td>image: 241 x 335 mm</td>\n      <td>241</td>\n      <td>335.0</td>\n      <td>NaN</td>\n      <td>mm</td>\n      <td>NaN</td>\n      <td>NaN</td>\n      <td>http://www.tate.org.uk/art/images/work/A/A00/A...</td>\n      <td>http://www.tate.org.uk/art/artworks/blake-the-...</td>\n    </tr>\n    <tr>\n      <th>...</th>\n      <td>...</td>\n      <td>...</td>\n      <td>...</td>\n      <td>...</td>\n      <td>...</td>\n      <td>...</td>\n      <td>...</td>\n      <td>...</td>\n      <td>...</td>\n      <td>...</td>\n      <td>...</td>\n      <td>...</td>\n      <td>...</td>\n      <td>...</td>\n      <td>...</td>\n      <td>...</td>\n      <td>...</td>\n      <td>...</td>\n      <td>...</td>\n      <td>...</td>\n    </tr>\n    <tr>\n      <th>69169</th>\n      <td>121194</td>\n      <td>T13838</td>\n      <td>Barlow, Phyllida</td>\n      <td>artist</td>\n      <td>10908</td>\n      <td>Untitled</td>\n      <td>1999</td>\n      <td>Acrylic paint on paper</td>\n      <td>Presented by the Trustees of the Chantrey Bequ...</td>\n      <td>1999</td>\n      <td>2013.0</td>\n      <td>unconfirmed: 637 x 897 mm</td>\n      <td>637</td>\n      <td>897.0</td>\n      <td>NaN</td>\n      <td>mm</td>\n      <td>NaN</td>\n      <td>© Phyllida Barlow</td>\n      <td>http://www.tate.org.uk/art/images/work/T/T13/T...</td>\n      <td>http://www.tate.org.uk/art/artworks/barlow-unt...</td>\n    </tr>\n    <tr>\n      <th>69170</th>\n      <td>121195</td>\n      <td>T13839</td>\n      <td>Barlow, Phyllida</td>\n      <td>artist</td>\n      <td>10908</td>\n      <td>Untitled</td>\n      <td>2003</td>\n      <td>Acrylic paint on paper</td>\n      <td>Presented by the Trustees of the Chantrey Bequ...</td>\n      <td>2003</td>\n      <td>2013.0</td>\n      <td>support: 560 x 762 mm</td>\n      <td>560</td>\n      <td>762.0</td>\n      <td>NaN</td>\n      <td>mm</td>\n      <td>NaN</td>\n      <td>© Phyllida Barlow</td>\n      <td>http://www.tate.org.uk/art/images/work/T/T13/T...</td>\n      <td>http://www.tate.org.uk/art/artworks/barlow-unt...</td>\n    </tr>\n    <tr>\n      <th>69171</th>\n      <td>121196</td>\n      <td>T13840</td>\n      <td>Barlow, Phyllida</td>\n      <td>artist</td>\n      <td>10908</td>\n      <td>Untitled</td>\n      <td>2003</td>\n      <td>Acrylic paint on paper</td>\n      <td>Presented by the Trustees of the Chantrey Bequ...</td>\n      <td>2003</td>\n      <td>2013.0</td>\n      <td>support: 558 x 760 mm</td>\n      <td>558</td>\n      <td>760.0</td>\n      <td>NaN</td>\n      <td>mm</td>\n      <td>NaN</td>\n      <td>© Phyllida Barlow</td>\n      <td>http://www.tate.org.uk/art/images/work/T/T13/T...</td>\n      <td>http://www.tate.org.uk/art/artworks/barlow-unt...</td>\n    </tr>\n    <tr>\n      <th>69172</th>\n      <td>121197</td>\n      <td>T13841</td>\n      <td>Barlow, Phyllida</td>\n      <td>artist</td>\n      <td>10908</td>\n      <td>Untitled</td>\n      <td>2004</td>\n      <td>Acrylic paint on paper</td>\n      <td>Presented by the Trustees of the Chantrey Bequ...</td>\n      <td>2004</td>\n      <td>2013.0</td>\n      <td>support: 380 x 566 mm</td>\n      <td>380</td>\n      <td>566.0</td>\n      <td>NaN</td>\n      <td>mm</td>\n      <td>NaN</td>\n      <td>© Phyllida Barlow</td>\n      <td>http://www.tate.org.uk/art/images/work/T/T13/T...</td>\n      <td>http://www.tate.org.uk/art/artworks/barlow-unt...</td>\n    </tr>\n    <tr>\n      <th>69173</th>\n      <td>121198</td>\n      <td>T13842</td>\n      <td>Barlow, Phyllida</td>\n      <td>artist</td>\n      <td>10908</td>\n      <td>Untitled</td>\n      <td>2006</td>\n      <td>Acrylic paint on paper</td>\n      <td>Presented by the Trustees of the Chantrey Bequ...</td>\n      <td>2006</td>\n      <td>2013.0</td>\n      <td>support: 560 x 762 mm</td>\n      <td>560</td>\n      <td>762.0</td>\n      <td>NaN</td>\n      <td>mm</td>\n      <td>NaN</td>\n      <td>© Phyllida Barlow</td>\n      <td>http://www.tate.org.uk/art/images/work/T/T13/T...</td>\n      <td>http://www.tate.org.uk/art/artworks/barlow-unt...</td>\n    </tr>\n  </tbody>\n</table>\n<p>29019 rows × 20 columns</p>\n</div>"
     },
     "execution_count": 90,
     "metadata": {},
     "output_type": "execute_result"
    }
   ],
   "source": [
    "data.loc[data.duplicated(subset=['artist', 'title'], keep=False)]"
   ],
   "metadata": {
    "collapsed": false,
    "pycharm": {
     "name": "#%%\n"
    }
   }
  },
  {
   "cell_type": "code",
   "execution_count": 91,
   "outputs": [
    {
     "data": {
      "text/plain": "         id accession_number          artist artistRole  artistId  \\\n4      1039           A00005  Blake, William     artist        39   \n57394  1156           T01950  Blake, William     artist        39   \n\n                                                   title  \\\n4      The Circle of the Lustful: Francesca da Rimini...   \n57394  The Circle of the Lustful: Francesca da Rimini...   \n\n                     dateText                   medium  \\\n4      1826–7, reprinted 1892  Line engraving on paper   \n57394  1826–7, reprinted 1968  Line-engraving on paper   \n\n                                              creditLine    year  \\\n4      Purchased with the assistance of a special gra...  1826.0   \n57394             Presented by Lessing J. Rosenwald 1975  1826.0   \n\n       acquisitionYear           dimensions width height  depth units  \\\n4               1919.0  image: 243 x 335 mm   243  335.0    NaN    mm   \n57394           1975.0  image: 243 x 335 mm   243    335    NaN    mm   \n\n      inscription thumbnailCopyright  \\\n4             NaN                NaN   \n57394         NaN                NaN   \n\n                                            thumbnailUrl  \\\n4      http://www.tate.org.uk/art/images/work/A/A00/A...   \n57394  http://www.tate.org.uk/art/images/work/T/T01/T...   \n\n                                                     url  \n4      http://www.tate.org.uk/art/artworks/blake-the-...  \n57394  http://www.tate.org.uk/art/artworks/blake-the-...  ",
      "text/html": "<div>\n<style scoped>\n    .dataframe tbody tr th:only-of-type {\n        vertical-align: middle;\n    }\n\n    .dataframe tbody tr th {\n        vertical-align: top;\n    }\n\n    .dataframe thead th {\n        text-align: right;\n    }\n</style>\n<table border=\"1\" class=\"dataframe\">\n  <thead>\n    <tr style=\"text-align: right;\">\n      <th></th>\n      <th>id</th>\n      <th>accession_number</th>\n      <th>artist</th>\n      <th>artistRole</th>\n      <th>artistId</th>\n      <th>title</th>\n      <th>dateText</th>\n      <th>medium</th>\n      <th>creditLine</th>\n      <th>year</th>\n      <th>acquisitionYear</th>\n      <th>dimensions</th>\n      <th>width</th>\n      <th>height</th>\n      <th>depth</th>\n      <th>units</th>\n      <th>inscription</th>\n      <th>thumbnailCopyright</th>\n      <th>thumbnailUrl</th>\n      <th>url</th>\n    </tr>\n  </thead>\n  <tbody>\n    <tr>\n      <th>4</th>\n      <td>1039</td>\n      <td>A00005</td>\n      <td>Blake, William</td>\n      <td>artist</td>\n      <td>39</td>\n      <td>The Circle of the Lustful: Francesca da Rimini...</td>\n      <td>1826–7, reprinted 1892</td>\n      <td>Line engraving on paper</td>\n      <td>Purchased with the assistance of a special gra...</td>\n      <td>1826.0</td>\n      <td>1919.0</td>\n      <td>image: 243 x 335 mm</td>\n      <td>243</td>\n      <td>335.0</td>\n      <td>NaN</td>\n      <td>mm</td>\n      <td>NaN</td>\n      <td>NaN</td>\n      <td>http://www.tate.org.uk/art/images/work/A/A00/A...</td>\n      <td>http://www.tate.org.uk/art/artworks/blake-the-...</td>\n    </tr>\n    <tr>\n      <th>57394</th>\n      <td>1156</td>\n      <td>T01950</td>\n      <td>Blake, William</td>\n      <td>artist</td>\n      <td>39</td>\n      <td>The Circle of the Lustful: Francesca da Rimini...</td>\n      <td>1826–7, reprinted 1968</td>\n      <td>Line-engraving on paper</td>\n      <td>Presented by Lessing J. Rosenwald 1975</td>\n      <td>1826.0</td>\n      <td>1975.0</td>\n      <td>image: 243 x 335 mm</td>\n      <td>243</td>\n      <td>335</td>\n      <td>NaN</td>\n      <td>mm</td>\n      <td>NaN</td>\n      <td>NaN</td>\n      <td>http://www.tate.org.uk/art/images/work/T/T01/T...</td>\n      <td>http://www.tate.org.uk/art/artworks/blake-the-...</td>\n    </tr>\n  </tbody>\n</table>\n</div>"
     },
     "execution_count": 91,
     "metadata": {},
     "output_type": "execute_result"
    }
   ],
   "source": [
    "data.loc[data.title.str.contains('The Circle of the Lustful')]"
   ],
   "metadata": {
    "collapsed": false,
    "pycharm": {
     "name": "#%%\n"
    }
   }
  },
  {
   "cell_type": "code",
   "execution_count": null,
   "outputs": [],
   "source": [],
   "metadata": {
    "collapsed": false,
    "pycharm": {
     "name": "#%%\n"
    }
   }
  }
 ],
 "metadata": {
  "kernelspec": {
   "display_name": "Python 3",
   "language": "python",
   "name": "python3"
  },
  "language_info": {
   "codemirror_mode": {
    "name": "ipython",
    "version": 2
   },
   "file_extension": ".py",
   "mimetype": "text/x-python",
   "name": "python",
   "nbconvert_exporter": "python",
   "pygments_lexer": "ipython2",
   "version": "2.7.6"
  }
 },
 "nbformat": 4,
 "nbformat_minor": 0
}