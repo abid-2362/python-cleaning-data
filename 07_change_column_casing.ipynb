{
 "cells": [
  {
   "cell_type": "markdown",
   "metadata": {
    "collapsed": true,
    "pycharm": {
     "name": "#%% md\n"
    }
   },
   "source": [
    "# Changing Column Cases"
   ]
  },
  {
   "cell_type": "code",
   "execution_count": 36,
   "outputs": [],
   "source": [
    "import pandas as pd\n",
    "data = pd.read_csv('./data/artwork_sample.csv')"
   ],
   "metadata": {
    "collapsed": false,
    "pycharm": {
     "name": "#%%\n"
    }
   }
  },
  {
   "cell_type": "code",
   "execution_count": 37,
   "outputs": [
    {
     "data": {
      "text/plain": "Index(['id', 'accession_number', 'artist', 'artistRole', 'artistId', 'title',\n       'dateText', 'medium', 'creditLine', 'year', 'acquisitionYear',\n       'dimensions', 'width', 'height', 'depth', 'units', 'inscription',\n       'thumbnailCopyright', 'thumbnailUrl', 'url'],\n      dtype='object')"
     },
     "execution_count": 37,
     "metadata": {},
     "output_type": "execute_result"
    }
   ],
   "source": [
    "data.columns"
   ],
   "metadata": {
    "collapsed": false,
    "pycharm": {
     "name": "#%%\n"
    }
   }
  },
  {
   "cell_type": "code",
   "execution_count": 38,
   "outputs": [
    {
     "data": {
      "text/plain": "Index(['id', 'accession_number', 'artist', 'artistrole', 'artistid', 'title',\n       'datetext', 'medium', 'creditline', 'year', 'acquisitionyear',\n       'dimensions', 'width', 'height', 'depth', 'units', 'inscription',\n       'thumbnailcopyright', 'thumbnailurl', 'url'],\n      dtype='object')"
     },
     "execution_count": 38,
     "metadata": {},
     "output_type": "execute_result"
    }
   ],
   "source": [
    "data.columns.str.lower()"
   ],
   "metadata": {
    "collapsed": false,
    "pycharm": {
     "name": "#%%\n"
    }
   }
  },
  {
   "cell_type": "code",
   "execution_count": 39,
   "outputs": [
    {
     "data": {
      "text/plain": "['id',\n 'accession_number',\n 'artist',\n 'artistrole',\n 'artistid',\n 'title',\n 'datetext',\n 'medium',\n 'creditline',\n 'year',\n 'acquisitionyear',\n 'dimensions',\n 'width',\n 'height',\n 'depth',\n 'units',\n 'inscription',\n 'thumbnailcopyright',\n 'thumbnailurl',\n 'url']"
     },
     "execution_count": 39,
     "metadata": {},
     "output_type": "execute_result"
    }
   ],
   "source": [
    "# list comprehension\n",
    "[x.lower() for x in data.columns]"
   ],
   "metadata": {
    "collapsed": false,
    "pycharm": {
     "name": "#%%\n"
    }
   }
  },
  {
   "cell_type": "code",
   "execution_count": 40,
   "outputs": [
    {
     "data": {
      "text/plain": "Index(['id', 'accession_number', 'artist', 'artistRole', 'artistId', 'title',\n       'dateText', 'medium', 'creditLine', 'year', 'acquisitionYear',\n       'dimensions', 'width', 'height', 'depth', 'units', 'inscription',\n       'thumbnailCopyright', 'thumbnailUrl', 'url'],\n      dtype='object')"
     },
     "execution_count": 40,
     "metadata": {},
     "output_type": "execute_result"
    }
   ],
   "source": [
    "data.columns"
   ],
   "metadata": {
    "collapsed": false,
    "pycharm": {
     "name": "#%%\n"
    }
   }
  },
  {
   "cell_type": "code",
   "execution_count": 41,
   "outputs": [],
   "source": [
    "# Now we know how to convert them, we can assign the converted values to columns\n",
    "data.columns = [x.lower() for x in data.columns]"
   ],
   "metadata": {
    "collapsed": false,
    "pycharm": {
     "name": "#%%\n"
    }
   }
  },
  {
   "cell_type": "code",
   "execution_count": 42,
   "outputs": [
    {
     "data": {
      "text/plain": "Index(['id', 'accession_number', 'artist', 'artistrole', 'artistid', 'title',\n       'datetext', 'medium', 'creditline', 'year', 'acquisitionyear',\n       'dimensions', 'width', 'height', 'depth', 'units', 'inscription',\n       'thumbnailcopyright', 'thumbnailurl', 'url'],\n      dtype='object')"
     },
     "execution_count": 42,
     "metadata": {},
     "output_type": "execute_result"
    }
   ],
   "source": [
    "data.columns"
   ],
   "metadata": {
    "collapsed": false,
    "pycharm": {
     "name": "#%%\n"
    }
   }
  },
  {
   "cell_type": "code",
   "execution_count": 43,
   "outputs": [],
   "source": [
    "data = pd.read_csv('./data/artwork_sample.csv')"
   ],
   "metadata": {
    "collapsed": false,
    "pycharm": {
     "name": "#%%\n"
    }
   }
  },
  {
   "cell_type": "code",
   "execution_count": 44,
   "outputs": [
    {
     "data": {
      "text/plain": "Index(['id', 'accession_number', 'artist', 'artistRole', 'artistId', 'title',\n       'dateText', 'medium', 'creditLine', 'year', 'acquisitionYear',\n       'dimensions', 'width', 'height', 'depth', 'units', 'inscription',\n       'thumbnailCopyright', 'thumbnailUrl', 'url'],\n      dtype='object')"
     },
     "execution_count": 44,
     "metadata": {},
     "output_type": "execute_result"
    }
   ],
   "source": [
    "data.columns"
   ],
   "metadata": {
    "collapsed": false,
    "pycharm": {
     "name": "#%%\n"
    }
   }
  },
  {
   "cell_type": "code",
   "execution_count": 45,
   "outputs": [
    {
     "data": {
      "text/plain": "['id',\n 'accession_number',\n 'artist',\n 'artistrole',\n 'artistid',\n 'title',\n 'datetext',\n 'medium',\n 'creditline',\n 'year',\n 'acquisitionyear',\n 'dimensions',\n 'width',\n 'height',\n 'depth',\n 'units',\n 'inscription',\n 'thumbnailcopyright',\n 'thumbnailurl',\n 'url']"
     },
     "execution_count": 45,
     "metadata": {},
     "output_type": "execute_result"
    }
   ],
   "source": [
    "lower_column_names = map(lambda x: x.lower(), data.columns)\n",
    "list(lower_column_names)"
   ],
   "metadata": {
    "collapsed": false,
    "pycharm": {
     "name": "#%%\n"
    }
   }
  },
  {
   "cell_type": "code",
   "execution_count": 46,
   "outputs": [],
   "source": [
    "data.columns = map(lambda x: x.lower(), data.columns)"
   ],
   "metadata": {
    "collapsed": false,
    "pycharm": {
     "name": "#%%\n"
    }
   }
  },
  {
   "cell_type": "code",
   "execution_count": 47,
   "outputs": [
    {
     "data": {
      "text/plain": "Index(['id', 'accession_number', 'artist', 'artistrole', 'artistid', 'title',\n       'datetext', 'medium', 'creditline', 'year', 'acquisitionyear',\n       'dimensions', 'width', 'height', 'depth', 'units', 'inscription',\n       'thumbnailcopyright', 'thumbnailurl', 'url'],\n      dtype='object')"
     },
     "execution_count": 47,
     "metadata": {},
     "output_type": "execute_result"
    }
   ],
   "source": [
    "data.columns"
   ],
   "metadata": {
    "collapsed": false,
    "pycharm": {
     "name": "#%%\n"
    }
   }
  },
  {
   "cell_type": "code",
   "execution_count": 48,
   "outputs": [],
   "source": [
    "data = pd.read_csv('./data/artwork_sample.csv')"
   ],
   "metadata": {
    "collapsed": false,
    "pycharm": {
     "name": "#%%\n"
    }
   }
  },
  {
   "cell_type": "code",
   "execution_count": 49,
   "outputs": [
    {
     "data": {
      "text/plain": "Index(['id', 'accession_number', 'artist', 'artistRole', 'artistId', 'title',\n       'dateText', 'medium', 'creditLine', 'year', 'acquisitionYear',\n       'dimensions', 'width', 'height', 'depth', 'units', 'inscription',\n       'thumbnailCopyright', 'thumbnailUrl', 'url'],\n      dtype='object')"
     },
     "execution_count": 49,
     "metadata": {},
     "output_type": "execute_result"
    }
   ],
   "source": [
    "data.columns"
   ],
   "metadata": {
    "collapsed": false,
    "pycharm": {
     "name": "#%%\n"
    }
   }
  },
  {
   "cell_type": "code",
   "execution_count": 50,
   "outputs": [],
   "source": [
    "# Convert all camel case column names to snake case\n",
    "import re"
   ],
   "metadata": {
    "collapsed": false,
    "pycharm": {
     "name": "#%%\n"
    }
   }
  },
  {
   "cell_type": "code",
   "execution_count": 51,
   "outputs": [],
   "source": [
    "# Todo: understand how Regular Expressions works in python,\n",
    "#  What features re offers, and what is r'' string\n",
    "data.columns = [re.sub(r'([A-Z])', r'_\\1', x).lower() for x in data.columns]"
   ],
   "metadata": {
    "collapsed": false,
    "pycharm": {
     "name": "#%%\n"
    }
   }
  },
  {
   "cell_type": "code",
   "execution_count": 52,
   "outputs": [
    {
     "data": {
      "text/plain": "Index(['id', 'accession_number', 'artist', 'artist_role', 'artist_id', 'title',\n       'date_text', 'medium', 'credit_line', 'year', 'acquisition_year',\n       'dimensions', 'width', 'height', 'depth', 'units', 'inscription',\n       'thumbnail_copyright', 'thumbnail_url', 'url'],\n      dtype='object')"
     },
     "execution_count": 52,
     "metadata": {},
     "output_type": "execute_result"
    }
   ],
   "source": [
    "data.columns"
   ],
   "metadata": {
    "collapsed": false,
    "pycharm": {
     "name": "#%%\n"
    }
   }
  },
  {
   "cell_type": "markdown",
   "source": [
    "# Renaming Columns"
   ],
   "metadata": {
    "collapsed": false,
    "pycharm": {
     "name": "#%% md\n"
    }
   }
  },
  {
   "cell_type": "code",
   "execution_count": 53,
   "outputs": [],
   "source": [
    "data = pd.read_csv('./data/artwork_sample.csv')"
   ],
   "metadata": {
    "collapsed": false,
    "pycharm": {
     "name": "#%%\n"
    }
   }
  },
  {
   "cell_type": "code",
   "execution_count": 54,
   "outputs": [
    {
     "data": {
      "text/plain": "Index(['id', 'accession_number', 'artist', 'artistRole', 'artistId', 'title',\n       'dateText', 'medium', 'creditLine', 'year', 'acquisitionYear',\n       'dimensions', 'width', 'height', 'depth', 'units', 'inscription',\n       'thumbnailCopyright', 'thumbnailUrl', 'url'],\n      dtype='object')"
     },
     "execution_count": 54,
     "metadata": {},
     "output_type": "execute_result"
    }
   ],
   "source": [
    "data.columns"
   ],
   "metadata": {
    "collapsed": false,
    "pycharm": {
     "name": "#%%\n"
    }
   }
  },
  {
   "cell_type": "code",
   "execution_count": 55,
   "outputs": [
    {
     "data": {
      "text/plain": "     id accession_number          artist artistRole  artistId  \\\n0  1035           A00001   Blake, Robert     artist        38   \n1  1036           A00002   Blake, Robert     artist        38   \n2  1037           A00003   Blake, Robert     artist        38   \n3  1038           A00004   Blake, Robert     artist        38   \n4  1039           A00005  Blake, William     artist        39   \n5  1040           A00006  Blake, William     artist        39   \n6  1041           A00007  Blake, William     artist        39   \n7  1042           A00008  Blake, William     artist        39   \n8  1043           A00009  Blake, William     artist        39   \n9  1044           A00010  Blake, William     artist        39   \n\n                                               title                dateText  \\\n0  A Figure Bowing before a Seated Old Man with h...          date not known   \n1  Two Drawings of Frightened Figures, Probably f...          date not known   \n2  The Preaching of Warning. Verso: An Old Man En...                 ?c.1785   \n3     Six Drawings of Figures with Outstretched Arms          date not known   \n4  The Circle of the Lustful: Francesca da Rimini...  1826–7, reprinted 1892   \n5      Ciampolo the Barrator Tormented by the Devils  1826–7, reprinted 1892   \n6                        The Baffled Devils Fighting  1826–7, reprinted 1892   \n7  The Six-Footed Serpent Attacking Agnolo Brunel...  1826–7, reprinted 1892   \n8                 The Serpent Attacking Buoso Donati  1826–7, reprinted 1892   \n9                 The Pit of Disease: The Falsifiers  1826–7, reprinted 1892   \n\n                                              medium  \\\n0  Watercolour, ink, chalk and graphite on paper....   \n1                                  Graphite on paper   \n2        Graphite on paper. Verso: graphite on paper   \n3                                  Graphite on paper   \n4                            Line engraving on paper   \n5                            Line engraving on paper   \n6                            Line engraving on paper   \n7                            Line engraving on paper   \n8                            Line engraving on paper   \n9                            Line engraving on paper   \n\n                                          creditLine    year  acquisitionYear  \\\n0                Presented by Mrs John Richmond 1922     NaN             1922   \n1                Presented by Mrs John Richmond 1922     NaN             1922   \n2                Presented by Mrs John Richmond 1922  1785.0             1922   \n3                Presented by Mrs John Richmond 1922     NaN             1922   \n4  Purchased with the assistance of a special gra...  1826.0             1919   \n5  Purchased with the assistance of a special gra...  1826.0             1919   \n6  Purchased with the assistance of a special gra...  1826.0             1919   \n7  Purchased with the assistance of a special gra...  1826.0             1919   \n8  Purchased with the assistance of a special gra...  1826.0             1919   \n9  Purchased with the assistance of a special gra...  1826.0             1919   \n\n              dimensions  width  height  depth units  inscription  \\\n0  support: 394 x 419 mm  394.0   419.0    NaN    mm          NaN   \n1  support: 311 x 213 mm  311.0   213.0    NaN    mm          NaN   \n2  support: 343 x 467 mm  343.0   467.0    NaN    mm          NaN   \n3  support: 318 x 394 mm  318.0   394.0    NaN    mm          NaN   \n4    image: 243 x 335 mm  243.0   335.0    NaN    mm          NaN   \n5    image: 240 x 338 mm  240.0   338.0    NaN    mm          NaN   \n6    image: 242 x 334 mm  242.0   334.0    NaN    mm          NaN   \n7    image: 246 x 340 mm  246.0   340.0    NaN    mm          NaN   \n8    image: 241 x 335 mm  241.0   335.0    NaN    mm          NaN   \n9    image: 243 x 340 mm  243.0   340.0    NaN    mm          NaN   \n\n   thumbnailCopyright                                          thumbnail  \\\n0                 NaN  http://www.tate.org.uk/art/images/work/A/A00/A...   \n1                 NaN  http://www.tate.org.uk/art/images/work/A/A00/A...   \n2                 NaN  http://www.tate.org.uk/art/images/work/A/A00/A...   \n3                 NaN  http://www.tate.org.uk/art/images/work/A/A00/A...   \n4                 NaN  http://www.tate.org.uk/art/images/work/A/A00/A...   \n5                 NaN  http://www.tate.org.uk/art/images/work/A/A00/A...   \n6                 NaN  http://www.tate.org.uk/art/images/work/A/A00/A...   \n7                 NaN  http://www.tate.org.uk/art/images/work/A/A00/A...   \n8                 NaN  http://www.tate.org.uk/art/images/work/A/A00/A...   \n9                 NaN  http://www.tate.org.uk/art/images/work/A/A00/A...   \n\n                                                 url  \n0  http://www.tate.org.uk/art/artworks/blake-a-fi...  \n1  http://www.tate.org.uk/art/artworks/blake-two-...  \n2  http://www.tate.org.uk/art/artworks/blake-the-...  \n3  http://www.tate.org.uk/art/artworks/blake-six-...  \n4  http://www.tate.org.uk/art/artworks/blake-the-...  \n5  http://www.tate.org.uk/art/artworks/blake-ciam...  \n6  http://www.tate.org.uk/art/artworks/blake-the-...  \n7  http://www.tate.org.uk/art/artworks/blake-the-...  \n8  http://www.tate.org.uk/art/artworks/blake-the-...  \n9  http://www.tate.org.uk/art/artworks/blake-the-...  ",
      "text/html": "<div>\n<style scoped>\n    .dataframe tbody tr th:only-of-type {\n        vertical-align: middle;\n    }\n\n    .dataframe tbody tr th {\n        vertical-align: top;\n    }\n\n    .dataframe thead th {\n        text-align: right;\n    }\n</style>\n<table border=\"1\" class=\"dataframe\">\n  <thead>\n    <tr style=\"text-align: right;\">\n      <th></th>\n      <th>id</th>\n      <th>accession_number</th>\n      <th>artist</th>\n      <th>artistRole</th>\n      <th>artistId</th>\n      <th>title</th>\n      <th>dateText</th>\n      <th>medium</th>\n      <th>creditLine</th>\n      <th>year</th>\n      <th>acquisitionYear</th>\n      <th>dimensions</th>\n      <th>width</th>\n      <th>height</th>\n      <th>depth</th>\n      <th>units</th>\n      <th>inscription</th>\n      <th>thumbnailCopyright</th>\n      <th>thumbnail</th>\n      <th>url</th>\n    </tr>\n  </thead>\n  <tbody>\n    <tr>\n      <th>0</th>\n      <td>1035</td>\n      <td>A00001</td>\n      <td>Blake, Robert</td>\n      <td>artist</td>\n      <td>38</td>\n      <td>A Figure Bowing before a Seated Old Man with h...</td>\n      <td>date not known</td>\n      <td>Watercolour, ink, chalk and graphite on paper....</td>\n      <td>Presented by Mrs John Richmond 1922</td>\n      <td>NaN</td>\n      <td>1922</td>\n      <td>support: 394 x 419 mm</td>\n      <td>394.0</td>\n      <td>419.0</td>\n      <td>NaN</td>\n      <td>mm</td>\n      <td>NaN</td>\n      <td>NaN</td>\n      <td>http://www.tate.org.uk/art/images/work/A/A00/A...</td>\n      <td>http://www.tate.org.uk/art/artworks/blake-a-fi...</td>\n    </tr>\n    <tr>\n      <th>1</th>\n      <td>1036</td>\n      <td>A00002</td>\n      <td>Blake, Robert</td>\n      <td>artist</td>\n      <td>38</td>\n      <td>Two Drawings of Frightened Figures, Probably f...</td>\n      <td>date not known</td>\n      <td>Graphite on paper</td>\n      <td>Presented by Mrs John Richmond 1922</td>\n      <td>NaN</td>\n      <td>1922</td>\n      <td>support: 311 x 213 mm</td>\n      <td>311.0</td>\n      <td>213.0</td>\n      <td>NaN</td>\n      <td>mm</td>\n      <td>NaN</td>\n      <td>NaN</td>\n      <td>http://www.tate.org.uk/art/images/work/A/A00/A...</td>\n      <td>http://www.tate.org.uk/art/artworks/blake-two-...</td>\n    </tr>\n    <tr>\n      <th>2</th>\n      <td>1037</td>\n      <td>A00003</td>\n      <td>Blake, Robert</td>\n      <td>artist</td>\n      <td>38</td>\n      <td>The Preaching of Warning. Verso: An Old Man En...</td>\n      <td>?c.1785</td>\n      <td>Graphite on paper. Verso: graphite on paper</td>\n      <td>Presented by Mrs John Richmond 1922</td>\n      <td>1785.0</td>\n      <td>1922</td>\n      <td>support: 343 x 467 mm</td>\n      <td>343.0</td>\n      <td>467.0</td>\n      <td>NaN</td>\n      <td>mm</td>\n      <td>NaN</td>\n      <td>NaN</td>\n      <td>http://www.tate.org.uk/art/images/work/A/A00/A...</td>\n      <td>http://www.tate.org.uk/art/artworks/blake-the-...</td>\n    </tr>\n    <tr>\n      <th>3</th>\n      <td>1038</td>\n      <td>A00004</td>\n      <td>Blake, Robert</td>\n      <td>artist</td>\n      <td>38</td>\n      <td>Six Drawings of Figures with Outstretched Arms</td>\n      <td>date not known</td>\n      <td>Graphite on paper</td>\n      <td>Presented by Mrs John Richmond 1922</td>\n      <td>NaN</td>\n      <td>1922</td>\n      <td>support: 318 x 394 mm</td>\n      <td>318.0</td>\n      <td>394.0</td>\n      <td>NaN</td>\n      <td>mm</td>\n      <td>NaN</td>\n      <td>NaN</td>\n      <td>http://www.tate.org.uk/art/images/work/A/A00/A...</td>\n      <td>http://www.tate.org.uk/art/artworks/blake-six-...</td>\n    </tr>\n    <tr>\n      <th>4</th>\n      <td>1039</td>\n      <td>A00005</td>\n      <td>Blake, William</td>\n      <td>artist</td>\n      <td>39</td>\n      <td>The Circle of the Lustful: Francesca da Rimini...</td>\n      <td>1826–7, reprinted 1892</td>\n      <td>Line engraving on paper</td>\n      <td>Purchased with the assistance of a special gra...</td>\n      <td>1826.0</td>\n      <td>1919</td>\n      <td>image: 243 x 335 mm</td>\n      <td>243.0</td>\n      <td>335.0</td>\n      <td>NaN</td>\n      <td>mm</td>\n      <td>NaN</td>\n      <td>NaN</td>\n      <td>http://www.tate.org.uk/art/images/work/A/A00/A...</td>\n      <td>http://www.tate.org.uk/art/artworks/blake-the-...</td>\n    </tr>\n    <tr>\n      <th>5</th>\n      <td>1040</td>\n      <td>A00006</td>\n      <td>Blake, William</td>\n      <td>artist</td>\n      <td>39</td>\n      <td>Ciampolo the Barrator Tormented by the Devils</td>\n      <td>1826–7, reprinted 1892</td>\n      <td>Line engraving on paper</td>\n      <td>Purchased with the assistance of a special gra...</td>\n      <td>1826.0</td>\n      <td>1919</td>\n      <td>image: 240 x 338 mm</td>\n      <td>240.0</td>\n      <td>338.0</td>\n      <td>NaN</td>\n      <td>mm</td>\n      <td>NaN</td>\n      <td>NaN</td>\n      <td>http://www.tate.org.uk/art/images/work/A/A00/A...</td>\n      <td>http://www.tate.org.uk/art/artworks/blake-ciam...</td>\n    </tr>\n    <tr>\n      <th>6</th>\n      <td>1041</td>\n      <td>A00007</td>\n      <td>Blake, William</td>\n      <td>artist</td>\n      <td>39</td>\n      <td>The Baffled Devils Fighting</td>\n      <td>1826–7, reprinted 1892</td>\n      <td>Line engraving on paper</td>\n      <td>Purchased with the assistance of a special gra...</td>\n      <td>1826.0</td>\n      <td>1919</td>\n      <td>image: 242 x 334 mm</td>\n      <td>242.0</td>\n      <td>334.0</td>\n      <td>NaN</td>\n      <td>mm</td>\n      <td>NaN</td>\n      <td>NaN</td>\n      <td>http://www.tate.org.uk/art/images/work/A/A00/A...</td>\n      <td>http://www.tate.org.uk/art/artworks/blake-the-...</td>\n    </tr>\n    <tr>\n      <th>7</th>\n      <td>1042</td>\n      <td>A00008</td>\n      <td>Blake, William</td>\n      <td>artist</td>\n      <td>39</td>\n      <td>The Six-Footed Serpent Attacking Agnolo Brunel...</td>\n      <td>1826–7, reprinted 1892</td>\n      <td>Line engraving on paper</td>\n      <td>Purchased with the assistance of a special gra...</td>\n      <td>1826.0</td>\n      <td>1919</td>\n      <td>image: 246 x 340 mm</td>\n      <td>246.0</td>\n      <td>340.0</td>\n      <td>NaN</td>\n      <td>mm</td>\n      <td>NaN</td>\n      <td>NaN</td>\n      <td>http://www.tate.org.uk/art/images/work/A/A00/A...</td>\n      <td>http://www.tate.org.uk/art/artworks/blake-the-...</td>\n    </tr>\n    <tr>\n      <th>8</th>\n      <td>1043</td>\n      <td>A00009</td>\n      <td>Blake, William</td>\n      <td>artist</td>\n      <td>39</td>\n      <td>The Serpent Attacking Buoso Donati</td>\n      <td>1826–7, reprinted 1892</td>\n      <td>Line engraving on paper</td>\n      <td>Purchased with the assistance of a special gra...</td>\n      <td>1826.0</td>\n      <td>1919</td>\n      <td>image: 241 x 335 mm</td>\n      <td>241.0</td>\n      <td>335.0</td>\n      <td>NaN</td>\n      <td>mm</td>\n      <td>NaN</td>\n      <td>NaN</td>\n      <td>http://www.tate.org.uk/art/images/work/A/A00/A...</td>\n      <td>http://www.tate.org.uk/art/artworks/blake-the-...</td>\n    </tr>\n    <tr>\n      <th>9</th>\n      <td>1044</td>\n      <td>A00010</td>\n      <td>Blake, William</td>\n      <td>artist</td>\n      <td>39</td>\n      <td>The Pit of Disease: The Falsifiers</td>\n      <td>1826–7, reprinted 1892</td>\n      <td>Line engraving on paper</td>\n      <td>Purchased with the assistance of a special gra...</td>\n      <td>1826.0</td>\n      <td>1919</td>\n      <td>image: 243 x 340 mm</td>\n      <td>243.0</td>\n      <td>340.0</td>\n      <td>NaN</td>\n      <td>mm</td>\n      <td>NaN</td>\n      <td>NaN</td>\n      <td>http://www.tate.org.uk/art/images/work/A/A00/A...</td>\n      <td>http://www.tate.org.uk/art/artworks/blake-the-...</td>\n    </tr>\n  </tbody>\n</table>\n</div>"
     },
     "execution_count": 55,
     "metadata": {},
     "output_type": "execute_result"
    }
   ],
   "source": [
    "data.rename(columns={\"thumbnailUrl\": 'thumbnail'})"
   ],
   "metadata": {
    "collapsed": false,
    "pycharm": {
     "name": "#%%\n"
    }
   }
  },
  {
   "cell_type": "code",
   "execution_count": 56,
   "outputs": [
    {
     "data": {
      "text/plain": "Index(['id', 'accession_number', 'artist', 'artistRole', 'artistId', 'title',\n       'dateText', 'medium', 'creditLine', 'year', 'acquisitionYear',\n       'dimensions', 'width', 'height', 'depth', 'units', 'inscription',\n       'thumbnailCopyright', 'thumbnailUrl', 'url'],\n      dtype='object')"
     },
     "execution_count": 56,
     "metadata": {},
     "output_type": "execute_result"
    }
   ],
   "source": [
    "data.columns"
   ],
   "metadata": {
    "collapsed": false,
    "pycharm": {
     "name": "#%%\n"
    }
   }
  },
  {
   "cell_type": "code",
   "execution_count": 57,
   "outputs": [
    {
     "data": {
      "text/plain": "                                               title  \\\n0  A Figure Bowing before a Seated Old Man with h...   \n1  Two Drawings of Frightened Figures, Probably f...   \n2  The Preaching of Warning. Verso: An Old Man En...   \n3     Six Drawings of Figures with Outstretched Arms   \n4  The Circle of the Lustful: Francesca da Rimini...   \n5      Ciampolo the Barrator Tormented by the Devils   \n6                        The Baffled Devils Fighting   \n7  The Six-Footed Serpent Attacking Agnolo Brunel...   \n8                 The Serpent Attacking Buoso Donati   \n9                 The Pit of Disease: The Falsifiers   \n\n                                           thumbnail  \n0  http://www.tate.org.uk/art/images/work/A/A00/A...  \n1  http://www.tate.org.uk/art/images/work/A/A00/A...  \n2  http://www.tate.org.uk/art/images/work/A/A00/A...  \n3  http://www.tate.org.uk/art/images/work/A/A00/A...  \n4  http://www.tate.org.uk/art/images/work/A/A00/A...  \n5  http://www.tate.org.uk/art/images/work/A/A00/A...  \n6  http://www.tate.org.uk/art/images/work/A/A00/A...  \n7  http://www.tate.org.uk/art/images/work/A/A00/A...  \n8  http://www.tate.org.uk/art/images/work/A/A00/A...  \n9  http://www.tate.org.uk/art/images/work/A/A00/A...  ",
      "text/html": "<div>\n<style scoped>\n    .dataframe tbody tr th:only-of-type {\n        vertical-align: middle;\n    }\n\n    .dataframe tbody tr th {\n        vertical-align: top;\n    }\n\n    .dataframe thead th {\n        text-align: right;\n    }\n</style>\n<table border=\"1\" class=\"dataframe\">\n  <thead>\n    <tr style=\"text-align: right;\">\n      <th></th>\n      <th>title</th>\n      <th>thumbnail</th>\n    </tr>\n  </thead>\n  <tbody>\n    <tr>\n      <th>0</th>\n      <td>A Figure Bowing before a Seated Old Man with h...</td>\n      <td>http://www.tate.org.uk/art/images/work/A/A00/A...</td>\n    </tr>\n    <tr>\n      <th>1</th>\n      <td>Two Drawings of Frightened Figures, Probably f...</td>\n      <td>http://www.tate.org.uk/art/images/work/A/A00/A...</td>\n    </tr>\n    <tr>\n      <th>2</th>\n      <td>The Preaching of Warning. Verso: An Old Man En...</td>\n      <td>http://www.tate.org.uk/art/images/work/A/A00/A...</td>\n    </tr>\n    <tr>\n      <th>3</th>\n      <td>Six Drawings of Figures with Outstretched Arms</td>\n      <td>http://www.tate.org.uk/art/images/work/A/A00/A...</td>\n    </tr>\n    <tr>\n      <th>4</th>\n      <td>The Circle of the Lustful: Francesca da Rimini...</td>\n      <td>http://www.tate.org.uk/art/images/work/A/A00/A...</td>\n    </tr>\n    <tr>\n      <th>5</th>\n      <td>Ciampolo the Barrator Tormented by the Devils</td>\n      <td>http://www.tate.org.uk/art/images/work/A/A00/A...</td>\n    </tr>\n    <tr>\n      <th>6</th>\n      <td>The Baffled Devils Fighting</td>\n      <td>http://www.tate.org.uk/art/images/work/A/A00/A...</td>\n    </tr>\n    <tr>\n      <th>7</th>\n      <td>The Six-Footed Serpent Attacking Agnolo Brunel...</td>\n      <td>http://www.tate.org.uk/art/images/work/A/A00/A...</td>\n    </tr>\n    <tr>\n      <th>8</th>\n      <td>The Serpent Attacking Buoso Donati</td>\n      <td>http://www.tate.org.uk/art/images/work/A/A00/A...</td>\n    </tr>\n    <tr>\n      <th>9</th>\n      <td>The Pit of Disease: The Falsifiers</td>\n      <td>http://www.tate.org.uk/art/images/work/A/A00/A...</td>\n    </tr>\n  </tbody>\n</table>\n</div>"
     },
     "execution_count": 57,
     "metadata": {},
     "output_type": "execute_result"
    }
   ],
   "source": [
    "data.rename(columns={\"thumbnailUrl\": 'thumbnail'}, inplace=True)\n",
    "data.filter(items=['title', 'thumbnail'])"
   ],
   "metadata": {
    "collapsed": false,
    "pycharm": {
     "name": "#%%\n"
    }
   }
  },
  {
   "cell_type": "code",
   "execution_count": 58,
   "outputs": [
    {
     "data": {
      "text/plain": "                                           thumbnail  \\\n0  http://www.tate.org.uk/art/images/work/A/A00/A...   \n1  http://www.tate.org.uk/art/images/work/A/A00/A...   \n2  http://www.tate.org.uk/art/images/work/A/A00/A...   \n3  http://www.tate.org.uk/art/images/work/A/A00/A...   \n4  http://www.tate.org.uk/art/images/work/A/A00/A...   \n5  http://www.tate.org.uk/art/images/work/A/A00/A...   \n6  http://www.tate.org.uk/art/images/work/A/A00/A...   \n7  http://www.tate.org.uk/art/images/work/A/A00/A...   \n8  http://www.tate.org.uk/art/images/work/A/A00/A...   \n9  http://www.tate.org.uk/art/images/work/A/A00/A...   \n\n                                               title  \n0  A Figure Bowing before a Seated Old Man with h...  \n1  Two Drawings of Frightened Figures, Probably f...  \n2  The Preaching of Warning. Verso: An Old Man En...  \n3     Six Drawings of Figures with Outstretched Arms  \n4  The Circle of the Lustful: Francesca da Rimini...  \n5      Ciampolo the Barrator Tormented by the Devils  \n6                        The Baffled Devils Fighting  \n7  The Six-Footed Serpent Attacking Agnolo Brunel...  \n8                 The Serpent Attacking Buoso Donati  \n9                 The Pit of Disease: The Falsifiers  ",
      "text/html": "<div>\n<style scoped>\n    .dataframe tbody tr th:only-of-type {\n        vertical-align: middle;\n    }\n\n    .dataframe tbody tr th {\n        vertical-align: top;\n    }\n\n    .dataframe thead th {\n        text-align: right;\n    }\n</style>\n<table border=\"1\" class=\"dataframe\">\n  <thead>\n    <tr style=\"text-align: right;\">\n      <th></th>\n      <th>thumbnail</th>\n      <th>title</th>\n    </tr>\n  </thead>\n  <tbody>\n    <tr>\n      <th>0</th>\n      <td>http://www.tate.org.uk/art/images/work/A/A00/A...</td>\n      <td>A Figure Bowing before a Seated Old Man with h...</td>\n    </tr>\n    <tr>\n      <th>1</th>\n      <td>http://www.tate.org.uk/art/images/work/A/A00/A...</td>\n      <td>Two Drawings of Frightened Figures, Probably f...</td>\n    </tr>\n    <tr>\n      <th>2</th>\n      <td>http://www.tate.org.uk/art/images/work/A/A00/A...</td>\n      <td>The Preaching of Warning. Verso: An Old Man En...</td>\n    </tr>\n    <tr>\n      <th>3</th>\n      <td>http://www.tate.org.uk/art/images/work/A/A00/A...</td>\n      <td>Six Drawings of Figures with Outstretched Arms</td>\n    </tr>\n    <tr>\n      <th>4</th>\n      <td>http://www.tate.org.uk/art/images/work/A/A00/A...</td>\n      <td>The Circle of the Lustful: Francesca da Rimini...</td>\n    </tr>\n    <tr>\n      <th>5</th>\n      <td>http://www.tate.org.uk/art/images/work/A/A00/A...</td>\n      <td>Ciampolo the Barrator Tormented by the Devils</td>\n    </tr>\n    <tr>\n      <th>6</th>\n      <td>http://www.tate.org.uk/art/images/work/A/A00/A...</td>\n      <td>The Baffled Devils Fighting</td>\n    </tr>\n    <tr>\n      <th>7</th>\n      <td>http://www.tate.org.uk/art/images/work/A/A00/A...</td>\n      <td>The Six-Footed Serpent Attacking Agnolo Brunel...</td>\n    </tr>\n    <tr>\n      <th>8</th>\n      <td>http://www.tate.org.uk/art/images/work/A/A00/A...</td>\n      <td>The Serpent Attacking Buoso Donati</td>\n    </tr>\n    <tr>\n      <th>9</th>\n      <td>http://www.tate.org.uk/art/images/work/A/A00/A...</td>\n      <td>The Pit of Disease: The Falsifiers</td>\n    </tr>\n  </tbody>\n</table>\n</div>"
     },
     "execution_count": 58,
     "metadata": {},
     "output_type": "execute_result"
    }
   ],
   "source": [
    "data.filter(items=['thumbnail', 'title'])"
   ],
   "metadata": {
    "collapsed": false,
    "pycharm": {
     "name": "#%%\n"
    }
   }
  },
  {
   "cell_type": "code",
   "execution_count": 59,
   "outputs": [
    {
     "data": {
      "text/plain": "Index(['id', 'accession_number', 'artist', 'artistrole', 'artistid', 'title',\n       'datetext', 'medium', 'creditline', 'year', 'acquisitionyear',\n       'dimensions', 'width', 'height', 'depth', 'units', 'inscription',\n       'thumbnailcopyright', 'thumbnail', 'url'],\n      dtype='object')"
     },
     "execution_count": 59,
     "metadata": {},
     "output_type": "execute_result"
    }
   ],
   "source": [
    "data.rename(columns=lambda x: x.lower(), inplace=True)\n",
    "data.columns"
   ],
   "metadata": {
    "collapsed": false,
    "pycharm": {
     "name": "#%%\n"
    }
   }
  },
  {
   "cell_type": "code",
   "execution_count": 61,
   "outputs": [],
   "source": [
    "# column names can be changed by providing a list manually\n",
    "data.columns = ['id', 'AccessionNumber', 'Artist', 'ArtistRole', 'artistid', 'title',\n",
    "                'datetext', 'medium', 'creditline', 'year', 'acquisitionyear',\n",
    "                'dimensions', 'width', 'height', 'depth', 'units', 'inscription',\n",
    "                'thumbnailcopyright', 'thumbnail', 'url']"
   ],
   "metadata": {
    "collapsed": false,
    "pycharm": {
     "name": "#%%\n"
    }
   }
  },
  {
   "cell_type": "code",
   "execution_count": 62,
   "outputs": [
    {
     "data": {
      "text/plain": "Index(['id', 'AccessionNumber', 'Artist', 'ArtistRole', 'artistid', 'title',\n       'datetext', 'medium', 'creditline', 'year', 'acquisitionyear',\n       'dimensions', 'width', 'height', 'depth', 'units', 'inscription',\n       'thumbnailcopyright', 'thumbnail', 'url'],\n      dtype='object')"
     },
     "execution_count": 62,
     "metadata": {},
     "output_type": "execute_result"
    }
   ],
   "source": [
    "data.columns"
   ],
   "metadata": {
    "collapsed": false,
    "pycharm": {
     "name": "#%%\n"
    }
   }
  },
  {
   "cell_type": "code",
   "execution_count": 65,
   "outputs": [
    {
     "data": {
      "text/plain": "      id   AccessionNumber          Artist  ArtistRole  ArtistId  \\\n0     id  accession_number          artist  artistRole  artistId   \n1   1035            A00001   Blake, Robert      artist        38   \n2   1036            A00002   Blake, Robert      artist        38   \n3   1037            A00003   Blake, Robert      artist        38   \n4   1038            A00004   Blake, Robert      artist        38   \n5   1039            A00005  Blake, William      artist        39   \n6   1040            A00006  Blake, William      artist        39   \n7   1041            A00007  Blake, William      artist        39   \n8   1042            A00008  Blake, William      artist        39   \n9   1043            A00009  Blake, William      artist        39   \n10  1044            A00010  Blake, William      artist        39   \n\n                                                title                datetext  \\\n0                                               title                dateText   \n1   A Figure Bowing before a Seated Old Man with h...          date not known   \n2   Two Drawings of Frightened Figures, Probably f...          date not known   \n3   The Preaching of Warning. Verso: An Old Man En...                 ?c.1785   \n4      Six Drawings of Figures with Outstretched Arms          date not known   \n5   The Circle of the Lustful: Francesca da Rimini...  1826–7, reprinted 1892   \n6       Ciampolo the Barrator Tormented by the Devils  1826–7, reprinted 1892   \n7                         The Baffled Devils Fighting  1826–7, reprinted 1892   \n8   The Six-Footed Serpent Attacking Agnolo Brunel...  1826–7, reprinted 1892   \n9                  The Serpent Attacking Buoso Donati  1826–7, reprinted 1892   \n10                 The Pit of Disease: The Falsifiers  1826–7, reprinted 1892   \n\n                                               medium  \\\n0                                              medium   \n1   Watercolour, ink, chalk and graphite on paper....   \n2                                   Graphite on paper   \n3         Graphite on paper. Verso: graphite on paper   \n4                                   Graphite on paper   \n5                             Line engraving on paper   \n6                             Line engraving on paper   \n7                             Line engraving on paper   \n8                             Line engraving on paper   \n9                             Line engraving on paper   \n10                            Line engraving on paper   \n\n                                           creditline    year  \\\n0                                          creditLine    year   \n1                 Presented by Mrs John Richmond 1922     NaN   \n2                 Presented by Mrs John Richmond 1922     NaN   \n3                 Presented by Mrs John Richmond 1922  1785.0   \n4                 Presented by Mrs John Richmond 1922     NaN   \n5   Purchased with the assistance of a special gra...  1826.0   \n6   Purchased with the assistance of a special gra...  1826.0   \n7   Purchased with the assistance of a special gra...  1826.0   \n8   Purchased with the assistance of a special gra...  1826.0   \n9   Purchased with the assistance of a special gra...  1826.0   \n10  Purchased with the assistance of a special gra...  1826.0   \n\n    acquisitionyear             dimensions  width  height  depth  units  \\\n0   acquisitionYear             dimensions  width  height  depth  units   \n1              1922  support: 394 x 419 mm  394.0   419.0    NaN     mm   \n2              1922  support: 311 x 213 mm  311.0   213.0    NaN     mm   \n3              1922  support: 343 x 467 mm  343.0   467.0    NaN     mm   \n4              1922  support: 318 x 394 mm  318.0   394.0    NaN     mm   \n5              1919    image: 243 x 335 mm  243.0   335.0    NaN     mm   \n6              1919    image: 240 x 338 mm  240.0   338.0    NaN     mm   \n7              1919    image: 242 x 334 mm  242.0   334.0    NaN     mm   \n8              1919    image: 246 x 340 mm  246.0   340.0    NaN     mm   \n9              1919    image: 241 x 335 mm  241.0   335.0    NaN     mm   \n10             1919    image: 243 x 340 mm  243.0   340.0    NaN     mm   \n\n    inscription  thumbnailcopyright  \\\n0   inscription  thumbnailCopyright   \n1           NaN                 NaN   \n2           NaN                 NaN   \n3           NaN                 NaN   \n4           NaN                 NaN   \n5           NaN                 NaN   \n6           NaN                 NaN   \n7           NaN                 NaN   \n8           NaN                 NaN   \n9           NaN                 NaN   \n10          NaN                 NaN   \n\n                                            thumbnail  \\\n0                                        thumbnailUrl   \n1   http://www.tate.org.uk/art/images/work/A/A00/A...   \n2   http://www.tate.org.uk/art/images/work/A/A00/A...   \n3   http://www.tate.org.uk/art/images/work/A/A00/A...   \n4   http://www.tate.org.uk/art/images/work/A/A00/A...   \n5   http://www.tate.org.uk/art/images/work/A/A00/A...   \n6   http://www.tate.org.uk/art/images/work/A/A00/A...   \n7   http://www.tate.org.uk/art/images/work/A/A00/A...   \n8   http://www.tate.org.uk/art/images/work/A/A00/A...   \n9   http://www.tate.org.uk/art/images/work/A/A00/A...   \n10  http://www.tate.org.uk/art/images/work/A/A00/A...   \n\n                                                  url  \n0                                                 url  \n1   http://www.tate.org.uk/art/artworks/blake-a-fi...  \n2   http://www.tate.org.uk/art/artworks/blake-two-...  \n3   http://www.tate.org.uk/art/artworks/blake-the-...  \n4   http://www.tate.org.uk/art/artworks/blake-six-...  \n5   http://www.tate.org.uk/art/artworks/blake-the-...  \n6   http://www.tate.org.uk/art/artworks/blake-ciam...  \n7   http://www.tate.org.uk/art/artworks/blake-the-...  \n8   http://www.tate.org.uk/art/artworks/blake-the-...  \n9   http://www.tate.org.uk/art/artworks/blake-the-...  \n10  http://www.tate.org.uk/art/artworks/blake-the-...  ",
      "text/html": "<div>\n<style scoped>\n    .dataframe tbody tr th:only-of-type {\n        vertical-align: middle;\n    }\n\n    .dataframe tbody tr th {\n        vertical-align: top;\n    }\n\n    .dataframe thead th {\n        text-align: right;\n    }\n</style>\n<table border=\"1\" class=\"dataframe\">\n  <thead>\n    <tr style=\"text-align: right;\">\n      <th></th>\n      <th>id</th>\n      <th>AccessionNumber</th>\n      <th>Artist</th>\n      <th>ArtistRole</th>\n      <th>ArtistId</th>\n      <th>title</th>\n      <th>datetext</th>\n      <th>medium</th>\n      <th>creditline</th>\n      <th>year</th>\n      <th>acquisitionyear</th>\n      <th>dimensions</th>\n      <th>width</th>\n      <th>height</th>\n      <th>depth</th>\n      <th>units</th>\n      <th>inscription</th>\n      <th>thumbnailcopyright</th>\n      <th>thumbnail</th>\n      <th>url</th>\n    </tr>\n  </thead>\n  <tbody>\n    <tr>\n      <th>0</th>\n      <td>id</td>\n      <td>accession_number</td>\n      <td>artist</td>\n      <td>artistRole</td>\n      <td>artistId</td>\n      <td>title</td>\n      <td>dateText</td>\n      <td>medium</td>\n      <td>creditLine</td>\n      <td>year</td>\n      <td>acquisitionYear</td>\n      <td>dimensions</td>\n      <td>width</td>\n      <td>height</td>\n      <td>depth</td>\n      <td>units</td>\n      <td>inscription</td>\n      <td>thumbnailCopyright</td>\n      <td>thumbnailUrl</td>\n      <td>url</td>\n    </tr>\n    <tr>\n      <th>1</th>\n      <td>1035</td>\n      <td>A00001</td>\n      <td>Blake, Robert</td>\n      <td>artist</td>\n      <td>38</td>\n      <td>A Figure Bowing before a Seated Old Man with h...</td>\n      <td>date not known</td>\n      <td>Watercolour, ink, chalk and graphite on paper....</td>\n      <td>Presented by Mrs John Richmond 1922</td>\n      <td>NaN</td>\n      <td>1922</td>\n      <td>support: 394 x 419 mm</td>\n      <td>394.0</td>\n      <td>419.0</td>\n      <td>NaN</td>\n      <td>mm</td>\n      <td>NaN</td>\n      <td>NaN</td>\n      <td>http://www.tate.org.uk/art/images/work/A/A00/A...</td>\n      <td>http://www.tate.org.uk/art/artworks/blake-a-fi...</td>\n    </tr>\n    <tr>\n      <th>2</th>\n      <td>1036</td>\n      <td>A00002</td>\n      <td>Blake, Robert</td>\n      <td>artist</td>\n      <td>38</td>\n      <td>Two Drawings of Frightened Figures, Probably f...</td>\n      <td>date not known</td>\n      <td>Graphite on paper</td>\n      <td>Presented by Mrs John Richmond 1922</td>\n      <td>NaN</td>\n      <td>1922</td>\n      <td>support: 311 x 213 mm</td>\n      <td>311.0</td>\n      <td>213.0</td>\n      <td>NaN</td>\n      <td>mm</td>\n      <td>NaN</td>\n      <td>NaN</td>\n      <td>http://www.tate.org.uk/art/images/work/A/A00/A...</td>\n      <td>http://www.tate.org.uk/art/artworks/blake-two-...</td>\n    </tr>\n    <tr>\n      <th>3</th>\n      <td>1037</td>\n      <td>A00003</td>\n      <td>Blake, Robert</td>\n      <td>artist</td>\n      <td>38</td>\n      <td>The Preaching of Warning. Verso: An Old Man En...</td>\n      <td>?c.1785</td>\n      <td>Graphite on paper. Verso: graphite on paper</td>\n      <td>Presented by Mrs John Richmond 1922</td>\n      <td>1785.0</td>\n      <td>1922</td>\n      <td>support: 343 x 467 mm</td>\n      <td>343.0</td>\n      <td>467.0</td>\n      <td>NaN</td>\n      <td>mm</td>\n      <td>NaN</td>\n      <td>NaN</td>\n      <td>http://www.tate.org.uk/art/images/work/A/A00/A...</td>\n      <td>http://www.tate.org.uk/art/artworks/blake-the-...</td>\n    </tr>\n    <tr>\n      <th>4</th>\n      <td>1038</td>\n      <td>A00004</td>\n      <td>Blake, Robert</td>\n      <td>artist</td>\n      <td>38</td>\n      <td>Six Drawings of Figures with Outstretched Arms</td>\n      <td>date not known</td>\n      <td>Graphite on paper</td>\n      <td>Presented by Mrs John Richmond 1922</td>\n      <td>NaN</td>\n      <td>1922</td>\n      <td>support: 318 x 394 mm</td>\n      <td>318.0</td>\n      <td>394.0</td>\n      <td>NaN</td>\n      <td>mm</td>\n      <td>NaN</td>\n      <td>NaN</td>\n      <td>http://www.tate.org.uk/art/images/work/A/A00/A...</td>\n      <td>http://www.tate.org.uk/art/artworks/blake-six-...</td>\n    </tr>\n    <tr>\n      <th>5</th>\n      <td>1039</td>\n      <td>A00005</td>\n      <td>Blake, William</td>\n      <td>artist</td>\n      <td>39</td>\n      <td>The Circle of the Lustful: Francesca da Rimini...</td>\n      <td>1826–7, reprinted 1892</td>\n      <td>Line engraving on paper</td>\n      <td>Purchased with the assistance of a special gra...</td>\n      <td>1826.0</td>\n      <td>1919</td>\n      <td>image: 243 x 335 mm</td>\n      <td>243.0</td>\n      <td>335.0</td>\n      <td>NaN</td>\n      <td>mm</td>\n      <td>NaN</td>\n      <td>NaN</td>\n      <td>http://www.tate.org.uk/art/images/work/A/A00/A...</td>\n      <td>http://www.tate.org.uk/art/artworks/blake-the-...</td>\n    </tr>\n    <tr>\n      <th>6</th>\n      <td>1040</td>\n      <td>A00006</td>\n      <td>Blake, William</td>\n      <td>artist</td>\n      <td>39</td>\n      <td>Ciampolo the Barrator Tormented by the Devils</td>\n      <td>1826–7, reprinted 1892</td>\n      <td>Line engraving on paper</td>\n      <td>Purchased with the assistance of a special gra...</td>\n      <td>1826.0</td>\n      <td>1919</td>\n      <td>image: 240 x 338 mm</td>\n      <td>240.0</td>\n      <td>338.0</td>\n      <td>NaN</td>\n      <td>mm</td>\n      <td>NaN</td>\n      <td>NaN</td>\n      <td>http://www.tate.org.uk/art/images/work/A/A00/A...</td>\n      <td>http://www.tate.org.uk/art/artworks/blake-ciam...</td>\n    </tr>\n    <tr>\n      <th>7</th>\n      <td>1041</td>\n      <td>A00007</td>\n      <td>Blake, William</td>\n      <td>artist</td>\n      <td>39</td>\n      <td>The Baffled Devils Fighting</td>\n      <td>1826–7, reprinted 1892</td>\n      <td>Line engraving on paper</td>\n      <td>Purchased with the assistance of a special gra...</td>\n      <td>1826.0</td>\n      <td>1919</td>\n      <td>image: 242 x 334 mm</td>\n      <td>242.0</td>\n      <td>334.0</td>\n      <td>NaN</td>\n      <td>mm</td>\n      <td>NaN</td>\n      <td>NaN</td>\n      <td>http://www.tate.org.uk/art/images/work/A/A00/A...</td>\n      <td>http://www.tate.org.uk/art/artworks/blake-the-...</td>\n    </tr>\n    <tr>\n      <th>8</th>\n      <td>1042</td>\n      <td>A00008</td>\n      <td>Blake, William</td>\n      <td>artist</td>\n      <td>39</td>\n      <td>The Six-Footed Serpent Attacking Agnolo Brunel...</td>\n      <td>1826–7, reprinted 1892</td>\n      <td>Line engraving on paper</td>\n      <td>Purchased with the assistance of a special gra...</td>\n      <td>1826.0</td>\n      <td>1919</td>\n      <td>image: 246 x 340 mm</td>\n      <td>246.0</td>\n      <td>340.0</td>\n      <td>NaN</td>\n      <td>mm</td>\n      <td>NaN</td>\n      <td>NaN</td>\n      <td>http://www.tate.org.uk/art/images/work/A/A00/A...</td>\n      <td>http://www.tate.org.uk/art/artworks/blake-the-...</td>\n    </tr>\n    <tr>\n      <th>9</th>\n      <td>1043</td>\n      <td>A00009</td>\n      <td>Blake, William</td>\n      <td>artist</td>\n      <td>39</td>\n      <td>The Serpent Attacking Buoso Donati</td>\n      <td>1826–7, reprinted 1892</td>\n      <td>Line engraving on paper</td>\n      <td>Purchased with the assistance of a special gra...</td>\n      <td>1826.0</td>\n      <td>1919</td>\n      <td>image: 241 x 335 mm</td>\n      <td>241.0</td>\n      <td>335.0</td>\n      <td>NaN</td>\n      <td>mm</td>\n      <td>NaN</td>\n      <td>NaN</td>\n      <td>http://www.tate.org.uk/art/images/work/A/A00/A...</td>\n      <td>http://www.tate.org.uk/art/artworks/blake-the-...</td>\n    </tr>\n    <tr>\n      <th>10</th>\n      <td>1044</td>\n      <td>A00010</td>\n      <td>Blake, William</td>\n      <td>artist</td>\n      <td>39</td>\n      <td>The Pit of Disease: The Falsifiers</td>\n      <td>1826–7, reprinted 1892</td>\n      <td>Line engraving on paper</td>\n      <td>Purchased with the assistance of a special gra...</td>\n      <td>1826.0</td>\n      <td>1919</td>\n      <td>image: 243 x 340 mm</td>\n      <td>243.0</td>\n      <td>340.0</td>\n      <td>NaN</td>\n      <td>mm</td>\n      <td>NaN</td>\n      <td>NaN</td>\n      <td>http://www.tate.org.uk/art/images/work/A/A00/A...</td>\n      <td>http://www.tate.org.uk/art/artworks/blake-the-...</td>\n    </tr>\n  </tbody>\n</table>\n</div>"
     },
     "execution_count": 65,
     "metadata": {},
     "output_type": "execute_result"
    }
   ],
   "source": [
    "# column names can be provided when reading data\n",
    "# if not provided header=0, pandas will assume there is no header row, and read the row 1 as data row.\n",
    "data = pd.read_csv('./data/artwork_sample.csv', names=['id', 'AccessionNumber', 'Artist', 'ArtistRole', 'ArtistId', 'title',\n",
    "                                                       'datetext', 'medium', 'creditline', 'year', 'acquisitionyear',\n",
    "                                                       'dimensions', 'width', 'height', 'depth', 'units', 'inscription',\n",
    "                                                       'thumbnailcopyright', 'thumbnail', 'url'])\n",
    "data"
   ],
   "metadata": {
    "collapsed": false,
    "pycharm": {
     "name": "#%%\n"
    }
   }
  },
  {
   "cell_type": "code",
   "execution_count": 66,
   "outputs": [
    {
     "data": {
      "text/plain": "     id AccessionNumber          Artist ArtistRole  ArtistId  \\\n0  1035          A00001   Blake, Robert     artist        38   \n1  1036          A00002   Blake, Robert     artist        38   \n2  1037          A00003   Blake, Robert     artist        38   \n3  1038          A00004   Blake, Robert     artist        38   \n4  1039          A00005  Blake, William     artist        39   \n5  1040          A00006  Blake, William     artist        39   \n6  1041          A00007  Blake, William     artist        39   \n7  1042          A00008  Blake, William     artist        39   \n8  1043          A00009  Blake, William     artist        39   \n9  1044          A00010  Blake, William     artist        39   \n\n                                               title                datetext  \\\n0  A Figure Bowing before a Seated Old Man with h...          date not known   \n1  Two Drawings of Frightened Figures, Probably f...          date not known   \n2  The Preaching of Warning. Verso: An Old Man En...                 ?c.1785   \n3     Six Drawings of Figures with Outstretched Arms          date not known   \n4  The Circle of the Lustful: Francesca da Rimini...  1826–7, reprinted 1892   \n5      Ciampolo the Barrator Tormented by the Devils  1826–7, reprinted 1892   \n6                        The Baffled Devils Fighting  1826–7, reprinted 1892   \n7  The Six-Footed Serpent Attacking Agnolo Brunel...  1826–7, reprinted 1892   \n8                 The Serpent Attacking Buoso Donati  1826–7, reprinted 1892   \n9                 The Pit of Disease: The Falsifiers  1826–7, reprinted 1892   \n\n                                              medium  \\\n0  Watercolour, ink, chalk and graphite on paper....   \n1                                  Graphite on paper   \n2        Graphite on paper. Verso: graphite on paper   \n3                                  Graphite on paper   \n4                            Line engraving on paper   \n5                            Line engraving on paper   \n6                            Line engraving on paper   \n7                            Line engraving on paper   \n8                            Line engraving on paper   \n9                            Line engraving on paper   \n\n                                          creditline    year  acquisitionyear  \\\n0                Presented by Mrs John Richmond 1922     NaN             1922   \n1                Presented by Mrs John Richmond 1922     NaN             1922   \n2                Presented by Mrs John Richmond 1922  1785.0             1922   \n3                Presented by Mrs John Richmond 1922     NaN             1922   \n4  Purchased with the assistance of a special gra...  1826.0             1919   \n5  Purchased with the assistance of a special gra...  1826.0             1919   \n6  Purchased with the assistance of a special gra...  1826.0             1919   \n7  Purchased with the assistance of a special gra...  1826.0             1919   \n8  Purchased with the assistance of a special gra...  1826.0             1919   \n9  Purchased with the assistance of a special gra...  1826.0             1919   \n\n              dimensions  width  height  depth units  inscription  \\\n0  support: 394 x 419 mm  394.0   419.0    NaN    mm          NaN   \n1  support: 311 x 213 mm  311.0   213.0    NaN    mm          NaN   \n2  support: 343 x 467 mm  343.0   467.0    NaN    mm          NaN   \n3  support: 318 x 394 mm  318.0   394.0    NaN    mm          NaN   \n4    image: 243 x 335 mm  243.0   335.0    NaN    mm          NaN   \n5    image: 240 x 338 mm  240.0   338.0    NaN    mm          NaN   \n6    image: 242 x 334 mm  242.0   334.0    NaN    mm          NaN   \n7    image: 246 x 340 mm  246.0   340.0    NaN    mm          NaN   \n8    image: 241 x 335 mm  241.0   335.0    NaN    mm          NaN   \n9    image: 243 x 340 mm  243.0   340.0    NaN    mm          NaN   \n\n   thumbnailcopyright                                          thumbnail  \\\n0                 NaN  http://www.tate.org.uk/art/images/work/A/A00/A...   \n1                 NaN  http://www.tate.org.uk/art/images/work/A/A00/A...   \n2                 NaN  http://www.tate.org.uk/art/images/work/A/A00/A...   \n3                 NaN  http://www.tate.org.uk/art/images/work/A/A00/A...   \n4                 NaN  http://www.tate.org.uk/art/images/work/A/A00/A...   \n5                 NaN  http://www.tate.org.uk/art/images/work/A/A00/A...   \n6                 NaN  http://www.tate.org.uk/art/images/work/A/A00/A...   \n7                 NaN  http://www.tate.org.uk/art/images/work/A/A00/A...   \n8                 NaN  http://www.tate.org.uk/art/images/work/A/A00/A...   \n9                 NaN  http://www.tate.org.uk/art/images/work/A/A00/A...   \n\n                                                 url  \n0  http://www.tate.org.uk/art/artworks/blake-a-fi...  \n1  http://www.tate.org.uk/art/artworks/blake-two-...  \n2  http://www.tate.org.uk/art/artworks/blake-the-...  \n3  http://www.tate.org.uk/art/artworks/blake-six-...  \n4  http://www.tate.org.uk/art/artworks/blake-the-...  \n5  http://www.tate.org.uk/art/artworks/blake-ciam...  \n6  http://www.tate.org.uk/art/artworks/blake-the-...  \n7  http://www.tate.org.uk/art/artworks/blake-the-...  \n8  http://www.tate.org.uk/art/artworks/blake-the-...  \n9  http://www.tate.org.uk/art/artworks/blake-the-...  ",
      "text/html": "<div>\n<style scoped>\n    .dataframe tbody tr th:only-of-type {\n        vertical-align: middle;\n    }\n\n    .dataframe tbody tr th {\n        vertical-align: top;\n    }\n\n    .dataframe thead th {\n        text-align: right;\n    }\n</style>\n<table border=\"1\" class=\"dataframe\">\n  <thead>\n    <tr style=\"text-align: right;\">\n      <th></th>\n      <th>id</th>\n      <th>AccessionNumber</th>\n      <th>Artist</th>\n      <th>ArtistRole</th>\n      <th>ArtistId</th>\n      <th>title</th>\n      <th>datetext</th>\n      <th>medium</th>\n      <th>creditline</th>\n      <th>year</th>\n      <th>acquisitionyear</th>\n      <th>dimensions</th>\n      <th>width</th>\n      <th>height</th>\n      <th>depth</th>\n      <th>units</th>\n      <th>inscription</th>\n      <th>thumbnailcopyright</th>\n      <th>thumbnail</th>\n      <th>url</th>\n    </tr>\n  </thead>\n  <tbody>\n    <tr>\n      <th>0</th>\n      <td>1035</td>\n      <td>A00001</td>\n      <td>Blake, Robert</td>\n      <td>artist</td>\n      <td>38</td>\n      <td>A Figure Bowing before a Seated Old Man with h...</td>\n      <td>date not known</td>\n      <td>Watercolour, ink, chalk and graphite on paper....</td>\n      <td>Presented by Mrs John Richmond 1922</td>\n      <td>NaN</td>\n      <td>1922</td>\n      <td>support: 394 x 419 mm</td>\n      <td>394.0</td>\n      <td>419.0</td>\n      <td>NaN</td>\n      <td>mm</td>\n      <td>NaN</td>\n      <td>NaN</td>\n      <td>http://www.tate.org.uk/art/images/work/A/A00/A...</td>\n      <td>http://www.tate.org.uk/art/artworks/blake-a-fi...</td>\n    </tr>\n    <tr>\n      <th>1</th>\n      <td>1036</td>\n      <td>A00002</td>\n      <td>Blake, Robert</td>\n      <td>artist</td>\n      <td>38</td>\n      <td>Two Drawings of Frightened Figures, Probably f...</td>\n      <td>date not known</td>\n      <td>Graphite on paper</td>\n      <td>Presented by Mrs John Richmond 1922</td>\n      <td>NaN</td>\n      <td>1922</td>\n      <td>support: 311 x 213 mm</td>\n      <td>311.0</td>\n      <td>213.0</td>\n      <td>NaN</td>\n      <td>mm</td>\n      <td>NaN</td>\n      <td>NaN</td>\n      <td>http://www.tate.org.uk/art/images/work/A/A00/A...</td>\n      <td>http://www.tate.org.uk/art/artworks/blake-two-...</td>\n    </tr>\n    <tr>\n      <th>2</th>\n      <td>1037</td>\n      <td>A00003</td>\n      <td>Blake, Robert</td>\n      <td>artist</td>\n      <td>38</td>\n      <td>The Preaching of Warning. Verso: An Old Man En...</td>\n      <td>?c.1785</td>\n      <td>Graphite on paper. Verso: graphite on paper</td>\n      <td>Presented by Mrs John Richmond 1922</td>\n      <td>1785.0</td>\n      <td>1922</td>\n      <td>support: 343 x 467 mm</td>\n      <td>343.0</td>\n      <td>467.0</td>\n      <td>NaN</td>\n      <td>mm</td>\n      <td>NaN</td>\n      <td>NaN</td>\n      <td>http://www.tate.org.uk/art/images/work/A/A00/A...</td>\n      <td>http://www.tate.org.uk/art/artworks/blake-the-...</td>\n    </tr>\n    <tr>\n      <th>3</th>\n      <td>1038</td>\n      <td>A00004</td>\n      <td>Blake, Robert</td>\n      <td>artist</td>\n      <td>38</td>\n      <td>Six Drawings of Figures with Outstretched Arms</td>\n      <td>date not known</td>\n      <td>Graphite on paper</td>\n      <td>Presented by Mrs John Richmond 1922</td>\n      <td>NaN</td>\n      <td>1922</td>\n      <td>support: 318 x 394 mm</td>\n      <td>318.0</td>\n      <td>394.0</td>\n      <td>NaN</td>\n      <td>mm</td>\n      <td>NaN</td>\n      <td>NaN</td>\n      <td>http://www.tate.org.uk/art/images/work/A/A00/A...</td>\n      <td>http://www.tate.org.uk/art/artworks/blake-six-...</td>\n    </tr>\n    <tr>\n      <th>4</th>\n      <td>1039</td>\n      <td>A00005</td>\n      <td>Blake, William</td>\n      <td>artist</td>\n      <td>39</td>\n      <td>The Circle of the Lustful: Francesca da Rimini...</td>\n      <td>1826–7, reprinted 1892</td>\n      <td>Line engraving on paper</td>\n      <td>Purchased with the assistance of a special gra...</td>\n      <td>1826.0</td>\n      <td>1919</td>\n      <td>image: 243 x 335 mm</td>\n      <td>243.0</td>\n      <td>335.0</td>\n      <td>NaN</td>\n      <td>mm</td>\n      <td>NaN</td>\n      <td>NaN</td>\n      <td>http://www.tate.org.uk/art/images/work/A/A00/A...</td>\n      <td>http://www.tate.org.uk/art/artworks/blake-the-...</td>\n    </tr>\n    <tr>\n      <th>5</th>\n      <td>1040</td>\n      <td>A00006</td>\n      <td>Blake, William</td>\n      <td>artist</td>\n      <td>39</td>\n      <td>Ciampolo the Barrator Tormented by the Devils</td>\n      <td>1826–7, reprinted 1892</td>\n      <td>Line engraving on paper</td>\n      <td>Purchased with the assistance of a special gra...</td>\n      <td>1826.0</td>\n      <td>1919</td>\n      <td>image: 240 x 338 mm</td>\n      <td>240.0</td>\n      <td>338.0</td>\n      <td>NaN</td>\n      <td>mm</td>\n      <td>NaN</td>\n      <td>NaN</td>\n      <td>http://www.tate.org.uk/art/images/work/A/A00/A...</td>\n      <td>http://www.tate.org.uk/art/artworks/blake-ciam...</td>\n    </tr>\n    <tr>\n      <th>6</th>\n      <td>1041</td>\n      <td>A00007</td>\n      <td>Blake, William</td>\n      <td>artist</td>\n      <td>39</td>\n      <td>The Baffled Devils Fighting</td>\n      <td>1826–7, reprinted 1892</td>\n      <td>Line engraving on paper</td>\n      <td>Purchased with the assistance of a special gra...</td>\n      <td>1826.0</td>\n      <td>1919</td>\n      <td>image: 242 x 334 mm</td>\n      <td>242.0</td>\n      <td>334.0</td>\n      <td>NaN</td>\n      <td>mm</td>\n      <td>NaN</td>\n      <td>NaN</td>\n      <td>http://www.tate.org.uk/art/images/work/A/A00/A...</td>\n      <td>http://www.tate.org.uk/art/artworks/blake-the-...</td>\n    </tr>\n    <tr>\n      <th>7</th>\n      <td>1042</td>\n      <td>A00008</td>\n      <td>Blake, William</td>\n      <td>artist</td>\n      <td>39</td>\n      <td>The Six-Footed Serpent Attacking Agnolo Brunel...</td>\n      <td>1826–7, reprinted 1892</td>\n      <td>Line engraving on paper</td>\n      <td>Purchased with the assistance of a special gra...</td>\n      <td>1826.0</td>\n      <td>1919</td>\n      <td>image: 246 x 340 mm</td>\n      <td>246.0</td>\n      <td>340.0</td>\n      <td>NaN</td>\n      <td>mm</td>\n      <td>NaN</td>\n      <td>NaN</td>\n      <td>http://www.tate.org.uk/art/images/work/A/A00/A...</td>\n      <td>http://www.tate.org.uk/art/artworks/blake-the-...</td>\n    </tr>\n    <tr>\n      <th>8</th>\n      <td>1043</td>\n      <td>A00009</td>\n      <td>Blake, William</td>\n      <td>artist</td>\n      <td>39</td>\n      <td>The Serpent Attacking Buoso Donati</td>\n      <td>1826–7, reprinted 1892</td>\n      <td>Line engraving on paper</td>\n      <td>Purchased with the assistance of a special gra...</td>\n      <td>1826.0</td>\n      <td>1919</td>\n      <td>image: 241 x 335 mm</td>\n      <td>241.0</td>\n      <td>335.0</td>\n      <td>NaN</td>\n      <td>mm</td>\n      <td>NaN</td>\n      <td>NaN</td>\n      <td>http://www.tate.org.uk/art/images/work/A/A00/A...</td>\n      <td>http://www.tate.org.uk/art/artworks/blake-the-...</td>\n    </tr>\n    <tr>\n      <th>9</th>\n      <td>1044</td>\n      <td>A00010</td>\n      <td>Blake, William</td>\n      <td>artist</td>\n      <td>39</td>\n      <td>The Pit of Disease: The Falsifiers</td>\n      <td>1826–7, reprinted 1892</td>\n      <td>Line engraving on paper</td>\n      <td>Purchased with the assistance of a special gra...</td>\n      <td>1826.0</td>\n      <td>1919</td>\n      <td>image: 243 x 340 mm</td>\n      <td>243.0</td>\n      <td>340.0</td>\n      <td>NaN</td>\n      <td>mm</td>\n      <td>NaN</td>\n      <td>NaN</td>\n      <td>http://www.tate.org.uk/art/images/work/A/A00/A...</td>\n      <td>http://www.tate.org.uk/art/artworks/blake-the-...</td>\n    </tr>\n  </tbody>\n</table>\n</div>"
     },
     "execution_count": 66,
     "metadata": {},
     "output_type": "execute_result"
    }
   ],
   "source": [
    "# column names can be provided when reading data\n",
    "# header=0 means header row is row number zero.\n",
    "data = pd.read_csv('./data/artwork_sample.csv', names=['id', 'AccessionNumber', 'Artist', 'ArtistRole', 'ArtistId', 'title',\n",
    "                                                       'datetext', 'medium', 'creditline', 'year', 'acquisitionyear',\n",
    "                                                       'dimensions', 'width', 'height', 'depth', 'units', 'inscription',\n",
    "                                                       'thumbnailcopyright', 'thumbnail', 'url'], header=0)\n",
    "data"
   ],
   "metadata": {
    "collapsed": false,
    "pycharm": {
     "name": "#%%\n"
    }
   }
  },
  {
   "cell_type": "code",
   "execution_count": 64,
   "outputs": [
    {
     "data": {
      "text/plain": "Index(['id', 'AccessionNumber', 'Artist', 'ArtistRole', 'ArtistId', 'title',\n       'datetext', 'medium', 'creditline', 'year', 'acquisitionyear',\n       'dimensions', 'width', 'height', 'depth', 'units', 'inscription',\n       'thumbnailcopyright', 'thumbnail', 'url'],\n      dtype='object')"
     },
     "execution_count": 64,
     "metadata": {},
     "output_type": "execute_result"
    }
   ],
   "source": [
    "data.columns"
   ],
   "metadata": {
    "collapsed": false,
    "pycharm": {
     "name": "#%%\n"
    }
   }
  },
  {
   "cell_type": "code",
   "execution_count": null,
   "outputs": [],
   "source": [],
   "metadata": {
    "collapsed": false,
    "pycharm": {
     "name": "#%%\n"
    }
   }
  }
 ],
 "metadata": {
  "kernelspec": {
   "display_name": "Python 3",
   "language": "python",
   "name": "python3"
  },
  "language_info": {
   "codemirror_mode": {
    "name": "ipython",
    "version": 2
   },
   "file_extension": ".py",
   "mimetype": "text/x-python",
   "name": "python",
   "nbconvert_exporter": "python",
   "pygments_lexer": "ipython2",
   "version": "2.7.6"
  }
 },
 "nbformat": 4,
 "nbformat_minor": 0
}