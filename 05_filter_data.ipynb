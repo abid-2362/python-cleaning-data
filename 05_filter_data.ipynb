{
 "cells": [
  {
   "cell_type": "markdown",
   "metadata": {
    "collapsed": true,
    "pycharm": {
     "name": "#%% md\n"
    }
   },
   "source": [
    "# Filter Data"
   ]
  },
  {
   "cell_type": "code",
   "execution_count": 2,
   "outputs": [],
   "source": [
    "import pandas as pd\n",
    "data = pd.read_csv('./data/artwork_data.csv', low_memory=False)"
   ],
   "metadata": {
    "collapsed": false,
    "pycharm": {
     "name": "#%%\n"
    }
   }
  },
  {
   "cell_type": "code",
   "execution_count": 3,
   "outputs": [
    {
     "data": {
      "text/plain": "     id accession_number          artist artistRole  artistId  \\\n0  1035           A00001   Blake, Robert     artist        38   \n1  1036           A00002   Blake, Robert     artist        38   \n2  1037           A00003   Blake, Robert     artist        38   \n3  1038           A00004   Blake, Robert     artist        38   \n4  1039           A00005  Blake, William     artist        39   \n\n                                               title                dateText  \\\n0  A Figure Bowing before a Seated Old Man with h...          date not known   \n1  Two Drawings of Frightened Figures, Probably f...          date not known   \n2  The Preaching of Warning. Verso: An Old Man En...                 ?c.1785   \n3     Six Drawings of Figures with Outstretched Arms          date not known   \n4  The Circle of the Lustful: Francesca da Rimini...  1826–7, reprinted 1892   \n\n                                              medium  \\\n0  Watercolour, ink, chalk and graphite on paper....   \n1                                  Graphite on paper   \n2        Graphite on paper. Verso: graphite on paper   \n3                                  Graphite on paper   \n4                            Line engraving on paper   \n\n                                          creditLine  year  acquisitionYear  \\\n0                Presented by Mrs John Richmond 1922   NaN           1922.0   \n1                Presented by Mrs John Richmond 1922   NaN           1922.0   \n2                Presented by Mrs John Richmond 1922  1785           1922.0   \n3                Presented by Mrs John Richmond 1922   NaN           1922.0   \n4  Purchased with the assistance of a special gra...  1826           1919.0   \n\n              dimensions width height  depth units inscription  \\\n0  support: 394 x 419 mm   394    419    NaN    mm         NaN   \n1  support: 311 x 213 mm   311    213    NaN    mm         NaN   \n2  support: 343 x 467 mm   343    467    NaN    mm         NaN   \n3  support: 318 x 394 mm   318    394    NaN    mm         NaN   \n4    image: 243 x 335 mm   243    335    NaN    mm         NaN   \n\n  thumbnailCopyright                                       thumbnailUrl  \\\n0                NaN  http://www.tate.org.uk/art/images/work/A/A00/A...   \n1                NaN  http://www.tate.org.uk/art/images/work/A/A00/A...   \n2                NaN  http://www.tate.org.uk/art/images/work/A/A00/A...   \n3                NaN  http://www.tate.org.uk/art/images/work/A/A00/A...   \n4                NaN  http://www.tate.org.uk/art/images/work/A/A00/A...   \n\n                                                 url  \n0  http://www.tate.org.uk/art/artworks/blake-a-fi...  \n1  http://www.tate.org.uk/art/artworks/blake-two-...  \n2  http://www.tate.org.uk/art/artworks/blake-the-...  \n3  http://www.tate.org.uk/art/artworks/blake-six-...  \n4  http://www.tate.org.uk/art/artworks/blake-the-...  ",
      "text/html": "<div>\n<style scoped>\n    .dataframe tbody tr th:only-of-type {\n        vertical-align: middle;\n    }\n\n    .dataframe tbody tr th {\n        vertical-align: top;\n    }\n\n    .dataframe thead th {\n        text-align: right;\n    }\n</style>\n<table border=\"1\" class=\"dataframe\">\n  <thead>\n    <tr style=\"text-align: right;\">\n      <th></th>\n      <th>id</th>\n      <th>accession_number</th>\n      <th>artist</th>\n      <th>artistRole</th>\n      <th>artistId</th>\n      <th>title</th>\n      <th>dateText</th>\n      <th>medium</th>\n      <th>creditLine</th>\n      <th>year</th>\n      <th>acquisitionYear</th>\n      <th>dimensions</th>\n      <th>width</th>\n      <th>height</th>\n      <th>depth</th>\n      <th>units</th>\n      <th>inscription</th>\n      <th>thumbnailCopyright</th>\n      <th>thumbnailUrl</th>\n      <th>url</th>\n    </tr>\n  </thead>\n  <tbody>\n    <tr>\n      <th>0</th>\n      <td>1035</td>\n      <td>A00001</td>\n      <td>Blake, Robert</td>\n      <td>artist</td>\n      <td>38</td>\n      <td>A Figure Bowing before a Seated Old Man with h...</td>\n      <td>date not known</td>\n      <td>Watercolour, ink, chalk and graphite on paper....</td>\n      <td>Presented by Mrs John Richmond 1922</td>\n      <td>NaN</td>\n      <td>1922.0</td>\n      <td>support: 394 x 419 mm</td>\n      <td>394</td>\n      <td>419</td>\n      <td>NaN</td>\n      <td>mm</td>\n      <td>NaN</td>\n      <td>NaN</td>\n      <td>http://www.tate.org.uk/art/images/work/A/A00/A...</td>\n      <td>http://www.tate.org.uk/art/artworks/blake-a-fi...</td>\n    </tr>\n    <tr>\n      <th>1</th>\n      <td>1036</td>\n      <td>A00002</td>\n      <td>Blake, Robert</td>\n      <td>artist</td>\n      <td>38</td>\n      <td>Two Drawings of Frightened Figures, Probably f...</td>\n      <td>date not known</td>\n      <td>Graphite on paper</td>\n      <td>Presented by Mrs John Richmond 1922</td>\n      <td>NaN</td>\n      <td>1922.0</td>\n      <td>support: 311 x 213 mm</td>\n      <td>311</td>\n      <td>213</td>\n      <td>NaN</td>\n      <td>mm</td>\n      <td>NaN</td>\n      <td>NaN</td>\n      <td>http://www.tate.org.uk/art/images/work/A/A00/A...</td>\n      <td>http://www.tate.org.uk/art/artworks/blake-two-...</td>\n    </tr>\n    <tr>\n      <th>2</th>\n      <td>1037</td>\n      <td>A00003</td>\n      <td>Blake, Robert</td>\n      <td>artist</td>\n      <td>38</td>\n      <td>The Preaching of Warning. Verso: An Old Man En...</td>\n      <td>?c.1785</td>\n      <td>Graphite on paper. Verso: graphite on paper</td>\n      <td>Presented by Mrs John Richmond 1922</td>\n      <td>1785</td>\n      <td>1922.0</td>\n      <td>support: 343 x 467 mm</td>\n      <td>343</td>\n      <td>467</td>\n      <td>NaN</td>\n      <td>mm</td>\n      <td>NaN</td>\n      <td>NaN</td>\n      <td>http://www.tate.org.uk/art/images/work/A/A00/A...</td>\n      <td>http://www.tate.org.uk/art/artworks/blake-the-...</td>\n    </tr>\n    <tr>\n      <th>3</th>\n      <td>1038</td>\n      <td>A00004</td>\n      <td>Blake, Robert</td>\n      <td>artist</td>\n      <td>38</td>\n      <td>Six Drawings of Figures with Outstretched Arms</td>\n      <td>date not known</td>\n      <td>Graphite on paper</td>\n      <td>Presented by Mrs John Richmond 1922</td>\n      <td>NaN</td>\n      <td>1922.0</td>\n      <td>support: 318 x 394 mm</td>\n      <td>318</td>\n      <td>394</td>\n      <td>NaN</td>\n      <td>mm</td>\n      <td>NaN</td>\n      <td>NaN</td>\n      <td>http://www.tate.org.uk/art/images/work/A/A00/A...</td>\n      <td>http://www.tate.org.uk/art/artworks/blake-six-...</td>\n    </tr>\n    <tr>\n      <th>4</th>\n      <td>1039</td>\n      <td>A00005</td>\n      <td>Blake, William</td>\n      <td>artist</td>\n      <td>39</td>\n      <td>The Circle of the Lustful: Francesca da Rimini...</td>\n      <td>1826–7, reprinted 1892</td>\n      <td>Line engraving on paper</td>\n      <td>Purchased with the assistance of a special gra...</td>\n      <td>1826</td>\n      <td>1919.0</td>\n      <td>image: 243 x 335 mm</td>\n      <td>243</td>\n      <td>335</td>\n      <td>NaN</td>\n      <td>mm</td>\n      <td>NaN</td>\n      <td>NaN</td>\n      <td>http://www.tate.org.uk/art/images/work/A/A00/A...</td>\n      <td>http://www.tate.org.uk/art/artworks/blake-the-...</td>\n    </tr>\n  </tbody>\n</table>\n</div>"
     },
     "execution_count": 3,
     "metadata": {},
     "output_type": "execute_result"
    }
   ],
   "source": [
    "data.head()"
   ],
   "metadata": {
    "collapsed": false,
    "pycharm": {
     "name": "#%%\n"
    }
   }
  },
  {
   "cell_type": "code",
   "execution_count": 4,
   "outputs": [
    {
     "data": {
      "text/plain": "           id              artist\n0        1035       Blake, Robert\n1        1036       Blake, Robert\n2        1037       Blake, Robert\n3        1038       Blake, Robert\n4        1039      Blake, William\n...       ...                 ...\n69196  122960  P-Orridge, Genesis\n69197  122961  P-Orridge, Genesis\n69198  121181        Hatoum, Mona\n69199  112306       Creed, Martin\n69200  127035   Brunias, Agostino\n\n[69201 rows x 2 columns]",
      "text/html": "<div>\n<style scoped>\n    .dataframe tbody tr th:only-of-type {\n        vertical-align: middle;\n    }\n\n    .dataframe tbody tr th {\n        vertical-align: top;\n    }\n\n    .dataframe thead th {\n        text-align: right;\n    }\n</style>\n<table border=\"1\" class=\"dataframe\">\n  <thead>\n    <tr style=\"text-align: right;\">\n      <th></th>\n      <th>id</th>\n      <th>artist</th>\n    </tr>\n  </thead>\n  <tbody>\n    <tr>\n      <th>0</th>\n      <td>1035</td>\n      <td>Blake, Robert</td>\n    </tr>\n    <tr>\n      <th>1</th>\n      <td>1036</td>\n      <td>Blake, Robert</td>\n    </tr>\n    <tr>\n      <th>2</th>\n      <td>1037</td>\n      <td>Blake, Robert</td>\n    </tr>\n    <tr>\n      <th>3</th>\n      <td>1038</td>\n      <td>Blake, Robert</td>\n    </tr>\n    <tr>\n      <th>4</th>\n      <td>1039</td>\n      <td>Blake, William</td>\n    </tr>\n    <tr>\n      <th>...</th>\n      <td>...</td>\n      <td>...</td>\n    </tr>\n    <tr>\n      <th>69196</th>\n      <td>122960</td>\n      <td>P-Orridge, Genesis</td>\n    </tr>\n    <tr>\n      <th>69197</th>\n      <td>122961</td>\n      <td>P-Orridge, Genesis</td>\n    </tr>\n    <tr>\n      <th>69198</th>\n      <td>121181</td>\n      <td>Hatoum, Mona</td>\n    </tr>\n    <tr>\n      <th>69199</th>\n      <td>112306</td>\n      <td>Creed, Martin</td>\n    </tr>\n    <tr>\n      <th>69200</th>\n      <td>127035</td>\n      <td>Brunias, Agostino</td>\n    </tr>\n  </tbody>\n</table>\n<p>69201 rows × 2 columns</p>\n</div>"
     },
     "execution_count": 4,
     "metadata": {},
     "output_type": "execute_result"
    }
   ],
   "source": [
    "# Filtering data\n",
    "data.filter(items=['id', 'artist'])"
   ],
   "metadata": {
    "collapsed": false,
    "pycharm": {
     "name": "#%%\n"
    }
   }
  },
  {
   "cell_type": "code",
   "execution_count": 7,
   "outputs": [
    {
     "data": {
      "text/plain": "       year\n0       NaN\n1       NaN\n2      1785\n3       NaN\n4      1826\n...     ...\n69196  1975\n69197  1976\n69198  1996\n69199  2000\n69200  1764\n\n[69201 rows x 1 columns]",
      "text/html": "<div>\n<style scoped>\n    .dataframe tbody tr th:only-of-type {\n        vertical-align: middle;\n    }\n\n    .dataframe tbody tr th {\n        vertical-align: top;\n    }\n\n    .dataframe thead th {\n        text-align: right;\n    }\n</style>\n<table border=\"1\" class=\"dataframe\">\n  <thead>\n    <tr style=\"text-align: right;\">\n      <th></th>\n      <th>year</th>\n    </tr>\n  </thead>\n  <tbody>\n    <tr>\n      <th>0</th>\n      <td>NaN</td>\n    </tr>\n    <tr>\n      <th>1</th>\n      <td>NaN</td>\n    </tr>\n    <tr>\n      <th>2</th>\n      <td>1785</td>\n    </tr>\n    <tr>\n      <th>3</th>\n      <td>NaN</td>\n    </tr>\n    <tr>\n      <th>4</th>\n      <td>1826</td>\n    </tr>\n    <tr>\n      <th>...</th>\n      <td>...</td>\n    </tr>\n    <tr>\n      <th>69196</th>\n      <td>1975</td>\n    </tr>\n    <tr>\n      <th>69197</th>\n      <td>1976</td>\n    </tr>\n    <tr>\n      <th>69198</th>\n      <td>1996</td>\n    </tr>\n    <tr>\n      <th>69199</th>\n      <td>2000</td>\n    </tr>\n    <tr>\n      <th>69200</th>\n      <td>1764</td>\n    </tr>\n  </tbody>\n</table>\n<p>69201 rows × 1 columns</p>\n</div>"
     },
     "execution_count": 7,
     "metadata": {},
     "output_type": "execute_result"
    }
   ],
   "source": [
    "# Any column which has word \"year\" in its header name\n",
    "# like param is case sensitive by default\n",
    "data.filter(like=\"year\")"
   ],
   "metadata": {
    "collapsed": false,
    "pycharm": {
     "name": "#%%\n"
    }
   }
  },
  {
   "cell_type": "code",
   "execution_count": 8,
   "outputs": [
    {
     "data": {
      "text/plain": "                   artist artistRole  artistId\n0           Blake, Robert     artist        38\n1           Blake, Robert     artist        38\n2           Blake, Robert     artist        38\n3           Blake, Robert     artist        38\n4          Blake, William     artist        39\n...                   ...        ...       ...\n69196  P-Orridge, Genesis     artist     16646\n69197  P-Orridge, Genesis     artist     16646\n69198        Hatoum, Mona     artist      2365\n69199       Creed, Martin     artist      2760\n69200   Brunias, Agostino     artist      3824\n\n[69201 rows x 3 columns]",
      "text/html": "<div>\n<style scoped>\n    .dataframe tbody tr th:only-of-type {\n        vertical-align: middle;\n    }\n\n    .dataframe tbody tr th {\n        vertical-align: top;\n    }\n\n    .dataframe thead th {\n        text-align: right;\n    }\n</style>\n<table border=\"1\" class=\"dataframe\">\n  <thead>\n    <tr style=\"text-align: right;\">\n      <th></th>\n      <th>artist</th>\n      <th>artistRole</th>\n      <th>artistId</th>\n    </tr>\n  </thead>\n  <tbody>\n    <tr>\n      <th>0</th>\n      <td>Blake, Robert</td>\n      <td>artist</td>\n      <td>38</td>\n    </tr>\n    <tr>\n      <th>1</th>\n      <td>Blake, Robert</td>\n      <td>artist</td>\n      <td>38</td>\n    </tr>\n    <tr>\n      <th>2</th>\n      <td>Blake, Robert</td>\n      <td>artist</td>\n      <td>38</td>\n    </tr>\n    <tr>\n      <th>3</th>\n      <td>Blake, Robert</td>\n      <td>artist</td>\n      <td>38</td>\n    </tr>\n    <tr>\n      <th>4</th>\n      <td>Blake, William</td>\n      <td>artist</td>\n      <td>39</td>\n    </tr>\n    <tr>\n      <th>...</th>\n      <td>...</td>\n      <td>...</td>\n      <td>...</td>\n    </tr>\n    <tr>\n      <th>69196</th>\n      <td>P-Orridge, Genesis</td>\n      <td>artist</td>\n      <td>16646</td>\n    </tr>\n    <tr>\n      <th>69197</th>\n      <td>P-Orridge, Genesis</td>\n      <td>artist</td>\n      <td>16646</td>\n    </tr>\n    <tr>\n      <th>69198</th>\n      <td>Hatoum, Mona</td>\n      <td>artist</td>\n      <td>2365</td>\n    </tr>\n    <tr>\n      <th>69199</th>\n      <td>Creed, Martin</td>\n      <td>artist</td>\n      <td>2760</td>\n    </tr>\n    <tr>\n      <th>69200</th>\n      <td>Brunias, Agostino</td>\n      <td>artist</td>\n      <td>3824</td>\n    </tr>\n  </tbody>\n</table>\n<p>69201 rows × 3 columns</p>\n</div>"
     },
     "execution_count": 8,
     "metadata": {},
     "output_type": "execute_result"
    }
   ],
   "source": [
    "data.filter(like=\"artist\")"
   ],
   "metadata": {
    "collapsed": false,
    "pycharm": {
     "name": "#%%\n"
    }
   }
  },
  {
   "cell_type": "code",
   "execution_count": 9,
   "outputs": [
    {
     "data": {
      "text/plain": "       year  acquisitionYear\n0       NaN           1922.0\n1       NaN           1922.0\n2      1785           1922.0\n3       NaN           1922.0\n4      1826           1919.0\n...     ...              ...\n69196  1975           2013.0\n69197  1976           2013.0\n69198  1996           2013.0\n69199  2000           2013.0\n69200  1764           2013.0\n\n[69201 rows x 2 columns]",
      "text/html": "<div>\n<style scoped>\n    .dataframe tbody tr th:only-of-type {\n        vertical-align: middle;\n    }\n\n    .dataframe tbody tr th {\n        vertical-align: top;\n    }\n\n    .dataframe thead th {\n        text-align: right;\n    }\n</style>\n<table border=\"1\" class=\"dataframe\">\n  <thead>\n    <tr style=\"text-align: right;\">\n      <th></th>\n      <th>year</th>\n      <th>acquisitionYear</th>\n    </tr>\n  </thead>\n  <tbody>\n    <tr>\n      <th>0</th>\n      <td>NaN</td>\n      <td>1922.0</td>\n    </tr>\n    <tr>\n      <th>1</th>\n      <td>NaN</td>\n      <td>1922.0</td>\n    </tr>\n    <tr>\n      <th>2</th>\n      <td>1785</td>\n      <td>1922.0</td>\n    </tr>\n    <tr>\n      <th>3</th>\n      <td>NaN</td>\n      <td>1922.0</td>\n    </tr>\n    <tr>\n      <th>4</th>\n      <td>1826</td>\n      <td>1919.0</td>\n    </tr>\n    <tr>\n      <th>...</th>\n      <td>...</td>\n      <td>...</td>\n    </tr>\n    <tr>\n      <th>69196</th>\n      <td>1975</td>\n      <td>2013.0</td>\n    </tr>\n    <tr>\n      <th>69197</th>\n      <td>1976</td>\n      <td>2013.0</td>\n    </tr>\n    <tr>\n      <th>69198</th>\n      <td>1996</td>\n      <td>2013.0</td>\n    </tr>\n    <tr>\n      <th>69199</th>\n      <td>2000</td>\n      <td>2013.0</td>\n    </tr>\n    <tr>\n      <th>69200</th>\n      <td>1764</td>\n      <td>2013.0</td>\n    </tr>\n  </tbody>\n</table>\n<p>69201 rows × 2 columns</p>\n</div>"
     },
     "execution_count": 9,
     "metadata": {},
     "output_type": "execute_result"
    }
   ],
   "source": [
    "# Case insensitive year by using regex\n",
    "data.filter(regex=\"(?i)year\")"
   ],
   "metadata": {
    "collapsed": false,
    "pycharm": {
     "name": "#%%\n"
    }
   }
  },
  {
   "cell_type": "code",
   "execution_count": 14,
   "outputs": [
    {
     "data": {
      "text/plain": "       year  acquisitionYear\n0       NaN           1922.0\n1       NaN           1922.0\n2      1785           1922.0\n3       NaN           1922.0\n4      1826           1919.0\n...     ...              ...\n69196  1975           2013.0\n69197  1976           2013.0\n69198  1996           2013.0\n69199  2000           2013.0\n69200  1764           2013.0\n\n[69201 rows x 2 columns]",
      "text/html": "<div>\n<style scoped>\n    .dataframe tbody tr th:only-of-type {\n        vertical-align: middle;\n    }\n\n    .dataframe tbody tr th {\n        vertical-align: top;\n    }\n\n    .dataframe thead th {\n        text-align: right;\n    }\n</style>\n<table border=\"1\" class=\"dataframe\">\n  <thead>\n    <tr style=\"text-align: right;\">\n      <th></th>\n      <th>year</th>\n      <th>acquisitionYear</th>\n    </tr>\n  </thead>\n  <tbody>\n    <tr>\n      <th>0</th>\n      <td>NaN</td>\n      <td>1922.0</td>\n    </tr>\n    <tr>\n      <th>1</th>\n      <td>NaN</td>\n      <td>1922.0</td>\n    </tr>\n    <tr>\n      <th>2</th>\n      <td>1785</td>\n      <td>1922.0</td>\n    </tr>\n    <tr>\n      <th>3</th>\n      <td>NaN</td>\n      <td>1922.0</td>\n    </tr>\n    <tr>\n      <th>4</th>\n      <td>1826</td>\n      <td>1919.0</td>\n    </tr>\n    <tr>\n      <th>...</th>\n      <td>...</td>\n      <td>...</td>\n    </tr>\n    <tr>\n      <th>69196</th>\n      <td>1975</td>\n      <td>2013.0</td>\n    </tr>\n    <tr>\n      <th>69197</th>\n      <td>1976</td>\n      <td>2013.0</td>\n    </tr>\n    <tr>\n      <th>69198</th>\n      <td>1996</td>\n      <td>2013.0</td>\n    </tr>\n    <tr>\n      <th>69199</th>\n      <td>2000</td>\n      <td>2013.0</td>\n    </tr>\n    <tr>\n      <th>69200</th>\n      <td>1764</td>\n      <td>2013.0</td>\n    </tr>\n  </tbody>\n</table>\n<p>69201 rows × 2 columns</p>\n</div>"
     },
     "execution_count": 14,
     "metadata": {},
     "output_type": "execute_result"
    }
   ],
   "source": [
    "data.filter(regex=\"year|Year\")"
   ],
   "metadata": {
    "collapsed": false,
    "pycharm": {
     "name": "#%%\n"
    }
   }
  },
  {
   "cell_type": "code",
   "execution_count": 15,
   "outputs": [
    {
     "data": {
      "text/plain": "         id accession_number                          artist artistRole  \\\n1000  14704           A01004  Turner, Joseph Mallord William     artist   \n1001  14705           A01005  Turner, Joseph Mallord William     artist   \n1002  14706           A01006  Turner, Joseph Mallord William     artist   \n1003  14707           A01007  Turner, Joseph Mallord William     artist   \n1004  14708           A01008  Turner, Joseph Mallord William     artist   \n1005  14709           A01009  Turner, Joseph Mallord William     artist   \n1006  14710           A01010  Turner, Joseph Mallord William     artist   \n1007  14711           A01011  Turner, Joseph Mallord William     artist   \n1008  14712           A01012  Turner, Joseph Mallord William     artist   \n1009  14713           A01013  Turner, Joseph Mallord William     artist   \n\n      artistId                                              title dateText  \\\n1000       558                               Hedging and Ditching     1812   \n1001       558     Hedging and Ditching, engraved by J.C. Easling     1812   \n1002       558                                          River Wye     1812   \n1003       558                    River Wye, engraved by W. Annis     1812   \n1004       558            Chain of Alps from Grenoble to Chamberi     1812   \n1005       558  Chain of Alps from Grenoble to Chamberi, engra...     1812   \n1006       558                                       Mer de Glace     1812   \n1007       558                                       Mer de Glace     1812   \n1008       558                            Rivaux Abbey, Yorkshire     1812   \n1009       558               Rivaux Abbey, engraved by Henry Dawe     1812   \n\n                              medium  \\\n1000  Etching and engraving on paper   \n1001  Etching and mezzotint on paper   \n1002                  Print on paper   \n1003  Etching and mezzotint on paper   \n1004  Etching and engraving on paper   \n1005  Etching and mezzotint on paper   \n1006  Etching and engraving on paper   \n1007  Etching and mezzotint on paper   \n1008  Etching and engraving on paper   \n1009  Etching and mezzotint on paper   \n\n                                             creditLine  year  \\\n1000  Presented by A. Acland Allen through the Art F...  1812   \n1001  Presented by A. Acland Allen through the Art F...  1812   \n1002  Presented by A. Acland Allen through the Art F...  1812   \n1003  Presented by A. Acland Allen through the Art F...  1812   \n1004  Presented by A. Acland Allen through the Art F...  1812   \n1005  Presented by A. Acland Allen through the Art F...  1812   \n1006  Presented by A. Acland Allen through the Art F...  1812   \n1007  Presented by A. Acland Allen through the Art F...  1812   \n1008  Presented by A. Acland Allen through the Art F...  1812   \n1009  Presented by A. Acland Allen through the Art F...  1812   \n\n      acquisitionYear           dimensions width height  depth units  \\\n1000           1925.0  image: 184 x 259 mm   184    259    NaN    mm   \n1001           1925.0  image: 186 x 262 mm   186    262    NaN    mm   \n1002           1925.0  image: 183 x 264 mm   183    264    NaN    mm   \n1003           1925.0  image: 184 x 265 mm   184    265    NaN    mm   \n1004           1925.0  image: 178 x 259 mm   178    259    NaN    mm   \n1005           1925.0  image: 178 x 261 mm   178    261    NaN    mm   \n1006           1925.0  image: 178 x 253 mm   178    253    NaN    mm   \n1007           1925.0  image: 179 x 257 mm   179    257    NaN    mm   \n1008           1925.0  image: 182 x 265 mm   182    265    NaN    mm   \n1009           1925.0  image: 183 x 266 mm   183    266    NaN    mm   \n\n     inscription thumbnailCopyright  \\\n1000         NaN                NaN   \n1001         NaN                NaN   \n1002         NaN                NaN   \n1003         NaN                NaN   \n1004         NaN                NaN   \n1005         NaN                NaN   \n1006         NaN                NaN   \n1007         NaN                NaN   \n1008         NaN                NaN   \n1009         NaN                NaN   \n\n                                           thumbnailUrl  \\\n1000  http://www.tate.org.uk/art/images/work/A/A01/A...   \n1001  http://www.tate.org.uk/art/images/work/A/A01/A...   \n1002  http://www.tate.org.uk/art/images/work/A/A01/A...   \n1003  http://www.tate.org.uk/art/images/work/A/A01/A...   \n1004  http://www.tate.org.uk/art/images/work/A/A01/A...   \n1005  http://www.tate.org.uk/art/images/work/A/A01/A...   \n1006  http://www.tate.org.uk/art/images/work/A/A01/A...   \n1007  http://www.tate.org.uk/art/images/work/A/A01/A...   \n1008  http://www.tate.org.uk/art/images/work/A/A01/A...   \n1009  http://www.tate.org.uk/art/images/work/A/A01/A...   \n\n                                                    url  \n1000  http://www.tate.org.uk/art/artworks/turner-hed...  \n1001  http://www.tate.org.uk/art/artworks/turner-hed...  \n1002  http://www.tate.org.uk/art/artworks/turner-riv...  \n1003  http://www.tate.org.uk/art/artworks/turner-riv...  \n1004  http://www.tate.org.uk/art/artworks/turner-cha...  \n1005  http://www.tate.org.uk/art/artworks/turner-cha...  \n1006  http://www.tate.org.uk/art/artworks/turner-mer...  \n1007  http://www.tate.org.uk/art/artworks/turner-mer...  \n1008  http://www.tate.org.uk/art/artworks/turner-riv...  \n1009  http://www.tate.org.uk/art/artworks/turner-riv...  ",
      "text/html": "<div>\n<style scoped>\n    .dataframe tbody tr th:only-of-type {\n        vertical-align: middle;\n    }\n\n    .dataframe tbody tr th {\n        vertical-align: top;\n    }\n\n    .dataframe thead th {\n        text-align: right;\n    }\n</style>\n<table border=\"1\" class=\"dataframe\">\n  <thead>\n    <tr style=\"text-align: right;\">\n      <th></th>\n      <th>id</th>\n      <th>accession_number</th>\n      <th>artist</th>\n      <th>artistRole</th>\n      <th>artistId</th>\n      <th>title</th>\n      <th>dateText</th>\n      <th>medium</th>\n      <th>creditLine</th>\n      <th>year</th>\n      <th>acquisitionYear</th>\n      <th>dimensions</th>\n      <th>width</th>\n      <th>height</th>\n      <th>depth</th>\n      <th>units</th>\n      <th>inscription</th>\n      <th>thumbnailCopyright</th>\n      <th>thumbnailUrl</th>\n      <th>url</th>\n    </tr>\n  </thead>\n  <tbody>\n    <tr>\n      <th>1000</th>\n      <td>14704</td>\n      <td>A01004</td>\n      <td>Turner, Joseph Mallord William</td>\n      <td>artist</td>\n      <td>558</td>\n      <td>Hedging and Ditching</td>\n      <td>1812</td>\n      <td>Etching and engraving on paper</td>\n      <td>Presented by A. Acland Allen through the Art F...</td>\n      <td>1812</td>\n      <td>1925.0</td>\n      <td>image: 184 x 259 mm</td>\n      <td>184</td>\n      <td>259</td>\n      <td>NaN</td>\n      <td>mm</td>\n      <td>NaN</td>\n      <td>NaN</td>\n      <td>http://www.tate.org.uk/art/images/work/A/A01/A...</td>\n      <td>http://www.tate.org.uk/art/artworks/turner-hed...</td>\n    </tr>\n    <tr>\n      <th>1001</th>\n      <td>14705</td>\n      <td>A01005</td>\n      <td>Turner, Joseph Mallord William</td>\n      <td>artist</td>\n      <td>558</td>\n      <td>Hedging and Ditching, engraved by J.C. Easling</td>\n      <td>1812</td>\n      <td>Etching and mezzotint on paper</td>\n      <td>Presented by A. Acland Allen through the Art F...</td>\n      <td>1812</td>\n      <td>1925.0</td>\n      <td>image: 186 x 262 mm</td>\n      <td>186</td>\n      <td>262</td>\n      <td>NaN</td>\n      <td>mm</td>\n      <td>NaN</td>\n      <td>NaN</td>\n      <td>http://www.tate.org.uk/art/images/work/A/A01/A...</td>\n      <td>http://www.tate.org.uk/art/artworks/turner-hed...</td>\n    </tr>\n    <tr>\n      <th>1002</th>\n      <td>14706</td>\n      <td>A01006</td>\n      <td>Turner, Joseph Mallord William</td>\n      <td>artist</td>\n      <td>558</td>\n      <td>River Wye</td>\n      <td>1812</td>\n      <td>Print on paper</td>\n      <td>Presented by A. Acland Allen through the Art F...</td>\n      <td>1812</td>\n      <td>1925.0</td>\n      <td>image: 183 x 264 mm</td>\n      <td>183</td>\n      <td>264</td>\n      <td>NaN</td>\n      <td>mm</td>\n      <td>NaN</td>\n      <td>NaN</td>\n      <td>http://www.tate.org.uk/art/images/work/A/A01/A...</td>\n      <td>http://www.tate.org.uk/art/artworks/turner-riv...</td>\n    </tr>\n    <tr>\n      <th>1003</th>\n      <td>14707</td>\n      <td>A01007</td>\n      <td>Turner, Joseph Mallord William</td>\n      <td>artist</td>\n      <td>558</td>\n      <td>River Wye, engraved by W. Annis</td>\n      <td>1812</td>\n      <td>Etching and mezzotint on paper</td>\n      <td>Presented by A. Acland Allen through the Art F...</td>\n      <td>1812</td>\n      <td>1925.0</td>\n      <td>image: 184 x 265 mm</td>\n      <td>184</td>\n      <td>265</td>\n      <td>NaN</td>\n      <td>mm</td>\n      <td>NaN</td>\n      <td>NaN</td>\n      <td>http://www.tate.org.uk/art/images/work/A/A01/A...</td>\n      <td>http://www.tate.org.uk/art/artworks/turner-riv...</td>\n    </tr>\n    <tr>\n      <th>1004</th>\n      <td>14708</td>\n      <td>A01008</td>\n      <td>Turner, Joseph Mallord William</td>\n      <td>artist</td>\n      <td>558</td>\n      <td>Chain of Alps from Grenoble to Chamberi</td>\n      <td>1812</td>\n      <td>Etching and engraving on paper</td>\n      <td>Presented by A. Acland Allen through the Art F...</td>\n      <td>1812</td>\n      <td>1925.0</td>\n      <td>image: 178 x 259 mm</td>\n      <td>178</td>\n      <td>259</td>\n      <td>NaN</td>\n      <td>mm</td>\n      <td>NaN</td>\n      <td>NaN</td>\n      <td>http://www.tate.org.uk/art/images/work/A/A01/A...</td>\n      <td>http://www.tate.org.uk/art/artworks/turner-cha...</td>\n    </tr>\n    <tr>\n      <th>1005</th>\n      <td>14709</td>\n      <td>A01009</td>\n      <td>Turner, Joseph Mallord William</td>\n      <td>artist</td>\n      <td>558</td>\n      <td>Chain of Alps from Grenoble to Chamberi, engra...</td>\n      <td>1812</td>\n      <td>Etching and mezzotint on paper</td>\n      <td>Presented by A. Acland Allen through the Art F...</td>\n      <td>1812</td>\n      <td>1925.0</td>\n      <td>image: 178 x 261 mm</td>\n      <td>178</td>\n      <td>261</td>\n      <td>NaN</td>\n      <td>mm</td>\n      <td>NaN</td>\n      <td>NaN</td>\n      <td>http://www.tate.org.uk/art/images/work/A/A01/A...</td>\n      <td>http://www.tate.org.uk/art/artworks/turner-cha...</td>\n    </tr>\n    <tr>\n      <th>1006</th>\n      <td>14710</td>\n      <td>A01010</td>\n      <td>Turner, Joseph Mallord William</td>\n      <td>artist</td>\n      <td>558</td>\n      <td>Mer de Glace</td>\n      <td>1812</td>\n      <td>Etching and engraving on paper</td>\n      <td>Presented by A. Acland Allen through the Art F...</td>\n      <td>1812</td>\n      <td>1925.0</td>\n      <td>image: 178 x 253 mm</td>\n      <td>178</td>\n      <td>253</td>\n      <td>NaN</td>\n      <td>mm</td>\n      <td>NaN</td>\n      <td>NaN</td>\n      <td>http://www.tate.org.uk/art/images/work/A/A01/A...</td>\n      <td>http://www.tate.org.uk/art/artworks/turner-mer...</td>\n    </tr>\n    <tr>\n      <th>1007</th>\n      <td>14711</td>\n      <td>A01011</td>\n      <td>Turner, Joseph Mallord William</td>\n      <td>artist</td>\n      <td>558</td>\n      <td>Mer de Glace</td>\n      <td>1812</td>\n      <td>Etching and mezzotint on paper</td>\n      <td>Presented by A. Acland Allen through the Art F...</td>\n      <td>1812</td>\n      <td>1925.0</td>\n      <td>image: 179 x 257 mm</td>\n      <td>179</td>\n      <td>257</td>\n      <td>NaN</td>\n      <td>mm</td>\n      <td>NaN</td>\n      <td>NaN</td>\n      <td>http://www.tate.org.uk/art/images/work/A/A01/A...</td>\n      <td>http://www.tate.org.uk/art/artworks/turner-mer...</td>\n    </tr>\n    <tr>\n      <th>1008</th>\n      <td>14712</td>\n      <td>A01012</td>\n      <td>Turner, Joseph Mallord William</td>\n      <td>artist</td>\n      <td>558</td>\n      <td>Rivaux Abbey, Yorkshire</td>\n      <td>1812</td>\n      <td>Etching and engraving on paper</td>\n      <td>Presented by A. Acland Allen through the Art F...</td>\n      <td>1812</td>\n      <td>1925.0</td>\n      <td>image: 182 x 265 mm</td>\n      <td>182</td>\n      <td>265</td>\n      <td>NaN</td>\n      <td>mm</td>\n      <td>NaN</td>\n      <td>NaN</td>\n      <td>http://www.tate.org.uk/art/images/work/A/A01/A...</td>\n      <td>http://www.tate.org.uk/art/artworks/turner-riv...</td>\n    </tr>\n    <tr>\n      <th>1009</th>\n      <td>14713</td>\n      <td>A01013</td>\n      <td>Turner, Joseph Mallord William</td>\n      <td>artist</td>\n      <td>558</td>\n      <td>Rivaux Abbey, engraved by Henry Dawe</td>\n      <td>1812</td>\n      <td>Etching and mezzotint on paper</td>\n      <td>Presented by A. Acland Allen through the Art F...</td>\n      <td>1812</td>\n      <td>1925.0</td>\n      <td>image: 183 x 266 mm</td>\n      <td>183</td>\n      <td>266</td>\n      <td>NaN</td>\n      <td>mm</td>\n      <td>NaN</td>\n      <td>NaN</td>\n      <td>http://www.tate.org.uk/art/images/work/A/A01/A...</td>\n      <td>http://www.tate.org.uk/art/artworks/turner-riv...</td>\n    </tr>\n  </tbody>\n</table>\n</div>"
     },
     "execution_count": 15,
     "metadata": {},
     "output_type": "execute_result"
    }
   ],
   "source": [
    "data.filter(axis=0, regex=\"^100.$\")"
   ],
   "metadata": {
    "collapsed": false,
    "pycharm": {
     "name": "#%%\n"
    }
   }
  },
  {
   "cell_type": "code",
   "execution_count": 17,
   "outputs": [
    {
     "data": {
      "text/plain": "         id accession_number                          artist artistRole  \\\n1000  14704           A01004  Turner, Joseph Mallord William     artist   \n1002  14706           A01006  Turner, Joseph Mallord William     artist   \n1004  14708           A01008  Turner, Joseph Mallord William     artist   \n1006  14710           A01010  Turner, Joseph Mallord William     artist   \n1008  14712           A01012  Turner, Joseph Mallord William     artist   \n\n      artistId                                    title dateText  \\\n1000       558                     Hedging and Ditching     1812   \n1002       558                                River Wye     1812   \n1004       558  Chain of Alps from Grenoble to Chamberi     1812   \n1006       558                             Mer de Glace     1812   \n1008       558                  Rivaux Abbey, Yorkshire     1812   \n\n                              medium  \\\n1000  Etching and engraving on paper   \n1002                  Print on paper   \n1004  Etching and engraving on paper   \n1006  Etching and engraving on paper   \n1008  Etching and engraving on paper   \n\n                                             creditLine  year  \\\n1000  Presented by A. Acland Allen through the Art F...  1812   \n1002  Presented by A. Acland Allen through the Art F...  1812   \n1004  Presented by A. Acland Allen through the Art F...  1812   \n1006  Presented by A. Acland Allen through the Art F...  1812   \n1008  Presented by A. Acland Allen through the Art F...  1812   \n\n      acquisitionYear           dimensions width height  depth units  \\\n1000           1925.0  image: 184 x 259 mm   184    259    NaN    mm   \n1002           1925.0  image: 183 x 264 mm   183    264    NaN    mm   \n1004           1925.0  image: 178 x 259 mm   178    259    NaN    mm   \n1006           1925.0  image: 178 x 253 mm   178    253    NaN    mm   \n1008           1925.0  image: 182 x 265 mm   182    265    NaN    mm   \n\n     inscription thumbnailCopyright  \\\n1000         NaN                NaN   \n1002         NaN                NaN   \n1004         NaN                NaN   \n1006         NaN                NaN   \n1008         NaN                NaN   \n\n                                           thumbnailUrl  \\\n1000  http://www.tate.org.uk/art/images/work/A/A01/A...   \n1002  http://www.tate.org.uk/art/images/work/A/A01/A...   \n1004  http://www.tate.org.uk/art/images/work/A/A01/A...   \n1006  http://www.tate.org.uk/art/images/work/A/A01/A...   \n1008  http://www.tate.org.uk/art/images/work/A/A01/A...   \n\n                                                    url  \n1000  http://www.tate.org.uk/art/artworks/turner-hed...  \n1002  http://www.tate.org.uk/art/artworks/turner-riv...  \n1004  http://www.tate.org.uk/art/artworks/turner-cha...  \n1006  http://www.tate.org.uk/art/artworks/turner-mer...  \n1008  http://www.tate.org.uk/art/artworks/turner-riv...  ",
      "text/html": "<div>\n<style scoped>\n    .dataframe tbody tr th:only-of-type {\n        vertical-align: middle;\n    }\n\n    .dataframe tbody tr th {\n        vertical-align: top;\n    }\n\n    .dataframe thead th {\n        text-align: right;\n    }\n</style>\n<table border=\"1\" class=\"dataframe\">\n  <thead>\n    <tr style=\"text-align: right;\">\n      <th></th>\n      <th>id</th>\n      <th>accession_number</th>\n      <th>artist</th>\n      <th>artistRole</th>\n      <th>artistId</th>\n      <th>title</th>\n      <th>dateText</th>\n      <th>medium</th>\n      <th>creditLine</th>\n      <th>year</th>\n      <th>acquisitionYear</th>\n      <th>dimensions</th>\n      <th>width</th>\n      <th>height</th>\n      <th>depth</th>\n      <th>units</th>\n      <th>inscription</th>\n      <th>thumbnailCopyright</th>\n      <th>thumbnailUrl</th>\n      <th>url</th>\n    </tr>\n  </thead>\n  <tbody>\n    <tr>\n      <th>1000</th>\n      <td>14704</td>\n      <td>A01004</td>\n      <td>Turner, Joseph Mallord William</td>\n      <td>artist</td>\n      <td>558</td>\n      <td>Hedging and Ditching</td>\n      <td>1812</td>\n      <td>Etching and engraving on paper</td>\n      <td>Presented by A. Acland Allen through the Art F...</td>\n      <td>1812</td>\n      <td>1925.0</td>\n      <td>image: 184 x 259 mm</td>\n      <td>184</td>\n      <td>259</td>\n      <td>NaN</td>\n      <td>mm</td>\n      <td>NaN</td>\n      <td>NaN</td>\n      <td>http://www.tate.org.uk/art/images/work/A/A01/A...</td>\n      <td>http://www.tate.org.uk/art/artworks/turner-hed...</td>\n    </tr>\n    <tr>\n      <th>1002</th>\n      <td>14706</td>\n      <td>A01006</td>\n      <td>Turner, Joseph Mallord William</td>\n      <td>artist</td>\n      <td>558</td>\n      <td>River Wye</td>\n      <td>1812</td>\n      <td>Print on paper</td>\n      <td>Presented by A. Acland Allen through the Art F...</td>\n      <td>1812</td>\n      <td>1925.0</td>\n      <td>image: 183 x 264 mm</td>\n      <td>183</td>\n      <td>264</td>\n      <td>NaN</td>\n      <td>mm</td>\n      <td>NaN</td>\n      <td>NaN</td>\n      <td>http://www.tate.org.uk/art/images/work/A/A01/A...</td>\n      <td>http://www.tate.org.uk/art/artworks/turner-riv...</td>\n    </tr>\n    <tr>\n      <th>1004</th>\n      <td>14708</td>\n      <td>A01008</td>\n      <td>Turner, Joseph Mallord William</td>\n      <td>artist</td>\n      <td>558</td>\n      <td>Chain of Alps from Grenoble to Chamberi</td>\n      <td>1812</td>\n      <td>Etching and engraving on paper</td>\n      <td>Presented by A. Acland Allen through the Art F...</td>\n      <td>1812</td>\n      <td>1925.0</td>\n      <td>image: 178 x 259 mm</td>\n      <td>178</td>\n      <td>259</td>\n      <td>NaN</td>\n      <td>mm</td>\n      <td>NaN</td>\n      <td>NaN</td>\n      <td>http://www.tate.org.uk/art/images/work/A/A01/A...</td>\n      <td>http://www.tate.org.uk/art/artworks/turner-cha...</td>\n    </tr>\n    <tr>\n      <th>1006</th>\n      <td>14710</td>\n      <td>A01010</td>\n      <td>Turner, Joseph Mallord William</td>\n      <td>artist</td>\n      <td>558</td>\n      <td>Mer de Glace</td>\n      <td>1812</td>\n      <td>Etching and engraving on paper</td>\n      <td>Presented by A. Acland Allen through the Art F...</td>\n      <td>1812</td>\n      <td>1925.0</td>\n      <td>image: 178 x 253 mm</td>\n      <td>178</td>\n      <td>253</td>\n      <td>NaN</td>\n      <td>mm</td>\n      <td>NaN</td>\n      <td>NaN</td>\n      <td>http://www.tate.org.uk/art/images/work/A/A01/A...</td>\n      <td>http://www.tate.org.uk/art/artworks/turner-mer...</td>\n    </tr>\n    <tr>\n      <th>1008</th>\n      <td>14712</td>\n      <td>A01012</td>\n      <td>Turner, Joseph Mallord William</td>\n      <td>artist</td>\n      <td>558</td>\n      <td>Rivaux Abbey, Yorkshire</td>\n      <td>1812</td>\n      <td>Etching and engraving on paper</td>\n      <td>Presented by A. Acland Allen through the Art F...</td>\n      <td>1812</td>\n      <td>1925.0</td>\n      <td>image: 182 x 265 mm</td>\n      <td>182</td>\n      <td>265</td>\n      <td>NaN</td>\n      <td>mm</td>\n      <td>NaN</td>\n      <td>NaN</td>\n      <td>http://www.tate.org.uk/art/images/work/A/A01/A...</td>\n      <td>http://www.tate.org.uk/art/artworks/turner-riv...</td>\n    </tr>\n  </tbody>\n</table>\n</div>"
     },
     "execution_count": 17,
     "metadata": {},
     "output_type": "execute_result"
    }
   ],
   "source": [
    "# axis=0 means regex will apply on index of rows\n",
    "data.filter(axis=0, regex=\"^100(0|2|4|6|8)$\")"
   ],
   "metadata": {
    "collapsed": false,
    "pycharm": {
     "name": "#%%\n"
    }
   }
  },
  {
   "cell_type": "code",
   "execution_count": null,
   "outputs": [],
   "source": [],
   "metadata": {
    "collapsed": false,
    "pycharm": {
     "name": "#%%\n"
    }
   }
  }
 ],
 "metadata": {
  "kernelspec": {
   "display_name": "Python 3",
   "language": "python",
   "name": "python3"
  },
  "language_info": {
   "codemirror_mode": {
    "name": "ipython",
    "version": 2
   },
   "file_extension": ".py",
   "mimetype": "text/x-python",
   "name": "python",
   "nbconvert_exporter": "python",
   "pygments_lexer": "ipython2",
   "version": "2.7.6"
  }
 },
 "nbformat": 4,
 "nbformat_minor": 0
}