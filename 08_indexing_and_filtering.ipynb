{
 "cells": [
  {
   "cell_type": "markdown",
   "metadata": {
    "collapsed": true,
    "pycharm": {
     "name": "#%% md\n"
    }
   },
   "source": [
    "# Indexing and filtering data"
   ]
  },
  {
   "cell_type": "code",
   "execution_count": 1,
   "outputs": [],
   "source": [
    "import pandas as pd\n",
    "data= pd.read_csv('./data/artwork_sample.csv')"
   ],
   "metadata": {
    "collapsed": false,
    "pycharm": {
     "name": "#%%\n"
    }
   }
  },
  {
   "cell_type": "code",
   "execution_count": 2,
   "outputs": [
    {
     "data": {
      "text/plain": "     id accession_number          artist artistRole  artistId  \\\n0  1035           A00001   Blake, Robert     artist        38   \n1  1036           A00002   Blake, Robert     artist        38   \n2  1037           A00003   Blake, Robert     artist        38   \n3  1038           A00004   Blake, Robert     artist        38   \n4  1039           A00005  Blake, William     artist        39   \n\n                                               title                dateText  \\\n0  A Figure Bowing before a Seated Old Man with h...          date not known   \n1  Two Drawings of Frightened Figures, Probably f...          date not known   \n2  The Preaching of Warning. Verso: An Old Man En...                 ?c.1785   \n3     Six Drawings of Figures with Outstretched Arms          date not known   \n4  The Circle of the Lustful: Francesca da Rimini...  1826–7, reprinted 1892   \n\n                                              medium  \\\n0  Watercolour, ink, chalk and graphite on paper....   \n1                                  Graphite on paper   \n2        Graphite on paper. Verso: graphite on paper   \n3                                  Graphite on paper   \n4                            Line engraving on paper   \n\n                                          creditLine    year  acquisitionYear  \\\n0                Presented by Mrs John Richmond 1922     NaN             1922   \n1                Presented by Mrs John Richmond 1922     NaN             1922   \n2                Presented by Mrs John Richmond 1922  1785.0             1922   \n3                Presented by Mrs John Richmond 1922     NaN             1922   \n4  Purchased with the assistance of a special gra...  1826.0             1919   \n\n              dimensions  width  height  depth units  inscription  \\\n0  support: 394 x 419 mm  394.0   419.0    NaN    mm          NaN   \n1  support: 311 x 213 mm  311.0   213.0    NaN    mm          NaN   \n2  support: 343 x 467 mm  343.0   467.0    NaN    mm          NaN   \n3  support: 318 x 394 mm  318.0   394.0    NaN    mm          NaN   \n4    image: 243 x 335 mm  243.0   335.0    NaN    mm          NaN   \n\n   thumbnailCopyright                                       thumbnailUrl  \\\n0                 NaN  http://www.tate.org.uk/art/images/work/A/A00/A...   \n1                 NaN  http://www.tate.org.uk/art/images/work/A/A00/A...   \n2                 NaN  http://www.tate.org.uk/art/images/work/A/A00/A...   \n3                 NaN  http://www.tate.org.uk/art/images/work/A/A00/A...   \n4                 NaN  http://www.tate.org.uk/art/images/work/A/A00/A...   \n\n                                                 url  \n0  http://www.tate.org.uk/art/artworks/blake-a-fi...  \n1  http://www.tate.org.uk/art/artworks/blake-two-...  \n2  http://www.tate.org.uk/art/artworks/blake-the-...  \n3  http://www.tate.org.uk/art/artworks/blake-six-...  \n4  http://www.tate.org.uk/art/artworks/blake-the-...  ",
      "text/html": "<div>\n<style scoped>\n    .dataframe tbody tr th:only-of-type {\n        vertical-align: middle;\n    }\n\n    .dataframe tbody tr th {\n        vertical-align: top;\n    }\n\n    .dataframe thead th {\n        text-align: right;\n    }\n</style>\n<table border=\"1\" class=\"dataframe\">\n  <thead>\n    <tr style=\"text-align: right;\">\n      <th></th>\n      <th>id</th>\n      <th>accession_number</th>\n      <th>artist</th>\n      <th>artistRole</th>\n      <th>artistId</th>\n      <th>title</th>\n      <th>dateText</th>\n      <th>medium</th>\n      <th>creditLine</th>\n      <th>year</th>\n      <th>acquisitionYear</th>\n      <th>dimensions</th>\n      <th>width</th>\n      <th>height</th>\n      <th>depth</th>\n      <th>units</th>\n      <th>inscription</th>\n      <th>thumbnailCopyright</th>\n      <th>thumbnailUrl</th>\n      <th>url</th>\n    </tr>\n  </thead>\n  <tbody>\n    <tr>\n      <th>0</th>\n      <td>1035</td>\n      <td>A00001</td>\n      <td>Blake, Robert</td>\n      <td>artist</td>\n      <td>38</td>\n      <td>A Figure Bowing before a Seated Old Man with h...</td>\n      <td>date not known</td>\n      <td>Watercolour, ink, chalk and graphite on paper....</td>\n      <td>Presented by Mrs John Richmond 1922</td>\n      <td>NaN</td>\n      <td>1922</td>\n      <td>support: 394 x 419 mm</td>\n      <td>394.0</td>\n      <td>419.0</td>\n      <td>NaN</td>\n      <td>mm</td>\n      <td>NaN</td>\n      <td>NaN</td>\n      <td>http://www.tate.org.uk/art/images/work/A/A00/A...</td>\n      <td>http://www.tate.org.uk/art/artworks/blake-a-fi...</td>\n    </tr>\n    <tr>\n      <th>1</th>\n      <td>1036</td>\n      <td>A00002</td>\n      <td>Blake, Robert</td>\n      <td>artist</td>\n      <td>38</td>\n      <td>Two Drawings of Frightened Figures, Probably f...</td>\n      <td>date not known</td>\n      <td>Graphite on paper</td>\n      <td>Presented by Mrs John Richmond 1922</td>\n      <td>NaN</td>\n      <td>1922</td>\n      <td>support: 311 x 213 mm</td>\n      <td>311.0</td>\n      <td>213.0</td>\n      <td>NaN</td>\n      <td>mm</td>\n      <td>NaN</td>\n      <td>NaN</td>\n      <td>http://www.tate.org.uk/art/images/work/A/A00/A...</td>\n      <td>http://www.tate.org.uk/art/artworks/blake-two-...</td>\n    </tr>\n    <tr>\n      <th>2</th>\n      <td>1037</td>\n      <td>A00003</td>\n      <td>Blake, Robert</td>\n      <td>artist</td>\n      <td>38</td>\n      <td>The Preaching of Warning. Verso: An Old Man En...</td>\n      <td>?c.1785</td>\n      <td>Graphite on paper. Verso: graphite on paper</td>\n      <td>Presented by Mrs John Richmond 1922</td>\n      <td>1785.0</td>\n      <td>1922</td>\n      <td>support: 343 x 467 mm</td>\n      <td>343.0</td>\n      <td>467.0</td>\n      <td>NaN</td>\n      <td>mm</td>\n      <td>NaN</td>\n      <td>NaN</td>\n      <td>http://www.tate.org.uk/art/images/work/A/A00/A...</td>\n      <td>http://www.tate.org.uk/art/artworks/blake-the-...</td>\n    </tr>\n    <tr>\n      <th>3</th>\n      <td>1038</td>\n      <td>A00004</td>\n      <td>Blake, Robert</td>\n      <td>artist</td>\n      <td>38</td>\n      <td>Six Drawings of Figures with Outstretched Arms</td>\n      <td>date not known</td>\n      <td>Graphite on paper</td>\n      <td>Presented by Mrs John Richmond 1922</td>\n      <td>NaN</td>\n      <td>1922</td>\n      <td>support: 318 x 394 mm</td>\n      <td>318.0</td>\n      <td>394.0</td>\n      <td>NaN</td>\n      <td>mm</td>\n      <td>NaN</td>\n      <td>NaN</td>\n      <td>http://www.tate.org.uk/art/images/work/A/A00/A...</td>\n      <td>http://www.tate.org.uk/art/artworks/blake-six-...</td>\n    </tr>\n    <tr>\n      <th>4</th>\n      <td>1039</td>\n      <td>A00005</td>\n      <td>Blake, William</td>\n      <td>artist</td>\n      <td>39</td>\n      <td>The Circle of the Lustful: Francesca da Rimini...</td>\n      <td>1826–7, reprinted 1892</td>\n      <td>Line engraving on paper</td>\n      <td>Purchased with the assistance of a special gra...</td>\n      <td>1826.0</td>\n      <td>1919</td>\n      <td>image: 243 x 335 mm</td>\n      <td>243.0</td>\n      <td>335.0</td>\n      <td>NaN</td>\n      <td>mm</td>\n      <td>NaN</td>\n      <td>NaN</td>\n      <td>http://www.tate.org.uk/art/images/work/A/A00/A...</td>\n      <td>http://www.tate.org.uk/art/artworks/blake-the-...</td>\n    </tr>\n  </tbody>\n</table>\n</div>"
     },
     "execution_count": 2,
     "metadata": {},
     "output_type": "execute_result"
    }
   ],
   "source": [
    "data.head()"
   ],
   "metadata": {
    "collapsed": false,
    "pycharm": {
     "name": "#%%\n"
    }
   }
  },
  {
   "cell_type": "code",
   "execution_count": 3,
   "outputs": [
    {
     "data": {
      "text/plain": "0    1035\n1    1036\n2    1037\n3    1038\n4    1039\n5    1040\n6    1041\n7    1042\n8    1043\n9    1044\nName: id, dtype: int64"
     },
     "execution_count": 3,
     "metadata": {},
     "output_type": "execute_result"
    }
   ],
   "source": [
    "data['id']"
   ],
   "metadata": {
    "collapsed": false,
    "pycharm": {
     "name": "#%%\n"
    }
   }
  },
  {
   "cell_type": "code",
   "execution_count": 4,
   "outputs": [
    {
     "data": {
      "text/plain": "1036"
     },
     "execution_count": 4,
     "metadata": {},
     "output_type": "execute_result"
    }
   ],
   "source": [
    "data['id'][1]"
   ],
   "metadata": {
    "collapsed": false,
    "pycharm": {
     "name": "#%%\n"
    }
   }
  },
  {
   "cell_type": "code",
   "execution_count": 5,
   "outputs": [
    {
     "data": {
      "text/plain": "     id                                              title\n0  1035  A Figure Bowing before a Seated Old Man with h...\n1  1036  Two Drawings of Frightened Figures, Probably f...\n2  1037  The Preaching of Warning. Verso: An Old Man En...\n3  1038     Six Drawings of Figures with Outstretched Arms\n4  1039  The Circle of the Lustful: Francesca da Rimini...\n5  1040      Ciampolo the Barrator Tormented by the Devils\n6  1041                        The Baffled Devils Fighting\n7  1042  The Six-Footed Serpent Attacking Agnolo Brunel...\n8  1043                 The Serpent Attacking Buoso Donati\n9  1044                 The Pit of Disease: The Falsifiers",
      "text/html": "<div>\n<style scoped>\n    .dataframe tbody tr th:only-of-type {\n        vertical-align: middle;\n    }\n\n    .dataframe tbody tr th {\n        vertical-align: top;\n    }\n\n    .dataframe thead th {\n        text-align: right;\n    }\n</style>\n<table border=\"1\" class=\"dataframe\">\n  <thead>\n    <tr style=\"text-align: right;\">\n      <th></th>\n      <th>id</th>\n      <th>title</th>\n    </tr>\n  </thead>\n  <tbody>\n    <tr>\n      <th>0</th>\n      <td>1035</td>\n      <td>A Figure Bowing before a Seated Old Man with h...</td>\n    </tr>\n    <tr>\n      <th>1</th>\n      <td>1036</td>\n      <td>Two Drawings of Frightened Figures, Probably f...</td>\n    </tr>\n    <tr>\n      <th>2</th>\n      <td>1037</td>\n      <td>The Preaching of Warning. Verso: An Old Man En...</td>\n    </tr>\n    <tr>\n      <th>3</th>\n      <td>1038</td>\n      <td>Six Drawings of Figures with Outstretched Arms</td>\n    </tr>\n    <tr>\n      <th>4</th>\n      <td>1039</td>\n      <td>The Circle of the Lustful: Francesca da Rimini...</td>\n    </tr>\n    <tr>\n      <th>5</th>\n      <td>1040</td>\n      <td>Ciampolo the Barrator Tormented by the Devils</td>\n    </tr>\n    <tr>\n      <th>6</th>\n      <td>1041</td>\n      <td>The Baffled Devils Fighting</td>\n    </tr>\n    <tr>\n      <th>7</th>\n      <td>1042</td>\n      <td>The Six-Footed Serpent Attacking Agnolo Brunel...</td>\n    </tr>\n    <tr>\n      <th>8</th>\n      <td>1043</td>\n      <td>The Serpent Attacking Buoso Donati</td>\n    </tr>\n    <tr>\n      <th>9</th>\n      <td>1044</td>\n      <td>The Pit of Disease: The Falsifiers</td>\n    </tr>\n  </tbody>\n</table>\n</div>"
     },
     "execution_count": 5,
     "metadata": {},
     "output_type": "execute_result"
    }
   ],
   "source": [
    "data[['id', 'title']]"
   ],
   "metadata": {
    "collapsed": false,
    "pycharm": {
     "name": "#%%\n"
    }
   }
  },
  {
   "cell_type": "code",
   "execution_count": 6,
   "outputs": [
    {
     "data": {
      "text/plain": "           artist                                              title\n0   Blake, Robert  A Figure Bowing before a Seated Old Man with h...\n1   Blake, Robert  Two Drawings of Frightened Figures, Probably f...\n2   Blake, Robert  The Preaching of Warning. Verso: An Old Man En...\n3   Blake, Robert     Six Drawings of Figures with Outstretched Arms\n4  Blake, William  The Circle of the Lustful: Francesca da Rimini...\n5  Blake, William      Ciampolo the Barrator Tormented by the Devils\n6  Blake, William                        The Baffled Devils Fighting\n7  Blake, William  The Six-Footed Serpent Attacking Agnolo Brunel...\n8  Blake, William                 The Serpent Attacking Buoso Donati\n9  Blake, William                 The Pit of Disease: The Falsifiers",
      "text/html": "<div>\n<style scoped>\n    .dataframe tbody tr th:only-of-type {\n        vertical-align: middle;\n    }\n\n    .dataframe tbody tr th {\n        vertical-align: top;\n    }\n\n    .dataframe thead th {\n        text-align: right;\n    }\n</style>\n<table border=\"1\" class=\"dataframe\">\n  <thead>\n    <tr style=\"text-align: right;\">\n      <th></th>\n      <th>artist</th>\n      <th>title</th>\n    </tr>\n  </thead>\n  <tbody>\n    <tr>\n      <th>0</th>\n      <td>Blake, Robert</td>\n      <td>A Figure Bowing before a Seated Old Man with h...</td>\n    </tr>\n    <tr>\n      <th>1</th>\n      <td>Blake, Robert</td>\n      <td>Two Drawings of Frightened Figures, Probably f...</td>\n    </tr>\n    <tr>\n      <th>2</th>\n      <td>Blake, Robert</td>\n      <td>The Preaching of Warning. Verso: An Old Man En...</td>\n    </tr>\n    <tr>\n      <th>3</th>\n      <td>Blake, Robert</td>\n      <td>Six Drawings of Figures with Outstretched Arms</td>\n    </tr>\n    <tr>\n      <th>4</th>\n      <td>Blake, William</td>\n      <td>The Circle of the Lustful: Francesca da Rimini...</td>\n    </tr>\n    <tr>\n      <th>5</th>\n      <td>Blake, William</td>\n      <td>Ciampolo the Barrator Tormented by the Devils</td>\n    </tr>\n    <tr>\n      <th>6</th>\n      <td>Blake, William</td>\n      <td>The Baffled Devils Fighting</td>\n    </tr>\n    <tr>\n      <th>7</th>\n      <td>Blake, William</td>\n      <td>The Six-Footed Serpent Attacking Agnolo Brunel...</td>\n    </tr>\n    <tr>\n      <th>8</th>\n      <td>Blake, William</td>\n      <td>The Serpent Attacking Buoso Donati</td>\n    </tr>\n    <tr>\n      <th>9</th>\n      <td>Blake, William</td>\n      <td>The Pit of Disease: The Falsifiers</td>\n    </tr>\n  </tbody>\n</table>\n</div>"
     },
     "execution_count": 6,
     "metadata": {},
     "output_type": "execute_result"
    }
   ],
   "source": [
    "data[['artist', 'title']]"
   ],
   "metadata": {
    "collapsed": false,
    "pycharm": {
     "name": "#%%\n"
    }
   }
  },
  {
   "cell_type": "code",
   "execution_count": 8,
   "outputs": [
    {
     "data": {
      "text/plain": "0     Blake, Robert\n1     Blake, Robert\n2     Blake, Robert\n3     Blake, Robert\n4    Blake, William\n5    Blake, William\n6    Blake, William\n7    Blake, William\n8    Blake, William\n9    Blake, William\nName: artist, dtype: object"
     },
     "execution_count": 8,
     "metadata": {},
     "output_type": "execute_result"
    }
   ],
   "source": [
    "data[['artist', 'title']]['artist']"
   ],
   "metadata": {
    "collapsed": false,
    "pycharm": {
     "name": "#%%\n"
    }
   }
  },
  {
   "cell_type": "code",
   "execution_count": 9,
   "outputs": [
    {
     "data": {
      "text/plain": "'Blake, Robert'"
     },
     "execution_count": 9,
     "metadata": {},
     "output_type": "execute_result"
    }
   ],
   "source": [
    "data[['artist', 'title']]['artist'][0]"
   ],
   "metadata": {
    "collapsed": false,
    "pycharm": {
     "name": "#%%\n"
    }
   }
  },
  {
   "cell_type": "code",
   "execution_count": 10,
   "outputs": [
    {
     "ename": "KeyError",
     "evalue": "1",
     "output_type": "error",
     "traceback": [
      "\u001B[1;31m---------------------------------------------------------------------------\u001B[0m",
      "\u001B[1;31mKeyError\u001B[0m                                  Traceback (most recent call last)",
      "File \u001B[1;32mC:\\Python310\\lib\\site-packages\\pandas\\core\\indexes\\base.py:3621\u001B[0m, in \u001B[0;36mIndex.get_loc\u001B[1;34m(self, key, method, tolerance)\u001B[0m\n\u001B[0;32m   3620\u001B[0m \u001B[38;5;28;01mtry\u001B[39;00m:\n\u001B[1;32m-> 3621\u001B[0m     \u001B[38;5;28;01mreturn\u001B[39;00m \u001B[38;5;28;43mself\u001B[39;49m\u001B[38;5;241;43m.\u001B[39;49m\u001B[43m_engine\u001B[49m\u001B[38;5;241;43m.\u001B[39;49m\u001B[43mget_loc\u001B[49m\u001B[43m(\u001B[49m\u001B[43mcasted_key\u001B[49m\u001B[43m)\u001B[49m\n\u001B[0;32m   3622\u001B[0m \u001B[38;5;28;01mexcept\u001B[39;00m \u001B[38;5;167;01mKeyError\u001B[39;00m \u001B[38;5;28;01mas\u001B[39;00m err:\n",
      "File \u001B[1;32mC:\\Python310\\lib\\site-packages\\pandas\\_libs\\index.pyx:136\u001B[0m, in \u001B[0;36mpandas._libs.index.IndexEngine.get_loc\u001B[1;34m()\u001B[0m\n",
      "File \u001B[1;32mC:\\Python310\\lib\\site-packages\\pandas\\_libs\\index.pyx:163\u001B[0m, in \u001B[0;36mpandas._libs.index.IndexEngine.get_loc\u001B[1;34m()\u001B[0m\n",
      "File \u001B[1;32mpandas\\_libs\\hashtable_class_helper.pxi:5198\u001B[0m, in \u001B[0;36mpandas._libs.hashtable.PyObjectHashTable.get_item\u001B[1;34m()\u001B[0m\n",
      "File \u001B[1;32mpandas\\_libs\\hashtable_class_helper.pxi:5206\u001B[0m, in \u001B[0;36mpandas._libs.hashtable.PyObjectHashTable.get_item\u001B[1;34m()\u001B[0m\n",
      "\u001B[1;31mKeyError\u001B[0m: 1",
      "\nThe above exception was the direct cause of the following exception:\n",
      "\u001B[1;31mKeyError\u001B[0m                                  Traceback (most recent call last)",
      "Input \u001B[1;32mIn [10]\u001B[0m, in \u001B[0;36m<cell line: 2>\u001B[1;34m()\u001B[0m\n\u001B[0;32m      1\u001B[0m \u001B[38;5;66;03m# Accessing direct row index not allowed in DataFrame\u001B[39;00m\n\u001B[1;32m----> 2\u001B[0m \u001B[43mdata\u001B[49m\u001B[43m[\u001B[49m\u001B[38;5;241;43m1\u001B[39;49m\u001B[43m]\u001B[49m\n",
      "File \u001B[1;32mC:\\Python310\\lib\\site-packages\\pandas\\core\\frame.py:3505\u001B[0m, in \u001B[0;36mDataFrame.__getitem__\u001B[1;34m(self, key)\u001B[0m\n\u001B[0;32m   3503\u001B[0m \u001B[38;5;28;01mif\u001B[39;00m \u001B[38;5;28mself\u001B[39m\u001B[38;5;241m.\u001B[39mcolumns\u001B[38;5;241m.\u001B[39mnlevels \u001B[38;5;241m>\u001B[39m \u001B[38;5;241m1\u001B[39m:\n\u001B[0;32m   3504\u001B[0m     \u001B[38;5;28;01mreturn\u001B[39;00m \u001B[38;5;28mself\u001B[39m\u001B[38;5;241m.\u001B[39m_getitem_multilevel(key)\n\u001B[1;32m-> 3505\u001B[0m indexer \u001B[38;5;241m=\u001B[39m \u001B[38;5;28;43mself\u001B[39;49m\u001B[38;5;241;43m.\u001B[39;49m\u001B[43mcolumns\u001B[49m\u001B[38;5;241;43m.\u001B[39;49m\u001B[43mget_loc\u001B[49m\u001B[43m(\u001B[49m\u001B[43mkey\u001B[49m\u001B[43m)\u001B[49m\n\u001B[0;32m   3506\u001B[0m \u001B[38;5;28;01mif\u001B[39;00m is_integer(indexer):\n\u001B[0;32m   3507\u001B[0m     indexer \u001B[38;5;241m=\u001B[39m [indexer]\n",
      "File \u001B[1;32mC:\\Python310\\lib\\site-packages\\pandas\\core\\indexes\\base.py:3623\u001B[0m, in \u001B[0;36mIndex.get_loc\u001B[1;34m(self, key, method, tolerance)\u001B[0m\n\u001B[0;32m   3621\u001B[0m     \u001B[38;5;28;01mreturn\u001B[39;00m \u001B[38;5;28mself\u001B[39m\u001B[38;5;241m.\u001B[39m_engine\u001B[38;5;241m.\u001B[39mget_loc(casted_key)\n\u001B[0;32m   3622\u001B[0m \u001B[38;5;28;01mexcept\u001B[39;00m \u001B[38;5;167;01mKeyError\u001B[39;00m \u001B[38;5;28;01mas\u001B[39;00m err:\n\u001B[1;32m-> 3623\u001B[0m     \u001B[38;5;28;01mraise\u001B[39;00m \u001B[38;5;167;01mKeyError\u001B[39;00m(key) \u001B[38;5;28;01mfrom\u001B[39;00m \u001B[38;5;21;01merr\u001B[39;00m\n\u001B[0;32m   3624\u001B[0m \u001B[38;5;28;01mexcept\u001B[39;00m \u001B[38;5;167;01mTypeError\u001B[39;00m:\n\u001B[0;32m   3625\u001B[0m     \u001B[38;5;66;03m# If we have a listlike key, _check_indexing_error will raise\u001B[39;00m\n\u001B[0;32m   3626\u001B[0m     \u001B[38;5;66;03m#  InvalidIndexError. Otherwise we fall through and re-raise\u001B[39;00m\n\u001B[0;32m   3627\u001B[0m     \u001B[38;5;66;03m#  the TypeError.\u001B[39;00m\n\u001B[0;32m   3628\u001B[0m     \u001B[38;5;28mself\u001B[39m\u001B[38;5;241m.\u001B[39m_check_indexing_error(key)\n",
      "\u001B[1;31mKeyError\u001B[0m: 1"
     ]
    }
   ],
   "source": [
    "# Accessing direct row index not allowed in DataFrame\n",
    "data[1]"
   ],
   "metadata": {
    "collapsed": false,
    "pycharm": {
     "name": "#%%\n"
    }
   }
  },
  {
   "cell_type": "code",
   "execution_count": 11,
   "outputs": [
    {
     "data": {
      "text/plain": "     id accession_number         artist artistRole  artistId  \\\n1  1036           A00002  Blake, Robert     artist        38   \n\n                                               title        dateText  \\\n1  Two Drawings of Frightened Figures, Probably f...  date not known   \n\n              medium                           creditLine  year  \\\n1  Graphite on paper  Presented by Mrs John Richmond 1922   NaN   \n\n   acquisitionYear             dimensions  width  height  depth units  \\\n1             1922  support: 311 x 213 mm  311.0   213.0    NaN    mm   \n\n   inscription  thumbnailCopyright  \\\n1          NaN                 NaN   \n\n                                        thumbnailUrl  \\\n1  http://www.tate.org.uk/art/images/work/A/A00/A...   \n\n                                                 url  \n1  http://www.tate.org.uk/art/artworks/blake-two-...  ",
      "text/html": "<div>\n<style scoped>\n    .dataframe tbody tr th:only-of-type {\n        vertical-align: middle;\n    }\n\n    .dataframe tbody tr th {\n        vertical-align: top;\n    }\n\n    .dataframe thead th {\n        text-align: right;\n    }\n</style>\n<table border=\"1\" class=\"dataframe\">\n  <thead>\n    <tr style=\"text-align: right;\">\n      <th></th>\n      <th>id</th>\n      <th>accession_number</th>\n      <th>artist</th>\n      <th>artistRole</th>\n      <th>artistId</th>\n      <th>title</th>\n      <th>dateText</th>\n      <th>medium</th>\n      <th>creditLine</th>\n      <th>year</th>\n      <th>acquisitionYear</th>\n      <th>dimensions</th>\n      <th>width</th>\n      <th>height</th>\n      <th>depth</th>\n      <th>units</th>\n      <th>inscription</th>\n      <th>thumbnailCopyright</th>\n      <th>thumbnailUrl</th>\n      <th>url</th>\n    </tr>\n  </thead>\n  <tbody>\n    <tr>\n      <th>1</th>\n      <td>1036</td>\n      <td>A00002</td>\n      <td>Blake, Robert</td>\n      <td>artist</td>\n      <td>38</td>\n      <td>Two Drawings of Frightened Figures, Probably f...</td>\n      <td>date not known</td>\n      <td>Graphite on paper</td>\n      <td>Presented by Mrs John Richmond 1922</td>\n      <td>NaN</td>\n      <td>1922</td>\n      <td>support: 311 x 213 mm</td>\n      <td>311.0</td>\n      <td>213.0</td>\n      <td>NaN</td>\n      <td>mm</td>\n      <td>NaN</td>\n      <td>NaN</td>\n      <td>http://www.tate.org.uk/art/images/work/A/A00/A...</td>\n      <td>http://www.tate.org.uk/art/artworks/blake-two-...</td>\n    </tr>\n  </tbody>\n</table>\n</div>"
     },
     "execution_count": 11,
     "metadata": {},
     "output_type": "execute_result"
    }
   ],
   "source": [
    "# But we can access by range\n",
    "data[1:2]"
   ],
   "metadata": {
    "collapsed": false,
    "pycharm": {
     "name": "#%%\n"
    }
   }
  },
  {
   "cell_type": "code",
   "execution_count": 13,
   "outputs": [
    {
     "data": {
      "text/plain": "     id accession_number          artist artistRole  artistId  \\\n1  1036           A00002   Blake, Robert     artist        38   \n2  1037           A00003   Blake, Robert     artist        38   \n3  1038           A00004   Blake, Robert     artist        38   \n4  1039           A00005  Blake, William     artist        39   \n\n                                               title                dateText  \\\n1  Two Drawings of Frightened Figures, Probably f...          date not known   \n2  The Preaching of Warning. Verso: An Old Man En...                 ?c.1785   \n3     Six Drawings of Figures with Outstretched Arms          date not known   \n4  The Circle of the Lustful: Francesca da Rimini...  1826–7, reprinted 1892   \n\n                                        medium  \\\n1                            Graphite on paper   \n2  Graphite on paper. Verso: graphite on paper   \n3                            Graphite on paper   \n4                      Line engraving on paper   \n\n                                          creditLine    year  acquisitionYear  \\\n1                Presented by Mrs John Richmond 1922     NaN             1922   \n2                Presented by Mrs John Richmond 1922  1785.0             1922   \n3                Presented by Mrs John Richmond 1922     NaN             1922   \n4  Purchased with the assistance of a special gra...  1826.0             1919   \n\n              dimensions  width  height  depth units  inscription  \\\n1  support: 311 x 213 mm  311.0   213.0    NaN    mm          NaN   \n2  support: 343 x 467 mm  343.0   467.0    NaN    mm          NaN   \n3  support: 318 x 394 mm  318.0   394.0    NaN    mm          NaN   \n4    image: 243 x 335 mm  243.0   335.0    NaN    mm          NaN   \n\n   thumbnailCopyright                                       thumbnailUrl  \\\n1                 NaN  http://www.tate.org.uk/art/images/work/A/A00/A...   \n2                 NaN  http://www.tate.org.uk/art/images/work/A/A00/A...   \n3                 NaN  http://www.tate.org.uk/art/images/work/A/A00/A...   \n4                 NaN  http://www.tate.org.uk/art/images/work/A/A00/A...   \n\n                                                 url  \n1  http://www.tate.org.uk/art/artworks/blake-two-...  \n2  http://www.tate.org.uk/art/artworks/blake-the-...  \n3  http://www.tate.org.uk/art/artworks/blake-six-...  \n4  http://www.tate.org.uk/art/artworks/blake-the-...  ",
      "text/html": "<div>\n<style scoped>\n    .dataframe tbody tr th:only-of-type {\n        vertical-align: middle;\n    }\n\n    .dataframe tbody tr th {\n        vertical-align: top;\n    }\n\n    .dataframe thead th {\n        text-align: right;\n    }\n</style>\n<table border=\"1\" class=\"dataframe\">\n  <thead>\n    <tr style=\"text-align: right;\">\n      <th></th>\n      <th>id</th>\n      <th>accession_number</th>\n      <th>artist</th>\n      <th>artistRole</th>\n      <th>artistId</th>\n      <th>title</th>\n      <th>dateText</th>\n      <th>medium</th>\n      <th>creditLine</th>\n      <th>year</th>\n      <th>acquisitionYear</th>\n      <th>dimensions</th>\n      <th>width</th>\n      <th>height</th>\n      <th>depth</th>\n      <th>units</th>\n      <th>inscription</th>\n      <th>thumbnailCopyright</th>\n      <th>thumbnailUrl</th>\n      <th>url</th>\n    </tr>\n  </thead>\n  <tbody>\n    <tr>\n      <th>1</th>\n      <td>1036</td>\n      <td>A00002</td>\n      <td>Blake, Robert</td>\n      <td>artist</td>\n      <td>38</td>\n      <td>Two Drawings of Frightened Figures, Probably f...</td>\n      <td>date not known</td>\n      <td>Graphite on paper</td>\n      <td>Presented by Mrs John Richmond 1922</td>\n      <td>NaN</td>\n      <td>1922</td>\n      <td>support: 311 x 213 mm</td>\n      <td>311.0</td>\n      <td>213.0</td>\n      <td>NaN</td>\n      <td>mm</td>\n      <td>NaN</td>\n      <td>NaN</td>\n      <td>http://www.tate.org.uk/art/images/work/A/A00/A...</td>\n      <td>http://www.tate.org.uk/art/artworks/blake-two-...</td>\n    </tr>\n    <tr>\n      <th>2</th>\n      <td>1037</td>\n      <td>A00003</td>\n      <td>Blake, Robert</td>\n      <td>artist</td>\n      <td>38</td>\n      <td>The Preaching of Warning. Verso: An Old Man En...</td>\n      <td>?c.1785</td>\n      <td>Graphite on paper. Verso: graphite on paper</td>\n      <td>Presented by Mrs John Richmond 1922</td>\n      <td>1785.0</td>\n      <td>1922</td>\n      <td>support: 343 x 467 mm</td>\n      <td>343.0</td>\n      <td>467.0</td>\n      <td>NaN</td>\n      <td>mm</td>\n      <td>NaN</td>\n      <td>NaN</td>\n      <td>http://www.tate.org.uk/art/images/work/A/A00/A...</td>\n      <td>http://www.tate.org.uk/art/artworks/blake-the-...</td>\n    </tr>\n    <tr>\n      <th>3</th>\n      <td>1038</td>\n      <td>A00004</td>\n      <td>Blake, Robert</td>\n      <td>artist</td>\n      <td>38</td>\n      <td>Six Drawings of Figures with Outstretched Arms</td>\n      <td>date not known</td>\n      <td>Graphite on paper</td>\n      <td>Presented by Mrs John Richmond 1922</td>\n      <td>NaN</td>\n      <td>1922</td>\n      <td>support: 318 x 394 mm</td>\n      <td>318.0</td>\n      <td>394.0</td>\n      <td>NaN</td>\n      <td>mm</td>\n      <td>NaN</td>\n      <td>NaN</td>\n      <td>http://www.tate.org.uk/art/images/work/A/A00/A...</td>\n      <td>http://www.tate.org.uk/art/artworks/blake-six-...</td>\n    </tr>\n    <tr>\n      <th>4</th>\n      <td>1039</td>\n      <td>A00005</td>\n      <td>Blake, William</td>\n      <td>artist</td>\n      <td>39</td>\n      <td>The Circle of the Lustful: Francesca da Rimini...</td>\n      <td>1826–7, reprinted 1892</td>\n      <td>Line engraving on paper</td>\n      <td>Purchased with the assistance of a special gra...</td>\n      <td>1826.0</td>\n      <td>1919</td>\n      <td>image: 243 x 335 mm</td>\n      <td>243.0</td>\n      <td>335.0</td>\n      <td>NaN</td>\n      <td>mm</td>\n      <td>NaN</td>\n      <td>NaN</td>\n      <td>http://www.tate.org.uk/art/images/work/A/A00/A...</td>\n      <td>http://www.tate.org.uk/art/artworks/blake-the-...</td>\n    </tr>\n  </tbody>\n</table>\n</div>"
     },
     "execution_count": 13,
     "metadata": {},
     "output_type": "execute_result"
    }
   ],
   "source": [
    "# range uses integer position of the rows, but not the row label\n",
    "# in this dataset, both are same, but it might not be the case every time.\n",
    "data[1:5]"
   ],
   "metadata": {
    "collapsed": false,
    "pycharm": {
     "name": "#%%\n"
    }
   }
  },
  {
   "cell_type": "code",
   "execution_count": 14,
   "outputs": [
    {
     "data": {
      "text/plain": "1     Blake, Robert\n2     Blake, Robert\n3     Blake, Robert\n4    Blake, William\nName: artist, dtype: object"
     },
     "execution_count": 14,
     "metadata": {},
     "output_type": "execute_result"
    }
   ],
   "source": [
    "data[1:5]['artist']"
   ],
   "metadata": {
    "collapsed": false,
    "pycharm": {
     "name": "#%%\n"
    }
   }
  },
  {
   "cell_type": "code",
   "execution_count": 16,
   "outputs": [
    {
     "data": {
      "text/plain": "4    1826.0\n5    1826.0\n6    1826.0\n7    1826.0\n8    1826.0\n9    1826.0\nName: year, dtype: float64"
     },
     "execution_count": 16,
     "metadata": {},
     "output_type": "execute_result"
    }
   ],
   "source": [
    "# every row of data where year is > 1800 -> then year series\n",
    "data[data['year'] > 1800]['year']"
   ],
   "metadata": {
    "collapsed": false,
    "pycharm": {
     "name": "#%%\n"
    }
   }
  },
  {
   "cell_type": "markdown",
   "source": [
    "# Using .loc() method"
   ],
   "metadata": {
    "collapsed": false,
    "pycharm": {
     "name": "#%% md\n"
    }
   }
  },
  {
   "cell_type": "code",
   "execution_count": 17,
   "outputs": [],
   "source": [
    "# data.loc[ROWS, COLS]"
   ],
   "metadata": {
    "collapsed": false,
    "pycharm": {
     "name": "#%%\n"
    }
   }
  },
  {
   "cell_type": "code",
   "execution_count": 18,
   "outputs": [
    {
     "data": {
      "text/plain": "id                                                                 1035\naccession_number                                                 A00001\nartist                                                    Blake, Robert\nartistRole                                                       artist\nartistId                                                             38\ntitle                 A Figure Bowing before a Seated Old Man with h...\ndateText                                                 date not known\nmedium                Watercolour, ink, chalk and graphite on paper....\ncreditLine                          Presented by Mrs John Richmond 1922\nyear                                                                NaN\nacquisitionYear                                                    1922\ndimensions                                        support: 394 x 419 mm\nwidth                                                             394.0\nheight                                                            419.0\ndepth                                                               NaN\nunits                                                                mm\ninscription                                                         NaN\nthumbnailCopyright                                                  NaN\nthumbnailUrl          http://www.tate.org.uk/art/images/work/A/A00/A...\nurl                   http://www.tate.org.uk/art/artworks/blake-a-fi...\nName: 0, dtype: object"
     },
     "execution_count": 18,
     "metadata": {},
     "output_type": "execute_result"
    }
   ],
   "source": [
    "# 0th row\n",
    "data.loc[0]"
   ],
   "metadata": {
    "collapsed": false,
    "pycharm": {
     "name": "#%%\n"
    }
   }
  },
  {
   "cell_type": "code",
   "execution_count": 19,
   "outputs": [
    {
     "data": {
      "text/plain": "id                                                                 1035\naccession_number                                                 A00001\nartist                                                    Blake, Robert\nartistRole                                                       artist\nartistId                                                             38\ntitle                 A Figure Bowing before a Seated Old Man with h...\ndateText                                                 date not known\nmedium                Watercolour, ink, chalk and graphite on paper....\ncreditLine                          Presented by Mrs John Richmond 1922\nyear                                                                NaN\nacquisitionYear                                                    1922\ndimensions                                        support: 394 x 419 mm\nwidth                                                             394.0\nheight                                                            419.0\ndepth                                                               NaN\nunits                                                                mm\ninscription                                                         NaN\nthumbnailCopyright                                                  NaN\nthumbnailUrl          http://www.tate.org.uk/art/images/work/A/A00/A...\nurl                   http://www.tate.org.uk/art/artworks/blake-a-fi...\nName: 0, dtype: object"
     },
     "execution_count": 19,
     "metadata": {},
     "output_type": "execute_result"
    }
   ],
   "source": [
    "# 0th row and all columns\n",
    "data.loc[0, :]"
   ],
   "metadata": {
    "collapsed": false,
    "pycharm": {
     "name": "#%%\n"
    }
   }
  },
  {
   "cell_type": "code",
   "execution_count": 22,
   "outputs": [
    {
     "data": {
      "text/plain": "                                               title\n0  A Figure Bowing before a Seated Old Man with h...\n1  Two Drawings of Frightened Figures, Probably f...\n2  The Preaching of Warning. Verso: An Old Man En...\n3     Six Drawings of Figures with Outstretched Arms\n4  The Circle of the Lustful: Francesca da Rimini...\n5      Ciampolo the Barrator Tormented by the Devils\n6                        The Baffled Devils Fighting\n7  The Six-Footed Serpent Attacking Agnolo Brunel...\n8                 The Serpent Attacking Buoso Donati\n9                 The Pit of Disease: The Falsifiers",
      "text/html": "<div>\n<style scoped>\n    .dataframe tbody tr th:only-of-type {\n        vertical-align: middle;\n    }\n\n    .dataframe tbody tr th {\n        vertical-align: top;\n    }\n\n    .dataframe thead th {\n        text-align: right;\n    }\n</style>\n<table border=\"1\" class=\"dataframe\">\n  <thead>\n    <tr style=\"text-align: right;\">\n      <th></th>\n      <th>title</th>\n    </tr>\n  </thead>\n  <tbody>\n    <tr>\n      <th>0</th>\n      <td>A Figure Bowing before a Seated Old Man with h...</td>\n    </tr>\n    <tr>\n      <th>1</th>\n      <td>Two Drawings of Frightened Figures, Probably f...</td>\n    </tr>\n    <tr>\n      <th>2</th>\n      <td>The Preaching of Warning. Verso: An Old Man En...</td>\n    </tr>\n    <tr>\n      <th>3</th>\n      <td>Six Drawings of Figures with Outstretched Arms</td>\n    </tr>\n    <tr>\n      <th>4</th>\n      <td>The Circle of the Lustful: Francesca da Rimini...</td>\n    </tr>\n    <tr>\n      <th>5</th>\n      <td>Ciampolo the Barrator Tormented by the Devils</td>\n    </tr>\n    <tr>\n      <th>6</th>\n      <td>The Baffled Devils Fighting</td>\n    </tr>\n    <tr>\n      <th>7</th>\n      <td>The Six-Footed Serpent Attacking Agnolo Brunel...</td>\n    </tr>\n    <tr>\n      <th>8</th>\n      <td>The Serpent Attacking Buoso Donati</td>\n    </tr>\n    <tr>\n      <th>9</th>\n      <td>The Pit of Disease: The Falsifiers</td>\n    </tr>\n  </tbody>\n</table>\n</div>"
     },
     "execution_count": 22,
     "metadata": {},
     "output_type": "execute_result"
    }
   ],
   "source": [
    "# 0th row and specific columns\n",
    "data.loc[0:, ['title']]"
   ],
   "metadata": {
    "collapsed": false,
    "pycharm": {
     "name": "#%%\n"
    }
   }
  },
  {
   "cell_type": "code",
   "execution_count": 25,
   "outputs": [
    {
     "data": {
      "text/plain": "                                               title    year\n4  The Circle of the Lustful: Francesca da Rimini...  1826.0\n5      Ciampolo the Barrator Tormented by the Devils  1826.0\n6                        The Baffled Devils Fighting  1826.0\n7  The Six-Footed Serpent Attacking Agnolo Brunel...  1826.0\n8                 The Serpent Attacking Buoso Donati  1826.0\n9                 The Pit of Disease: The Falsifiers  1826.0",
      "text/html": "<div>\n<style scoped>\n    .dataframe tbody tr th:only-of-type {\n        vertical-align: middle;\n    }\n\n    .dataframe tbody tr th {\n        vertical-align: top;\n    }\n\n    .dataframe thead th {\n        text-align: right;\n    }\n</style>\n<table border=\"1\" class=\"dataframe\">\n  <thead>\n    <tr style=\"text-align: right;\">\n      <th></th>\n      <th>title</th>\n      <th>year</th>\n    </tr>\n  </thead>\n  <tbody>\n    <tr>\n      <th>4</th>\n      <td>The Circle of the Lustful: Francesca da Rimini...</td>\n      <td>1826.0</td>\n    </tr>\n    <tr>\n      <th>5</th>\n      <td>Ciampolo the Barrator Tormented by the Devils</td>\n      <td>1826.0</td>\n    </tr>\n    <tr>\n      <th>6</th>\n      <td>The Baffled Devils Fighting</td>\n      <td>1826.0</td>\n    </tr>\n    <tr>\n      <th>7</th>\n      <td>The Six-Footed Serpent Attacking Agnolo Brunel...</td>\n      <td>1826.0</td>\n    </tr>\n    <tr>\n      <th>8</th>\n      <td>The Serpent Attacking Buoso Donati</td>\n      <td>1826.0</td>\n    </tr>\n    <tr>\n      <th>9</th>\n      <td>The Pit of Disease: The Falsifiers</td>\n      <td>1826.0</td>\n    </tr>\n  </tbody>\n</table>\n</div>"
     },
     "execution_count": 25,
     "metadata": {},
     "output_type": "execute_result"
    }
   ],
   "source": [
    "# specific conditions and specific columns\n",
    "data.loc[data['year']>1800, ['title', 'year']]"
   ],
   "metadata": {
    "collapsed": false,
    "pycharm": {
     "name": "#%%\n"
    }
   }
  },
  {
   "cell_type": "code",
   "execution_count": 26,
   "outputs": [
    {
     "data": {
      "text/plain": "                                               title    year\n1  Two Drawings of Frightened Figures, Probably f...     NaN\n5      Ciampolo the Barrator Tormented by the Devils  1826.0",
      "text/html": "<div>\n<style scoped>\n    .dataframe tbody tr th:only-of-type {\n        vertical-align: middle;\n    }\n\n    .dataframe tbody tr th {\n        vertical-align: top;\n    }\n\n    .dataframe thead th {\n        text-align: right;\n    }\n</style>\n<table border=\"1\" class=\"dataframe\">\n  <thead>\n    <tr style=\"text-align: right;\">\n      <th></th>\n      <th>title</th>\n      <th>year</th>\n    </tr>\n  </thead>\n  <tbody>\n    <tr>\n      <th>1</th>\n      <td>Two Drawings of Frightened Figures, Probably f...</td>\n      <td>NaN</td>\n    </tr>\n    <tr>\n      <th>5</th>\n      <td>Ciampolo the Barrator Tormented by the Devils</td>\n      <td>1826.0</td>\n    </tr>\n  </tbody>\n</table>\n</div>"
     },
     "execution_count": 26,
     "metadata": {},
     "output_type": "execute_result"
    }
   ],
   "source": [
    "# specific row labels (only where row label is 0 and 5). Its label NOT POSITION\n",
    "data.loc[[1,5], ['title', 'year']]"
   ],
   "metadata": {
    "collapsed": false,
    "pycharm": {
     "name": "#%%\n"
    }
   }
  },
  {
   "cell_type": "code",
   "execution_count": 27,
   "outputs": [
    {
     "data": {
      "text/plain": "     id accession_number          artist artistRole  artistId\n1  1036           A00002   Blake, Robert     artist        38\n5  1040           A00006  Blake, William     artist        39",
      "text/html": "<div>\n<style scoped>\n    .dataframe tbody tr th:only-of-type {\n        vertical-align: middle;\n    }\n\n    .dataframe tbody tr th {\n        vertical-align: top;\n    }\n\n    .dataframe thead th {\n        text-align: right;\n    }\n</style>\n<table border=\"1\" class=\"dataframe\">\n  <thead>\n    <tr style=\"text-align: right;\">\n      <th></th>\n      <th>id</th>\n      <th>accession_number</th>\n      <th>artist</th>\n      <th>artistRole</th>\n      <th>artistId</th>\n    </tr>\n  </thead>\n  <tbody>\n    <tr>\n      <th>1</th>\n      <td>1036</td>\n      <td>A00002</td>\n      <td>Blake, Robert</td>\n      <td>artist</td>\n      <td>38</td>\n    </tr>\n    <tr>\n      <th>5</th>\n      <td>1040</td>\n      <td>A00006</td>\n      <td>Blake, William</td>\n      <td>artist</td>\n      <td>39</td>\n    </tr>\n  </tbody>\n</table>\n</div>"
     },
     "execution_count": 27,
     "metadata": {},
     "output_type": "execute_result"
    }
   ],
   "source": [
    "# specific rows and range of columns\n",
    "data.loc[[1,5], 'id': 'artistId']"
   ],
   "metadata": {
    "collapsed": false,
    "pycharm": {
     "name": "#%%\n"
    }
   }
  },
  {
   "cell_type": "code",
   "execution_count": 29,
   "outputs": [
    {
     "data": {
      "text/plain": "     id accession_number         artist artistRole  artistId\n0  1035           A00001  Blake, Robert     artist        38\n1  1036           A00002  Blake, Robert     artist        38\n2  1037           A00003  Blake, Robert     artist        38\n3  1038           A00004  Blake, Robert     artist        38",
      "text/html": "<div>\n<style scoped>\n    .dataframe tbody tr th:only-of-type {\n        vertical-align: middle;\n    }\n\n    .dataframe tbody tr th {\n        vertical-align: top;\n    }\n\n    .dataframe thead th {\n        text-align: right;\n    }\n</style>\n<table border=\"1\" class=\"dataframe\">\n  <thead>\n    <tr style=\"text-align: right;\">\n      <th></th>\n      <th>id</th>\n      <th>accession_number</th>\n      <th>artist</th>\n      <th>artistRole</th>\n      <th>artistId</th>\n    </tr>\n  </thead>\n  <tbody>\n    <tr>\n      <th>0</th>\n      <td>1035</td>\n      <td>A00001</td>\n      <td>Blake, Robert</td>\n      <td>artist</td>\n      <td>38</td>\n    </tr>\n    <tr>\n      <th>1</th>\n      <td>1036</td>\n      <td>A00002</td>\n      <td>Blake, Robert</td>\n      <td>artist</td>\n      <td>38</td>\n    </tr>\n    <tr>\n      <th>2</th>\n      <td>1037</td>\n      <td>A00003</td>\n      <td>Blake, Robert</td>\n      <td>artist</td>\n      <td>38</td>\n    </tr>\n    <tr>\n      <th>3</th>\n      <td>1038</td>\n      <td>A00004</td>\n      <td>Blake, Robert</td>\n      <td>artist</td>\n      <td>38</td>\n    </tr>\n  </tbody>\n</table>\n</div>"
     },
     "execution_count": 29,
     "metadata": {},
     "output_type": "execute_result"
    }
   ],
   "source": [
    "data.loc[data['artist'] == 'Blake, Robert', 'id':'artistId']"
   ],
   "metadata": {
    "collapsed": false,
    "pycharm": {
     "name": "#%%\n"
    }
   }
  },
  {
   "cell_type": "markdown",
   "source": [
    "# Using iloc()"
   ],
   "metadata": {
    "collapsed": false,
    "pycharm": {
     "name": "#%% md\n"
    }
   }
  },
  {
   "cell_type": "code",
   "execution_count": 31,
   "outputs": [
    {
     "data": {
      "text/plain": "id                                                                 1035\naccession_number                                                 A00001\nartist                                                    Blake, Robert\nartistRole                                                       artist\nartistId                                                             38\ntitle                 A Figure Bowing before a Seated Old Man with h...\ndateText                                                 date not known\nmedium                Watercolour, ink, chalk and graphite on paper....\ncreditLine                          Presented by Mrs John Richmond 1922\nyear                                                                NaN\nacquisitionYear                                                    1922\ndimensions                                        support: 394 x 419 mm\nwidth                                                             394.0\nheight                                                            419.0\ndepth                                                               NaN\nunits                                                                mm\ninscription                                                         NaN\nthumbnailCopyright                                                  NaN\nthumbnailUrl          http://www.tate.org.uk/art/images/work/A/A00/A...\nurl                   http://www.tate.org.uk/art/artworks/blake-a-fi...\nName: 0, dtype: object"
     },
     "execution_count": 31,
     "metadata": {},
     "output_type": "execute_result"
    }
   ],
   "source": [
    "# iloc uses integer positions of the rows and columns instead of labels\n",
    "data.iloc[0, :]"
   ],
   "metadata": {
    "collapsed": false,
    "pycharm": {
     "name": "#%%\n"
    }
   }
  },
  {
   "cell_type": "code",
   "execution_count": 36,
   "outputs": [
    {
     "data": {
      "text/plain": "     id accession_number         artist artistRole  artistId\n0  1035           A00001  Blake, Robert     artist        38\n1  1036           A00002  Blake, Robert     artist        38\n2  1037           A00003  Blake, Robert     artist        38",
      "text/html": "<div>\n<style scoped>\n    .dataframe tbody tr th:only-of-type {\n        vertical-align: middle;\n    }\n\n    .dataframe tbody tr th {\n        vertical-align: top;\n    }\n\n    .dataframe thead th {\n        text-align: right;\n    }\n</style>\n<table border=\"1\" class=\"dataframe\">\n  <thead>\n    <tr style=\"text-align: right;\">\n      <th></th>\n      <th>id</th>\n      <th>accession_number</th>\n      <th>artist</th>\n      <th>artistRole</th>\n      <th>artistId</th>\n    </tr>\n  </thead>\n  <tbody>\n    <tr>\n      <th>0</th>\n      <td>1035</td>\n      <td>A00001</td>\n      <td>Blake, Robert</td>\n      <td>artist</td>\n      <td>38</td>\n    </tr>\n    <tr>\n      <th>1</th>\n      <td>1036</td>\n      <td>A00002</td>\n      <td>Blake, Robert</td>\n      <td>artist</td>\n      <td>38</td>\n    </tr>\n    <tr>\n      <th>2</th>\n      <td>1037</td>\n      <td>A00003</td>\n      <td>Blake, Robert</td>\n      <td>artist</td>\n      <td>38</td>\n    </tr>\n  </tbody>\n</table>\n</div>"
     },
     "execution_count": 36,
     "metadata": {},
     "output_type": "execute_result"
    }
   ],
   "source": [
    "# since it uses integer positions on rows and columns, we can specify\n",
    "# column integer range as well\n",
    "data.iloc[0:3, 0:5]"
   ],
   "metadata": {
    "collapsed": false,
    "pycharm": {
     "name": "#%%\n"
    }
   }
  },
  {
   "cell_type": "code",
   "execution_count": 37,
   "outputs": [],
   "source": [
    "df = data.copy()\n",
    "# To avoid confusion, lets set the index as id\n",
    "df.set_index('id', inplace=True)"
   ],
   "metadata": {
    "collapsed": false,
    "pycharm": {
     "name": "#%%\n"
    }
   }
  },
  {
   "cell_type": "code",
   "execution_count": 38,
   "outputs": [
    {
     "data": {
      "text/plain": "     accession_number         artist artistRole  artistId  \\\nid                                                          \n1035           A00001  Blake, Robert     artist        38   \n1036           A00002  Blake, Robert     artist        38   \n1037           A00003  Blake, Robert     artist        38   \n\n                                                  title  \nid                                                       \n1035  A Figure Bowing before a Seated Old Man with h...  \n1036  Two Drawings of Frightened Figures, Probably f...  \n1037  The Preaching of Warning. Verso: An Old Man En...  ",
      "text/html": "<div>\n<style scoped>\n    .dataframe tbody tr th:only-of-type {\n        vertical-align: middle;\n    }\n\n    .dataframe tbody tr th {\n        vertical-align: top;\n    }\n\n    .dataframe thead th {\n        text-align: right;\n    }\n</style>\n<table border=\"1\" class=\"dataframe\">\n  <thead>\n    <tr style=\"text-align: right;\">\n      <th></th>\n      <th>accession_number</th>\n      <th>artist</th>\n      <th>artistRole</th>\n      <th>artistId</th>\n      <th>title</th>\n    </tr>\n    <tr>\n      <th>id</th>\n      <th></th>\n      <th></th>\n      <th></th>\n      <th></th>\n      <th></th>\n    </tr>\n  </thead>\n  <tbody>\n    <tr>\n      <th>1035</th>\n      <td>A00001</td>\n      <td>Blake, Robert</td>\n      <td>artist</td>\n      <td>38</td>\n      <td>A Figure Bowing before a Seated Old Man with h...</td>\n    </tr>\n    <tr>\n      <th>1036</th>\n      <td>A00002</td>\n      <td>Blake, Robert</td>\n      <td>artist</td>\n      <td>38</td>\n      <td>Two Drawings of Frightened Figures, Probably f...</td>\n    </tr>\n    <tr>\n      <th>1037</th>\n      <td>A00003</td>\n      <td>Blake, Robert</td>\n      <td>artist</td>\n      <td>38</td>\n      <td>The Preaching of Warning. Verso: An Old Man En...</td>\n    </tr>\n  </tbody>\n</table>\n</div>"
     },
     "execution_count": 38,
     "metadata": {},
     "output_type": "execute_result"
    }
   ],
   "source": [
    "# returns rows because these integers are position numbers\n",
    "df.iloc[0:3, 0:5]"
   ],
   "metadata": {
    "collapsed": false,
    "pycharm": {
     "name": "#%%\n"
    }
   }
  },
  {
   "cell_type": "code",
   "execution_count": 39,
   "outputs": [
    {
     "data": {
      "text/plain": "Empty DataFrame\nColumns: [accession_number, artist, artistRole, artistId, title, dateText, medium, creditLine, year, acquisitionYear, dimensions, width, height, depth, units, inscription, thumbnailCopyright, thumbnailUrl, url]\nIndex: []",
      "text/html": "<div>\n<style scoped>\n    .dataframe tbody tr th:only-of-type {\n        vertical-align: middle;\n    }\n\n    .dataframe tbody tr th {\n        vertical-align: top;\n    }\n\n    .dataframe thead th {\n        text-align: right;\n    }\n</style>\n<table border=\"1\" class=\"dataframe\">\n  <thead>\n    <tr style=\"text-align: right;\">\n      <th></th>\n      <th>accession_number</th>\n      <th>artist</th>\n      <th>artistRole</th>\n      <th>artistId</th>\n      <th>title</th>\n      <th>dateText</th>\n      <th>medium</th>\n      <th>creditLine</th>\n      <th>year</th>\n      <th>acquisitionYear</th>\n      <th>dimensions</th>\n      <th>width</th>\n      <th>height</th>\n      <th>depth</th>\n      <th>units</th>\n      <th>inscription</th>\n      <th>thumbnailCopyright</th>\n      <th>thumbnailUrl</th>\n      <th>url</th>\n    </tr>\n    <tr>\n      <th>id</th>\n      <th></th>\n      <th></th>\n      <th></th>\n      <th></th>\n      <th></th>\n      <th></th>\n      <th></th>\n      <th></th>\n      <th></th>\n      <th></th>\n      <th></th>\n      <th></th>\n      <th></th>\n      <th></th>\n      <th></th>\n      <th></th>\n      <th></th>\n      <th></th>\n      <th></th>\n    </tr>\n  </thead>\n  <tbody>\n  </tbody>\n</table>\n</div>"
     },
     "execution_count": 39,
     "metadata": {},
     "output_type": "execute_result"
    }
   ],
   "source": [
    "# returns nothing, because now the df does not contain 0-3 labels in index\n",
    "# instead now index contains 1035 type of numbers\n",
    "df.loc[0:3, :]"
   ],
   "metadata": {
    "collapsed": false,
    "pycharm": {
     "name": "#%%\n"
    }
   }
  },
  {
   "cell_type": "code",
   "execution_count": 40,
   "outputs": [
    {
     "data": {
      "text/plain": "     accession_number         artist artistRole  artistId  \\\nid                                                          \n1035           A00001  Blake, Robert     artist        38   \n1036           A00002  Blake, Robert     artist        38   \n1037           A00003  Blake, Robert     artist        38   \n\n                                                  title        dateText  \\\nid                                                                        \n1035  A Figure Bowing before a Seated Old Man with h...  date not known   \n1036  Two Drawings of Frightened Figures, Probably f...  date not known   \n1037  The Preaching of Warning. Verso: An Old Man En...         ?c.1785   \n\n                                                 medium  \\\nid                                                        \n1035  Watercolour, ink, chalk and graphite on paper....   \n1036                                  Graphite on paper   \n1037        Graphite on paper. Verso: graphite on paper   \n\n                               creditLine    year  acquisitionYear  \\\nid                                                                   \n1035  Presented by Mrs John Richmond 1922     NaN             1922   \n1036  Presented by Mrs John Richmond 1922     NaN             1922   \n1037  Presented by Mrs John Richmond 1922  1785.0             1922   \n\n                 dimensions  width  height  depth units  inscription  \\\nid                                                                     \n1035  support: 394 x 419 mm  394.0   419.0    NaN    mm          NaN   \n1036  support: 311 x 213 mm  311.0   213.0    NaN    mm          NaN   \n1037  support: 343 x 467 mm  343.0   467.0    NaN    mm          NaN   \n\n      thumbnailCopyright                                       thumbnailUrl  \\\nid                                                                            \n1035                 NaN  http://www.tate.org.uk/art/images/work/A/A00/A...   \n1036                 NaN  http://www.tate.org.uk/art/images/work/A/A00/A...   \n1037                 NaN  http://www.tate.org.uk/art/images/work/A/A00/A...   \n\n                                                    url  \nid                                                       \n1035  http://www.tate.org.uk/art/artworks/blake-a-fi...  \n1036  http://www.tate.org.uk/art/artworks/blake-two-...  \n1037  http://www.tate.org.uk/art/artworks/blake-the-...  ",
      "text/html": "<div>\n<style scoped>\n    .dataframe tbody tr th:only-of-type {\n        vertical-align: middle;\n    }\n\n    .dataframe tbody tr th {\n        vertical-align: top;\n    }\n\n    .dataframe thead th {\n        text-align: right;\n    }\n</style>\n<table border=\"1\" class=\"dataframe\">\n  <thead>\n    <tr style=\"text-align: right;\">\n      <th></th>\n      <th>accession_number</th>\n      <th>artist</th>\n      <th>artistRole</th>\n      <th>artistId</th>\n      <th>title</th>\n      <th>dateText</th>\n      <th>medium</th>\n      <th>creditLine</th>\n      <th>year</th>\n      <th>acquisitionYear</th>\n      <th>dimensions</th>\n      <th>width</th>\n      <th>height</th>\n      <th>depth</th>\n      <th>units</th>\n      <th>inscription</th>\n      <th>thumbnailCopyright</th>\n      <th>thumbnailUrl</th>\n      <th>url</th>\n    </tr>\n    <tr>\n      <th>id</th>\n      <th></th>\n      <th></th>\n      <th></th>\n      <th></th>\n      <th></th>\n      <th></th>\n      <th></th>\n      <th></th>\n      <th></th>\n      <th></th>\n      <th></th>\n      <th></th>\n      <th></th>\n      <th></th>\n      <th></th>\n      <th></th>\n      <th></th>\n      <th></th>\n      <th></th>\n    </tr>\n  </thead>\n  <tbody>\n    <tr>\n      <th>1035</th>\n      <td>A00001</td>\n      <td>Blake, Robert</td>\n      <td>artist</td>\n      <td>38</td>\n      <td>A Figure Bowing before a Seated Old Man with h...</td>\n      <td>date not known</td>\n      <td>Watercolour, ink, chalk and graphite on paper....</td>\n      <td>Presented by Mrs John Richmond 1922</td>\n      <td>NaN</td>\n      <td>1922</td>\n      <td>support: 394 x 419 mm</td>\n      <td>394.0</td>\n      <td>419.0</td>\n      <td>NaN</td>\n      <td>mm</td>\n      <td>NaN</td>\n      <td>NaN</td>\n      <td>http://www.tate.org.uk/art/images/work/A/A00/A...</td>\n      <td>http://www.tate.org.uk/art/artworks/blake-a-fi...</td>\n    </tr>\n    <tr>\n      <th>1036</th>\n      <td>A00002</td>\n      <td>Blake, Robert</td>\n      <td>artist</td>\n      <td>38</td>\n      <td>Two Drawings of Frightened Figures, Probably f...</td>\n      <td>date not known</td>\n      <td>Graphite on paper</td>\n      <td>Presented by Mrs John Richmond 1922</td>\n      <td>NaN</td>\n      <td>1922</td>\n      <td>support: 311 x 213 mm</td>\n      <td>311.0</td>\n      <td>213.0</td>\n      <td>NaN</td>\n      <td>mm</td>\n      <td>NaN</td>\n      <td>NaN</td>\n      <td>http://www.tate.org.uk/art/images/work/A/A00/A...</td>\n      <td>http://www.tate.org.uk/art/artworks/blake-two-...</td>\n    </tr>\n    <tr>\n      <th>1037</th>\n      <td>A00003</td>\n      <td>Blake, Robert</td>\n      <td>artist</td>\n      <td>38</td>\n      <td>The Preaching of Warning. Verso: An Old Man En...</td>\n      <td>?c.1785</td>\n      <td>Graphite on paper. Verso: graphite on paper</td>\n      <td>Presented by Mrs John Richmond 1922</td>\n      <td>1785.0</td>\n      <td>1922</td>\n      <td>support: 343 x 467 mm</td>\n      <td>343.0</td>\n      <td>467.0</td>\n      <td>NaN</td>\n      <td>mm</td>\n      <td>NaN</td>\n      <td>NaN</td>\n      <td>http://www.tate.org.uk/art/images/work/A/A00/A...</td>\n      <td>http://www.tate.org.uk/art/artworks/blake-the-...</td>\n    </tr>\n  </tbody>\n</table>\n</div>"
     },
     "execution_count": 40,
     "metadata": {},
     "output_type": "execute_result"
    }
   ],
   "source": [
    "df.loc[1035:1037, :]"
   ],
   "metadata": {
    "collapsed": false,
    "pycharm": {
     "name": "#%%\n"
    }
   }
  },
  {
   "cell_type": "code",
   "execution_count": 41,
   "outputs": [
    {
     "data": {
      "text/plain": "     accession_number         artist artistRole\nid                                             \n1035           A00001  Blake, Robert     artist\n1036           A00002  Blake, Robert     artist\n1037           A00003  Blake, Robert     artist",
      "text/html": "<div>\n<style scoped>\n    .dataframe tbody tr th:only-of-type {\n        vertical-align: middle;\n    }\n\n    .dataframe tbody tr th {\n        vertical-align: top;\n    }\n\n    .dataframe thead th {\n        text-align: right;\n    }\n</style>\n<table border=\"1\" class=\"dataframe\">\n  <thead>\n    <tr style=\"text-align: right;\">\n      <th></th>\n      <th>accession_number</th>\n      <th>artist</th>\n      <th>artistRole</th>\n    </tr>\n    <tr>\n      <th>id</th>\n      <th></th>\n      <th></th>\n      <th></th>\n    </tr>\n  </thead>\n  <tbody>\n    <tr>\n      <th>1035</th>\n      <td>A00001</td>\n      <td>Blake, Robert</td>\n      <td>artist</td>\n    </tr>\n    <tr>\n      <th>1036</th>\n      <td>A00002</td>\n      <td>Blake, Robert</td>\n      <td>artist</td>\n    </tr>\n    <tr>\n      <th>1037</th>\n      <td>A00003</td>\n      <td>Blake, Robert</td>\n      <td>artist</td>\n    </tr>\n  </tbody>\n</table>\n</div>"
     },
     "execution_count": 41,
     "metadata": {},
     "output_type": "execute_result"
    }
   ],
   "source": [
    "# now id is index, so column 0 is accession_number and 2 is artistRole, 3rd is exclusive in indexing\n",
    "df.iloc[0:3, 0:3]"
   ],
   "metadata": {
    "collapsed": false,
    "pycharm": {
     "name": "#%%\n"
    }
   }
  },
  {
   "cell_type": "code",
   "execution_count": 42,
   "outputs": [],
   "source": [
    "#lets reset the index to check it\n",
    "df.reset_index(inplace=True)"
   ],
   "metadata": {
    "collapsed": false,
    "pycharm": {
     "name": "#%%\n"
    }
   }
  },
  {
   "cell_type": "code",
   "execution_count": 43,
   "outputs": [
    {
     "data": {
      "text/plain": "     id accession_number         artist\n0  1035           A00001  Blake, Robert\n1  1036           A00002  Blake, Robert\n2  1037           A00003  Blake, Robert",
      "text/html": "<div>\n<style scoped>\n    .dataframe tbody tr th:only-of-type {\n        vertical-align: middle;\n    }\n\n    .dataframe tbody tr th {\n        vertical-align: top;\n    }\n\n    .dataframe thead th {\n        text-align: right;\n    }\n</style>\n<table border=\"1\" class=\"dataframe\">\n  <thead>\n    <tr style=\"text-align: right;\">\n      <th></th>\n      <th>id</th>\n      <th>accession_number</th>\n      <th>artist</th>\n    </tr>\n  </thead>\n  <tbody>\n    <tr>\n      <th>0</th>\n      <td>1035</td>\n      <td>A00001</td>\n      <td>Blake, Robert</td>\n    </tr>\n    <tr>\n      <th>1</th>\n      <td>1036</td>\n      <td>A00002</td>\n      <td>Blake, Robert</td>\n    </tr>\n    <tr>\n      <th>2</th>\n      <td>1037</td>\n      <td>A00003</td>\n      <td>Blake, Robert</td>\n    </tr>\n  </tbody>\n</table>\n</div>"
     },
     "execution_count": 43,
     "metadata": {},
     "output_type": "execute_result"
    }
   ],
   "source": [
    "# now as the index has been reset, so 0 column becomes the id, and 3 becomes the artistRole which is exclusive\n",
    "# and we are getting 0,1, and 2 index i.e. id, accession_number, and artist\n",
    "df.iloc[0:3, 0:3]"
   ],
   "metadata": {
    "collapsed": false,
    "pycharm": {
     "name": "#%%\n"
    }
   }
  },
  {
   "cell_type": "code",
   "execution_count": 44,
   "outputs": [
    {
     "data": {
      "text/plain": "     id          artist\n5  1040  Blake, William\n8  1043  Blake, William",
      "text/html": "<div>\n<style scoped>\n    .dataframe tbody tr th:only-of-type {\n        vertical-align: middle;\n    }\n\n    .dataframe tbody tr th {\n        vertical-align: top;\n    }\n\n    .dataframe thead th {\n        text-align: right;\n    }\n</style>\n<table border=\"1\" class=\"dataframe\">\n  <thead>\n    <tr style=\"text-align: right;\">\n      <th></th>\n      <th>id</th>\n      <th>artist</th>\n    </tr>\n  </thead>\n  <tbody>\n    <tr>\n      <th>5</th>\n      <td>1040</td>\n      <td>Blake, William</td>\n    </tr>\n    <tr>\n      <th>8</th>\n      <td>1043</td>\n      <td>Blake, William</td>\n    </tr>\n  </tbody>\n</table>\n</div>"
     },
     "execution_count": 44,
     "metadata": {},
     "output_type": "execute_result"
    }
   ],
   "source": [
    "# QUESTION: 5, 8 should return row number 4,7, why it is returning 5,8\n",
    "# while columns are returning correct index\n",
    "df.iloc[[5,8], [0, 2]]"
   ],
   "metadata": {
    "collapsed": false,
    "pycharm": {
     "name": "#%%\n"
    }
   }
  },
  {
   "cell_type": "code",
   "execution_count": 48,
   "outputs": [
    {
     "data": {
      "text/plain": "     id          artist\n0  1035   Blake, Robert\n1  1036   Blake, Robert\n2  1037   Blake, Robert\n3  1038   Blake, Robert\n4  1039  Blake, William\n5  1040  Blake, William\n6  1041  Blake, William\n7  1042  Blake, William",
      "text/html": "<div>\n<style scoped>\n    .dataframe tbody tr th:only-of-type {\n        vertical-align: middle;\n    }\n\n    .dataframe tbody tr th {\n        vertical-align: top;\n    }\n\n    .dataframe thead th {\n        text-align: right;\n    }\n</style>\n<table border=\"1\" class=\"dataframe\">\n  <thead>\n    <tr style=\"text-align: right;\">\n      <th></th>\n      <th>id</th>\n      <th>artist</th>\n    </tr>\n  </thead>\n  <tbody>\n    <tr>\n      <th>0</th>\n      <td>1035</td>\n      <td>Blake, Robert</td>\n    </tr>\n    <tr>\n      <th>1</th>\n      <td>1036</td>\n      <td>Blake, Robert</td>\n    </tr>\n    <tr>\n      <th>2</th>\n      <td>1037</td>\n      <td>Blake, Robert</td>\n    </tr>\n    <tr>\n      <th>3</th>\n      <td>1038</td>\n      <td>Blake, Robert</td>\n    </tr>\n    <tr>\n      <th>4</th>\n      <td>1039</td>\n      <td>Blake, William</td>\n    </tr>\n    <tr>\n      <th>5</th>\n      <td>1040</td>\n      <td>Blake, William</td>\n    </tr>\n    <tr>\n      <th>6</th>\n      <td>1041</td>\n      <td>Blake, William</td>\n    </tr>\n    <tr>\n      <th>7</th>\n      <td>1042</td>\n      <td>Blake, William</td>\n    </tr>\n  </tbody>\n</table>\n</div>"
     },
     "execution_count": 48,
     "metadata": {},
     "output_type": "execute_result"
    }
   ],
   "source": [
    "df.iloc[0:8, [0, 2]]"
   ],
   "metadata": {
    "collapsed": false,
    "pycharm": {
     "name": "#%%\n"
    }
   }
  },
  {
   "cell_type": "code",
   "execution_count": null,
   "outputs": [],
   "source": [
    "df.iloc[5:8, [0, 2]]"
   ],
   "metadata": {
    "collapsed": false,
    "pycharm": {
     "name": "#%%\n"
    }
   }
  },
  {
   "cell_type": "markdown",
   "source": [
    "# Filtering Data"
   ],
   "metadata": {
    "collapsed": false,
    "pycharm": {
     "name": "#%% md\n"
    }
   }
  },
  {
   "cell_type": "markdown",
   "source": [
    "### str.contains"
   ],
   "metadata": {
    "collapsed": false,
    "pycharm": {
     "name": "#%% md\n"
    }
   }
  },
  {
   "cell_type": "code",
   "execution_count": 49,
   "outputs": [
    {
     "data": {
      "text/plain": "     id accession_number          artist artistRole  artistId  \\\n0  1035           A00001   Blake, Robert     artist        38   \n1  1036           A00002   Blake, Robert     artist        38   \n2  1037           A00003   Blake, Robert     artist        38   \n3  1038           A00004   Blake, Robert     artist        38   \n4  1039           A00005  Blake, William     artist        39   \n\n                                               title                dateText  \\\n0  A Figure Bowing before a Seated Old Man with h...          date not known   \n1  Two Drawings of Frightened Figures, Probably f...          date not known   \n2  The Preaching of Warning. Verso: An Old Man En...                 ?c.1785   \n3     Six Drawings of Figures with Outstretched Arms          date not known   \n4  The Circle of the Lustful: Francesca da Rimini...  1826–7, reprinted 1892   \n\n                                              medium  \\\n0  Watercolour, ink, chalk and graphite on paper....   \n1                                  Graphite on paper   \n2        Graphite on paper. Verso: graphite on paper   \n3                                  Graphite on paper   \n4                            Line engraving on paper   \n\n                                          creditLine    year  acquisitionYear  \\\n0                Presented by Mrs John Richmond 1922     NaN             1922   \n1                Presented by Mrs John Richmond 1922     NaN             1922   \n2                Presented by Mrs John Richmond 1922  1785.0             1922   \n3                Presented by Mrs John Richmond 1922     NaN             1922   \n4  Purchased with the assistance of a special gra...  1826.0             1919   \n\n              dimensions  width  height  depth units  inscription  \\\n0  support: 394 x 419 mm  394.0   419.0    NaN    mm          NaN   \n1  support: 311 x 213 mm  311.0   213.0    NaN    mm          NaN   \n2  support: 343 x 467 mm  343.0   467.0    NaN    mm          NaN   \n3  support: 318 x 394 mm  318.0   394.0    NaN    mm          NaN   \n4    image: 243 x 335 mm  243.0   335.0    NaN    mm          NaN   \n\n   thumbnailCopyright                                       thumbnailUrl  \\\n0                 NaN  http://www.tate.org.uk/art/images/work/A/A00/A...   \n1                 NaN  http://www.tate.org.uk/art/images/work/A/A00/A...   \n2                 NaN  http://www.tate.org.uk/art/images/work/A/A00/A...   \n3                 NaN  http://www.tate.org.uk/art/images/work/A/A00/A...   \n4                 NaN  http://www.tate.org.uk/art/images/work/A/A00/A...   \n\n                                                 url  \n0  http://www.tate.org.uk/art/artworks/blake-a-fi...  \n1  http://www.tate.org.uk/art/artworks/blake-two-...  \n2  http://www.tate.org.uk/art/artworks/blake-the-...  \n3  http://www.tate.org.uk/art/artworks/blake-six-...  \n4  http://www.tate.org.uk/art/artworks/blake-the-...  ",
      "text/html": "<div>\n<style scoped>\n    .dataframe tbody tr th:only-of-type {\n        vertical-align: middle;\n    }\n\n    .dataframe tbody tr th {\n        vertical-align: top;\n    }\n\n    .dataframe thead th {\n        text-align: right;\n    }\n</style>\n<table border=\"1\" class=\"dataframe\">\n  <thead>\n    <tr style=\"text-align: right;\">\n      <th></th>\n      <th>id</th>\n      <th>accession_number</th>\n      <th>artist</th>\n      <th>artistRole</th>\n      <th>artistId</th>\n      <th>title</th>\n      <th>dateText</th>\n      <th>medium</th>\n      <th>creditLine</th>\n      <th>year</th>\n      <th>acquisitionYear</th>\n      <th>dimensions</th>\n      <th>width</th>\n      <th>height</th>\n      <th>depth</th>\n      <th>units</th>\n      <th>inscription</th>\n      <th>thumbnailCopyright</th>\n      <th>thumbnailUrl</th>\n      <th>url</th>\n    </tr>\n  </thead>\n  <tbody>\n    <tr>\n      <th>0</th>\n      <td>1035</td>\n      <td>A00001</td>\n      <td>Blake, Robert</td>\n      <td>artist</td>\n      <td>38</td>\n      <td>A Figure Bowing before a Seated Old Man with h...</td>\n      <td>date not known</td>\n      <td>Watercolour, ink, chalk and graphite on paper....</td>\n      <td>Presented by Mrs John Richmond 1922</td>\n      <td>NaN</td>\n      <td>1922</td>\n      <td>support: 394 x 419 mm</td>\n      <td>394.0</td>\n      <td>419.0</td>\n      <td>NaN</td>\n      <td>mm</td>\n      <td>NaN</td>\n      <td>NaN</td>\n      <td>http://www.tate.org.uk/art/images/work/A/A00/A...</td>\n      <td>http://www.tate.org.uk/art/artworks/blake-a-fi...</td>\n    </tr>\n    <tr>\n      <th>1</th>\n      <td>1036</td>\n      <td>A00002</td>\n      <td>Blake, Robert</td>\n      <td>artist</td>\n      <td>38</td>\n      <td>Two Drawings of Frightened Figures, Probably f...</td>\n      <td>date not known</td>\n      <td>Graphite on paper</td>\n      <td>Presented by Mrs John Richmond 1922</td>\n      <td>NaN</td>\n      <td>1922</td>\n      <td>support: 311 x 213 mm</td>\n      <td>311.0</td>\n      <td>213.0</td>\n      <td>NaN</td>\n      <td>mm</td>\n      <td>NaN</td>\n      <td>NaN</td>\n      <td>http://www.tate.org.uk/art/images/work/A/A00/A...</td>\n      <td>http://www.tate.org.uk/art/artworks/blake-two-...</td>\n    </tr>\n    <tr>\n      <th>2</th>\n      <td>1037</td>\n      <td>A00003</td>\n      <td>Blake, Robert</td>\n      <td>artist</td>\n      <td>38</td>\n      <td>The Preaching of Warning. Verso: An Old Man En...</td>\n      <td>?c.1785</td>\n      <td>Graphite on paper. Verso: graphite on paper</td>\n      <td>Presented by Mrs John Richmond 1922</td>\n      <td>1785.0</td>\n      <td>1922</td>\n      <td>support: 343 x 467 mm</td>\n      <td>343.0</td>\n      <td>467.0</td>\n      <td>NaN</td>\n      <td>mm</td>\n      <td>NaN</td>\n      <td>NaN</td>\n      <td>http://www.tate.org.uk/art/images/work/A/A00/A...</td>\n      <td>http://www.tate.org.uk/art/artworks/blake-the-...</td>\n    </tr>\n    <tr>\n      <th>3</th>\n      <td>1038</td>\n      <td>A00004</td>\n      <td>Blake, Robert</td>\n      <td>artist</td>\n      <td>38</td>\n      <td>Six Drawings of Figures with Outstretched Arms</td>\n      <td>date not known</td>\n      <td>Graphite on paper</td>\n      <td>Presented by Mrs John Richmond 1922</td>\n      <td>NaN</td>\n      <td>1922</td>\n      <td>support: 318 x 394 mm</td>\n      <td>318.0</td>\n      <td>394.0</td>\n      <td>NaN</td>\n      <td>mm</td>\n      <td>NaN</td>\n      <td>NaN</td>\n      <td>http://www.tate.org.uk/art/images/work/A/A00/A...</td>\n      <td>http://www.tate.org.uk/art/artworks/blake-six-...</td>\n    </tr>\n    <tr>\n      <th>4</th>\n      <td>1039</td>\n      <td>A00005</td>\n      <td>Blake, William</td>\n      <td>artist</td>\n      <td>39</td>\n      <td>The Circle of the Lustful: Francesca da Rimini...</td>\n      <td>1826–7, reprinted 1892</td>\n      <td>Line engraving on paper</td>\n      <td>Purchased with the assistance of a special gra...</td>\n      <td>1826.0</td>\n      <td>1919</td>\n      <td>image: 243 x 335 mm</td>\n      <td>243.0</td>\n      <td>335.0</td>\n      <td>NaN</td>\n      <td>mm</td>\n      <td>NaN</td>\n      <td>NaN</td>\n      <td>http://www.tate.org.uk/art/images/work/A/A00/A...</td>\n      <td>http://www.tate.org.uk/art/artworks/blake-the-...</td>\n    </tr>\n  </tbody>\n</table>\n</div>"
     },
     "execution_count": 49,
     "metadata": {},
     "output_type": "execute_result"
    }
   ],
   "source": [
    "data = pd.read_csv('./data/artwork_sample.csv')\n",
    "data.head()"
   ],
   "metadata": {
    "collapsed": false,
    "pycharm": {
     "name": "#%%\n"
    }
   }
  },
  {
   "cell_type": "code",
   "execution_count": 50,
   "outputs": [
    {
     "data": {
      "text/plain": "0    Watercolour, ink, chalk and graphite on paper....\n1                                    Graphite on paper\n2          Graphite on paper. Verso: graphite on paper\n3                                    Graphite on paper\n4                              Line engraving on paper\n5                              Line engraving on paper\n6                              Line engraving on paper\n7                              Line engraving on paper\n8                              Line engraving on paper\n9                              Line engraving on paper\nName: medium, dtype: object"
     },
     "execution_count": 50,
     "metadata": {},
     "output_type": "execute_result"
    }
   ],
   "source": [
    "data.medium"
   ],
   "metadata": {
    "collapsed": false,
    "pycharm": {
     "name": "#%%\n"
    }
   }
  },
  {
   "cell_type": "code",
   "execution_count": 51,
   "outputs": [
    {
     "data": {
      "text/plain": "pandas.core.series.Series"
     },
     "execution_count": 51,
     "metadata": {},
     "output_type": "execute_result"
    }
   ],
   "source": [
    "type(data.medium)"
   ],
   "metadata": {
    "collapsed": false,
    "pycharm": {
     "name": "#%%\n"
    }
   }
  },
  {
   "cell_type": "code",
   "execution_count": 53,
   "outputs": [
    {
     "data": {
      "text/plain": "<pandas.core.strings.accessor.StringMethods at 0x2b235060880>"
     },
     "execution_count": 53,
     "metadata": {},
     "output_type": "execute_result"
    }
   ],
   "source": [
    "data.medium.str"
   ],
   "metadata": {
    "collapsed": false,
    "pycharm": {
     "name": "#%%\n"
    }
   }
  },
  {
   "cell_type": "code",
   "execution_count": 60,
   "outputs": [
    {
     "data": {
      "text/plain": "0    False\n1     True\n2     True\n3     True\n4    False\n5    False\n6    False\n7    False\n8    False\n9    False\nName: medium, dtype: bool"
     },
     "execution_count": 60,
     "metadata": {},
     "output_type": "execute_result"
    }
   ],
   "source": [
    "data.medium.str.contains('Graphite')"
   ],
   "metadata": {
    "collapsed": false,
    "pycharm": {
     "name": "#%%\n"
    }
   }
  },
  {
   "cell_type": "code",
   "execution_count": 58,
   "outputs": [
    {
     "data": {
      "text/plain": "0     True\n1     True\n2     True\n3     True\n4    False\n5    False\n6    False\n7    False\n8    False\n9    False\nName: medium, dtype: bool"
     },
     "execution_count": 58,
     "metadata": {},
     "output_type": "execute_result"
    }
   ],
   "source": [
    "# data.medium.str.lower().contains('graphite')\n",
    "data.medium.str.lower().str.contains('graphite')"
   ],
   "metadata": {
    "collapsed": false,
    "pycharm": {
     "name": "#%%\n"
    }
   }
  },
  {
   "cell_type": "code",
   "execution_count": 62,
   "outputs": [
    {
     "data": {
      "text/plain": "          artist                                       medium\n1  Blake, Robert                            Graphite on paper\n2  Blake, Robert  Graphite on paper. Verso: graphite on paper\n3  Blake, Robert                            Graphite on paper",
      "text/html": "<div>\n<style scoped>\n    .dataframe tbody tr th:only-of-type {\n        vertical-align: middle;\n    }\n\n    .dataframe tbody tr th {\n        vertical-align: top;\n    }\n\n    .dataframe thead th {\n        text-align: right;\n    }\n</style>\n<table border=\"1\" class=\"dataframe\">\n  <thead>\n    <tr style=\"text-align: right;\">\n      <th></th>\n      <th>artist</th>\n      <th>medium</th>\n    </tr>\n  </thead>\n  <tbody>\n    <tr>\n      <th>1</th>\n      <td>Blake, Robert</td>\n      <td>Graphite on paper</td>\n    </tr>\n    <tr>\n      <th>2</th>\n      <td>Blake, Robert</td>\n      <td>Graphite on paper. Verso: graphite on paper</td>\n    </tr>\n    <tr>\n      <th>3</th>\n      <td>Blake, Robert</td>\n      <td>Graphite on paper</td>\n    </tr>\n  </tbody>\n</table>\n</div>"
     },
     "execution_count": 62,
     "metadata": {},
     "output_type": "execute_result"
    }
   ],
   "source": [
    "data.loc[data.medium.str.contains('Graphite'), ['artist', 'medium']]"
   ],
   "metadata": {
    "collapsed": false,
    "pycharm": {
     "name": "#%%\n"
    }
   }
  },
  {
   "cell_type": "code",
   "execution_count": 63,
   "outputs": [
    {
     "data": {
      "text/plain": "     id accession_number          artist artistRole  artistId  \\\n0  1035           A00001   Blake, Robert     artist        38   \n1  1036           A00002   Blake, Robert     artist        38   \n2  1037           A00003   Blake, Robert     artist        38   \n3  1038           A00004   Blake, Robert     artist        38   \n4  1039           A00005  Blake, William     artist        39   \n5  1040           A00006  Blake, William     artist        39   \n6  1041           A00007  Blake, William     artist        39   \n7  1042           A00008  Blake, William     artist        39   \n8  1043           A00009  Blake, William     artist        39   \n9  1044           A00010  Blake, William     artist        39   \n\n                                               title                dateText  \\\n0  A Figure Bowing before a Seated Old Man with h...          date not known   \n1  Two Drawings of Frightened Figures, Probably f...          date not known   \n2  The Preaching of Warning. Verso: An Old Man En...                 ?c.1785   \n3     Six Drawings of Figures with Outstretched Arms          date not known   \n4  The Circle of the Lustful: Francesca da Rimini...  1826–7, reprinted 1892   \n5      Ciampolo the Barrator Tormented by the Devils  1826–7, reprinted 1892   \n6                        The Baffled Devils Fighting  1826–7, reprinted 1892   \n7  The Six-Footed Serpent Attacking Agnolo Brunel...  1826–7, reprinted 1892   \n8                 The Serpent Attacking Buoso Donati  1826–7, reprinted 1892   \n9                 The Pit of Disease: The Falsifiers  1826–7, reprinted 1892   \n\n                                              medium  \\\n0  Watercolour, ink, chalk and graphite on paper....   \n1                                  Graphite on paper   \n2        Graphite on paper. Verso: graphite on paper   \n3                                  Graphite on paper   \n4                            Line engraving on paper   \n5                            Line engraving on paper   \n6                            Line engraving on paper   \n7                            Line engraving on paper   \n8                            Line engraving on paper   \n9                            Line engraving on paper   \n\n                                          creditLine    year  acquisitionYear  \\\n0                Presented by Mrs John Richmond 1922     NaN             1922   \n1                Presented by Mrs John Richmond 1922     NaN             1922   \n2                Presented by Mrs John Richmond 1922  1785.0             1922   \n3                Presented by Mrs John Richmond 1922     NaN             1922   \n4  Purchased with the assistance of a special gra...  1826.0             1919   \n5  Purchased with the assistance of a special gra...  1826.0             1919   \n6  Purchased with the assistance of a special gra...  1826.0             1919   \n7  Purchased with the assistance of a special gra...  1826.0             1919   \n8  Purchased with the assistance of a special gra...  1826.0             1919   \n9  Purchased with the assistance of a special gra...  1826.0             1919   \n\n              dimensions  width  height  depth units  inscription  \\\n0  support: 394 x 419 mm  394.0   419.0    NaN    mm          NaN   \n1  support: 311 x 213 mm  311.0   213.0    NaN    mm          NaN   \n2  support: 343 x 467 mm  343.0   467.0    NaN    mm          NaN   \n3  support: 318 x 394 mm  318.0   394.0    NaN    mm          NaN   \n4    image: 243 x 335 mm  243.0   335.0    NaN    mm          NaN   \n5    image: 240 x 338 mm  240.0   338.0    NaN    mm          NaN   \n6    image: 242 x 334 mm  242.0   334.0    NaN    mm          NaN   \n7    image: 246 x 340 mm  246.0   340.0    NaN    mm          NaN   \n8    image: 241 x 335 mm  241.0   335.0    NaN    mm          NaN   \n9    image: 243 x 340 mm  243.0   340.0    NaN    mm          NaN   \n\n   thumbnailCopyright                                       thumbnailUrl  \\\n0                 NaN  http://www.tate.org.uk/art/images/work/A/A00/A...   \n1                 NaN  http://www.tate.org.uk/art/images/work/A/A00/A...   \n2                 NaN  http://www.tate.org.uk/art/images/work/A/A00/A...   \n3                 NaN  http://www.tate.org.uk/art/images/work/A/A00/A...   \n4                 NaN  http://www.tate.org.uk/art/images/work/A/A00/A...   \n5                 NaN  http://www.tate.org.uk/art/images/work/A/A00/A...   \n6                 NaN  http://www.tate.org.uk/art/images/work/A/A00/A...   \n7                 NaN  http://www.tate.org.uk/art/images/work/A/A00/A...   \n8                 NaN  http://www.tate.org.uk/art/images/work/A/A00/A...   \n9                 NaN  http://www.tate.org.uk/art/images/work/A/A00/A...   \n\n                                                 url  \n0  http://www.tate.org.uk/art/artworks/blake-a-fi...  \n1  http://www.tate.org.uk/art/artworks/blake-two-...  \n2  http://www.tate.org.uk/art/artworks/blake-the-...  \n3  http://www.tate.org.uk/art/artworks/blake-six-...  \n4  http://www.tate.org.uk/art/artworks/blake-the-...  \n5  http://www.tate.org.uk/art/artworks/blake-ciam...  \n6  http://www.tate.org.uk/art/artworks/blake-the-...  \n7  http://www.tate.org.uk/art/artworks/blake-the-...  \n8  http://www.tate.org.uk/art/artworks/blake-the-...  \n9  http://www.tate.org.uk/art/artworks/blake-the-...  ",
      "text/html": "<div>\n<style scoped>\n    .dataframe tbody tr th:only-of-type {\n        vertical-align: middle;\n    }\n\n    .dataframe tbody tr th {\n        vertical-align: top;\n    }\n\n    .dataframe thead th {\n        text-align: right;\n    }\n</style>\n<table border=\"1\" class=\"dataframe\">\n  <thead>\n    <tr style=\"text-align: right;\">\n      <th></th>\n      <th>id</th>\n      <th>accession_number</th>\n      <th>artist</th>\n      <th>artistRole</th>\n      <th>artistId</th>\n      <th>title</th>\n      <th>dateText</th>\n      <th>medium</th>\n      <th>creditLine</th>\n      <th>year</th>\n      <th>acquisitionYear</th>\n      <th>dimensions</th>\n      <th>width</th>\n      <th>height</th>\n      <th>depth</th>\n      <th>units</th>\n      <th>inscription</th>\n      <th>thumbnailCopyright</th>\n      <th>thumbnailUrl</th>\n      <th>url</th>\n    </tr>\n  </thead>\n  <tbody>\n    <tr>\n      <th>0</th>\n      <td>1035</td>\n      <td>A00001</td>\n      <td>Blake, Robert</td>\n      <td>artist</td>\n      <td>38</td>\n      <td>A Figure Bowing before a Seated Old Man with h...</td>\n      <td>date not known</td>\n      <td>Watercolour, ink, chalk and graphite on paper....</td>\n      <td>Presented by Mrs John Richmond 1922</td>\n      <td>NaN</td>\n      <td>1922</td>\n      <td>support: 394 x 419 mm</td>\n      <td>394.0</td>\n      <td>419.0</td>\n      <td>NaN</td>\n      <td>mm</td>\n      <td>NaN</td>\n      <td>NaN</td>\n      <td>http://www.tate.org.uk/art/images/work/A/A00/A...</td>\n      <td>http://www.tate.org.uk/art/artworks/blake-a-fi...</td>\n    </tr>\n    <tr>\n      <th>1</th>\n      <td>1036</td>\n      <td>A00002</td>\n      <td>Blake, Robert</td>\n      <td>artist</td>\n      <td>38</td>\n      <td>Two Drawings of Frightened Figures, Probably f...</td>\n      <td>date not known</td>\n      <td>Graphite on paper</td>\n      <td>Presented by Mrs John Richmond 1922</td>\n      <td>NaN</td>\n      <td>1922</td>\n      <td>support: 311 x 213 mm</td>\n      <td>311.0</td>\n      <td>213.0</td>\n      <td>NaN</td>\n      <td>mm</td>\n      <td>NaN</td>\n      <td>NaN</td>\n      <td>http://www.tate.org.uk/art/images/work/A/A00/A...</td>\n      <td>http://www.tate.org.uk/art/artworks/blake-two-...</td>\n    </tr>\n    <tr>\n      <th>2</th>\n      <td>1037</td>\n      <td>A00003</td>\n      <td>Blake, Robert</td>\n      <td>artist</td>\n      <td>38</td>\n      <td>The Preaching of Warning. Verso: An Old Man En...</td>\n      <td>?c.1785</td>\n      <td>Graphite on paper. Verso: graphite on paper</td>\n      <td>Presented by Mrs John Richmond 1922</td>\n      <td>1785.0</td>\n      <td>1922</td>\n      <td>support: 343 x 467 mm</td>\n      <td>343.0</td>\n      <td>467.0</td>\n      <td>NaN</td>\n      <td>mm</td>\n      <td>NaN</td>\n      <td>NaN</td>\n      <td>http://www.tate.org.uk/art/images/work/A/A00/A...</td>\n      <td>http://www.tate.org.uk/art/artworks/blake-the-...</td>\n    </tr>\n    <tr>\n      <th>3</th>\n      <td>1038</td>\n      <td>A00004</td>\n      <td>Blake, Robert</td>\n      <td>artist</td>\n      <td>38</td>\n      <td>Six Drawings of Figures with Outstretched Arms</td>\n      <td>date not known</td>\n      <td>Graphite on paper</td>\n      <td>Presented by Mrs John Richmond 1922</td>\n      <td>NaN</td>\n      <td>1922</td>\n      <td>support: 318 x 394 mm</td>\n      <td>318.0</td>\n      <td>394.0</td>\n      <td>NaN</td>\n      <td>mm</td>\n      <td>NaN</td>\n      <td>NaN</td>\n      <td>http://www.tate.org.uk/art/images/work/A/A00/A...</td>\n      <td>http://www.tate.org.uk/art/artworks/blake-six-...</td>\n    </tr>\n    <tr>\n      <th>4</th>\n      <td>1039</td>\n      <td>A00005</td>\n      <td>Blake, William</td>\n      <td>artist</td>\n      <td>39</td>\n      <td>The Circle of the Lustful: Francesca da Rimini...</td>\n      <td>1826–7, reprinted 1892</td>\n      <td>Line engraving on paper</td>\n      <td>Purchased with the assistance of a special gra...</td>\n      <td>1826.0</td>\n      <td>1919</td>\n      <td>image: 243 x 335 mm</td>\n      <td>243.0</td>\n      <td>335.0</td>\n      <td>NaN</td>\n      <td>mm</td>\n      <td>NaN</td>\n      <td>NaN</td>\n      <td>http://www.tate.org.uk/art/images/work/A/A00/A...</td>\n      <td>http://www.tate.org.uk/art/artworks/blake-the-...</td>\n    </tr>\n    <tr>\n      <th>5</th>\n      <td>1040</td>\n      <td>A00006</td>\n      <td>Blake, William</td>\n      <td>artist</td>\n      <td>39</td>\n      <td>Ciampolo the Barrator Tormented by the Devils</td>\n      <td>1826–7, reprinted 1892</td>\n      <td>Line engraving on paper</td>\n      <td>Purchased with the assistance of a special gra...</td>\n      <td>1826.0</td>\n      <td>1919</td>\n      <td>image: 240 x 338 mm</td>\n      <td>240.0</td>\n      <td>338.0</td>\n      <td>NaN</td>\n      <td>mm</td>\n      <td>NaN</td>\n      <td>NaN</td>\n      <td>http://www.tate.org.uk/art/images/work/A/A00/A...</td>\n      <td>http://www.tate.org.uk/art/artworks/blake-ciam...</td>\n    </tr>\n    <tr>\n      <th>6</th>\n      <td>1041</td>\n      <td>A00007</td>\n      <td>Blake, William</td>\n      <td>artist</td>\n      <td>39</td>\n      <td>The Baffled Devils Fighting</td>\n      <td>1826–7, reprinted 1892</td>\n      <td>Line engraving on paper</td>\n      <td>Purchased with the assistance of a special gra...</td>\n      <td>1826.0</td>\n      <td>1919</td>\n      <td>image: 242 x 334 mm</td>\n      <td>242.0</td>\n      <td>334.0</td>\n      <td>NaN</td>\n      <td>mm</td>\n      <td>NaN</td>\n      <td>NaN</td>\n      <td>http://www.tate.org.uk/art/images/work/A/A00/A...</td>\n      <td>http://www.tate.org.uk/art/artworks/blake-the-...</td>\n    </tr>\n    <tr>\n      <th>7</th>\n      <td>1042</td>\n      <td>A00008</td>\n      <td>Blake, William</td>\n      <td>artist</td>\n      <td>39</td>\n      <td>The Six-Footed Serpent Attacking Agnolo Brunel...</td>\n      <td>1826–7, reprinted 1892</td>\n      <td>Line engraving on paper</td>\n      <td>Purchased with the assistance of a special gra...</td>\n      <td>1826.0</td>\n      <td>1919</td>\n      <td>image: 246 x 340 mm</td>\n      <td>246.0</td>\n      <td>340.0</td>\n      <td>NaN</td>\n      <td>mm</td>\n      <td>NaN</td>\n      <td>NaN</td>\n      <td>http://www.tate.org.uk/art/images/work/A/A00/A...</td>\n      <td>http://www.tate.org.uk/art/artworks/blake-the-...</td>\n    </tr>\n    <tr>\n      <th>8</th>\n      <td>1043</td>\n      <td>A00009</td>\n      <td>Blake, William</td>\n      <td>artist</td>\n      <td>39</td>\n      <td>The Serpent Attacking Buoso Donati</td>\n      <td>1826–7, reprinted 1892</td>\n      <td>Line engraving on paper</td>\n      <td>Purchased with the assistance of a special gra...</td>\n      <td>1826.0</td>\n      <td>1919</td>\n      <td>image: 241 x 335 mm</td>\n      <td>241.0</td>\n      <td>335.0</td>\n      <td>NaN</td>\n      <td>mm</td>\n      <td>NaN</td>\n      <td>NaN</td>\n      <td>http://www.tate.org.uk/art/images/work/A/A00/A...</td>\n      <td>http://www.tate.org.uk/art/artworks/blake-the-...</td>\n    </tr>\n    <tr>\n      <th>9</th>\n      <td>1044</td>\n      <td>A00010</td>\n      <td>Blake, William</td>\n      <td>artist</td>\n      <td>39</td>\n      <td>The Pit of Disease: The Falsifiers</td>\n      <td>1826–7, reprinted 1892</td>\n      <td>Line engraving on paper</td>\n      <td>Purchased with the assistance of a special gra...</td>\n      <td>1826.0</td>\n      <td>1919</td>\n      <td>image: 243 x 340 mm</td>\n      <td>243.0</td>\n      <td>340.0</td>\n      <td>NaN</td>\n      <td>mm</td>\n      <td>NaN</td>\n      <td>NaN</td>\n      <td>http://www.tate.org.uk/art/images/work/A/A00/A...</td>\n      <td>http://www.tate.org.uk/art/artworks/blake-the-...</td>\n    </tr>\n  </tbody>\n</table>\n</div>"
     },
     "execution_count": 63,
     "metadata": {},
     "output_type": "execute_result"
    }
   ],
   "source": [
    "data"
   ],
   "metadata": {
    "collapsed": false,
    "pycharm": {
     "name": "#%%\n"
    }
   }
  },
  {
   "cell_type": "code",
   "execution_count": 64,
   "outputs": [
    {
     "data": {
      "text/plain": "          artist                                             medium\n0  Blake, Robert  Watercolour, ink, chalk and graphite on paper....\n1  Blake, Robert                                  Graphite on paper\n2  Blake, Robert        Graphite on paper. Verso: graphite on paper\n3  Blake, Robert                                  Graphite on paper",
      "text/html": "<div>\n<style scoped>\n    .dataframe tbody tr th:only-of-type {\n        vertical-align: middle;\n    }\n\n    .dataframe tbody tr th {\n        vertical-align: top;\n    }\n\n    .dataframe thead th {\n        text-align: right;\n    }\n</style>\n<table border=\"1\" class=\"dataframe\">\n  <thead>\n    <tr style=\"text-align: right;\">\n      <th></th>\n      <th>artist</th>\n      <th>medium</th>\n    </tr>\n  </thead>\n  <tbody>\n    <tr>\n      <th>0</th>\n      <td>Blake, Robert</td>\n      <td>Watercolour, ink, chalk and graphite on paper....</td>\n    </tr>\n    <tr>\n      <th>1</th>\n      <td>Blake, Robert</td>\n      <td>Graphite on paper</td>\n    </tr>\n    <tr>\n      <th>2</th>\n      <td>Blake, Robert</td>\n      <td>Graphite on paper. Verso: graphite on paper</td>\n    </tr>\n    <tr>\n      <th>3</th>\n      <td>Blake, Robert</td>\n      <td>Graphite on paper</td>\n    </tr>\n  </tbody>\n</table>\n</div>"
     },
     "execution_count": 64,
     "metadata": {},
     "output_type": "execute_result"
    }
   ],
   "source": [
    "data.loc[data.medium.str.contains('Graphite', case=False), ['artist', 'medium']]"
   ],
   "metadata": {
    "collapsed": false,
    "pycharm": {
     "name": "#%%\n"
    }
   }
  },
  {
   "cell_type": "code",
   "execution_count": 66,
   "outputs": [
    {
     "data": {
      "text/plain": "           artist                                             medium\n0   Blake, Robert  Watercolour, ink, chalk and graphite on paper....\n1   Blake, Robert                                  Graphite on paper\n2   Blake, Robert        Graphite on paper. Verso: graphite on paper\n3   Blake, Robert                                  Graphite on paper\n4  Blake, William                            Line engraving on paper\n5  Blake, William                            Line engraving on paper\n6  Blake, William                            Line engraving on paper\n7  Blake, William                            Line engraving on paper\n8  Blake, William                            Line engraving on paper\n9  Blake, William                            Line engraving on paper",
      "text/html": "<div>\n<style scoped>\n    .dataframe tbody tr th:only-of-type {\n        vertical-align: middle;\n    }\n\n    .dataframe tbody tr th {\n        vertical-align: top;\n    }\n\n    .dataframe thead th {\n        text-align: right;\n    }\n</style>\n<table border=\"1\" class=\"dataframe\">\n  <thead>\n    <tr style=\"text-align: right;\">\n      <th></th>\n      <th>artist</th>\n      <th>medium</th>\n    </tr>\n  </thead>\n  <tbody>\n    <tr>\n      <th>0</th>\n      <td>Blake, Robert</td>\n      <td>Watercolour, ink, chalk and graphite on paper....</td>\n    </tr>\n    <tr>\n      <th>1</th>\n      <td>Blake, Robert</td>\n      <td>Graphite on paper</td>\n    </tr>\n    <tr>\n      <th>2</th>\n      <td>Blake, Robert</td>\n      <td>Graphite on paper. Verso: graphite on paper</td>\n    </tr>\n    <tr>\n      <th>3</th>\n      <td>Blake, Robert</td>\n      <td>Graphite on paper</td>\n    </tr>\n    <tr>\n      <th>4</th>\n      <td>Blake, William</td>\n      <td>Line engraving on paper</td>\n    </tr>\n    <tr>\n      <th>5</th>\n      <td>Blake, William</td>\n      <td>Line engraving on paper</td>\n    </tr>\n    <tr>\n      <th>6</th>\n      <td>Blake, William</td>\n      <td>Line engraving on paper</td>\n    </tr>\n    <tr>\n      <th>7</th>\n      <td>Blake, William</td>\n      <td>Line engraving on paper</td>\n    </tr>\n    <tr>\n      <th>8</th>\n      <td>Blake, William</td>\n      <td>Line engraving on paper</td>\n    </tr>\n    <tr>\n      <th>9</th>\n      <td>Blake, William</td>\n      <td>Line engraving on paper</td>\n    </tr>\n  </tbody>\n</table>\n</div>"
     },
     "execution_count": 66,
     "metadata": {},
     "output_type": "execute_result"
    }
   ],
   "source": [
    "data.loc[data.medium.str.contains('(?i)Graphite', regex=True) | data.medium.str.contains('(?i)Line', regex=True), ['artist', 'medium']]"
   ],
   "metadata": {
    "collapsed": false,
    "pycharm": {
     "name": "#%%\n"
    }
   }
  },
  {
   "cell_type": "code",
   "execution_count": 67,
   "outputs": [
    {
     "data": {
      "text/plain": "           artist                                             medium  \\\n0   Blake, Robert  Watercolour, ink, chalk and graphite on paper....   \n1   Blake, Robert                                  Graphite on paper   \n2   Blake, Robert        Graphite on paper. Verso: graphite on paper   \n3   Blake, Robert                                  Graphite on paper   \n4  Blake, William                            Line engraving on paper   \n5  Blake, William                            Line engraving on paper   \n6  Blake, William                            Line engraving on paper   \n7  Blake, William                            Line engraving on paper   \n8  Blake, William                            Line engraving on paper   \n9  Blake, William                            Line engraving on paper   \n\n                                               title  \n0  A Figure Bowing before a Seated Old Man with h...  \n1  Two Drawings of Frightened Figures, Probably f...  \n2  The Preaching of Warning. Verso: An Old Man En...  \n3     Six Drawings of Figures with Outstretched Arms  \n4  The Circle of the Lustful: Francesca da Rimini...  \n5      Ciampolo the Barrator Tormented by the Devils  \n6                        The Baffled Devils Fighting  \n7  The Six-Footed Serpent Attacking Agnolo Brunel...  \n8                 The Serpent Attacking Buoso Donati  \n9                 The Pit of Disease: The Falsifiers  ",
      "text/html": "<div>\n<style scoped>\n    .dataframe tbody tr th:only-of-type {\n        vertical-align: middle;\n    }\n\n    .dataframe tbody tr th {\n        vertical-align: top;\n    }\n\n    .dataframe thead th {\n        text-align: right;\n    }\n</style>\n<table border=\"1\" class=\"dataframe\">\n  <thead>\n    <tr style=\"text-align: right;\">\n      <th></th>\n      <th>artist</th>\n      <th>medium</th>\n      <th>title</th>\n    </tr>\n  </thead>\n  <tbody>\n    <tr>\n      <th>0</th>\n      <td>Blake, Robert</td>\n      <td>Watercolour, ink, chalk and graphite on paper....</td>\n      <td>A Figure Bowing before a Seated Old Man with h...</td>\n    </tr>\n    <tr>\n      <th>1</th>\n      <td>Blake, Robert</td>\n      <td>Graphite on paper</td>\n      <td>Two Drawings of Frightened Figures, Probably f...</td>\n    </tr>\n    <tr>\n      <th>2</th>\n      <td>Blake, Robert</td>\n      <td>Graphite on paper. Verso: graphite on paper</td>\n      <td>The Preaching of Warning. Verso: An Old Man En...</td>\n    </tr>\n    <tr>\n      <th>3</th>\n      <td>Blake, Robert</td>\n      <td>Graphite on paper</td>\n      <td>Six Drawings of Figures with Outstretched Arms</td>\n    </tr>\n    <tr>\n      <th>4</th>\n      <td>Blake, William</td>\n      <td>Line engraving on paper</td>\n      <td>The Circle of the Lustful: Francesca da Rimini...</td>\n    </tr>\n    <tr>\n      <th>5</th>\n      <td>Blake, William</td>\n      <td>Line engraving on paper</td>\n      <td>Ciampolo the Barrator Tormented by the Devils</td>\n    </tr>\n    <tr>\n      <th>6</th>\n      <td>Blake, William</td>\n      <td>Line engraving on paper</td>\n      <td>The Baffled Devils Fighting</td>\n    </tr>\n    <tr>\n      <th>7</th>\n      <td>Blake, William</td>\n      <td>Line engraving on paper</td>\n      <td>The Six-Footed Serpent Attacking Agnolo Brunel...</td>\n    </tr>\n    <tr>\n      <th>8</th>\n      <td>Blake, William</td>\n      <td>Line engraving on paper</td>\n      <td>The Serpent Attacking Buoso Donati</td>\n    </tr>\n    <tr>\n      <th>9</th>\n      <td>Blake, William</td>\n      <td>Line engraving on paper</td>\n      <td>The Pit of Disease: The Falsifiers</td>\n    </tr>\n  </tbody>\n</table>\n</div>"
     },
     "execution_count": 67,
     "metadata": {},
     "output_type": "execute_result"
    }
   ],
   "source": [
    "data.loc[data.medium.str.contains('graphite|line', case=False, regex=True), ['artist', 'medium', 'title']]"
   ],
   "metadata": {
    "collapsed": false,
    "pycharm": {
     "name": "#%%\n"
    }
   }
  },
  {
   "cell_type": "code",
   "execution_count": 68,
   "outputs": [
    {
     "data": {
      "text/plain": "id                      int64\naccession_number       object\nartist                 object\nartistRole             object\nartistId                int64\ntitle                  object\ndateText               object\nmedium                 object\ncreditLine             object\nyear                  float64\nacquisitionYear         int64\ndimensions             object\nwidth                 float64\nheight                float64\ndepth                 float64\nunits                  object\ninscription           float64\nthumbnailCopyright    float64\nthumbnailUrl           object\nurl                    object\ndtype: object"
     },
     "execution_count": 68,
     "metadata": {},
     "output_type": "execute_result"
    }
   ],
   "source": [
    "data.dtypes"
   ],
   "metadata": {
    "collapsed": false,
    "pycharm": {
     "name": "#%%\n"
    }
   }
  },
  {
   "cell_type": "code",
   "execution_count": 69,
   "outputs": [
    {
     "ename": "AttributeError",
     "evalue": "Can only use .str accessor with string values!",
     "output_type": "error",
     "traceback": [
      "\u001B[1;31m---------------------------------------------------------------------------\u001B[0m",
      "\u001B[1;31mAttributeError\u001B[0m                            Traceback (most recent call last)",
      "Input \u001B[1;32mIn [69]\u001B[0m, in \u001B[0;36m<cell line: 1>\u001B[1;34m()\u001B[0m\n\u001B[1;32m----> 1\u001B[0m \u001B[43mdata\u001B[49m\u001B[38;5;241;43m.\u001B[39;49m\u001B[43myear\u001B[49m\u001B[38;5;241;43m.\u001B[39;49m\u001B[43mstr\u001B[49m\u001B[38;5;241m.\u001B[39mcontains(\u001B[38;5;124m'\u001B[39m\u001B[38;5;124m1826\u001B[39m\u001B[38;5;124m'\u001B[39m)\n",
      "File \u001B[1;32mC:\\Python310\\lib\\site-packages\\pandas\\core\\generic.py:5583\u001B[0m, in \u001B[0;36mNDFrame.__getattr__\u001B[1;34m(self, name)\u001B[0m\n\u001B[0;32m   5576\u001B[0m \u001B[38;5;28;01mif\u001B[39;00m (\n\u001B[0;32m   5577\u001B[0m     name \u001B[38;5;129;01mnot\u001B[39;00m \u001B[38;5;129;01min\u001B[39;00m \u001B[38;5;28mself\u001B[39m\u001B[38;5;241m.\u001B[39m_internal_names_set\n\u001B[0;32m   5578\u001B[0m     \u001B[38;5;129;01mand\u001B[39;00m name \u001B[38;5;129;01mnot\u001B[39;00m \u001B[38;5;129;01min\u001B[39;00m \u001B[38;5;28mself\u001B[39m\u001B[38;5;241m.\u001B[39m_metadata\n\u001B[0;32m   5579\u001B[0m     \u001B[38;5;129;01mand\u001B[39;00m name \u001B[38;5;129;01mnot\u001B[39;00m \u001B[38;5;129;01min\u001B[39;00m \u001B[38;5;28mself\u001B[39m\u001B[38;5;241m.\u001B[39m_accessors\n\u001B[0;32m   5580\u001B[0m     \u001B[38;5;129;01mand\u001B[39;00m \u001B[38;5;28mself\u001B[39m\u001B[38;5;241m.\u001B[39m_info_axis\u001B[38;5;241m.\u001B[39m_can_hold_identifiers_and_holds_name(name)\n\u001B[0;32m   5581\u001B[0m ):\n\u001B[0;32m   5582\u001B[0m     \u001B[38;5;28;01mreturn\u001B[39;00m \u001B[38;5;28mself\u001B[39m[name]\n\u001B[1;32m-> 5583\u001B[0m \u001B[38;5;28;01mreturn\u001B[39;00m \u001B[38;5;28;43mobject\u001B[39;49m\u001B[38;5;241;43m.\u001B[39;49m\u001B[38;5;21;43m__getattribute__\u001B[39;49m\u001B[43m(\u001B[49m\u001B[38;5;28;43mself\u001B[39;49m\u001B[43m,\u001B[49m\u001B[43m \u001B[49m\u001B[43mname\u001B[49m\u001B[43m)\u001B[49m\n",
      "File \u001B[1;32mC:\\Python310\\lib\\site-packages\\pandas\\core\\accessor.py:182\u001B[0m, in \u001B[0;36mCachedAccessor.__get__\u001B[1;34m(self, obj, cls)\u001B[0m\n\u001B[0;32m    179\u001B[0m \u001B[38;5;28;01mif\u001B[39;00m obj \u001B[38;5;129;01mis\u001B[39;00m \u001B[38;5;28;01mNone\u001B[39;00m:\n\u001B[0;32m    180\u001B[0m     \u001B[38;5;66;03m# we're accessing the attribute of the class, i.e., Dataset.geo\u001B[39;00m\n\u001B[0;32m    181\u001B[0m     \u001B[38;5;28;01mreturn\u001B[39;00m \u001B[38;5;28mself\u001B[39m\u001B[38;5;241m.\u001B[39m_accessor\n\u001B[1;32m--> 182\u001B[0m accessor_obj \u001B[38;5;241m=\u001B[39m \u001B[38;5;28;43mself\u001B[39;49m\u001B[38;5;241;43m.\u001B[39;49m\u001B[43m_accessor\u001B[49m\u001B[43m(\u001B[49m\u001B[43mobj\u001B[49m\u001B[43m)\u001B[49m\n\u001B[0;32m    183\u001B[0m \u001B[38;5;66;03m# Replace the property with the accessor object. Inspired by:\u001B[39;00m\n\u001B[0;32m    184\u001B[0m \u001B[38;5;66;03m# https://www.pydanny.com/cached-property.html\u001B[39;00m\n\u001B[0;32m    185\u001B[0m \u001B[38;5;66;03m# We need to use object.__setattr__ because we overwrite __setattr__ on\u001B[39;00m\n\u001B[0;32m    186\u001B[0m \u001B[38;5;66;03m# NDFrame\u001B[39;00m\n\u001B[0;32m    187\u001B[0m \u001B[38;5;28mobject\u001B[39m\u001B[38;5;241m.\u001B[39m\u001B[38;5;21m__setattr__\u001B[39m(obj, \u001B[38;5;28mself\u001B[39m\u001B[38;5;241m.\u001B[39m_name, accessor_obj)\n",
      "File \u001B[1;32mC:\\Python310\\lib\\site-packages\\pandas\\core\\strings\\accessor.py:177\u001B[0m, in \u001B[0;36mStringMethods.__init__\u001B[1;34m(self, data)\u001B[0m\n\u001B[0;32m    174\u001B[0m \u001B[38;5;28;01mdef\u001B[39;00m \u001B[38;5;21m__init__\u001B[39m(\u001B[38;5;28mself\u001B[39m, data):\n\u001B[0;32m    175\u001B[0m     \u001B[38;5;28;01mfrom\u001B[39;00m \u001B[38;5;21;01mpandas\u001B[39;00m\u001B[38;5;21;01m.\u001B[39;00m\u001B[38;5;21;01mcore\u001B[39;00m\u001B[38;5;21;01m.\u001B[39;00m\u001B[38;5;21;01marrays\u001B[39;00m\u001B[38;5;21;01m.\u001B[39;00m\u001B[38;5;21;01mstring_\u001B[39;00m \u001B[38;5;28;01mimport\u001B[39;00m StringDtype\n\u001B[1;32m--> 177\u001B[0m     \u001B[38;5;28mself\u001B[39m\u001B[38;5;241m.\u001B[39m_inferred_dtype \u001B[38;5;241m=\u001B[39m \u001B[38;5;28;43mself\u001B[39;49m\u001B[38;5;241;43m.\u001B[39;49m\u001B[43m_validate\u001B[49m\u001B[43m(\u001B[49m\u001B[43mdata\u001B[49m\u001B[43m)\u001B[49m\n\u001B[0;32m    178\u001B[0m     \u001B[38;5;28mself\u001B[39m\u001B[38;5;241m.\u001B[39m_is_categorical \u001B[38;5;241m=\u001B[39m is_categorical_dtype(data\u001B[38;5;241m.\u001B[39mdtype)\n\u001B[0;32m    179\u001B[0m     \u001B[38;5;28mself\u001B[39m\u001B[38;5;241m.\u001B[39m_is_string \u001B[38;5;241m=\u001B[39m \u001B[38;5;28misinstance\u001B[39m(data\u001B[38;5;241m.\u001B[39mdtype, StringDtype)\n",
      "File \u001B[1;32mC:\\Python310\\lib\\site-packages\\pandas\\core\\strings\\accessor.py:231\u001B[0m, in \u001B[0;36mStringMethods._validate\u001B[1;34m(data)\u001B[0m\n\u001B[0;32m    228\u001B[0m inferred_dtype \u001B[38;5;241m=\u001B[39m lib\u001B[38;5;241m.\u001B[39minfer_dtype(values, skipna\u001B[38;5;241m=\u001B[39m\u001B[38;5;28;01mTrue\u001B[39;00m)\n\u001B[0;32m    230\u001B[0m \u001B[38;5;28;01mif\u001B[39;00m inferred_dtype \u001B[38;5;129;01mnot\u001B[39;00m \u001B[38;5;129;01min\u001B[39;00m allowed_types:\n\u001B[1;32m--> 231\u001B[0m     \u001B[38;5;28;01mraise\u001B[39;00m \u001B[38;5;167;01mAttributeError\u001B[39;00m(\u001B[38;5;124m\"\u001B[39m\u001B[38;5;124mCan only use .str accessor with string values!\u001B[39m\u001B[38;5;124m\"\u001B[39m)\n\u001B[0;32m    232\u001B[0m \u001B[38;5;28;01mreturn\u001B[39;00m inferred_dtype\n",
      "\u001B[1;31mAttributeError\u001B[0m: Can only use .str accessor with string values!"
     ]
    }
   ],
   "source": [
    "data.year.str.contains('1826')"
   ],
   "metadata": {
    "collapsed": false,
    "pycharm": {
     "name": "#%%\n"
    }
   }
  },
  {
   "cell_type": "code",
   "execution_count": 70,
   "outputs": [
    {
     "data": {
      "text/plain": "0    False\n1    False\n2    False\n3    False\n4     True\n5     True\n6     True\n7     True\n8     True\n9     True\nName: year, dtype: bool"
     },
     "execution_count": 70,
     "metadata": {},
     "output_type": "execute_result"
    }
   ],
   "source": [
    "data.year.astype(str).str.contains('1826')"
   ],
   "metadata": {
    "collapsed": false,
    "pycharm": {
     "name": "#%%\n"
    }
   }
  },
  {
   "cell_type": "code",
   "execution_count": 72,
   "outputs": [
    {
     "data": {
      "text/plain": "                                               title    year\n4  The Circle of the Lustful: Francesca da Rimini...  1826.0\n5      Ciampolo the Barrator Tormented by the Devils  1826.0\n6                        The Baffled Devils Fighting  1826.0\n7  The Six-Footed Serpent Attacking Agnolo Brunel...  1826.0\n8                 The Serpent Attacking Buoso Donati  1826.0\n9                 The Pit of Disease: The Falsifiers  1826.0",
      "text/html": "<div>\n<style scoped>\n    .dataframe tbody tr th:only-of-type {\n        vertical-align: middle;\n    }\n\n    .dataframe tbody tr th {\n        vertical-align: top;\n    }\n\n    .dataframe thead th {\n        text-align: right;\n    }\n</style>\n<table border=\"1\" class=\"dataframe\">\n  <thead>\n    <tr style=\"text-align: right;\">\n      <th></th>\n      <th>title</th>\n      <th>year</th>\n    </tr>\n  </thead>\n  <tbody>\n    <tr>\n      <th>4</th>\n      <td>The Circle of the Lustful: Francesca da Rimini...</td>\n      <td>1826.0</td>\n    </tr>\n    <tr>\n      <th>5</th>\n      <td>Ciampolo the Barrator Tormented by the Devils</td>\n      <td>1826.0</td>\n    </tr>\n    <tr>\n      <th>6</th>\n      <td>The Baffled Devils Fighting</td>\n      <td>1826.0</td>\n    </tr>\n    <tr>\n      <th>7</th>\n      <td>The Six-Footed Serpent Attacking Agnolo Brunel...</td>\n      <td>1826.0</td>\n    </tr>\n    <tr>\n      <th>8</th>\n      <td>The Serpent Attacking Buoso Donati</td>\n      <td>1826.0</td>\n    </tr>\n    <tr>\n      <th>9</th>\n      <td>The Pit of Disease: The Falsifiers</td>\n      <td>1826.0</td>\n    </tr>\n  </tbody>\n</table>\n</div>"
     },
     "execution_count": 72,
     "metadata": {},
     "output_type": "execute_result"
    }
   ],
   "source": [
    "data.loc[data.year.astype(str).str.contains('1826'), ['title', 'year']]"
   ],
   "metadata": {
    "collapsed": false,
    "pycharm": {
     "name": "#%%\n"
    }
   }
  },
  {
   "cell_type": "code",
   "execution_count": 73,
   "outputs": [],
   "source": [
    "data = pd.read_csv('./data/artwork_data.csv', low_memory=False)"
   ],
   "metadata": {
    "collapsed": false,
    "pycharm": {
     "name": "#%%\n"
    }
   }
  },
  {
   "cell_type": "code",
   "execution_count": 74,
   "outputs": [
    {
     "data": {
      "text/plain": "     id accession_number          artist artistRole  artistId  \\\n0  1035           A00001   Blake, Robert     artist        38   \n1  1036           A00002   Blake, Robert     artist        38   \n2  1037           A00003   Blake, Robert     artist        38   \n3  1038           A00004   Blake, Robert     artist        38   \n4  1039           A00005  Blake, William     artist        39   \n\n                                               title                dateText  \\\n0  A Figure Bowing before a Seated Old Man with h...          date not known   \n1  Two Drawings of Frightened Figures, Probably f...          date not known   \n2  The Preaching of Warning. Verso: An Old Man En...                 ?c.1785   \n3     Six Drawings of Figures with Outstretched Arms          date not known   \n4  The Circle of the Lustful: Francesca da Rimini...  1826–7, reprinted 1892   \n\n                                              medium  \\\n0  Watercolour, ink, chalk and graphite on paper....   \n1                                  Graphite on paper   \n2        Graphite on paper. Verso: graphite on paper   \n3                                  Graphite on paper   \n4                            Line engraving on paper   \n\n                                          creditLine  year  acquisitionYear  \\\n0                Presented by Mrs John Richmond 1922   NaN           1922.0   \n1                Presented by Mrs John Richmond 1922   NaN           1922.0   \n2                Presented by Mrs John Richmond 1922  1785           1922.0   \n3                Presented by Mrs John Richmond 1922   NaN           1922.0   \n4  Purchased with the assistance of a special gra...  1826           1919.0   \n\n              dimensions width height  depth units inscription  \\\n0  support: 394 x 419 mm   394    419    NaN    mm         NaN   \n1  support: 311 x 213 mm   311    213    NaN    mm         NaN   \n2  support: 343 x 467 mm   343    467    NaN    mm         NaN   \n3  support: 318 x 394 mm   318    394    NaN    mm         NaN   \n4    image: 243 x 335 mm   243    335    NaN    mm         NaN   \n\n  thumbnailCopyright                                       thumbnailUrl  \\\n0                NaN  http://www.tate.org.uk/art/images/work/A/A00/A...   \n1                NaN  http://www.tate.org.uk/art/images/work/A/A00/A...   \n2                NaN  http://www.tate.org.uk/art/images/work/A/A00/A...   \n3                NaN  http://www.tate.org.uk/art/images/work/A/A00/A...   \n4                NaN  http://www.tate.org.uk/art/images/work/A/A00/A...   \n\n                                                 url  \n0  http://www.tate.org.uk/art/artworks/blake-a-fi...  \n1  http://www.tate.org.uk/art/artworks/blake-two-...  \n2  http://www.tate.org.uk/art/artworks/blake-the-...  \n3  http://www.tate.org.uk/art/artworks/blake-six-...  \n4  http://www.tate.org.uk/art/artworks/blake-the-...  ",
      "text/html": "<div>\n<style scoped>\n    .dataframe tbody tr th:only-of-type {\n        vertical-align: middle;\n    }\n\n    .dataframe tbody tr th {\n        vertical-align: top;\n    }\n\n    .dataframe thead th {\n        text-align: right;\n    }\n</style>\n<table border=\"1\" class=\"dataframe\">\n  <thead>\n    <tr style=\"text-align: right;\">\n      <th></th>\n      <th>id</th>\n      <th>accession_number</th>\n      <th>artist</th>\n      <th>artistRole</th>\n      <th>artistId</th>\n      <th>title</th>\n      <th>dateText</th>\n      <th>medium</th>\n      <th>creditLine</th>\n      <th>year</th>\n      <th>acquisitionYear</th>\n      <th>dimensions</th>\n      <th>width</th>\n      <th>height</th>\n      <th>depth</th>\n      <th>units</th>\n      <th>inscription</th>\n      <th>thumbnailCopyright</th>\n      <th>thumbnailUrl</th>\n      <th>url</th>\n    </tr>\n  </thead>\n  <tbody>\n    <tr>\n      <th>0</th>\n      <td>1035</td>\n      <td>A00001</td>\n      <td>Blake, Robert</td>\n      <td>artist</td>\n      <td>38</td>\n      <td>A Figure Bowing before a Seated Old Man with h...</td>\n      <td>date not known</td>\n      <td>Watercolour, ink, chalk and graphite on paper....</td>\n      <td>Presented by Mrs John Richmond 1922</td>\n      <td>NaN</td>\n      <td>1922.0</td>\n      <td>support: 394 x 419 mm</td>\n      <td>394</td>\n      <td>419</td>\n      <td>NaN</td>\n      <td>mm</td>\n      <td>NaN</td>\n      <td>NaN</td>\n      <td>http://www.tate.org.uk/art/images/work/A/A00/A...</td>\n      <td>http://www.tate.org.uk/art/artworks/blake-a-fi...</td>\n    </tr>\n    <tr>\n      <th>1</th>\n      <td>1036</td>\n      <td>A00002</td>\n      <td>Blake, Robert</td>\n      <td>artist</td>\n      <td>38</td>\n      <td>Two Drawings of Frightened Figures, Probably f...</td>\n      <td>date not known</td>\n      <td>Graphite on paper</td>\n      <td>Presented by Mrs John Richmond 1922</td>\n      <td>NaN</td>\n      <td>1922.0</td>\n      <td>support: 311 x 213 mm</td>\n      <td>311</td>\n      <td>213</td>\n      <td>NaN</td>\n      <td>mm</td>\n      <td>NaN</td>\n      <td>NaN</td>\n      <td>http://www.tate.org.uk/art/images/work/A/A00/A...</td>\n      <td>http://www.tate.org.uk/art/artworks/blake-two-...</td>\n    </tr>\n    <tr>\n      <th>2</th>\n      <td>1037</td>\n      <td>A00003</td>\n      <td>Blake, Robert</td>\n      <td>artist</td>\n      <td>38</td>\n      <td>The Preaching of Warning. Verso: An Old Man En...</td>\n      <td>?c.1785</td>\n      <td>Graphite on paper. Verso: graphite on paper</td>\n      <td>Presented by Mrs John Richmond 1922</td>\n      <td>1785</td>\n      <td>1922.0</td>\n      <td>support: 343 x 467 mm</td>\n      <td>343</td>\n      <td>467</td>\n      <td>NaN</td>\n      <td>mm</td>\n      <td>NaN</td>\n      <td>NaN</td>\n      <td>http://www.tate.org.uk/art/images/work/A/A00/A...</td>\n      <td>http://www.tate.org.uk/art/artworks/blake-the-...</td>\n    </tr>\n    <tr>\n      <th>3</th>\n      <td>1038</td>\n      <td>A00004</td>\n      <td>Blake, Robert</td>\n      <td>artist</td>\n      <td>38</td>\n      <td>Six Drawings of Figures with Outstretched Arms</td>\n      <td>date not known</td>\n      <td>Graphite on paper</td>\n      <td>Presented by Mrs John Richmond 1922</td>\n      <td>NaN</td>\n      <td>1922.0</td>\n      <td>support: 318 x 394 mm</td>\n      <td>318</td>\n      <td>394</td>\n      <td>NaN</td>\n      <td>mm</td>\n      <td>NaN</td>\n      <td>NaN</td>\n      <td>http://www.tate.org.uk/art/images/work/A/A00/A...</td>\n      <td>http://www.tate.org.uk/art/artworks/blake-six-...</td>\n    </tr>\n    <tr>\n      <th>4</th>\n      <td>1039</td>\n      <td>A00005</td>\n      <td>Blake, William</td>\n      <td>artist</td>\n      <td>39</td>\n      <td>The Circle of the Lustful: Francesca da Rimini...</td>\n      <td>1826–7, reprinted 1892</td>\n      <td>Line engraving on paper</td>\n      <td>Purchased with the assistance of a special gra...</td>\n      <td>1826</td>\n      <td>1919.0</td>\n      <td>image: 243 x 335 mm</td>\n      <td>243</td>\n      <td>335</td>\n      <td>NaN</td>\n      <td>mm</td>\n      <td>NaN</td>\n      <td>NaN</td>\n      <td>http://www.tate.org.uk/art/images/work/A/A00/A...</td>\n      <td>http://www.tate.org.uk/art/artworks/blake-the-...</td>\n    </tr>\n  </tbody>\n</table>\n</div>"
     },
     "execution_count": 74,
     "metadata": {},
     "output_type": "execute_result"
    }
   ],
   "source": [
    "data.head()"
   ],
   "metadata": {
    "collapsed": false,
    "pycharm": {
     "name": "#%%\n"
    }
   }
  },
  {
   "cell_type": "code",
   "execution_count": 75,
   "outputs": [
    {
     "ename": "ValueError",
     "evalue": "Cannot mask with non-boolean array containing NA / NaN values",
     "output_type": "error",
     "traceback": [
      "\u001B[1;31m---------------------------------------------------------------------------\u001B[0m",
      "\u001B[1;31mValueError\u001B[0m                                Traceback (most recent call last)",
      "Input \u001B[1;32mIn [75]\u001B[0m, in \u001B[0;36m<cell line: 1>\u001B[1;34m()\u001B[0m\n\u001B[1;32m----> 1\u001B[0m \u001B[43mdata\u001B[49m\u001B[38;5;241;43m.\u001B[39;49m\u001B[43mloc\u001B[49m\u001B[43m[\u001B[49m\u001B[43mdata\u001B[49m\u001B[38;5;241;43m.\u001B[39;49m\u001B[43mdimensions\u001B[49m\u001B[38;5;241;43m.\u001B[39;49m\u001B[43mstr\u001B[49m\u001B[38;5;241;43m.\u001B[39;49m\u001B[43mcontains\u001B[49m\u001B[43m(\u001B[49m\u001B[38;5;124;43m'\u001B[39;49m\u001B[38;5;124;43msupport\u001B[39;49m\u001B[38;5;124;43m'\u001B[39;49m\u001B[43m)\u001B[49m\u001B[43m]\u001B[49m\n",
      "File \u001B[1;32mC:\\Python310\\lib\\site-packages\\pandas\\core\\indexing.py:967\u001B[0m, in \u001B[0;36m_LocationIndexer.__getitem__\u001B[1;34m(self, key)\u001B[0m\n\u001B[0;32m    964\u001B[0m axis \u001B[38;5;241m=\u001B[39m \u001B[38;5;28mself\u001B[39m\u001B[38;5;241m.\u001B[39maxis \u001B[38;5;129;01mor\u001B[39;00m \u001B[38;5;241m0\u001B[39m\n\u001B[0;32m    966\u001B[0m maybe_callable \u001B[38;5;241m=\u001B[39m com\u001B[38;5;241m.\u001B[39mapply_if_callable(key, \u001B[38;5;28mself\u001B[39m\u001B[38;5;241m.\u001B[39mobj)\n\u001B[1;32m--> 967\u001B[0m \u001B[38;5;28;01mreturn\u001B[39;00m \u001B[38;5;28;43mself\u001B[39;49m\u001B[38;5;241;43m.\u001B[39;49m\u001B[43m_getitem_axis\u001B[49m\u001B[43m(\u001B[49m\u001B[43mmaybe_callable\u001B[49m\u001B[43m,\u001B[49m\u001B[43m \u001B[49m\u001B[43maxis\u001B[49m\u001B[38;5;241;43m=\u001B[39;49m\u001B[43maxis\u001B[49m\u001B[43m)\u001B[49m\n",
      "File \u001B[1;32mC:\\Python310\\lib\\site-packages\\pandas\\core\\indexing.py:1181\u001B[0m, in \u001B[0;36m_LocIndexer._getitem_axis\u001B[1;34m(self, key, axis)\u001B[0m\n\u001B[0;32m   1179\u001B[0m     \u001B[38;5;28mself\u001B[39m\u001B[38;5;241m.\u001B[39m_validate_key(key, axis)\n\u001B[0;32m   1180\u001B[0m     \u001B[38;5;28;01mreturn\u001B[39;00m \u001B[38;5;28mself\u001B[39m\u001B[38;5;241m.\u001B[39m_get_slice_axis(key, axis\u001B[38;5;241m=\u001B[39maxis)\n\u001B[1;32m-> 1181\u001B[0m \u001B[38;5;28;01melif\u001B[39;00m \u001B[43mcom\u001B[49m\u001B[38;5;241;43m.\u001B[39;49m\u001B[43mis_bool_indexer\u001B[49m\u001B[43m(\u001B[49m\u001B[43mkey\u001B[49m\u001B[43m)\u001B[49m:\n\u001B[0;32m   1182\u001B[0m     \u001B[38;5;28;01mreturn\u001B[39;00m \u001B[38;5;28mself\u001B[39m\u001B[38;5;241m.\u001B[39m_getbool_axis(key, axis\u001B[38;5;241m=\u001B[39maxis)\n\u001B[0;32m   1183\u001B[0m \u001B[38;5;28;01melif\u001B[39;00m is_list_like_indexer(key):\n\u001B[0;32m   1184\u001B[0m \n\u001B[0;32m   1185\u001B[0m     \u001B[38;5;66;03m# an iterable multi-selection\u001B[39;00m\n",
      "File \u001B[1;32mC:\\Python310\\lib\\site-packages\\pandas\\core\\common.py:144\u001B[0m, in \u001B[0;36mis_bool_indexer\u001B[1;34m(key)\u001B[0m\n\u001B[0;32m    140\u001B[0m     na_msg \u001B[38;5;241m=\u001B[39m \u001B[38;5;124m\"\u001B[39m\u001B[38;5;124mCannot mask with non-boolean array containing NA / NaN values\u001B[39m\u001B[38;5;124m\"\u001B[39m\n\u001B[0;32m    141\u001B[0m     \u001B[38;5;28;01mif\u001B[39;00m lib\u001B[38;5;241m.\u001B[39minfer_dtype(key) \u001B[38;5;241m==\u001B[39m \u001B[38;5;124m\"\u001B[39m\u001B[38;5;124mboolean\u001B[39m\u001B[38;5;124m\"\u001B[39m \u001B[38;5;129;01mand\u001B[39;00m isna(key)\u001B[38;5;241m.\u001B[39many():\n\u001B[0;32m    142\u001B[0m         \u001B[38;5;66;03m# Don't raise on e.g. [\"A\", \"B\", np.nan], see\u001B[39;00m\n\u001B[0;32m    143\u001B[0m         \u001B[38;5;66;03m#  test_loc_getitem_list_of_labels_categoricalindex_with_na\u001B[39;00m\n\u001B[1;32m--> 144\u001B[0m         \u001B[38;5;28;01mraise\u001B[39;00m \u001B[38;5;167;01mValueError\u001B[39;00m(na_msg)\n\u001B[0;32m    145\u001B[0m     \u001B[38;5;28;01mreturn\u001B[39;00m \u001B[38;5;28;01mFalse\u001B[39;00m\n\u001B[0;32m    146\u001B[0m \u001B[38;5;28;01mreturn\u001B[39;00m \u001B[38;5;28;01mTrue\u001B[39;00m\n",
      "\u001B[1;31mValueError\u001B[0m: Cannot mask with non-boolean array containing NA / NaN values"
     ]
    }
   ],
   "source": [
    "data.loc[data.dimensions.str.contains('support')]"
   ],
   "metadata": {
    "collapsed": false,
    "pycharm": {
     "name": "#%%\n"
    }
   }
  },
  {
   "cell_type": "code",
   "execution_count": 77,
   "outputs": [
    {
     "data": {
      "text/plain": "                                                   title  \\\n0      A Figure Bowing before a Seated Old Man with h...   \n1      Two Drawings of Frightened Figures, Probably f...   \n2      The Preaching of Warning. Verso: An Old Man En...   \n3         Six Drawings of Figures with Outstretched Arms   \n32     Sketch for ‘The Four and Twenty Elders Casting...   \n...                                                  ...   \n69170                                           Untitled   \n69171                                           Untitled   \n69172                                           Untitled   \n69173                                           Untitled   \n69178                          Will We Ever Kill The Bug   \n\n                        dimensions  year  \n0            support: 394 x 419 mm   NaN  \n1            support: 311 x 213 mm   NaN  \n2            support: 343 x 467 mm  1785  \n3            support: 318 x 394 mm   NaN  \n32           support: 488 x 389 mm  1803  \n...                            ...   ...  \n69170        support: 560 x 762 mm  2003  \n69171        support: 558 x 760 mm  2003  \n69172        support: 380 x 566 mm  2004  \n69173        support: 560 x 762 mm  2006  \n69178  support, each: 438 x 330 mm  2010  \n\n[49736 rows x 3 columns]",
      "text/html": "<div>\n<style scoped>\n    .dataframe tbody tr th:only-of-type {\n        vertical-align: middle;\n    }\n\n    .dataframe tbody tr th {\n        vertical-align: top;\n    }\n\n    .dataframe thead th {\n        text-align: right;\n    }\n</style>\n<table border=\"1\" class=\"dataframe\">\n  <thead>\n    <tr style=\"text-align: right;\">\n      <th></th>\n      <th>title</th>\n      <th>dimensions</th>\n      <th>year</th>\n    </tr>\n  </thead>\n  <tbody>\n    <tr>\n      <th>0</th>\n      <td>A Figure Bowing before a Seated Old Man with h...</td>\n      <td>support: 394 x 419 mm</td>\n      <td>NaN</td>\n    </tr>\n    <tr>\n      <th>1</th>\n      <td>Two Drawings of Frightened Figures, Probably f...</td>\n      <td>support: 311 x 213 mm</td>\n      <td>NaN</td>\n    </tr>\n    <tr>\n      <th>2</th>\n      <td>The Preaching of Warning. Verso: An Old Man En...</td>\n      <td>support: 343 x 467 mm</td>\n      <td>1785</td>\n    </tr>\n    <tr>\n      <th>3</th>\n      <td>Six Drawings of Figures with Outstretched Arms</td>\n      <td>support: 318 x 394 mm</td>\n      <td>NaN</td>\n    </tr>\n    <tr>\n      <th>32</th>\n      <td>Sketch for ‘The Four and Twenty Elders Casting...</td>\n      <td>support: 488 x 389 mm</td>\n      <td>1803</td>\n    </tr>\n    <tr>\n      <th>...</th>\n      <td>...</td>\n      <td>...</td>\n      <td>...</td>\n    </tr>\n    <tr>\n      <th>69170</th>\n      <td>Untitled</td>\n      <td>support: 560 x 762 mm</td>\n      <td>2003</td>\n    </tr>\n    <tr>\n      <th>69171</th>\n      <td>Untitled</td>\n      <td>support: 558 x 760 mm</td>\n      <td>2003</td>\n    </tr>\n    <tr>\n      <th>69172</th>\n      <td>Untitled</td>\n      <td>support: 380 x 566 mm</td>\n      <td>2004</td>\n    </tr>\n    <tr>\n      <th>69173</th>\n      <td>Untitled</td>\n      <td>support: 560 x 762 mm</td>\n      <td>2006</td>\n    </tr>\n    <tr>\n      <th>69178</th>\n      <td>Will We Ever Kill The Bug</td>\n      <td>support, each: 438 x 330 mm</td>\n      <td>2010</td>\n    </tr>\n  </tbody>\n</table>\n<p>49736 rows × 3 columns</p>\n</div>"
     },
     "execution_count": 77,
     "metadata": {},
     "output_type": "execute_result"
    }
   ],
   "source": [
    "data.loc[data.dimensions.str.contains('support', na=False), ['title','dimensions', 'year',]]"
   ],
   "metadata": {
    "collapsed": false,
    "pycharm": {
     "name": "#%%\n"
    }
   }
  },
  {
   "cell_type": "code",
   "execution_count": null,
   "outputs": [],
   "source": [],
   "metadata": {
    "collapsed": false,
    "pycharm": {
     "name": "#%%\n"
    }
   }
  }
 ],
 "metadata": {
  "kernelspec": {
   "display_name": "Python 3",
   "language": "python",
   "name": "python3"
  },
  "language_info": {
   "codemirror_mode": {
    "name": "ipython",
    "version": 2
   },
   "file_extension": ".py",
   "mimetype": "text/x-python",
   "name": "python",
   "nbconvert_exporter": "python",
   "pygments_lexer": "ipython2",
   "version": "2.7.6"
  }
 },
 "nbformat": 4,
 "nbformat_minor": 0
}