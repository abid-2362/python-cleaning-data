{
 "cells": [
  {
   "cell_type": "markdown",
   "metadata": {
    "collapsed": true,
    "pycharm": {
     "name": "#%% md\n"
    }
   },
   "source": [
    "# Changing Column Cases"
   ]
  },
  {
   "cell_type": "code",
   "execution_count": 1,
   "outputs": [],
   "source": [
    "import pandas as pd\n",
    "data = pd.read_csv('./data/artwork_sample.csv')"
   ],
   "metadata": {
    "collapsed": false,
    "pycharm": {
     "name": "#%%\n"
    }
   }
  },
  {
   "cell_type": "code",
   "execution_count": 2,
   "outputs": [
    {
     "data": {
      "text/plain": "Index(['id', 'accession_number', 'artist', 'artistRole', 'artistId', 'title',\n       'dateText', 'medium', 'creditLine', 'year', 'acquisitionYear',\n       'dimensions', 'width', 'height', 'depth', 'units', 'inscription',\n       'thumbnailCopyright', 'thumbnailUrl', 'url'],\n      dtype='object')"
     },
     "execution_count": 2,
     "metadata": {},
     "output_type": "execute_result"
    }
   ],
   "source": [
    "data.columns"
   ],
   "metadata": {
    "collapsed": false,
    "pycharm": {
     "name": "#%%\n"
    }
   }
  },
  {
   "cell_type": "code",
   "execution_count": 3,
   "outputs": [
    {
     "data": {
      "text/plain": "Index(['id', 'accession_number', 'artist', 'artistrole', 'artistid', 'title',\n       'datetext', 'medium', 'creditline', 'year', 'acquisitionyear',\n       'dimensions', 'width', 'height', 'depth', 'units', 'inscription',\n       'thumbnailcopyright', 'thumbnailurl', 'url'],\n      dtype='object')"
     },
     "execution_count": 3,
     "metadata": {},
     "output_type": "execute_result"
    }
   ],
   "source": [
    "data.columns.str.lower()"
   ],
   "metadata": {
    "collapsed": false,
    "pycharm": {
     "name": "#%%\n"
    }
   }
  },
  {
   "cell_type": "code",
   "execution_count": 4,
   "outputs": [
    {
     "data": {
      "text/plain": "['id',\n 'accession_number',\n 'artist',\n 'artistrole',\n 'artistid',\n 'title',\n 'datetext',\n 'medium',\n 'creditline',\n 'year',\n 'acquisitionyear',\n 'dimensions',\n 'width',\n 'height',\n 'depth',\n 'units',\n 'inscription',\n 'thumbnailcopyright',\n 'thumbnailurl',\n 'url']"
     },
     "execution_count": 4,
     "metadata": {},
     "output_type": "execute_result"
    }
   ],
   "source": [
    "# list comprehension\n",
    "[x.lower() for x in data.columns]"
   ],
   "metadata": {
    "collapsed": false,
    "pycharm": {
     "name": "#%%\n"
    }
   }
  },
  {
   "cell_type": "code",
   "execution_count": 5,
   "outputs": [
    {
     "data": {
      "text/plain": "Index(['id', 'accession_number', 'artist', 'artistRole', 'artistId', 'title',\n       'dateText', 'medium', 'creditLine', 'year', 'acquisitionYear',\n       'dimensions', 'width', 'height', 'depth', 'units', 'inscription',\n       'thumbnailCopyright', 'thumbnailUrl', 'url'],\n      dtype='object')"
     },
     "execution_count": 5,
     "metadata": {},
     "output_type": "execute_result"
    }
   ],
   "source": [
    "data.columns"
   ],
   "metadata": {
    "collapsed": false,
    "pycharm": {
     "name": "#%%\n"
    }
   }
  },
  {
   "cell_type": "code",
   "execution_count": 6,
   "outputs": [],
   "source": [
    "# Now we know how to convert them, we can assign the converted values to columns\n",
    "data.columns = [x.lower() for x in data.columns]"
   ],
   "metadata": {
    "collapsed": false,
    "pycharm": {
     "name": "#%%\n"
    }
   }
  },
  {
   "cell_type": "code",
   "execution_count": 8,
   "outputs": [
    {
     "data": {
      "text/plain": "Index(['id', 'accession_number', 'artist', 'artistrole', 'artistid', 'title',\n       'datetext', 'medium', 'creditline', 'year', 'acquisitionyear',\n       'dimensions', 'width', 'height', 'depth', 'units', 'inscription',\n       'thumbnailcopyright', 'thumbnailurl', 'url'],\n      dtype='object')"
     },
     "execution_count": 8,
     "metadata": {},
     "output_type": "execute_result"
    }
   ],
   "source": [
    "data.columns"
   ],
   "metadata": {
    "collapsed": false,
    "pycharm": {
     "name": "#%%\n"
    }
   }
  },
  {
   "cell_type": "code",
   "execution_count": 9,
   "outputs": [],
   "source": [
    "data = pd.read_csv('./data/artwork_sample.csv')"
   ],
   "metadata": {
    "collapsed": false,
    "pycharm": {
     "name": "#%%\n"
    }
   }
  },
  {
   "cell_type": "code",
   "execution_count": 10,
   "outputs": [
    {
     "data": {
      "text/plain": "Index(['id', 'accession_number', 'artist', 'artistRole', 'artistId', 'title',\n       'dateText', 'medium', 'creditLine', 'year', 'acquisitionYear',\n       'dimensions', 'width', 'height', 'depth', 'units', 'inscription',\n       'thumbnailCopyright', 'thumbnailUrl', 'url'],\n      dtype='object')"
     },
     "execution_count": 10,
     "metadata": {},
     "output_type": "execute_result"
    }
   ],
   "source": [
    "data.columns"
   ],
   "metadata": {
    "collapsed": false,
    "pycharm": {
     "name": "#%%\n"
    }
   }
  },
  {
   "cell_type": "code",
   "execution_count": 13,
   "outputs": [
    {
     "data": {
      "text/plain": "['id',\n 'accession_number',\n 'artist',\n 'artistrole',\n 'artistid',\n 'title',\n 'datetext',\n 'medium',\n 'creditline',\n 'year',\n 'acquisitionyear',\n 'dimensions',\n 'width',\n 'height',\n 'depth',\n 'units',\n 'inscription',\n 'thumbnailcopyright',\n 'thumbnailurl',\n 'url']"
     },
     "execution_count": 13,
     "metadata": {},
     "output_type": "execute_result"
    }
   ],
   "source": [
    "lower_column_names = map(lambda x: x.lower(), data.columns)\n",
    "list(lower_column_names)"
   ],
   "metadata": {
    "collapsed": false,
    "pycharm": {
     "name": "#%%\n"
    }
   }
  },
  {
   "cell_type": "code",
   "execution_count": 14,
   "outputs": [],
   "source": [
    "data.columns = map(lambda x: x.lower(), data.columns)"
   ],
   "metadata": {
    "collapsed": false,
    "pycharm": {
     "name": "#%%\n"
    }
   }
  },
  {
   "cell_type": "code",
   "execution_count": 15,
   "outputs": [
    {
     "data": {
      "text/plain": "Index(['id', 'accession_number', 'artist', 'artistrole', 'artistid', 'title',\n       'datetext', 'medium', 'creditline', 'year', 'acquisitionyear',\n       'dimensions', 'width', 'height', 'depth', 'units', 'inscription',\n       'thumbnailcopyright', 'thumbnailurl', 'url'],\n      dtype='object')"
     },
     "execution_count": 15,
     "metadata": {},
     "output_type": "execute_result"
    }
   ],
   "source": [
    "data.columns"
   ],
   "metadata": {
    "collapsed": false,
    "pycharm": {
     "name": "#%%\n"
    }
   }
  },
  {
   "cell_type": "code",
   "execution_count": 16,
   "outputs": [],
   "source": [
    "data = pd.read_csv('./data/artwork_sample.csv')"
   ],
   "metadata": {
    "collapsed": false,
    "pycharm": {
     "name": "#%%\n"
    }
   }
  },
  {
   "cell_type": "code",
   "execution_count": 17,
   "outputs": [
    {
     "data": {
      "text/plain": "Index(['id', 'accession_number', 'artist', 'artistRole', 'artistId', 'title',\n       'dateText', 'medium', 'creditLine', 'year', 'acquisitionYear',\n       'dimensions', 'width', 'height', 'depth', 'units', 'inscription',\n       'thumbnailCopyright', 'thumbnailUrl', 'url'],\n      dtype='object')"
     },
     "execution_count": 17,
     "metadata": {},
     "output_type": "execute_result"
    }
   ],
   "source": [
    "data.columns"
   ],
   "metadata": {
    "collapsed": false,
    "pycharm": {
     "name": "#%%\n"
    }
   }
  },
  {
   "cell_type": "code",
   "execution_count": 18,
   "outputs": [],
   "source": [
    "# Convert all camel case column names to snake case\n",
    "import re"
   ],
   "metadata": {
    "collapsed": false,
    "pycharm": {
     "name": "#%%\n"
    }
   }
  },
  {
   "cell_type": "code",
   "execution_count": 21,
   "outputs": [],
   "source": [
    "# Todo: understand how Regular Expressions works in python,\n",
    "#  What features re offers, and what is r'' string\n",
    "data.columns = [re.sub(r'([A-Z])', r'_\\1', x).lower() for x in data.columns]"
   ],
   "metadata": {
    "collapsed": false,
    "pycharm": {
     "name": "#%%\n"
    }
   }
  },
  {
   "cell_type": "code",
   "execution_count": 22,
   "outputs": [
    {
     "data": {
      "text/plain": "Index(['id', 'accession_number', 'artist', 'artist_role', 'artist_id', 'title',\n       'date_text', 'medium', 'credit_line', 'year', 'acquisition_year',\n       'dimensions', 'width', 'height', 'depth', 'units', 'inscription',\n       'thumbnail_copyright', 'thumbnail_url', 'url'],\n      dtype='object')"
     },
     "execution_count": 22,
     "metadata": {},
     "output_type": "execute_result"
    }
   ],
   "source": [
    "data.columns"
   ],
   "metadata": {
    "collapsed": false,
    "pycharm": {
     "name": "#%%\n"
    }
   }
  },
  {
   "cell_type": "code",
   "execution_count": null,
   "outputs": [],
   "source": [],
   "metadata": {
    "collapsed": false,
    "pycharm": {
     "name": "#%%\n"
    }
   }
  }
 ],
 "metadata": {
  "kernelspec": {
   "display_name": "Python 3",
   "language": "python",
   "name": "python3"
  },
  "language_info": {
   "codemirror_mode": {
    "name": "ipython",
    "version": 2
   },
   "file_extension": ".py",
   "mimetype": "text/x-python",
   "name": "python",
   "nbconvert_exporter": "python",
   "pygments_lexer": "ipython2",
   "version": "2.7.6"
  }
 },
 "nbformat": 4,
 "nbformat_minor": 0
}