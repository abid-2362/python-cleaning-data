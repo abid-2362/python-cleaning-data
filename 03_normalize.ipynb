{
 "cells": [
  {
   "cell_type": "markdown",
   "metadata": {
    "collapsed": true,
    "pycharm": {
     "name": "#%% md\n"
    }
   },
   "source": [
    "# Normalizing Data"
   ]
  },
  {
   "cell_type": "code",
   "execution_count": 1,
   "outputs": [],
   "source": [
    "import pandas as pd\n",
    "data = pd.read_csv('./data/artwork_sample.csv')"
   ],
   "metadata": {
    "collapsed": false,
    "pycharm": {
     "name": "#%%\n"
    }
   }
  },
  {
   "cell_type": "code",
   "execution_count": 2,
   "outputs": [
    {
     "data": {
      "text/plain": "     id accession_number          artist artistRole  artistId  \\\n0  1035           A00001   Blake, Robert     artist        38   \n1  1036           A00002   Blake, Robert     artist        38   \n2  1037           A00003   Blake, Robert     artist        38   \n3  1038           A00004   Blake, Robert     artist        38   \n4  1039           A00005  Blake, William     artist        39   \n\n                                               title                dateText  \\\n0  A Figure Bowing before a Seated Old Man with h...          date not known   \n1  Two Drawings of Frightened Figures, Probably f...          date not known   \n2  The Preaching of Warning. Verso: An Old Man En...                 ?c.1785   \n3     Six Drawings of Figures with Outstretched Arms          date not known   \n4  The Circle of the Lustful: Francesca da Rimini...  1826–7, reprinted 1892   \n\n                                              medium  \\\n0  Watercolour, ink, chalk and graphite on paper....   \n1                                  Graphite on paper   \n2        Graphite on paper. Verso: graphite on paper   \n3                                  Graphite on paper   \n4                            Line engraving on paper   \n\n                                          creditLine    year  acquisitionYear  \\\n0                Presented by Mrs John Richmond 1922     NaN             1922   \n1                Presented by Mrs John Richmond 1922     NaN             1922   \n2                Presented by Mrs John Richmond 1922  1785.0             1922   \n3                Presented by Mrs John Richmond 1922     NaN             1922   \n4  Purchased with the assistance of a special gra...  1826.0             1919   \n\n              dimensions  width  height  depth units  inscription  \\\n0  support: 394 x 419 mm  394.0   419.0    NaN    mm          NaN   \n1  support: 311 x 213 mm  311.0   213.0    NaN    mm          NaN   \n2  support: 343 x 467 mm  343.0   467.0    NaN    mm          NaN   \n3  support: 318 x 394 mm  318.0   394.0    NaN    mm          NaN   \n4    image: 243 x 335 mm  243.0   335.0    NaN    mm          NaN   \n\n   thumbnailCopyright                                       thumbnailUrl  \\\n0                 NaN  http://www.tate.org.uk/art/images/work/A/A00/A...   \n1                 NaN  http://www.tate.org.uk/art/images/work/A/A00/A...   \n2                 NaN  http://www.tate.org.uk/art/images/work/A/A00/A...   \n3                 NaN  http://www.tate.org.uk/art/images/work/A/A00/A...   \n4                 NaN  http://www.tate.org.uk/art/images/work/A/A00/A...   \n\n                                                 url  \n0  http://www.tate.org.uk/art/artworks/blake-a-fi...  \n1  http://www.tate.org.uk/art/artworks/blake-two-...  \n2  http://www.tate.org.uk/art/artworks/blake-the-...  \n3  http://www.tate.org.uk/art/artworks/blake-six-...  \n4  http://www.tate.org.uk/art/artworks/blake-the-...  ",
      "text/html": "<div>\n<style scoped>\n    .dataframe tbody tr th:only-of-type {\n        vertical-align: middle;\n    }\n\n    .dataframe tbody tr th {\n        vertical-align: top;\n    }\n\n    .dataframe thead th {\n        text-align: right;\n    }\n</style>\n<table border=\"1\" class=\"dataframe\">\n  <thead>\n    <tr style=\"text-align: right;\">\n      <th></th>\n      <th>id</th>\n      <th>accession_number</th>\n      <th>artist</th>\n      <th>artistRole</th>\n      <th>artistId</th>\n      <th>title</th>\n      <th>dateText</th>\n      <th>medium</th>\n      <th>creditLine</th>\n      <th>year</th>\n      <th>acquisitionYear</th>\n      <th>dimensions</th>\n      <th>width</th>\n      <th>height</th>\n      <th>depth</th>\n      <th>units</th>\n      <th>inscription</th>\n      <th>thumbnailCopyright</th>\n      <th>thumbnailUrl</th>\n      <th>url</th>\n    </tr>\n  </thead>\n  <tbody>\n    <tr>\n      <th>0</th>\n      <td>1035</td>\n      <td>A00001</td>\n      <td>Blake, Robert</td>\n      <td>artist</td>\n      <td>38</td>\n      <td>A Figure Bowing before a Seated Old Man with h...</td>\n      <td>date not known</td>\n      <td>Watercolour, ink, chalk and graphite on paper....</td>\n      <td>Presented by Mrs John Richmond 1922</td>\n      <td>NaN</td>\n      <td>1922</td>\n      <td>support: 394 x 419 mm</td>\n      <td>394.0</td>\n      <td>419.0</td>\n      <td>NaN</td>\n      <td>mm</td>\n      <td>NaN</td>\n      <td>NaN</td>\n      <td>http://www.tate.org.uk/art/images/work/A/A00/A...</td>\n      <td>http://www.tate.org.uk/art/artworks/blake-a-fi...</td>\n    </tr>\n    <tr>\n      <th>1</th>\n      <td>1036</td>\n      <td>A00002</td>\n      <td>Blake, Robert</td>\n      <td>artist</td>\n      <td>38</td>\n      <td>Two Drawings of Frightened Figures, Probably f...</td>\n      <td>date not known</td>\n      <td>Graphite on paper</td>\n      <td>Presented by Mrs John Richmond 1922</td>\n      <td>NaN</td>\n      <td>1922</td>\n      <td>support: 311 x 213 mm</td>\n      <td>311.0</td>\n      <td>213.0</td>\n      <td>NaN</td>\n      <td>mm</td>\n      <td>NaN</td>\n      <td>NaN</td>\n      <td>http://www.tate.org.uk/art/images/work/A/A00/A...</td>\n      <td>http://www.tate.org.uk/art/artworks/blake-two-...</td>\n    </tr>\n    <tr>\n      <th>2</th>\n      <td>1037</td>\n      <td>A00003</td>\n      <td>Blake, Robert</td>\n      <td>artist</td>\n      <td>38</td>\n      <td>The Preaching of Warning. Verso: An Old Man En...</td>\n      <td>?c.1785</td>\n      <td>Graphite on paper. Verso: graphite on paper</td>\n      <td>Presented by Mrs John Richmond 1922</td>\n      <td>1785.0</td>\n      <td>1922</td>\n      <td>support: 343 x 467 mm</td>\n      <td>343.0</td>\n      <td>467.0</td>\n      <td>NaN</td>\n      <td>mm</td>\n      <td>NaN</td>\n      <td>NaN</td>\n      <td>http://www.tate.org.uk/art/images/work/A/A00/A...</td>\n      <td>http://www.tate.org.uk/art/artworks/blake-the-...</td>\n    </tr>\n    <tr>\n      <th>3</th>\n      <td>1038</td>\n      <td>A00004</td>\n      <td>Blake, Robert</td>\n      <td>artist</td>\n      <td>38</td>\n      <td>Six Drawings of Figures with Outstretched Arms</td>\n      <td>date not known</td>\n      <td>Graphite on paper</td>\n      <td>Presented by Mrs John Richmond 1922</td>\n      <td>NaN</td>\n      <td>1922</td>\n      <td>support: 318 x 394 mm</td>\n      <td>318.0</td>\n      <td>394.0</td>\n      <td>NaN</td>\n      <td>mm</td>\n      <td>NaN</td>\n      <td>NaN</td>\n      <td>http://www.tate.org.uk/art/images/work/A/A00/A...</td>\n      <td>http://www.tate.org.uk/art/artworks/blake-six-...</td>\n    </tr>\n    <tr>\n      <th>4</th>\n      <td>1039</td>\n      <td>A00005</td>\n      <td>Blake, William</td>\n      <td>artist</td>\n      <td>39</td>\n      <td>The Circle of the Lustful: Francesca da Rimini...</td>\n      <td>1826–7, reprinted 1892</td>\n      <td>Line engraving on paper</td>\n      <td>Purchased with the assistance of a special gra...</td>\n      <td>1826.0</td>\n      <td>1919</td>\n      <td>image: 243 x 335 mm</td>\n      <td>243.0</td>\n      <td>335.0</td>\n      <td>NaN</td>\n      <td>mm</td>\n      <td>NaN</td>\n      <td>NaN</td>\n      <td>http://www.tate.org.uk/art/images/work/A/A00/A...</td>\n      <td>http://www.tate.org.uk/art/artworks/blake-the-...</td>\n    </tr>\n  </tbody>\n</table>\n</div>"
     },
     "execution_count": 2,
     "metadata": {},
     "output_type": "execute_result"
    }
   ],
   "source": [
    "data.head()"
   ],
   "metadata": {
    "collapsed": false,
    "pycharm": {
     "name": "#%%\n"
    }
   }
  },
  {
   "cell_type": "code",
   "execution_count": 3,
   "outputs": [
    {
     "data": {
      "text/plain": "id                      int64\naccession_number       object\nartist                 object\nartistRole             object\nartistId                int64\ntitle                  object\ndateText               object\nmedium                 object\ncreditLine             object\nyear                  float64\nacquisitionYear         int64\ndimensions             object\nwidth                 float64\nheight                float64\ndepth                 float64\nunits                  object\ninscription           float64\nthumbnailCopyright    float64\nthumbnailUrl           object\nurl                    object\ndtype: object"
     },
     "execution_count": 3,
     "metadata": {},
     "output_type": "execute_result"
    }
   ],
   "source": [
    "data.dtypes"
   ],
   "metadata": {
    "collapsed": false,
    "pycharm": {
     "name": "#%%\n"
    }
   }
  },
  {
   "cell_type": "markdown",
   "source": [
    "normalize operation can only be performed on numeric values float or int"
   ],
   "metadata": {
    "collapsed": false,
    "pycharm": {
     "name": "#%% md\n"
    }
   }
  },
  {
   "cell_type": "code",
   "execution_count": 4,
   "outputs": [
    {
     "data": {
      "text/plain": "0    419.0\n1    213.0\n2    467.0\n3    394.0\n4    335.0\n5    338.0\n6    334.0\n7    340.0\n8    335.0\n9    340.0\nName: height, dtype: float64"
     },
     "execution_count": 4,
     "metadata": {},
     "output_type": "execute_result"
    }
   ],
   "source": [
    "data.height"
   ],
   "metadata": {
    "collapsed": false,
    "pycharm": {
     "name": "#%%\n"
    }
   }
  },
  {
   "cell_type": "code",
   "execution_count": 5,
   "outputs": [
    {
     "data": {
      "text/plain": "213.0"
     },
     "execution_count": 5,
     "metadata": {},
     "output_type": "execute_result"
    }
   ],
   "source": [
    "data.height.min()"
   ],
   "metadata": {
    "collapsed": false,
    "pycharm": {
     "name": "#%%\n"
    }
   }
  },
  {
   "cell_type": "code",
   "execution_count": 6,
   "outputs": [
    {
     "data": {
      "text/plain": "467.0"
     },
     "execution_count": 6,
     "metadata": {},
     "output_type": "execute_result"
    }
   ],
   "source": [
    "data.height.max()"
   ],
   "metadata": {
    "collapsed": false,
    "pycharm": {
     "name": "#%%\n"
    }
   }
  },
  {
   "cell_type": "code",
   "execution_count": 7,
   "outputs": [
    {
     "data": {
      "text/plain": "351.5"
     },
     "execution_count": 7,
     "metadata": {},
     "output_type": "execute_result"
    }
   ],
   "source": [
    "data.height.mean()"
   ],
   "metadata": {
    "collapsed": false,
    "pycharm": {
     "name": "#%%\n"
    }
   }
  },
  {
   "cell_type": "code",
   "execution_count": 8,
   "outputs": [
    {
     "data": {
      "text/plain": "66.81857692455162"
     },
     "execution_count": 8,
     "metadata": {},
     "output_type": "execute_result"
    }
   ],
   "source": [
    "data.height.std()"
   ],
   "metadata": {
    "collapsed": false,
    "pycharm": {
     "name": "#%%\n"
    }
   }
  },
  {
   "cell_type": "code",
   "execution_count": 10,
   "outputs": [
    {
     "data": {
      "text/plain": "0    419.0\n1    213.0\n2    467.0\n3    394.0\n4    335.0\n5    338.0\n6    334.0\n7    340.0\n8    335.0\n9    340.0\nName: height, dtype: float64"
     },
     "execution_count": 10,
     "metadata": {},
     "output_type": "execute_result"
    }
   ],
   "source": [
    "height = data.height\n",
    "height"
   ],
   "metadata": {
    "collapsed": false,
    "pycharm": {
     "name": "#%%\n"
    }
   }
  },
  {
   "cell_type": "code",
   "execution_count": 12,
   "outputs": [
    {
     "data": {
      "text/plain": "0    1.010198\n1   -2.072777\n2    1.728561\n3    0.636051\n4   -0.246937\n5   -0.202040\n6   -0.261903\n7   -0.172108\n8   -0.246937\n9   -0.172108\nName: height, dtype: float64"
     },
     "execution_count": 12,
     "metadata": {},
     "output_type": "execute_result"
    }
   ],
   "source": [
    "# Standardization in statistics\n",
    "norm = (height - height.mean()) / height.std()\n",
    "norm"
   ],
   "metadata": {
    "collapsed": false,
    "pycharm": {
     "name": "#%%\n"
    }
   }
  },
  {
   "cell_type": "code",
   "execution_count": 14,
   "outputs": [
    {
     "data": {
      "text/plain": "0    0.811024\n1    0.000000\n2    1.000000\n3    0.712598\n4    0.480315\n5    0.492126\n6    0.476378\n7    0.500000\n8    0.480315\n9    0.500000\nName: height, dtype: float64"
     },
     "execution_count": 14,
     "metadata": {},
     "output_type": "execute_result"
    }
   ],
   "source": [
    "# normalize height with minimum 0, maximum 1\n",
    "minmax = (height - height.min()) / (height.max() - height.min())\n",
    "minmax"
   ],
   "metadata": {
    "collapsed": false,
    "pycharm": {
     "name": "#%%\n"
    }
   }
  },
  {
   "cell_type": "code",
   "execution_count": 15,
   "outputs": [
    {
     "data": {
      "text/plain": "0.0"
     },
     "execution_count": 15,
     "metadata": {},
     "output_type": "execute_result"
    }
   ],
   "source": [
    "minmax.min()"
   ],
   "metadata": {
    "collapsed": false,
    "pycharm": {
     "name": "#%%\n"
    }
   }
  },
  {
   "cell_type": "code",
   "execution_count": 16,
   "outputs": [
    {
     "data": {
      "text/plain": "1.0"
     },
     "execution_count": 16,
     "metadata": {},
     "output_type": "execute_result"
    }
   ],
   "source": [
    "minmax.max()"
   ],
   "metadata": {
    "collapsed": false,
    "pycharm": {
     "name": "#%%\n"
    }
   }
  },
  {
   "cell_type": "code",
   "execution_count": 17,
   "outputs": [
    {
     "data": {
      "text/plain": "     id accession_number          artist artistRole  artistId  \\\n0  1035           A00001   Blake, Robert     artist        38   \n1  1036           A00002   Blake, Robert     artist        38   \n2  1037           A00003   Blake, Robert     artist        38   \n3  1038           A00004   Blake, Robert     artist        38   \n4  1039           A00005  Blake, William     artist        39   \n5  1040           A00006  Blake, William     artist        39   \n6  1041           A00007  Blake, William     artist        39   \n7  1042           A00008  Blake, William     artist        39   \n8  1043           A00009  Blake, William     artist        39   \n9  1044           A00010  Blake, William     artist        39   \n\n                                               title                dateText  \\\n0  A Figure Bowing before a Seated Old Man with h...          date not known   \n1  Two Drawings of Frightened Figures, Probably f...          date not known   \n2  The Preaching of Warning. Verso: An Old Man En...                 ?c.1785   \n3     Six Drawings of Figures with Outstretched Arms          date not known   \n4  The Circle of the Lustful: Francesca da Rimini...  1826–7, reprinted 1892   \n5      Ciampolo the Barrator Tormented by the Devils  1826–7, reprinted 1892   \n6                        The Baffled Devils Fighting  1826–7, reprinted 1892   \n7  The Six-Footed Serpent Attacking Agnolo Brunel...  1826–7, reprinted 1892   \n8                 The Serpent Attacking Buoso Donati  1826–7, reprinted 1892   \n9                 The Pit of Disease: The Falsifiers  1826–7, reprinted 1892   \n\n                                              medium  \\\n0  Watercolour, ink, chalk and graphite on paper....   \n1                                  Graphite on paper   \n2        Graphite on paper. Verso: graphite on paper   \n3                                  Graphite on paper   \n4                            Line engraving on paper   \n5                            Line engraving on paper   \n6                            Line engraving on paper   \n7                            Line engraving on paper   \n8                            Line engraving on paper   \n9                            Line engraving on paper   \n\n                                          creditLine    year  acquisitionYear  \\\n0                Presented by Mrs John Richmond 1922     NaN             1922   \n1                Presented by Mrs John Richmond 1922     NaN             1922   \n2                Presented by Mrs John Richmond 1922  1785.0             1922   \n3                Presented by Mrs John Richmond 1922     NaN             1922   \n4  Purchased with the assistance of a special gra...  1826.0             1919   \n5  Purchased with the assistance of a special gra...  1826.0             1919   \n6  Purchased with the assistance of a special gra...  1826.0             1919   \n7  Purchased with the assistance of a special gra...  1826.0             1919   \n8  Purchased with the assistance of a special gra...  1826.0             1919   \n9  Purchased with the assistance of a special gra...  1826.0             1919   \n\n              dimensions  width  height  depth units  inscription  \\\n0  support: 394 x 419 mm  394.0   419.0    NaN    mm          NaN   \n1  support: 311 x 213 mm  311.0   213.0    NaN    mm          NaN   \n2  support: 343 x 467 mm  343.0   467.0    NaN    mm          NaN   \n3  support: 318 x 394 mm  318.0   394.0    NaN    mm          NaN   \n4    image: 243 x 335 mm  243.0   335.0    NaN    mm          NaN   \n5    image: 240 x 338 mm  240.0   338.0    NaN    mm          NaN   \n6    image: 242 x 334 mm  242.0   334.0    NaN    mm          NaN   \n7    image: 246 x 340 mm  246.0   340.0    NaN    mm          NaN   \n8    image: 241 x 335 mm  241.0   335.0    NaN    mm          NaN   \n9    image: 243 x 340 mm  243.0   340.0    NaN    mm          NaN   \n\n   thumbnailCopyright                                       thumbnailUrl  \\\n0                 NaN  http://www.tate.org.uk/art/images/work/A/A00/A...   \n1                 NaN  http://www.tate.org.uk/art/images/work/A/A00/A...   \n2                 NaN  http://www.tate.org.uk/art/images/work/A/A00/A...   \n3                 NaN  http://www.tate.org.uk/art/images/work/A/A00/A...   \n4                 NaN  http://www.tate.org.uk/art/images/work/A/A00/A...   \n5                 NaN  http://www.tate.org.uk/art/images/work/A/A00/A...   \n6                 NaN  http://www.tate.org.uk/art/images/work/A/A00/A...   \n7                 NaN  http://www.tate.org.uk/art/images/work/A/A00/A...   \n8                 NaN  http://www.tate.org.uk/art/images/work/A/A00/A...   \n9                 NaN  http://www.tate.org.uk/art/images/work/A/A00/A...   \n\n                                                 url  \n0  http://www.tate.org.uk/art/artworks/blake-a-fi...  \n1  http://www.tate.org.uk/art/artworks/blake-two-...  \n2  http://www.tate.org.uk/art/artworks/blake-the-...  \n3  http://www.tate.org.uk/art/artworks/blake-six-...  \n4  http://www.tate.org.uk/art/artworks/blake-the-...  \n5  http://www.tate.org.uk/art/artworks/blake-ciam...  \n6  http://www.tate.org.uk/art/artworks/blake-the-...  \n7  http://www.tate.org.uk/art/artworks/blake-the-...  \n8  http://www.tate.org.uk/art/artworks/blake-the-...  \n9  http://www.tate.org.uk/art/artworks/blake-the-...  ",
      "text/html": "<div>\n<style scoped>\n    .dataframe tbody tr th:only-of-type {\n        vertical-align: middle;\n    }\n\n    .dataframe tbody tr th {\n        vertical-align: top;\n    }\n\n    .dataframe thead th {\n        text-align: right;\n    }\n</style>\n<table border=\"1\" class=\"dataframe\">\n  <thead>\n    <tr style=\"text-align: right;\">\n      <th></th>\n      <th>id</th>\n      <th>accession_number</th>\n      <th>artist</th>\n      <th>artistRole</th>\n      <th>artistId</th>\n      <th>title</th>\n      <th>dateText</th>\n      <th>medium</th>\n      <th>creditLine</th>\n      <th>year</th>\n      <th>acquisitionYear</th>\n      <th>dimensions</th>\n      <th>width</th>\n      <th>height</th>\n      <th>depth</th>\n      <th>units</th>\n      <th>inscription</th>\n      <th>thumbnailCopyright</th>\n      <th>thumbnailUrl</th>\n      <th>url</th>\n    </tr>\n  </thead>\n  <tbody>\n    <tr>\n      <th>0</th>\n      <td>1035</td>\n      <td>A00001</td>\n      <td>Blake, Robert</td>\n      <td>artist</td>\n      <td>38</td>\n      <td>A Figure Bowing before a Seated Old Man with h...</td>\n      <td>date not known</td>\n      <td>Watercolour, ink, chalk and graphite on paper....</td>\n      <td>Presented by Mrs John Richmond 1922</td>\n      <td>NaN</td>\n      <td>1922</td>\n      <td>support: 394 x 419 mm</td>\n      <td>394.0</td>\n      <td>419.0</td>\n      <td>NaN</td>\n      <td>mm</td>\n      <td>NaN</td>\n      <td>NaN</td>\n      <td>http://www.tate.org.uk/art/images/work/A/A00/A...</td>\n      <td>http://www.tate.org.uk/art/artworks/blake-a-fi...</td>\n    </tr>\n    <tr>\n      <th>1</th>\n      <td>1036</td>\n      <td>A00002</td>\n      <td>Blake, Robert</td>\n      <td>artist</td>\n      <td>38</td>\n      <td>Two Drawings of Frightened Figures, Probably f...</td>\n      <td>date not known</td>\n      <td>Graphite on paper</td>\n      <td>Presented by Mrs John Richmond 1922</td>\n      <td>NaN</td>\n      <td>1922</td>\n      <td>support: 311 x 213 mm</td>\n      <td>311.0</td>\n      <td>213.0</td>\n      <td>NaN</td>\n      <td>mm</td>\n      <td>NaN</td>\n      <td>NaN</td>\n      <td>http://www.tate.org.uk/art/images/work/A/A00/A...</td>\n      <td>http://www.tate.org.uk/art/artworks/blake-two-...</td>\n    </tr>\n    <tr>\n      <th>2</th>\n      <td>1037</td>\n      <td>A00003</td>\n      <td>Blake, Robert</td>\n      <td>artist</td>\n      <td>38</td>\n      <td>The Preaching of Warning. Verso: An Old Man En...</td>\n      <td>?c.1785</td>\n      <td>Graphite on paper. Verso: graphite on paper</td>\n      <td>Presented by Mrs John Richmond 1922</td>\n      <td>1785.0</td>\n      <td>1922</td>\n      <td>support: 343 x 467 mm</td>\n      <td>343.0</td>\n      <td>467.0</td>\n      <td>NaN</td>\n      <td>mm</td>\n      <td>NaN</td>\n      <td>NaN</td>\n      <td>http://www.tate.org.uk/art/images/work/A/A00/A...</td>\n      <td>http://www.tate.org.uk/art/artworks/blake-the-...</td>\n    </tr>\n    <tr>\n      <th>3</th>\n      <td>1038</td>\n      <td>A00004</td>\n      <td>Blake, Robert</td>\n      <td>artist</td>\n      <td>38</td>\n      <td>Six Drawings of Figures with Outstretched Arms</td>\n      <td>date not known</td>\n      <td>Graphite on paper</td>\n      <td>Presented by Mrs John Richmond 1922</td>\n      <td>NaN</td>\n      <td>1922</td>\n      <td>support: 318 x 394 mm</td>\n      <td>318.0</td>\n      <td>394.0</td>\n      <td>NaN</td>\n      <td>mm</td>\n      <td>NaN</td>\n      <td>NaN</td>\n      <td>http://www.tate.org.uk/art/images/work/A/A00/A...</td>\n      <td>http://www.tate.org.uk/art/artworks/blake-six-...</td>\n    </tr>\n    <tr>\n      <th>4</th>\n      <td>1039</td>\n      <td>A00005</td>\n      <td>Blake, William</td>\n      <td>artist</td>\n      <td>39</td>\n      <td>The Circle of the Lustful: Francesca da Rimini...</td>\n      <td>1826–7, reprinted 1892</td>\n      <td>Line engraving on paper</td>\n      <td>Purchased with the assistance of a special gra...</td>\n      <td>1826.0</td>\n      <td>1919</td>\n      <td>image: 243 x 335 mm</td>\n      <td>243.0</td>\n      <td>335.0</td>\n      <td>NaN</td>\n      <td>mm</td>\n      <td>NaN</td>\n      <td>NaN</td>\n      <td>http://www.tate.org.uk/art/images/work/A/A00/A...</td>\n      <td>http://www.tate.org.uk/art/artworks/blake-the-...</td>\n    </tr>\n    <tr>\n      <th>5</th>\n      <td>1040</td>\n      <td>A00006</td>\n      <td>Blake, William</td>\n      <td>artist</td>\n      <td>39</td>\n      <td>Ciampolo the Barrator Tormented by the Devils</td>\n      <td>1826–7, reprinted 1892</td>\n      <td>Line engraving on paper</td>\n      <td>Purchased with the assistance of a special gra...</td>\n      <td>1826.0</td>\n      <td>1919</td>\n      <td>image: 240 x 338 mm</td>\n      <td>240.0</td>\n      <td>338.0</td>\n      <td>NaN</td>\n      <td>mm</td>\n      <td>NaN</td>\n      <td>NaN</td>\n      <td>http://www.tate.org.uk/art/images/work/A/A00/A...</td>\n      <td>http://www.tate.org.uk/art/artworks/blake-ciam...</td>\n    </tr>\n    <tr>\n      <th>6</th>\n      <td>1041</td>\n      <td>A00007</td>\n      <td>Blake, William</td>\n      <td>artist</td>\n      <td>39</td>\n      <td>The Baffled Devils Fighting</td>\n      <td>1826–7, reprinted 1892</td>\n      <td>Line engraving on paper</td>\n      <td>Purchased with the assistance of a special gra...</td>\n      <td>1826.0</td>\n      <td>1919</td>\n      <td>image: 242 x 334 mm</td>\n      <td>242.0</td>\n      <td>334.0</td>\n      <td>NaN</td>\n      <td>mm</td>\n      <td>NaN</td>\n      <td>NaN</td>\n      <td>http://www.tate.org.uk/art/images/work/A/A00/A...</td>\n      <td>http://www.tate.org.uk/art/artworks/blake-the-...</td>\n    </tr>\n    <tr>\n      <th>7</th>\n      <td>1042</td>\n      <td>A00008</td>\n      <td>Blake, William</td>\n      <td>artist</td>\n      <td>39</td>\n      <td>The Six-Footed Serpent Attacking Agnolo Brunel...</td>\n      <td>1826–7, reprinted 1892</td>\n      <td>Line engraving on paper</td>\n      <td>Purchased with the assistance of a special gra...</td>\n      <td>1826.0</td>\n      <td>1919</td>\n      <td>image: 246 x 340 mm</td>\n      <td>246.0</td>\n      <td>340.0</td>\n      <td>NaN</td>\n      <td>mm</td>\n      <td>NaN</td>\n      <td>NaN</td>\n      <td>http://www.tate.org.uk/art/images/work/A/A00/A...</td>\n      <td>http://www.tate.org.uk/art/artworks/blake-the-...</td>\n    </tr>\n    <tr>\n      <th>8</th>\n      <td>1043</td>\n      <td>A00009</td>\n      <td>Blake, William</td>\n      <td>artist</td>\n      <td>39</td>\n      <td>The Serpent Attacking Buoso Donati</td>\n      <td>1826–7, reprinted 1892</td>\n      <td>Line engraving on paper</td>\n      <td>Purchased with the assistance of a special gra...</td>\n      <td>1826.0</td>\n      <td>1919</td>\n      <td>image: 241 x 335 mm</td>\n      <td>241.0</td>\n      <td>335.0</td>\n      <td>NaN</td>\n      <td>mm</td>\n      <td>NaN</td>\n      <td>NaN</td>\n      <td>http://www.tate.org.uk/art/images/work/A/A00/A...</td>\n      <td>http://www.tate.org.uk/art/artworks/blake-the-...</td>\n    </tr>\n    <tr>\n      <th>9</th>\n      <td>1044</td>\n      <td>A00010</td>\n      <td>Blake, William</td>\n      <td>artist</td>\n      <td>39</td>\n      <td>The Pit of Disease: The Falsifiers</td>\n      <td>1826–7, reprinted 1892</td>\n      <td>Line engraving on paper</td>\n      <td>Purchased with the assistance of a special gra...</td>\n      <td>1826.0</td>\n      <td>1919</td>\n      <td>image: 243 x 340 mm</td>\n      <td>243.0</td>\n      <td>340.0</td>\n      <td>NaN</td>\n      <td>mm</td>\n      <td>NaN</td>\n      <td>NaN</td>\n      <td>http://www.tate.org.uk/art/images/work/A/A00/A...</td>\n      <td>http://www.tate.org.uk/art/artworks/blake-the-...</td>\n    </tr>\n  </tbody>\n</table>\n</div>"
     },
     "execution_count": 17,
     "metadata": {},
     "output_type": "execute_result"
    }
   ],
   "source": [
    "data"
   ],
   "metadata": {
    "collapsed": false,
    "pycharm": {
     "name": "#%%\n"
    }
   }
  },
  {
   "cell_type": "code",
   "execution_count": 19,
   "outputs": [
    {
     "data": {
      "text/plain": "     id accession_number          artist artistRole  artistId  \\\n0  1035           A00001   Blake, Robert     artist        38   \n1  1036           A00002   Blake, Robert     artist        38   \n2  1037           A00003   Blake, Robert     artist        38   \n3  1038           A00004   Blake, Robert     artist        38   \n4  1039           A00005  Blake, William     artist        39   \n5  1040           A00006  Blake, William     artist        39   \n6  1041           A00007  Blake, William     artist        39   \n7  1042           A00008  Blake, William     artist        39   \n8  1043           A00009  Blake, William     artist        39   \n9  1044           A00010  Blake, William     artist        39   \n\n                                               title                dateText  \\\n0  A Figure Bowing before a Seated Old Man with h...          date not known   \n1  Two Drawings of Frightened Figures, Probably f...          date not known   \n2  The Preaching of Warning. Verso: An Old Man En...                 ?c.1785   \n3     Six Drawings of Figures with Outstretched Arms          date not known   \n4  The Circle of the Lustful: Francesca da Rimini...  1826–7, reprinted 1892   \n5      Ciampolo the Barrator Tormented by the Devils  1826–7, reprinted 1892   \n6                        The Baffled Devils Fighting  1826–7, reprinted 1892   \n7  The Six-Footed Serpent Attacking Agnolo Brunel...  1826–7, reprinted 1892   \n8                 The Serpent Attacking Buoso Donati  1826–7, reprinted 1892   \n9                 The Pit of Disease: The Falsifiers  1826–7, reprinted 1892   \n\n                                              medium  \\\n0  Watercolour, ink, chalk and graphite on paper....   \n1                                  Graphite on paper   \n2        Graphite on paper. Verso: graphite on paper   \n3                                  Graphite on paper   \n4                            Line engraving on paper   \n5                            Line engraving on paper   \n6                            Line engraving on paper   \n7                            Line engraving on paper   \n8                            Line engraving on paper   \n9                            Line engraving on paper   \n\n                                          creditLine    year  ...  \\\n0                Presented by Mrs John Richmond 1922     NaN  ...   \n1                Presented by Mrs John Richmond 1922     NaN  ...   \n2                Presented by Mrs John Richmond 1922  1785.0  ...   \n3                Presented by Mrs John Richmond 1922     NaN  ...   \n4  Purchased with the assistance of a special gra...  1826.0  ...   \n5  Purchased with the assistance of a special gra...  1826.0  ...   \n6  Purchased with the assistance of a special gra...  1826.0  ...   \n7  Purchased with the assistance of a special gra...  1826.0  ...   \n8  Purchased with the assistance of a special gra...  1826.0  ...   \n9  Purchased with the assistance of a special gra...  1826.0  ...   \n\n              dimensions  width    height  depth  units inscription  \\\n0  support: 394 x 419 mm  394.0  0.811024    NaN     mm         NaN   \n1  support: 311 x 213 mm  311.0  0.000000    NaN     mm         NaN   \n2  support: 343 x 467 mm  343.0  1.000000    NaN     mm         NaN   \n3  support: 318 x 394 mm  318.0  0.712598    NaN     mm         NaN   \n4    image: 243 x 335 mm  243.0  0.480315    NaN     mm         NaN   \n5    image: 240 x 338 mm  240.0  0.492126    NaN     mm         NaN   \n6    image: 242 x 334 mm  242.0  0.476378    NaN     mm         NaN   \n7    image: 246 x 340 mm  246.0  0.500000    NaN     mm         NaN   \n8    image: 241 x 335 mm  241.0  0.480315    NaN     mm         NaN   \n9    image: 243 x 340 mm  243.0  0.500000    NaN     mm         NaN   \n\n   thumbnailCopyright                                       thumbnailUrl  \\\n0                 NaN  http://www.tate.org.uk/art/images/work/A/A00/A...   \n1                 NaN  http://www.tate.org.uk/art/images/work/A/A00/A...   \n2                 NaN  http://www.tate.org.uk/art/images/work/A/A00/A...   \n3                 NaN  http://www.tate.org.uk/art/images/work/A/A00/A...   \n4                 NaN  http://www.tate.org.uk/art/images/work/A/A00/A...   \n5                 NaN  http://www.tate.org.uk/art/images/work/A/A00/A...   \n6                 NaN  http://www.tate.org.uk/art/images/work/A/A00/A...   \n7                 NaN  http://www.tate.org.uk/art/images/work/A/A00/A...   \n8                 NaN  http://www.tate.org.uk/art/images/work/A/A00/A...   \n9                 NaN  http://www.tate.org.uk/art/images/work/A/A00/A...   \n\n                                                 url standardaized_height  \n0  http://www.tate.org.uk/art/artworks/blake-a-fi...             1.010198  \n1  http://www.tate.org.uk/art/artworks/blake-two-...            -2.072777  \n2  http://www.tate.org.uk/art/artworks/blake-the-...             1.728561  \n3  http://www.tate.org.uk/art/artworks/blake-six-...             0.636051  \n4  http://www.tate.org.uk/art/artworks/blake-the-...            -0.246937  \n5  http://www.tate.org.uk/art/artworks/blake-ciam...            -0.202040  \n6  http://www.tate.org.uk/art/artworks/blake-the-...            -0.261903  \n7  http://www.tate.org.uk/art/artworks/blake-the-...            -0.172108  \n8  http://www.tate.org.uk/art/artworks/blake-the-...            -0.246937  \n9  http://www.tate.org.uk/art/artworks/blake-the-...            -0.172108  \n\n[10 rows x 21 columns]",
      "text/html": "<div>\n<style scoped>\n    .dataframe tbody tr th:only-of-type {\n        vertical-align: middle;\n    }\n\n    .dataframe tbody tr th {\n        vertical-align: top;\n    }\n\n    .dataframe thead th {\n        text-align: right;\n    }\n</style>\n<table border=\"1\" class=\"dataframe\">\n  <thead>\n    <tr style=\"text-align: right;\">\n      <th></th>\n      <th>id</th>\n      <th>accession_number</th>\n      <th>artist</th>\n      <th>artistRole</th>\n      <th>artistId</th>\n      <th>title</th>\n      <th>dateText</th>\n      <th>medium</th>\n      <th>creditLine</th>\n      <th>year</th>\n      <th>...</th>\n      <th>dimensions</th>\n      <th>width</th>\n      <th>height</th>\n      <th>depth</th>\n      <th>units</th>\n      <th>inscription</th>\n      <th>thumbnailCopyright</th>\n      <th>thumbnailUrl</th>\n      <th>url</th>\n      <th>standardaized_height</th>\n    </tr>\n  </thead>\n  <tbody>\n    <tr>\n      <th>0</th>\n      <td>1035</td>\n      <td>A00001</td>\n      <td>Blake, Robert</td>\n      <td>artist</td>\n      <td>38</td>\n      <td>A Figure Bowing before a Seated Old Man with h...</td>\n      <td>date not known</td>\n      <td>Watercolour, ink, chalk and graphite on paper....</td>\n      <td>Presented by Mrs John Richmond 1922</td>\n      <td>NaN</td>\n      <td>...</td>\n      <td>support: 394 x 419 mm</td>\n      <td>394.0</td>\n      <td>0.811024</td>\n      <td>NaN</td>\n      <td>mm</td>\n      <td>NaN</td>\n      <td>NaN</td>\n      <td>http://www.tate.org.uk/art/images/work/A/A00/A...</td>\n      <td>http://www.tate.org.uk/art/artworks/blake-a-fi...</td>\n      <td>1.010198</td>\n    </tr>\n    <tr>\n      <th>1</th>\n      <td>1036</td>\n      <td>A00002</td>\n      <td>Blake, Robert</td>\n      <td>artist</td>\n      <td>38</td>\n      <td>Two Drawings of Frightened Figures, Probably f...</td>\n      <td>date not known</td>\n      <td>Graphite on paper</td>\n      <td>Presented by Mrs John Richmond 1922</td>\n      <td>NaN</td>\n      <td>...</td>\n      <td>support: 311 x 213 mm</td>\n      <td>311.0</td>\n      <td>0.000000</td>\n      <td>NaN</td>\n      <td>mm</td>\n      <td>NaN</td>\n      <td>NaN</td>\n      <td>http://www.tate.org.uk/art/images/work/A/A00/A...</td>\n      <td>http://www.tate.org.uk/art/artworks/blake-two-...</td>\n      <td>-2.072777</td>\n    </tr>\n    <tr>\n      <th>2</th>\n      <td>1037</td>\n      <td>A00003</td>\n      <td>Blake, Robert</td>\n      <td>artist</td>\n      <td>38</td>\n      <td>The Preaching of Warning. Verso: An Old Man En...</td>\n      <td>?c.1785</td>\n      <td>Graphite on paper. Verso: graphite on paper</td>\n      <td>Presented by Mrs John Richmond 1922</td>\n      <td>1785.0</td>\n      <td>...</td>\n      <td>support: 343 x 467 mm</td>\n      <td>343.0</td>\n      <td>1.000000</td>\n      <td>NaN</td>\n      <td>mm</td>\n      <td>NaN</td>\n      <td>NaN</td>\n      <td>http://www.tate.org.uk/art/images/work/A/A00/A...</td>\n      <td>http://www.tate.org.uk/art/artworks/blake-the-...</td>\n      <td>1.728561</td>\n    </tr>\n    <tr>\n      <th>3</th>\n      <td>1038</td>\n      <td>A00004</td>\n      <td>Blake, Robert</td>\n      <td>artist</td>\n      <td>38</td>\n      <td>Six Drawings of Figures with Outstretched Arms</td>\n      <td>date not known</td>\n      <td>Graphite on paper</td>\n      <td>Presented by Mrs John Richmond 1922</td>\n      <td>NaN</td>\n      <td>...</td>\n      <td>support: 318 x 394 mm</td>\n      <td>318.0</td>\n      <td>0.712598</td>\n      <td>NaN</td>\n      <td>mm</td>\n      <td>NaN</td>\n      <td>NaN</td>\n      <td>http://www.tate.org.uk/art/images/work/A/A00/A...</td>\n      <td>http://www.tate.org.uk/art/artworks/blake-six-...</td>\n      <td>0.636051</td>\n    </tr>\n    <tr>\n      <th>4</th>\n      <td>1039</td>\n      <td>A00005</td>\n      <td>Blake, William</td>\n      <td>artist</td>\n      <td>39</td>\n      <td>The Circle of the Lustful: Francesca da Rimini...</td>\n      <td>1826–7, reprinted 1892</td>\n      <td>Line engraving on paper</td>\n      <td>Purchased with the assistance of a special gra...</td>\n      <td>1826.0</td>\n      <td>...</td>\n      <td>image: 243 x 335 mm</td>\n      <td>243.0</td>\n      <td>0.480315</td>\n      <td>NaN</td>\n      <td>mm</td>\n      <td>NaN</td>\n      <td>NaN</td>\n      <td>http://www.tate.org.uk/art/images/work/A/A00/A...</td>\n      <td>http://www.tate.org.uk/art/artworks/blake-the-...</td>\n      <td>-0.246937</td>\n    </tr>\n    <tr>\n      <th>5</th>\n      <td>1040</td>\n      <td>A00006</td>\n      <td>Blake, William</td>\n      <td>artist</td>\n      <td>39</td>\n      <td>Ciampolo the Barrator Tormented by the Devils</td>\n      <td>1826–7, reprinted 1892</td>\n      <td>Line engraving on paper</td>\n      <td>Purchased with the assistance of a special gra...</td>\n      <td>1826.0</td>\n      <td>...</td>\n      <td>image: 240 x 338 mm</td>\n      <td>240.0</td>\n      <td>0.492126</td>\n      <td>NaN</td>\n      <td>mm</td>\n      <td>NaN</td>\n      <td>NaN</td>\n      <td>http://www.tate.org.uk/art/images/work/A/A00/A...</td>\n      <td>http://www.tate.org.uk/art/artworks/blake-ciam...</td>\n      <td>-0.202040</td>\n    </tr>\n    <tr>\n      <th>6</th>\n      <td>1041</td>\n      <td>A00007</td>\n      <td>Blake, William</td>\n      <td>artist</td>\n      <td>39</td>\n      <td>The Baffled Devils Fighting</td>\n      <td>1826–7, reprinted 1892</td>\n      <td>Line engraving on paper</td>\n      <td>Purchased with the assistance of a special gra...</td>\n      <td>1826.0</td>\n      <td>...</td>\n      <td>image: 242 x 334 mm</td>\n      <td>242.0</td>\n      <td>0.476378</td>\n      <td>NaN</td>\n      <td>mm</td>\n      <td>NaN</td>\n      <td>NaN</td>\n      <td>http://www.tate.org.uk/art/images/work/A/A00/A...</td>\n      <td>http://www.tate.org.uk/art/artworks/blake-the-...</td>\n      <td>-0.261903</td>\n    </tr>\n    <tr>\n      <th>7</th>\n      <td>1042</td>\n      <td>A00008</td>\n      <td>Blake, William</td>\n      <td>artist</td>\n      <td>39</td>\n      <td>The Six-Footed Serpent Attacking Agnolo Brunel...</td>\n      <td>1826–7, reprinted 1892</td>\n      <td>Line engraving on paper</td>\n      <td>Purchased with the assistance of a special gra...</td>\n      <td>1826.0</td>\n      <td>...</td>\n      <td>image: 246 x 340 mm</td>\n      <td>246.0</td>\n      <td>0.500000</td>\n      <td>NaN</td>\n      <td>mm</td>\n      <td>NaN</td>\n      <td>NaN</td>\n      <td>http://www.tate.org.uk/art/images/work/A/A00/A...</td>\n      <td>http://www.tate.org.uk/art/artworks/blake-the-...</td>\n      <td>-0.172108</td>\n    </tr>\n    <tr>\n      <th>8</th>\n      <td>1043</td>\n      <td>A00009</td>\n      <td>Blake, William</td>\n      <td>artist</td>\n      <td>39</td>\n      <td>The Serpent Attacking Buoso Donati</td>\n      <td>1826–7, reprinted 1892</td>\n      <td>Line engraving on paper</td>\n      <td>Purchased with the assistance of a special gra...</td>\n      <td>1826.0</td>\n      <td>...</td>\n      <td>image: 241 x 335 mm</td>\n      <td>241.0</td>\n      <td>0.480315</td>\n      <td>NaN</td>\n      <td>mm</td>\n      <td>NaN</td>\n      <td>NaN</td>\n      <td>http://www.tate.org.uk/art/images/work/A/A00/A...</td>\n      <td>http://www.tate.org.uk/art/artworks/blake-the-...</td>\n      <td>-0.246937</td>\n    </tr>\n    <tr>\n      <th>9</th>\n      <td>1044</td>\n      <td>A00010</td>\n      <td>Blake, William</td>\n      <td>artist</td>\n      <td>39</td>\n      <td>The Pit of Disease: The Falsifiers</td>\n      <td>1826–7, reprinted 1892</td>\n      <td>Line engraving on paper</td>\n      <td>Purchased with the assistance of a special gra...</td>\n      <td>1826.0</td>\n      <td>...</td>\n      <td>image: 243 x 340 mm</td>\n      <td>243.0</td>\n      <td>0.500000</td>\n      <td>NaN</td>\n      <td>mm</td>\n      <td>NaN</td>\n      <td>NaN</td>\n      <td>http://www.tate.org.uk/art/images/work/A/A00/A...</td>\n      <td>http://www.tate.org.uk/art/artworks/blake-the-...</td>\n      <td>-0.172108</td>\n    </tr>\n  </tbody>\n</table>\n<p>10 rows × 21 columns</p>\n</div>"
     },
     "execution_count": 19,
     "metadata": {},
     "output_type": "execute_result"
    }
   ],
   "source": [
    "# replacing the existing columns with normalized data\n",
    "data.height = minmax\n",
    "data['standardaized_height'] = norm\n",
    "data"
   ],
   "metadata": {
    "collapsed": false,
    "pycharm": {
     "name": "#%%\n"
    }
   }
  },
  {
   "cell_type": "code",
   "execution_count": null,
   "outputs": [],
   "source": [],
   "metadata": {
    "collapsed": false,
    "pycharm": {
     "name": "#%%\n"
    }
   }
  }
 ],
 "metadata": {
  "kernelspec": {
   "display_name": "Python 3",
   "language": "python",
   "name": "python3"
  },
  "language_info": {
   "codemirror_mode": {
    "name": "ipython",
    "version": 2
   },
   "file_extension": ".py",
   "mimetype": "text/x-python",
   "name": "python",
   "nbconvert_exporter": "python",
   "pygments_lexer": "ipython2",
   "version": "2.7.6"
  }
 },
 "nbformat": 4,
 "nbformat_minor": 0
}